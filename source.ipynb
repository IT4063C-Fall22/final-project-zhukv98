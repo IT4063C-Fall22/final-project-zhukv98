{
 "cells": [
  {
   "cell_type": "markdown",
   "metadata": {},
   "source": [
    "# Project Title\n",
    "Economic/Financial impact and adaptations from COVID-19 Pandemic."
   ]
  },
  {
   "cell_type": "markdown",
   "metadata": {},
   "source": [
    "## Topic\n",
    "*What problem are you (or your stakeholder) trying to address?*\n",
    "Using data analysis, machine learning, and data manipulation to investigate the econnomic consequences contributed by COVID-19 by searching the current case, deaths, and testing levels by country, and both financial and economic status of each country.\n",
    "## Project Question\n",
    "*What specific question are you seeking to answer with this project?*\n",
    "*This is not the same as the questions you ask to limit the scope of the project.*\n",
    "What are the major economic and financial consequences from COVID-19 Pandemic? How people can adapt to the pandemic financially?\n",
    "## What would an answer look like?\n",
    "*What is your hypothesized answer to your question?*\n",
    "![](COVID_Data.png)\n",
    "![](COVID_Vaccine_Data.png)\n",
    " \n",
    "COVID-19 Pandemic contributes to the decline in performance of the global economy. As people continue to get infected, health and financial situations start to unravel. Major businesses start to either shut down or scale back on their operations. That in turn contributes to the economic decline because people had to take care of their sick family members. People can adapt to the situation by requiring masks, testing, and vaccinations so that they can slowly go back to normal operations over time. Graphs and visualization will be applied to show the changes in the economy during COVID-19 Pandemic.\n",
    "## Data Sources\n",
    "*What 3 data sources have you identified for this project?*\n",
    "*How are you going to relate these datasets?*\n",
    "*How will you use this data to answer your project question?*\n",
    "\n",
    "Data Sources:\n",
    "- https://vaccovid-coronavirus-vaccine-and-treatment-tracker.p.rapidapi.com/api/npm-covid-data/ (Note: This needs an API key. Go to https://rapidapi.com/axisbits-axisbits-default/api/covid-19-statistics/)\n",
    "- EO_14102022180121049.csv (URL: https://stats.oecd.org/Index.aspx?DatasetCode=STLABOUR#)\n",
    "- EO_14102022183231815.csv (URL: https://stats.oecd.org/Index.aspx?DatasetCode=STLABOUR#)\n",
    "- https://covid19.who.int/who-data/vaccination-data.csv\n",
    "\n",
    "The 2 datasets will show the current COVID cases that includes their severity, deaths, testing, and vaccination levels by country. GDP growth and Unemployment data of each country will help explain the economic and financial consequences of COVID-19. The more people adapt to the COVID-19 Pandemic, the easier it is to get used to it and keep on moving. "
   ]
  },
  {
   "cell_type": "code",
   "execution_count": 37,
   "metadata": {},
   "outputs": [],
   "source": [
    "# Start your code here\n",
    "\n",
    "import requests\n",
    "import numpy as np\n",
    "import pandas as pd\n",
    "\n",
    "%matplotlib inline\n",
    "import matplotlib as mpl\n",
    "import matplotlib.pyplot as plt\n",
    "import seaborn as sns\n",
    "import plotly.express as px\n",
    "\n",
    "mpl.rc('axes', labelsize=14)\n",
    "mpl.rc('xtick', labelsize=12)\n",
    "mpl.rc('ytick', labelsize=12)\n",
    "plt.style.use(\"bmh\")\n",
    "# API\n",
    "\n",
    "url = \"https://vaccovid-coronavirus-vaccine-and-treatment-tracker.p.rapidapi.com/api/npm-covid-data/\"\n",
    "\n",
    "headers = {\n",
    "\t\"X-RapidAPI-Key\": \"fbf638b489msh484afad00eb0877p19941bjsnfcab5b02a55a\",\n",
    "\t\"X-RapidAPI-Host\": \"vaccovid-coronavirus-vaccine-and-treatment-tracker.p.rapidapi.com\"\n",
    "}\n",
    "\n",
    "response = requests.request(\"GET\", url, headers=headers)"
   ]
  },
  {
   "cell_type": "code",
   "execution_count": 51,
   "metadata": {},
   "outputs": [
    {
     "data": {
      "text/html": [
       "<div>\n",
       "<style scoped>\n",
       "    .dataframe tbody tr th:only-of-type {\n",
       "        vertical-align: middle;\n",
       "    }\n",
       "\n",
       "    .dataframe tbody tr th {\n",
       "        vertical-align: top;\n",
       "    }\n",
       "\n",
       "    .dataframe thead th {\n",
       "        text-align: right;\n",
       "    }\n",
       "</style>\n",
       "<table border=\"1\" class=\"dataframe\">\n",
       "  <thead>\n",
       "    <tr style=\"text-align: right;\">\n",
       "      <th></th>\n",
       "      <th>LOCATION</th>\n",
       "      <th>Country</th>\n",
       "      <th>VARIABLE</th>\n",
       "      <th>Variable</th>\n",
       "      <th>FREQUENCY</th>\n",
       "      <th>Frequency</th>\n",
       "      <th>TIME</th>\n",
       "      <th>Time</th>\n",
       "      <th>Unit Code</th>\n",
       "      <th>Unit</th>\n",
       "      <th>PowerCode Code</th>\n",
       "      <th>PowerCode</th>\n",
       "      <th>Reference Period Code</th>\n",
       "      <th>Reference Period</th>\n",
       "      <th>Value</th>\n",
       "      <th>Flag Codes</th>\n",
       "      <th>Flags</th>\n",
       "    </tr>\n",
       "  </thead>\n",
       "  <tbody>\n",
       "    <tr>\n",
       "      <th>0</th>\n",
       "      <td>ITA</td>\n",
       "      <td>Italy</td>\n",
       "      <td>PGDP_ANNPCT</td>\n",
       "      <td>Gross domestic product, market prices, deflato...</td>\n",
       "      <td>Q</td>\n",
       "      <td>Quarterly</td>\n",
       "      <td>2019-Q1</td>\n",
       "      <td>Q1-2019</td>\n",
       "      <td>PC</td>\n",
       "      <td>Percentage</td>\n",
       "      <td>0</td>\n",
       "      <td>Units</td>\n",
       "      <td>2015</td>\n",
       "      <td>2015</td>\n",
       "      <td>1.715134</td>\n",
       "      <td>NaN</td>\n",
       "      <td>NaN</td>\n",
       "    </tr>\n",
       "    <tr>\n",
       "      <th>1</th>\n",
       "      <td>ITA</td>\n",
       "      <td>Italy</td>\n",
       "      <td>PGDP_ANNPCT</td>\n",
       "      <td>Gross domestic product, market prices, deflato...</td>\n",
       "      <td>Q</td>\n",
       "      <td>Quarterly</td>\n",
       "      <td>2019-Q2</td>\n",
       "      <td>Q2-2019</td>\n",
       "      <td>PC</td>\n",
       "      <td>Percentage</td>\n",
       "      <td>0</td>\n",
       "      <td>Units</td>\n",
       "      <td>2015</td>\n",
       "      <td>2015</td>\n",
       "      <td>0.507397</td>\n",
       "      <td>NaN</td>\n",
       "      <td>NaN</td>\n",
       "    </tr>\n",
       "    <tr>\n",
       "      <th>2</th>\n",
       "      <td>ITA</td>\n",
       "      <td>Italy</td>\n",
       "      <td>PGDP_ANNPCT</td>\n",
       "      <td>Gross domestic product, market prices, deflato...</td>\n",
       "      <td>Q</td>\n",
       "      <td>Quarterly</td>\n",
       "      <td>2019-Q3</td>\n",
       "      <td>Q3-2019</td>\n",
       "      <td>PC</td>\n",
       "      <td>Percentage</td>\n",
       "      <td>0</td>\n",
       "      <td>Units</td>\n",
       "      <td>2015</td>\n",
       "      <td>2015</td>\n",
       "      <td>1.196358</td>\n",
       "      <td>NaN</td>\n",
       "      <td>NaN</td>\n",
       "    </tr>\n",
       "    <tr>\n",
       "      <th>3</th>\n",
       "      <td>ITA</td>\n",
       "      <td>Italy</td>\n",
       "      <td>PGDP_ANNPCT</td>\n",
       "      <td>Gross domestic product, market prices, deflato...</td>\n",
       "      <td>Q</td>\n",
       "      <td>Quarterly</td>\n",
       "      <td>2019-Q4</td>\n",
       "      <td>Q4-2019</td>\n",
       "      <td>PC</td>\n",
       "      <td>Percentage</td>\n",
       "      <td>0</td>\n",
       "      <td>Units</td>\n",
       "      <td>2015</td>\n",
       "      <td>2015</td>\n",
       "      <td>2.831506</td>\n",
       "      <td>NaN</td>\n",
       "      <td>NaN</td>\n",
       "    </tr>\n",
       "    <tr>\n",
       "      <th>4</th>\n",
       "      <td>ITA</td>\n",
       "      <td>Italy</td>\n",
       "      <td>PGDP_ANNPCT</td>\n",
       "      <td>Gross domestic product, market prices, deflato...</td>\n",
       "      <td>Q</td>\n",
       "      <td>Quarterly</td>\n",
       "      <td>2020-Q1</td>\n",
       "      <td>Q1-2020</td>\n",
       "      <td>PC</td>\n",
       "      <td>Percentage</td>\n",
       "      <td>0</td>\n",
       "      <td>Units</td>\n",
       "      <td>2015</td>\n",
       "      <td>2015</td>\n",
       "      <td>-0.387928</td>\n",
       "      <td>NaN</td>\n",
       "      <td>NaN</td>\n",
       "    </tr>\n",
       "    <tr>\n",
       "      <th>...</th>\n",
       "      <td>...</td>\n",
       "      <td>...</td>\n",
       "      <td>...</td>\n",
       "      <td>...</td>\n",
       "      <td>...</td>\n",
       "      <td>...</td>\n",
       "      <td>...</td>\n",
       "      <td>...</td>\n",
       "      <td>...</td>\n",
       "      <td>...</td>\n",
       "      <td>...</td>\n",
       "      <td>...</td>\n",
       "      <td>...</td>\n",
       "      <td>...</td>\n",
       "      <td>...</td>\n",
       "      <td>...</td>\n",
       "      <td>...</td>\n",
       "    </tr>\n",
       "    <tr>\n",
       "      <th>595</th>\n",
       "      <td>COL</td>\n",
       "      <td>Colombia</td>\n",
       "      <td>PGDP_ANNPCT</td>\n",
       "      <td>Gross domestic product, market prices, deflato...</td>\n",
       "      <td>Q</td>\n",
       "      <td>Quarterly</td>\n",
       "      <td>2022-Q4</td>\n",
       "      <td>Q4-2022</td>\n",
       "      <td>PC</td>\n",
       "      <td>Percentage</td>\n",
       "      <td>0</td>\n",
       "      <td>Units</td>\n",
       "      <td>2015</td>\n",
       "      <td>2015</td>\n",
       "      <td>6.271883</td>\n",
       "      <td>NaN</td>\n",
       "      <td>NaN</td>\n",
       "    </tr>\n",
       "    <tr>\n",
       "      <th>596</th>\n",
       "      <td>COL</td>\n",
       "      <td>Colombia</td>\n",
       "      <td>PGDP_ANNPCT</td>\n",
       "      <td>Gross domestic product, market prices, deflato...</td>\n",
       "      <td>Q</td>\n",
       "      <td>Quarterly</td>\n",
       "      <td>2023-Q1</td>\n",
       "      <td>Q1-2023</td>\n",
       "      <td>PC</td>\n",
       "      <td>Percentage</td>\n",
       "      <td>0</td>\n",
       "      <td>Units</td>\n",
       "      <td>2015</td>\n",
       "      <td>2015</td>\n",
       "      <td>5.595622</td>\n",
       "      <td>NaN</td>\n",
       "      <td>NaN</td>\n",
       "    </tr>\n",
       "    <tr>\n",
       "      <th>597</th>\n",
       "      <td>COL</td>\n",
       "      <td>Colombia</td>\n",
       "      <td>PGDP_ANNPCT</td>\n",
       "      <td>Gross domestic product, market prices, deflato...</td>\n",
       "      <td>Q</td>\n",
       "      <td>Quarterly</td>\n",
       "      <td>2023-Q2</td>\n",
       "      <td>Q2-2023</td>\n",
       "      <td>PC</td>\n",
       "      <td>Percentage</td>\n",
       "      <td>0</td>\n",
       "      <td>Units</td>\n",
       "      <td>2015</td>\n",
       "      <td>2015</td>\n",
       "      <td>5.710985</td>\n",
       "      <td>NaN</td>\n",
       "      <td>NaN</td>\n",
       "    </tr>\n",
       "    <tr>\n",
       "      <th>598</th>\n",
       "      <td>COL</td>\n",
       "      <td>Colombia</td>\n",
       "      <td>PGDP_ANNPCT</td>\n",
       "      <td>Gross domestic product, market prices, deflato...</td>\n",
       "      <td>Q</td>\n",
       "      <td>Quarterly</td>\n",
       "      <td>2023-Q3</td>\n",
       "      <td>Q3-2023</td>\n",
       "      <td>PC</td>\n",
       "      <td>Percentage</td>\n",
       "      <td>0</td>\n",
       "      <td>Units</td>\n",
       "      <td>2015</td>\n",
       "      <td>2015</td>\n",
       "      <td>5.344913</td>\n",
       "      <td>NaN</td>\n",
       "      <td>NaN</td>\n",
       "    </tr>\n",
       "    <tr>\n",
       "      <th>599</th>\n",
       "      <td>COL</td>\n",
       "      <td>Colombia</td>\n",
       "      <td>PGDP_ANNPCT</td>\n",
       "      <td>Gross domestic product, market prices, deflato...</td>\n",
       "      <td>Q</td>\n",
       "      <td>Quarterly</td>\n",
       "      <td>2023-Q4</td>\n",
       "      <td>Q4-2023</td>\n",
       "      <td>PC</td>\n",
       "      <td>Percentage</td>\n",
       "      <td>0</td>\n",
       "      <td>Units</td>\n",
       "      <td>2015</td>\n",
       "      <td>2015</td>\n",
       "      <td>4.529731</td>\n",
       "      <td>NaN</td>\n",
       "      <td>NaN</td>\n",
       "    </tr>\n",
       "  </tbody>\n",
       "</table>\n",
       "<p>600 rows × 17 columns</p>\n",
       "</div>"
      ],
      "text/plain": [
       "    LOCATION   Country     VARIABLE  \\\n",
       "0        ITA     Italy  PGDP_ANNPCT   \n",
       "1        ITA     Italy  PGDP_ANNPCT   \n",
       "2        ITA     Italy  PGDP_ANNPCT   \n",
       "3        ITA     Italy  PGDP_ANNPCT   \n",
       "4        ITA     Italy  PGDP_ANNPCT   \n",
       "..       ...       ...          ...   \n",
       "595      COL  Colombia  PGDP_ANNPCT   \n",
       "596      COL  Colombia  PGDP_ANNPCT   \n",
       "597      COL  Colombia  PGDP_ANNPCT   \n",
       "598      COL  Colombia  PGDP_ANNPCT   \n",
       "599      COL  Colombia  PGDP_ANNPCT   \n",
       "\n",
       "                                              Variable FREQUENCY  Frequency  \\\n",
       "0    Gross domestic product, market prices, deflato...         Q  Quarterly   \n",
       "1    Gross domestic product, market prices, deflato...         Q  Quarterly   \n",
       "2    Gross domestic product, market prices, deflato...         Q  Quarterly   \n",
       "3    Gross domestic product, market prices, deflato...         Q  Quarterly   \n",
       "4    Gross domestic product, market prices, deflato...         Q  Quarterly   \n",
       "..                                                 ...       ...        ...   \n",
       "595  Gross domestic product, market prices, deflato...         Q  Quarterly   \n",
       "596  Gross domestic product, market prices, deflato...         Q  Quarterly   \n",
       "597  Gross domestic product, market prices, deflato...         Q  Quarterly   \n",
       "598  Gross domestic product, market prices, deflato...         Q  Quarterly   \n",
       "599  Gross domestic product, market prices, deflato...         Q  Quarterly   \n",
       "\n",
       "        TIME     Time Unit Code        Unit  PowerCode Code PowerCode  \\\n",
       "0    2019-Q1  Q1-2019        PC  Percentage               0     Units   \n",
       "1    2019-Q2  Q2-2019        PC  Percentage               0     Units   \n",
       "2    2019-Q3  Q3-2019        PC  Percentage               0     Units   \n",
       "3    2019-Q4  Q4-2019        PC  Percentage               0     Units   \n",
       "4    2020-Q1  Q1-2020        PC  Percentage               0     Units   \n",
       "..       ...      ...       ...         ...             ...       ...   \n",
       "595  2022-Q4  Q4-2022        PC  Percentage               0     Units   \n",
       "596  2023-Q1  Q1-2023        PC  Percentage               0     Units   \n",
       "597  2023-Q2  Q2-2023        PC  Percentage               0     Units   \n",
       "598  2023-Q3  Q3-2023        PC  Percentage               0     Units   \n",
       "599  2023-Q4  Q4-2023        PC  Percentage               0     Units   \n",
       "\n",
       "    Reference Period Code Reference Period     Value  Flag Codes  Flags  \n",
       "0                    2015             2015  1.715134         NaN    NaN  \n",
       "1                    2015             2015  0.507397         NaN    NaN  \n",
       "2                    2015             2015  1.196358         NaN    NaN  \n",
       "3                    2015             2015  2.831506         NaN    NaN  \n",
       "4                    2015             2015 -0.387928         NaN    NaN  \n",
       "..                    ...              ...       ...         ...    ...  \n",
       "595                  2015             2015  6.271883         NaN    NaN  \n",
       "596                  2015             2015  5.595622         NaN    NaN  \n",
       "597                  2015             2015  5.710985         NaN    NaN  \n",
       "598                  2015             2015  5.344913         NaN    NaN  \n",
       "599                  2015             2015  4.529731         NaN    NaN  \n",
       "\n",
       "[600 rows x 17 columns]"
      ]
     },
     "execution_count": 51,
     "metadata": {},
     "output_type": "execute_result"
    }
   ],
   "source": [
    "# Database file\n",
    "gdp_growth_df = pd.read_csv('EO_14102022183231815.csv')\n",
    "pd.set_option('display.max_columns', None)\n",
    "gdp_growth_df"
   ]
  },
  {
   "cell_type": "code",
   "execution_count": 52,
   "metadata": {},
   "outputs": [
    {
     "data": {
      "text/html": [
       "<div>\n",
       "<style scoped>\n",
       "    .dataframe tbody tr th:only-of-type {\n",
       "        vertical-align: middle;\n",
       "    }\n",
       "\n",
       "    .dataframe tbody tr th {\n",
       "        vertical-align: top;\n",
       "    }\n",
       "\n",
       "    .dataframe thead th {\n",
       "        text-align: right;\n",
       "    }\n",
       "</style>\n",
       "<table border=\"1\" class=\"dataframe\">\n",
       "  <thead>\n",
       "    <tr style=\"text-align: right;\">\n",
       "      <th></th>\n",
       "      <th>LOCATION</th>\n",
       "      <th>Country</th>\n",
       "      <th>VARIABLE</th>\n",
       "      <th>Variable</th>\n",
       "      <th>FREQUENCY</th>\n",
       "      <th>Frequency</th>\n",
       "      <th>TIME</th>\n",
       "      <th>Time</th>\n",
       "      <th>Unit Code</th>\n",
       "      <th>Unit</th>\n",
       "      <th>PowerCode Code</th>\n",
       "      <th>PowerCode</th>\n",
       "      <th>Reference Period Code</th>\n",
       "      <th>Reference Period</th>\n",
       "      <th>Value</th>\n",
       "      <th>Flag Codes</th>\n",
       "      <th>Flags</th>\n",
       "    </tr>\n",
       "  </thead>\n",
       "  <tbody>\n",
       "    <tr>\n",
       "      <th>0</th>\n",
       "      <td>NOR</td>\n",
       "      <td>Norway</td>\n",
       "      <td>UNR</td>\n",
       "      <td>Unemployment rate</td>\n",
       "      <td>Q</td>\n",
       "      <td>Quarterly</td>\n",
       "      <td>2019-Q1</td>\n",
       "      <td>Q1-2019</td>\n",
       "      <td>PC</td>\n",
       "      <td>Percentage</td>\n",
       "      <td>0</td>\n",
       "      <td>Units</td>\n",
       "      <td>NaN</td>\n",
       "      <td>NaN</td>\n",
       "      <td>3.797019</td>\n",
       "      <td>NaN</td>\n",
       "      <td>NaN</td>\n",
       "    </tr>\n",
       "    <tr>\n",
       "      <th>1</th>\n",
       "      <td>NOR</td>\n",
       "      <td>Norway</td>\n",
       "      <td>UNR</td>\n",
       "      <td>Unemployment rate</td>\n",
       "      <td>Q</td>\n",
       "      <td>Quarterly</td>\n",
       "      <td>2019-Q2</td>\n",
       "      <td>Q2-2019</td>\n",
       "      <td>PC</td>\n",
       "      <td>Percentage</td>\n",
       "      <td>0</td>\n",
       "      <td>Units</td>\n",
       "      <td>NaN</td>\n",
       "      <td>NaN</td>\n",
       "      <td>3.385602</td>\n",
       "      <td>NaN</td>\n",
       "      <td>NaN</td>\n",
       "    </tr>\n",
       "    <tr>\n",
       "      <th>2</th>\n",
       "      <td>NOR</td>\n",
       "      <td>Norway</td>\n",
       "      <td>UNR</td>\n",
       "      <td>Unemployment rate</td>\n",
       "      <td>Q</td>\n",
       "      <td>Quarterly</td>\n",
       "      <td>2019-Q3</td>\n",
       "      <td>Q3-2019</td>\n",
       "      <td>PC</td>\n",
       "      <td>Percentage</td>\n",
       "      <td>0</td>\n",
       "      <td>Units</td>\n",
       "      <td>NaN</td>\n",
       "      <td>NaN</td>\n",
       "      <td>3.717994</td>\n",
       "      <td>NaN</td>\n",
       "      <td>NaN</td>\n",
       "    </tr>\n",
       "    <tr>\n",
       "      <th>3</th>\n",
       "      <td>NOR</td>\n",
       "      <td>Norway</td>\n",
       "      <td>UNR</td>\n",
       "      <td>Unemployment rate</td>\n",
       "      <td>Q</td>\n",
       "      <td>Quarterly</td>\n",
       "      <td>2019-Q4</td>\n",
       "      <td>Q4-2019</td>\n",
       "      <td>PC</td>\n",
       "      <td>Percentage</td>\n",
       "      <td>0</td>\n",
       "      <td>Units</td>\n",
       "      <td>NaN</td>\n",
       "      <td>NaN</td>\n",
       "      <td>3.969090</td>\n",
       "      <td>NaN</td>\n",
       "      <td>NaN</td>\n",
       "    </tr>\n",
       "    <tr>\n",
       "      <th>4</th>\n",
       "      <td>NOR</td>\n",
       "      <td>Norway</td>\n",
       "      <td>UNR</td>\n",
       "      <td>Unemployment rate</td>\n",
       "      <td>Q</td>\n",
       "      <td>Quarterly</td>\n",
       "      <td>2020-Q1</td>\n",
       "      <td>Q1-2020</td>\n",
       "      <td>PC</td>\n",
       "      <td>Percentage</td>\n",
       "      <td>0</td>\n",
       "      <td>Units</td>\n",
       "      <td>NaN</td>\n",
       "      <td>NaN</td>\n",
       "      <td>3.547594</td>\n",
       "      <td>NaN</td>\n",
       "      <td>NaN</td>\n",
       "    </tr>\n",
       "    <tr>\n",
       "      <th>...</th>\n",
       "      <td>...</td>\n",
       "      <td>...</td>\n",
       "      <td>...</td>\n",
       "      <td>...</td>\n",
       "      <td>...</td>\n",
       "      <td>...</td>\n",
       "      <td>...</td>\n",
       "      <td>...</td>\n",
       "      <td>...</td>\n",
       "      <td>...</td>\n",
       "      <td>...</td>\n",
       "      <td>...</td>\n",
       "      <td>...</td>\n",
       "      <td>...</td>\n",
       "      <td>...</td>\n",
       "      <td>...</td>\n",
       "      <td>...</td>\n",
       "    </tr>\n",
       "    <tr>\n",
       "      <th>655</th>\n",
       "      <td>CHL</td>\n",
       "      <td>Chile</td>\n",
       "      <td>UNR</td>\n",
       "      <td>Unemployment rate</td>\n",
       "      <td>Q</td>\n",
       "      <td>Quarterly</td>\n",
       "      <td>2022-Q4</td>\n",
       "      <td>Q4-2022</td>\n",
       "      <td>PC</td>\n",
       "      <td>Percentage</td>\n",
       "      <td>0</td>\n",
       "      <td>Units</td>\n",
       "      <td>NaN</td>\n",
       "      <td>NaN</td>\n",
       "      <td>8.316778</td>\n",
       "      <td>NaN</td>\n",
       "      <td>NaN</td>\n",
       "    </tr>\n",
       "    <tr>\n",
       "      <th>656</th>\n",
       "      <td>CHL</td>\n",
       "      <td>Chile</td>\n",
       "      <td>UNR</td>\n",
       "      <td>Unemployment rate</td>\n",
       "      <td>Q</td>\n",
       "      <td>Quarterly</td>\n",
       "      <td>2023-Q1</td>\n",
       "      <td>Q1-2023</td>\n",
       "      <td>PC</td>\n",
       "      <td>Percentage</td>\n",
       "      <td>0</td>\n",
       "      <td>Units</td>\n",
       "      <td>NaN</td>\n",
       "      <td>NaN</td>\n",
       "      <td>8.243505</td>\n",
       "      <td>NaN</td>\n",
       "      <td>NaN</td>\n",
       "    </tr>\n",
       "    <tr>\n",
       "      <th>657</th>\n",
       "      <td>CHL</td>\n",
       "      <td>Chile</td>\n",
       "      <td>UNR</td>\n",
       "      <td>Unemployment rate</td>\n",
       "      <td>Q</td>\n",
       "      <td>Quarterly</td>\n",
       "      <td>2023-Q2</td>\n",
       "      <td>Q2-2023</td>\n",
       "      <td>PC</td>\n",
       "      <td>Percentage</td>\n",
       "      <td>0</td>\n",
       "      <td>Units</td>\n",
       "      <td>NaN</td>\n",
       "      <td>NaN</td>\n",
       "      <td>8.170173</td>\n",
       "      <td>NaN</td>\n",
       "      <td>NaN</td>\n",
       "    </tr>\n",
       "    <tr>\n",
       "      <th>658</th>\n",
       "      <td>CHL</td>\n",
       "      <td>Chile</td>\n",
       "      <td>UNR</td>\n",
       "      <td>Unemployment rate</td>\n",
       "      <td>Q</td>\n",
       "      <td>Quarterly</td>\n",
       "      <td>2023-Q3</td>\n",
       "      <td>Q3-2023</td>\n",
       "      <td>PC</td>\n",
       "      <td>Percentage</td>\n",
       "      <td>0</td>\n",
       "      <td>Units</td>\n",
       "      <td>NaN</td>\n",
       "      <td>NaN</td>\n",
       "      <td>8.096782</td>\n",
       "      <td>NaN</td>\n",
       "      <td>NaN</td>\n",
       "    </tr>\n",
       "    <tr>\n",
       "      <th>659</th>\n",
       "      <td>CHL</td>\n",
       "      <td>Chile</td>\n",
       "      <td>UNR</td>\n",
       "      <td>Unemployment rate</td>\n",
       "      <td>Q</td>\n",
       "      <td>Quarterly</td>\n",
       "      <td>2023-Q4</td>\n",
       "      <td>Q4-2023</td>\n",
       "      <td>PC</td>\n",
       "      <td>Percentage</td>\n",
       "      <td>0</td>\n",
       "      <td>Units</td>\n",
       "      <td>NaN</td>\n",
       "      <td>NaN</td>\n",
       "      <td>8.023333</td>\n",
       "      <td>NaN</td>\n",
       "      <td>NaN</td>\n",
       "    </tr>\n",
       "  </tbody>\n",
       "</table>\n",
       "<p>660 rows × 17 columns</p>\n",
       "</div>"
      ],
      "text/plain": [
       "    LOCATION Country VARIABLE           Variable FREQUENCY  Frequency  \\\n",
       "0        NOR  Norway      UNR  Unemployment rate         Q  Quarterly   \n",
       "1        NOR  Norway      UNR  Unemployment rate         Q  Quarterly   \n",
       "2        NOR  Norway      UNR  Unemployment rate         Q  Quarterly   \n",
       "3        NOR  Norway      UNR  Unemployment rate         Q  Quarterly   \n",
       "4        NOR  Norway      UNR  Unemployment rate         Q  Quarterly   \n",
       "..       ...     ...      ...                ...       ...        ...   \n",
       "655      CHL   Chile      UNR  Unemployment rate         Q  Quarterly   \n",
       "656      CHL   Chile      UNR  Unemployment rate         Q  Quarterly   \n",
       "657      CHL   Chile      UNR  Unemployment rate         Q  Quarterly   \n",
       "658      CHL   Chile      UNR  Unemployment rate         Q  Quarterly   \n",
       "659      CHL   Chile      UNR  Unemployment rate         Q  Quarterly   \n",
       "\n",
       "        TIME     Time Unit Code        Unit  PowerCode Code PowerCode  \\\n",
       "0    2019-Q1  Q1-2019        PC  Percentage               0     Units   \n",
       "1    2019-Q2  Q2-2019        PC  Percentage               0     Units   \n",
       "2    2019-Q3  Q3-2019        PC  Percentage               0     Units   \n",
       "3    2019-Q4  Q4-2019        PC  Percentage               0     Units   \n",
       "4    2020-Q1  Q1-2020        PC  Percentage               0     Units   \n",
       "..       ...      ...       ...         ...             ...       ...   \n",
       "655  2022-Q4  Q4-2022        PC  Percentage               0     Units   \n",
       "656  2023-Q1  Q1-2023        PC  Percentage               0     Units   \n",
       "657  2023-Q2  Q2-2023        PC  Percentage               0     Units   \n",
       "658  2023-Q3  Q3-2023        PC  Percentage               0     Units   \n",
       "659  2023-Q4  Q4-2023        PC  Percentage               0     Units   \n",
       "\n",
       "     Reference Period Code  Reference Period     Value  Flag Codes  Flags  \n",
       "0                      NaN               NaN  3.797019         NaN    NaN  \n",
       "1                      NaN               NaN  3.385602         NaN    NaN  \n",
       "2                      NaN               NaN  3.717994         NaN    NaN  \n",
       "3                      NaN               NaN  3.969090         NaN    NaN  \n",
       "4                      NaN               NaN  3.547594         NaN    NaN  \n",
       "..                     ...               ...       ...         ...    ...  \n",
       "655                    NaN               NaN  8.316778         NaN    NaN  \n",
       "656                    NaN               NaN  8.243505         NaN    NaN  \n",
       "657                    NaN               NaN  8.170173         NaN    NaN  \n",
       "658                    NaN               NaN  8.096782         NaN    NaN  \n",
       "659                    NaN               NaN  8.023333         NaN    NaN  \n",
       "\n",
       "[660 rows x 17 columns]"
      ]
     },
     "execution_count": 52,
     "metadata": {},
     "output_type": "execute_result"
    }
   ],
   "source": [
    "unemployment_df = pd.read_csv('EO_14102022180121049.csv')\n",
    "pd.set_option('display.max_columns', None)\n",
    "unemployment_df"
   ]
  },
  {
   "cell_type": "code",
   "execution_count": 53,
   "metadata": {},
   "outputs": [
    {
     "data": {
      "text/html": [
       "<div>\n",
       "<style scoped>\n",
       "    .dataframe tbody tr th:only-of-type {\n",
       "        vertical-align: middle;\n",
       "    }\n",
       "\n",
       "    .dataframe tbody tr th {\n",
       "        vertical-align: top;\n",
       "    }\n",
       "\n",
       "    .dataframe thead th {\n",
       "        text-align: right;\n",
       "    }\n",
       "</style>\n",
       "<table border=\"1\" class=\"dataframe\">\n",
       "  <thead>\n",
       "    <tr style=\"text-align: right;\">\n",
       "      <th></th>\n",
       "      <th>COUNTRY</th>\n",
       "      <th>ISO3</th>\n",
       "      <th>WHO_REGION</th>\n",
       "      <th>DATA_SOURCE</th>\n",
       "      <th>DATE_UPDATED</th>\n",
       "      <th>TOTAL_VACCINATIONS</th>\n",
       "      <th>PERSONS_VACCINATED_1PLUS_DOSE</th>\n",
       "      <th>TOTAL_VACCINATIONS_PER100</th>\n",
       "      <th>PERSONS_VACCINATED_1PLUS_DOSE_PER100</th>\n",
       "      <th>PERSONS_FULLY_VACCINATED</th>\n",
       "      <th>PERSONS_FULLY_VACCINATED_PER100</th>\n",
       "      <th>VACCINES_USED</th>\n",
       "      <th>FIRST_VACCINE_DATE</th>\n",
       "      <th>NUMBER_VACCINES_TYPES_USED</th>\n",
       "      <th>PERSONS_BOOSTER_ADD_DOSE</th>\n",
       "      <th>PERSONS_BOOSTER_ADD_DOSE_PER100</th>\n",
       "    </tr>\n",
       "  </thead>\n",
       "  <tbody>\n",
       "    <tr>\n",
       "      <th>0</th>\n",
       "      <td>Afghanistan</td>\n",
       "      <td>AFG</td>\n",
       "      <td>EMRO</td>\n",
       "      <td>REPORTING</td>\n",
       "      <td>2022-10-11</td>\n",
       "      <td>11951964.0</td>\n",
       "      <td>10987211.0</td>\n",
       "      <td>30.702</td>\n",
       "      <td>28.224</td>\n",
       "      <td>10303193.0</td>\n",
       "      <td>26.467</td>\n",
       "      <td>AstraZeneca - Vaxzevria,Beijing CNBG - BBIBP-C...</td>\n",
       "      <td>2021-02-22</td>\n",
       "      <td>11.0</td>\n",
       "      <td>NaN</td>\n",
       "      <td>NaN</td>\n",
       "    </tr>\n",
       "    <tr>\n",
       "      <th>1</th>\n",
       "      <td>Albania</td>\n",
       "      <td>ALB</td>\n",
       "      <td>EURO</td>\n",
       "      <td>REPORTING</td>\n",
       "      <td>2022-09-25</td>\n",
       "      <td>2978248.0</td>\n",
       "      <td>1337562.0</td>\n",
       "      <td>103.500</td>\n",
       "      <td>46.999</td>\n",
       "      <td>1263870.0</td>\n",
       "      <td>44.409</td>\n",
       "      <td>AstraZeneca - Vaxzevria,Gamaleya - Gam-Covid-V...</td>\n",
       "      <td>2021-01-13</td>\n",
       "      <td>5.0</td>\n",
       "      <td>357344.0</td>\n",
       "      <td>12.556</td>\n",
       "    </tr>\n",
       "    <tr>\n",
       "      <th>2</th>\n",
       "      <td>Algeria</td>\n",
       "      <td>DZA</td>\n",
       "      <td>AFRO</td>\n",
       "      <td>REPORTING</td>\n",
       "      <td>2022-09-04</td>\n",
       "      <td>15267442.0</td>\n",
       "      <td>7840131.0</td>\n",
       "      <td>34.817</td>\n",
       "      <td>17.879</td>\n",
       "      <td>6481186.0</td>\n",
       "      <td>14.780</td>\n",
       "      <td>Beijing CNBG - BBIBP-CorV,Gamaleya - Gam-Covid...</td>\n",
       "      <td>2021-01-30</td>\n",
       "      <td>4.0</td>\n",
       "      <td>575651.0</td>\n",
       "      <td>1.313</td>\n",
       "    </tr>\n",
       "    <tr>\n",
       "      <th>3</th>\n",
       "      <td>American Samoa</td>\n",
       "      <td>ASM</td>\n",
       "      <td>WPRO</td>\n",
       "      <td>REPORTING</td>\n",
       "      <td>2022-08-23</td>\n",
       "      <td>111316.0</td>\n",
       "      <td>44885.0</td>\n",
       "      <td>201.670</td>\n",
       "      <td>81.318</td>\n",
       "      <td>41423.0</td>\n",
       "      <td>75.046</td>\n",
       "      <td>Janssen - Ad26.COV 2-S,Moderna - Spikevax,Pfiz...</td>\n",
       "      <td>2020-12-21</td>\n",
       "      <td>3.0</td>\n",
       "      <td>24160.0</td>\n",
       "      <td>43.770</td>\n",
       "    </tr>\n",
       "    <tr>\n",
       "      <th>4</th>\n",
       "      <td>Andorra</td>\n",
       "      <td>AND</td>\n",
       "      <td>EURO</td>\n",
       "      <td>REPORTING</td>\n",
       "      <td>2022-09-11</td>\n",
       "      <td>154216.0</td>\n",
       "      <td>57894.0</td>\n",
       "      <td>199.600</td>\n",
       "      <td>75.999</td>\n",
       "      <td>53478.0</td>\n",
       "      <td>70.202</td>\n",
       "      <td>AstraZeneca - Vaxzevria,Moderna - Spikevax,Pfi...</td>\n",
       "      <td>2021-01-20</td>\n",
       "      <td>3.0</td>\n",
       "      <td>42844.0</td>\n",
       "      <td>56.243</td>\n",
       "    </tr>\n",
       "    <tr>\n",
       "      <th>...</th>\n",
       "      <td>...</td>\n",
       "      <td>...</td>\n",
       "      <td>...</td>\n",
       "      <td>...</td>\n",
       "      <td>...</td>\n",
       "      <td>...</td>\n",
       "      <td>...</td>\n",
       "      <td>...</td>\n",
       "      <td>...</td>\n",
       "      <td>...</td>\n",
       "      <td>...</td>\n",
       "      <td>...</td>\n",
       "      <td>...</td>\n",
       "      <td>...</td>\n",
       "      <td>...</td>\n",
       "      <td>...</td>\n",
       "    </tr>\n",
       "    <tr>\n",
       "      <th>224</th>\n",
       "      <td>Viet Nam</td>\n",
       "      <td>VNM</td>\n",
       "      <td>WPRO</td>\n",
       "      <td>REPORTING</td>\n",
       "      <td>2022-10-02</td>\n",
       "      <td>260210114.0</td>\n",
       "      <td>90034165.0</td>\n",
       "      <td>267.325</td>\n",
       "      <td>92.496</td>\n",
       "      <td>84374202.0</td>\n",
       "      <td>86.681</td>\n",
       "      <td>AstraZeneca - Vaxzevria,Beijing CNBG - BBIBP-C...</td>\n",
       "      <td>2021-03-08</td>\n",
       "      <td>6.0</td>\n",
       "      <td>55849282.0</td>\n",
       "      <td>57.376</td>\n",
       "    </tr>\n",
       "    <tr>\n",
       "      <th>225</th>\n",
       "      <td>Wallis and Futuna</td>\n",
       "      <td>WLF</td>\n",
       "      <td>WPRO</td>\n",
       "      <td>REPORTING</td>\n",
       "      <td>2022-07-26</td>\n",
       "      <td>16782.0</td>\n",
       "      <td>6592.0</td>\n",
       "      <td>149.226</td>\n",
       "      <td>58.616</td>\n",
       "      <td>6989.0</td>\n",
       "      <td>62.147</td>\n",
       "      <td>Moderna - Spikevax</td>\n",
       "      <td>2021-03-19</td>\n",
       "      <td>1.0</td>\n",
       "      <td>3201.0</td>\n",
       "      <td>28.463</td>\n",
       "    </tr>\n",
       "    <tr>\n",
       "      <th>226</th>\n",
       "      <td>Yemen</td>\n",
       "      <td>YEM</td>\n",
       "      <td>EMRO</td>\n",
       "      <td>REPORTING</td>\n",
       "      <td>2022-09-28</td>\n",
       "      <td>1065395.0</td>\n",
       "      <td>861625.0</td>\n",
       "      <td>3.572</td>\n",
       "      <td>2.889</td>\n",
       "      <td>604202.0</td>\n",
       "      <td>2.026</td>\n",
       "      <td>AstraZeneca - Vaxzevria,Beijing CNBG - BBIBP-C...</td>\n",
       "      <td>2021-04-20</td>\n",
       "      <td>11.0</td>\n",
       "      <td>33507.0</td>\n",
       "      <td>0.112</td>\n",
       "    </tr>\n",
       "    <tr>\n",
       "      <th>227</th>\n",
       "      <td>Zambia</td>\n",
       "      <td>ZMB</td>\n",
       "      <td>AFRO</td>\n",
       "      <td>REPORTING</td>\n",
       "      <td>2022-09-25</td>\n",
       "      <td>9315275.0</td>\n",
       "      <td>8233510.0</td>\n",
       "      <td>50.671</td>\n",
       "      <td>44.786</td>\n",
       "      <td>6043203.0</td>\n",
       "      <td>32.872</td>\n",
       "      <td>Beijing CNBG - BBIBP-CorV,Janssen - Ad26.COV 2...</td>\n",
       "      <td>2021-04-14</td>\n",
       "      <td>3.0</td>\n",
       "      <td>668550.0</td>\n",
       "      <td>3.637</td>\n",
       "    </tr>\n",
       "    <tr>\n",
       "      <th>228</th>\n",
       "      <td>Zimbabwe</td>\n",
       "      <td>ZWE</td>\n",
       "      <td>AFRO</td>\n",
       "      <td>REPORTING</td>\n",
       "      <td>2022-10-09</td>\n",
       "      <td>12582801.0</td>\n",
       "      <td>6533054.0</td>\n",
       "      <td>84.659</td>\n",
       "      <td>43.955</td>\n",
       "      <td>4887515.0</td>\n",
       "      <td>32.884</td>\n",
       "      <td>Beijing CNBG - BBIBP-CorV,Bharat - Covaxin,Gam...</td>\n",
       "      <td>2021-02-18</td>\n",
       "      <td>4.0</td>\n",
       "      <td>1162232.0</td>\n",
       "      <td>7.820</td>\n",
       "    </tr>\n",
       "  </tbody>\n",
       "</table>\n",
       "<p>229 rows × 16 columns</p>\n",
       "</div>"
      ],
      "text/plain": [
       "               COUNTRY ISO3 WHO_REGION DATA_SOURCE DATE_UPDATED  \\\n",
       "0          Afghanistan  AFG       EMRO   REPORTING   2022-10-11   \n",
       "1              Albania  ALB       EURO   REPORTING   2022-09-25   \n",
       "2              Algeria  DZA       AFRO   REPORTING   2022-09-04   \n",
       "3       American Samoa  ASM       WPRO   REPORTING   2022-08-23   \n",
       "4              Andorra  AND       EURO   REPORTING   2022-09-11   \n",
       "..                 ...  ...        ...         ...          ...   \n",
       "224           Viet Nam  VNM       WPRO   REPORTING   2022-10-02   \n",
       "225  Wallis and Futuna  WLF       WPRO   REPORTING   2022-07-26   \n",
       "226              Yemen  YEM       EMRO   REPORTING   2022-09-28   \n",
       "227             Zambia  ZMB       AFRO   REPORTING   2022-09-25   \n",
       "228           Zimbabwe  ZWE       AFRO   REPORTING   2022-10-09   \n",
       "\n",
       "     TOTAL_VACCINATIONS  PERSONS_VACCINATED_1PLUS_DOSE  \\\n",
       "0            11951964.0                     10987211.0   \n",
       "1             2978248.0                      1337562.0   \n",
       "2            15267442.0                      7840131.0   \n",
       "3              111316.0                        44885.0   \n",
       "4              154216.0                        57894.0   \n",
       "..                  ...                            ...   \n",
       "224         260210114.0                     90034165.0   \n",
       "225             16782.0                         6592.0   \n",
       "226           1065395.0                       861625.0   \n",
       "227           9315275.0                      8233510.0   \n",
       "228          12582801.0                      6533054.0   \n",
       "\n",
       "     TOTAL_VACCINATIONS_PER100  PERSONS_VACCINATED_1PLUS_DOSE_PER100  \\\n",
       "0                       30.702                                28.224   \n",
       "1                      103.500                                46.999   \n",
       "2                       34.817                                17.879   \n",
       "3                      201.670                                81.318   \n",
       "4                      199.600                                75.999   \n",
       "..                         ...                                   ...   \n",
       "224                    267.325                                92.496   \n",
       "225                    149.226                                58.616   \n",
       "226                      3.572                                 2.889   \n",
       "227                     50.671                                44.786   \n",
       "228                     84.659                                43.955   \n",
       "\n",
       "     PERSONS_FULLY_VACCINATED  PERSONS_FULLY_VACCINATED_PER100  \\\n",
       "0                  10303193.0                           26.467   \n",
       "1                   1263870.0                           44.409   \n",
       "2                   6481186.0                           14.780   \n",
       "3                     41423.0                           75.046   \n",
       "4                     53478.0                           70.202   \n",
       "..                        ...                              ...   \n",
       "224                84374202.0                           86.681   \n",
       "225                    6989.0                           62.147   \n",
       "226                  604202.0                            2.026   \n",
       "227                 6043203.0                           32.872   \n",
       "228                 4887515.0                           32.884   \n",
       "\n",
       "                                         VACCINES_USED FIRST_VACCINE_DATE  \\\n",
       "0    AstraZeneca - Vaxzevria,Beijing CNBG - BBIBP-C...         2021-02-22   \n",
       "1    AstraZeneca - Vaxzevria,Gamaleya - Gam-Covid-V...         2021-01-13   \n",
       "2    Beijing CNBG - BBIBP-CorV,Gamaleya - Gam-Covid...         2021-01-30   \n",
       "3    Janssen - Ad26.COV 2-S,Moderna - Spikevax,Pfiz...         2020-12-21   \n",
       "4    AstraZeneca - Vaxzevria,Moderna - Spikevax,Pfi...         2021-01-20   \n",
       "..                                                 ...                ...   \n",
       "224  AstraZeneca - Vaxzevria,Beijing CNBG - BBIBP-C...         2021-03-08   \n",
       "225                                 Moderna - Spikevax         2021-03-19   \n",
       "226  AstraZeneca - Vaxzevria,Beijing CNBG - BBIBP-C...         2021-04-20   \n",
       "227  Beijing CNBG - BBIBP-CorV,Janssen - Ad26.COV 2...         2021-04-14   \n",
       "228  Beijing CNBG - BBIBP-CorV,Bharat - Covaxin,Gam...         2021-02-18   \n",
       "\n",
       "     NUMBER_VACCINES_TYPES_USED  PERSONS_BOOSTER_ADD_DOSE  \\\n",
       "0                          11.0                       NaN   \n",
       "1                           5.0                  357344.0   \n",
       "2                           4.0                  575651.0   \n",
       "3                           3.0                   24160.0   \n",
       "4                           3.0                   42844.0   \n",
       "..                          ...                       ...   \n",
       "224                         6.0                55849282.0   \n",
       "225                         1.0                    3201.0   \n",
       "226                        11.0                   33507.0   \n",
       "227                         3.0                  668550.0   \n",
       "228                         4.0                 1162232.0   \n",
       "\n",
       "     PERSONS_BOOSTER_ADD_DOSE_PER100  \n",
       "0                                NaN  \n",
       "1                             12.556  \n",
       "2                              1.313  \n",
       "3                             43.770  \n",
       "4                             56.243  \n",
       "..                               ...  \n",
       "224                           57.376  \n",
       "225                           28.463  \n",
       "226                            0.112  \n",
       "227                            3.637  \n",
       "228                            7.820  \n",
       "\n",
       "[229 rows x 16 columns]"
      ]
     },
     "execution_count": 53,
     "metadata": {},
     "output_type": "execute_result"
    }
   ],
   "source": [
    "# Database or File URL\n",
    "vaccination_df = pd.read_csv('https://covid19.who.int/who-data/vaccination-data.csv')\n",
    "vaccination_df"
   ]
  },
  {
   "cell_type": "code",
   "execution_count": 54,
   "metadata": {},
   "outputs": [
    {
     "data": {
      "text/html": [
       "<div>\n",
       "<style scoped>\n",
       "    .dataframe tbody tr th:only-of-type {\n",
       "        vertical-align: middle;\n",
       "    }\n",
       "\n",
       "    .dataframe tbody tr th {\n",
       "        vertical-align: top;\n",
       "    }\n",
       "\n",
       "    .dataframe thead th {\n",
       "        text-align: right;\n",
       "    }\n",
       "</style>\n",
       "<table border=\"1\" class=\"dataframe\">\n",
       "  <thead>\n",
       "    <tr style=\"text-align: right;\">\n",
       "      <th></th>\n",
       "      <th>id</th>\n",
       "      <th>rank</th>\n",
       "      <th>Country</th>\n",
       "      <th>Continent</th>\n",
       "      <th>TwoLetterSymbol</th>\n",
       "      <th>ThreeLetterSymbol</th>\n",
       "      <th>Infection_Risk</th>\n",
       "      <th>Case_Fatality_Rate</th>\n",
       "      <th>Test_Percentage</th>\n",
       "      <th>Recovery_Proporation</th>\n",
       "      <th>TotalCases</th>\n",
       "      <th>NewCases</th>\n",
       "      <th>TotalDeaths</th>\n",
       "      <th>NewDeaths</th>\n",
       "      <th>TotalRecovered</th>\n",
       "      <th>NewRecovered</th>\n",
       "      <th>ActiveCases</th>\n",
       "      <th>TotalTests</th>\n",
       "      <th>Population</th>\n",
       "      <th>one_Caseevery_X_ppl</th>\n",
       "      <th>one_Deathevery_X_ppl</th>\n",
       "      <th>one_Testevery_X_ppl</th>\n",
       "      <th>Deaths_1M_pop</th>\n",
       "      <th>Serious_Critical</th>\n",
       "      <th>Tests_1M_Pop</th>\n",
       "      <th>TotCases_1M_Pop</th>\n",
       "    </tr>\n",
       "  </thead>\n",
       "  <tbody>\n",
       "    <tr>\n",
       "      <th>0</th>\n",
       "      <td>40f44943-8413-4a31-a4df-deee8111f85f</td>\n",
       "      <td>0</td>\n",
       "      <td>World</td>\n",
       "      <td>All</td>\n",
       "      <td>None</td>\n",
       "      <td>None</td>\n",
       "      <td>0.00</td>\n",
       "      <td>1.04</td>\n",
       "      <td>0.00</td>\n",
       "      <td>96.67</td>\n",
       "      <td>629849464</td>\n",
       "      <td>163389</td>\n",
       "      <td>6571247</td>\n",
       "      <td>379</td>\n",
       "      <td>608883981</td>\n",
       "      <td>200005</td>\n",
       "      <td>14394236</td>\n",
       "      <td>0</td>\n",
       "      <td>0</td>\n",
       "      <td>0</td>\n",
       "      <td>0</td>\n",
       "      <td>0</td>\n",
       "      <td>843</td>\n",
       "      <td>38624</td>\n",
       "      <td>0</td>\n",
       "      <td>80804.0</td>\n",
       "    </tr>\n",
       "    <tr>\n",
       "      <th>1</th>\n",
       "      <td>63492a0f-56d7-4c00-9ac1-d64fd5414029</td>\n",
       "      <td>0</td>\n",
       "      <td>Total:</td>\n",
       "      <td>All</td>\n",
       "      <td>None</td>\n",
       "      <td>None</td>\n",
       "      <td>0.00</td>\n",
       "      <td>1.04</td>\n",
       "      <td>0.00</td>\n",
       "      <td>96.67</td>\n",
       "      <td>629849464</td>\n",
       "      <td>163389</td>\n",
       "      <td>6571247</td>\n",
       "      <td>379</td>\n",
       "      <td>608883981</td>\n",
       "      <td>200005</td>\n",
       "      <td>14394236</td>\n",
       "      <td>0</td>\n",
       "      <td>0</td>\n",
       "      <td>0</td>\n",
       "      <td>0</td>\n",
       "      <td>0</td>\n",
       "      <td>843</td>\n",
       "      <td>38624</td>\n",
       "      <td>0</td>\n",
       "      <td>80803.8</td>\n",
       "    </tr>\n",
       "    <tr>\n",
       "      <th>2</th>\n",
       "      <td>be02608d-a52f-4586-ae9b-220dee7daaf1</td>\n",
       "      <td>1</td>\n",
       "      <td>USA</td>\n",
       "      <td>North America</td>\n",
       "      <td>us</td>\n",
       "      <td>usa</td>\n",
       "      <td>29.49</td>\n",
       "      <td>1.10</td>\n",
       "      <td>335.31</td>\n",
       "      <td>97.25</td>\n",
       "      <td>98825641</td>\n",
       "      <td>0</td>\n",
       "      <td>1090374</td>\n",
       "      <td>0</td>\n",
       "      <td>96105543</td>\n",
       "      <td>0</td>\n",
       "      <td>1629724</td>\n",
       "      <td>1123775929</td>\n",
       "      <td>335145796</td>\n",
       "      <td>3</td>\n",
       "      <td>307</td>\n",
       "      <td>0</td>\n",
       "      <td>3253</td>\n",
       "      <td>2671</td>\n",
       "      <td>3353096</td>\n",
       "      <td>294874.0</td>\n",
       "    </tr>\n",
       "    <tr>\n",
       "      <th>3</th>\n",
       "      <td>f6ecf8d7-5867-42dc-9290-24fda4cb14f0</td>\n",
       "      <td>2</td>\n",
       "      <td>India</td>\n",
       "      <td>Asia</td>\n",
       "      <td>in</td>\n",
       "      <td>ind</td>\n",
       "      <td>3.16</td>\n",
       "      <td>1.19</td>\n",
       "      <td>63.64</td>\n",
       "      <td>98.76</td>\n",
       "      <td>44628828</td>\n",
       "      <td>0</td>\n",
       "      <td>528895</td>\n",
       "      <td>0</td>\n",
       "      <td>44073308</td>\n",
       "      <td>0</td>\n",
       "      <td>26625</td>\n",
       "      <td>897877536</td>\n",
       "      <td>1410977240</td>\n",
       "      <td>32</td>\n",
       "      <td>2668</td>\n",
       "      <td>2</td>\n",
       "      <td>375</td>\n",
       "      <td>698</td>\n",
       "      <td>636352</td>\n",
       "      <td>31630.0</td>\n",
       "    </tr>\n",
       "    <tr>\n",
       "      <th>4</th>\n",
       "      <td>911f9162-c39d-4e1c-9768-4d147cce2604</td>\n",
       "      <td>3</td>\n",
       "      <td>France</td>\n",
       "      <td>Europe</td>\n",
       "      <td>fr</td>\n",
       "      <td>fra</td>\n",
       "      <td>55.21</td>\n",
       "      <td>0.43</td>\n",
       "      <td>413.84</td>\n",
       "      <td>96.64</td>\n",
       "      <td>36216634</td>\n",
       "      <td>0</td>\n",
       "      <td>155816</td>\n",
       "      <td>0</td>\n",
       "      <td>35001230</td>\n",
       "      <td>0</td>\n",
       "      <td>1059588</td>\n",
       "      <td>271490188</td>\n",
       "      <td>65603100</td>\n",
       "      <td>2</td>\n",
       "      <td>421</td>\n",
       "      <td>0</td>\n",
       "      <td>2375</td>\n",
       "      <td>869</td>\n",
       "      <td>4138374</td>\n",
       "      <td>552057.0</td>\n",
       "    </tr>\n",
       "    <tr>\n",
       "      <th>...</th>\n",
       "      <td>...</td>\n",
       "      <td>...</td>\n",
       "      <td>...</td>\n",
       "      <td>...</td>\n",
       "      <td>...</td>\n",
       "      <td>...</td>\n",
       "      <td>...</td>\n",
       "      <td>...</td>\n",
       "      <td>...</td>\n",
       "      <td>...</td>\n",
       "      <td>...</td>\n",
       "      <td>...</td>\n",
       "      <td>...</td>\n",
       "      <td>...</td>\n",
       "      <td>...</td>\n",
       "      <td>...</td>\n",
       "      <td>...</td>\n",
       "      <td>...</td>\n",
       "      <td>...</td>\n",
       "      <td>...</td>\n",
       "      <td>...</td>\n",
       "      <td>...</td>\n",
       "      <td>...</td>\n",
       "      <td>...</td>\n",
       "      <td>...</td>\n",
       "      <td>...</td>\n",
       "    </tr>\n",
       "    <tr>\n",
       "      <th>217</th>\n",
       "      <td>b230d5ca-c30a-4d22-814e-53ceccfb8364</td>\n",
       "      <td>224</td>\n",
       "      <td>Diamond Princess</td>\n",
       "      <td></td>\n",
       "      <td>us</td>\n",
       "      <td>usa</td>\n",
       "      <td>0.00</td>\n",
       "      <td>1.83</td>\n",
       "      <td>0.00</td>\n",
       "      <td>98.17</td>\n",
       "      <td>712</td>\n",
       "      <td>0</td>\n",
       "      <td>13</td>\n",
       "      <td>0</td>\n",
       "      <td>699</td>\n",
       "      <td>0</td>\n",
       "      <td>0</td>\n",
       "      <td>0</td>\n",
       "      <td>0</td>\n",
       "      <td>0</td>\n",
       "      <td>0</td>\n",
       "      <td>0</td>\n",
       "      <td>0</td>\n",
       "      <td>0</td>\n",
       "      <td>0</td>\n",
       "      <td>0.0</td>\n",
       "    </tr>\n",
       "    <tr>\n",
       "      <th>218</th>\n",
       "      <td>f4fd07f5-e786-4153-bafe-7b35194a7eef</td>\n",
       "      <td>226</td>\n",
       "      <td>Vatican City</td>\n",
       "      <td>Europe</td>\n",
       "      <td>va</td>\n",
       "      <td>vat</td>\n",
       "      <td>3.60</td>\n",
       "      <td>0.00</td>\n",
       "      <td>0.00</td>\n",
       "      <td>100.00</td>\n",
       "      <td>29</td>\n",
       "      <td>0</td>\n",
       "      <td>0</td>\n",
       "      <td>0</td>\n",
       "      <td>29</td>\n",
       "      <td>0</td>\n",
       "      <td>0</td>\n",
       "      <td>0</td>\n",
       "      <td>806</td>\n",
       "      <td>28</td>\n",
       "      <td>0</td>\n",
       "      <td>0</td>\n",
       "      <td>0</td>\n",
       "      <td>0</td>\n",
       "      <td>0</td>\n",
       "      <td>35980.0</td>\n",
       "    </tr>\n",
       "    <tr>\n",
       "      <th>219</th>\n",
       "      <td>98a06a3a-311a-445f-9caf-3b967e1ffef5</td>\n",
       "      <td>228</td>\n",
       "      <td>Western Sahara</td>\n",
       "      <td>Africa</td>\n",
       "      <td>eh</td>\n",
       "      <td>esh</td>\n",
       "      <td>0.00</td>\n",
       "      <td>10.00</td>\n",
       "      <td>0.00</td>\n",
       "      <td>90.00</td>\n",
       "      <td>10</td>\n",
       "      <td>0</td>\n",
       "      <td>1</td>\n",
       "      <td>0</td>\n",
       "      <td>9</td>\n",
       "      <td>0</td>\n",
       "      <td>0</td>\n",
       "      <td>0</td>\n",
       "      <td>630879</td>\n",
       "      <td>63088</td>\n",
       "      <td>630879</td>\n",
       "      <td>0</td>\n",
       "      <td>2</td>\n",
       "      <td>0</td>\n",
       "      <td>0</td>\n",
       "      <td>16.0</td>\n",
       "    </tr>\n",
       "    <tr>\n",
       "      <th>220</th>\n",
       "      <td>fa63e305-e10f-4b5d-a400-2edd6dcab0f4</td>\n",
       "      <td>229</td>\n",
       "      <td>MS Zaandam</td>\n",
       "      <td></td>\n",
       "      <td>us</td>\n",
       "      <td>usa</td>\n",
       "      <td>0.00</td>\n",
       "      <td>22.22</td>\n",
       "      <td>0.00</td>\n",
       "      <td>77.78</td>\n",
       "      <td>9</td>\n",
       "      <td>0</td>\n",
       "      <td>2</td>\n",
       "      <td>0</td>\n",
       "      <td>7</td>\n",
       "      <td>0</td>\n",
       "      <td>0</td>\n",
       "      <td>0</td>\n",
       "      <td>0</td>\n",
       "      <td>0</td>\n",
       "      <td>0</td>\n",
       "      <td>0</td>\n",
       "      <td>0</td>\n",
       "      <td>0</td>\n",
       "      <td>0</td>\n",
       "      <td>0.0</td>\n",
       "    </tr>\n",
       "    <tr>\n",
       "      <th>221</th>\n",
       "      <td>eb9b3fbc-6738-4a35-a943-42a0e05ea149</td>\n",
       "      <td>230</td>\n",
       "      <td>China</td>\n",
       "      <td>Asia</td>\n",
       "      <td>cn</td>\n",
       "      <td>chn</td>\n",
       "      <td>0.02</td>\n",
       "      <td>2.04</td>\n",
       "      <td>11.12</td>\n",
       "      <td>96.20</td>\n",
       "      <td>255773</td>\n",
       "      <td>244</td>\n",
       "      <td>5226</td>\n",
       "      <td>0</td>\n",
       "      <td>246043</td>\n",
       "      <td>303</td>\n",
       "      <td>4504</td>\n",
       "      <td>160000000</td>\n",
       "      <td>1439323776</td>\n",
       "      <td>5627</td>\n",
       "      <td>275416</td>\n",
       "      <td>9</td>\n",
       "      <td>4</td>\n",
       "      <td>17</td>\n",
       "      <td>111163</td>\n",
       "      <td>178.0</td>\n",
       "    </tr>\n",
       "  </tbody>\n",
       "</table>\n",
       "<p>222 rows × 26 columns</p>\n",
       "</div>"
      ],
      "text/plain": [
       "                                       id  rank           Country  \\\n",
       "0    40f44943-8413-4a31-a4df-deee8111f85f     0             World   \n",
       "1    63492a0f-56d7-4c00-9ac1-d64fd5414029     0            Total:   \n",
       "2    be02608d-a52f-4586-ae9b-220dee7daaf1     1               USA   \n",
       "3    f6ecf8d7-5867-42dc-9290-24fda4cb14f0     2             India   \n",
       "4    911f9162-c39d-4e1c-9768-4d147cce2604     3            France   \n",
       "..                                    ...   ...               ...   \n",
       "217  b230d5ca-c30a-4d22-814e-53ceccfb8364   224  Diamond Princess   \n",
       "218  f4fd07f5-e786-4153-bafe-7b35194a7eef   226      Vatican City   \n",
       "219  98a06a3a-311a-445f-9caf-3b967e1ffef5   228    Western Sahara   \n",
       "220  fa63e305-e10f-4b5d-a400-2edd6dcab0f4   229        MS Zaandam   \n",
       "221  eb9b3fbc-6738-4a35-a943-42a0e05ea149   230             China   \n",
       "\n",
       "         Continent TwoLetterSymbol ThreeLetterSymbol  Infection_Risk  \\\n",
       "0              All            None              None            0.00   \n",
       "1              All            None              None            0.00   \n",
       "2    North America              us               usa           29.49   \n",
       "3             Asia              in               ind            3.16   \n",
       "4           Europe              fr               fra           55.21   \n",
       "..             ...             ...               ...             ...   \n",
       "217                             us               usa            0.00   \n",
       "218         Europe              va               vat            3.60   \n",
       "219         Africa              eh               esh            0.00   \n",
       "220                             us               usa            0.00   \n",
       "221           Asia              cn               chn            0.02   \n",
       "\n",
       "     Case_Fatality_Rate  Test_Percentage  Recovery_Proporation  TotalCases  \\\n",
       "0                  1.04             0.00                 96.67   629849464   \n",
       "1                  1.04             0.00                 96.67   629849464   \n",
       "2                  1.10           335.31                 97.25    98825641   \n",
       "3                  1.19            63.64                 98.76    44628828   \n",
       "4                  0.43           413.84                 96.64    36216634   \n",
       "..                  ...              ...                   ...         ...   \n",
       "217                1.83             0.00                 98.17         712   \n",
       "218                0.00             0.00                100.00          29   \n",
       "219               10.00             0.00                 90.00          10   \n",
       "220               22.22             0.00                 77.78           9   \n",
       "221                2.04            11.12                 96.20      255773   \n",
       "\n",
       "     NewCases  TotalDeaths  NewDeaths TotalRecovered  NewRecovered  \\\n",
       "0      163389      6571247        379      608883981        200005   \n",
       "1      163389      6571247        379      608883981        200005   \n",
       "2           0      1090374          0       96105543             0   \n",
       "3           0       528895          0       44073308             0   \n",
       "4           0       155816          0       35001230             0   \n",
       "..        ...          ...        ...            ...           ...   \n",
       "217         0           13          0            699             0   \n",
       "218         0            0          0             29             0   \n",
       "219         0            1          0              9             0   \n",
       "220         0            2          0              7             0   \n",
       "221       244         5226          0         246043           303   \n",
       "\n",
       "     ActiveCases  TotalTests  Population  one_Caseevery_X_ppl  \\\n",
       "0       14394236           0           0                    0   \n",
       "1       14394236           0           0                    0   \n",
       "2        1629724  1123775929   335145796                    3   \n",
       "3          26625   897877536  1410977240                   32   \n",
       "4        1059588   271490188    65603100                    2   \n",
       "..           ...         ...         ...                  ...   \n",
       "217            0           0           0                    0   \n",
       "218            0           0         806                   28   \n",
       "219            0           0      630879                63088   \n",
       "220            0           0           0                    0   \n",
       "221         4504   160000000  1439323776                 5627   \n",
       "\n",
       "     one_Deathevery_X_ppl  one_Testevery_X_ppl  Deaths_1M_pop  \\\n",
       "0                       0                    0            843   \n",
       "1                       0                    0            843   \n",
       "2                     307                    0           3253   \n",
       "3                    2668                    2            375   \n",
       "4                     421                    0           2375   \n",
       "..                    ...                  ...            ...   \n",
       "217                     0                    0              0   \n",
       "218                     0                    0              0   \n",
       "219                630879                    0              2   \n",
       "220                     0                    0              0   \n",
       "221                275416                    9              4   \n",
       "\n",
       "     Serious_Critical  Tests_1M_Pop  TotCases_1M_Pop  \n",
       "0               38624             0          80804.0  \n",
       "1               38624             0          80803.8  \n",
       "2                2671       3353096         294874.0  \n",
       "3                 698        636352          31630.0  \n",
       "4                 869       4138374         552057.0  \n",
       "..                ...           ...              ...  \n",
       "217                 0             0              0.0  \n",
       "218                 0             0          35980.0  \n",
       "219                 0             0             16.0  \n",
       "220                 0             0              0.0  \n",
       "221                17        111163            178.0  \n",
       "\n",
       "[222 rows x 26 columns]"
      ]
     },
     "metadata": {},
     "output_type": "display_data"
    }
   ],
   "source": [
    "json = response.json()\n",
    "covid_df = pd.DataFrame(json)\n",
    "display(covid_df)"
   ]
  },
  {
   "cell_type": "code",
   "execution_count": 55,
   "metadata": {},
   "outputs": [
    {
     "data": {
      "text/html": [
       "<div>\n",
       "<style scoped>\n",
       "    .dataframe tbody tr th:only-of-type {\n",
       "        vertical-align: middle;\n",
       "    }\n",
       "\n",
       "    .dataframe tbody tr th {\n",
       "        vertical-align: top;\n",
       "    }\n",
       "\n",
       "    .dataframe thead th {\n",
       "        text-align: right;\n",
       "    }\n",
       "</style>\n",
       "<table border=\"1\" class=\"dataframe\">\n",
       "  <thead>\n",
       "    <tr style=\"text-align: right;\">\n",
       "      <th></th>\n",
       "      <th>rank</th>\n",
       "      <th>Infection_Risk</th>\n",
       "      <th>Case_Fatality_Rate</th>\n",
       "      <th>Test_Percentage</th>\n",
       "      <th>Recovery_Proporation</th>\n",
       "      <th>TotalCases</th>\n",
       "      <th>NewCases</th>\n",
       "      <th>TotalDeaths</th>\n",
       "      <th>NewDeaths</th>\n",
       "      <th>NewRecovered</th>\n",
       "      <th>ActiveCases</th>\n",
       "      <th>one_Caseevery_X_ppl</th>\n",
       "      <th>one_Deathevery_X_ppl</th>\n",
       "      <th>one_Testevery_X_ppl</th>\n",
       "      <th>Deaths_1M_pop</th>\n",
       "      <th>Serious_Critical</th>\n",
       "      <th>Tests_1M_Pop</th>\n",
       "      <th>TotCases_1M_Pop</th>\n",
       "    </tr>\n",
       "  </thead>\n",
       "  <tbody>\n",
       "    <tr>\n",
       "      <th>count</th>\n",
       "      <td>222.000000</td>\n",
       "      <td>222.000000</td>\n",
       "      <td>222.000000</td>\n",
       "      <td>222.000000</td>\n",
       "      <td>222.000000</td>\n",
       "      <td>2.220000e+02</td>\n",
       "      <td>222.000000</td>\n",
       "      <td>2.220000e+02</td>\n",
       "      <td>222.000000</td>\n",
       "      <td>222.000000</td>\n",
       "      <td>2.220000e+02</td>\n",
       "      <td>222.000000</td>\n",
       "      <td>222.000000</td>\n",
       "      <td>222.000000</td>\n",
       "      <td>222.000000</td>\n",
       "      <td>222.000000</td>\n",
       "      <td>2.220000e+02</td>\n",
       "      <td>222.000000</td>\n",
       "    </tr>\n",
       "    <tr>\n",
       "      <th>mean</th>\n",
       "      <td>110.932432</td>\n",
       "      <td>17.756892</td>\n",
       "      <td>1.472252</td>\n",
       "      <td>193.086667</td>\n",
       "      <td>86.691622</td>\n",
       "      <td>8.489764e+06</td>\n",
       "      <td>2207.959459</td>\n",
       "      <td>8.880001e+04</td>\n",
       "      <td>5.121622</td>\n",
       "      <td>2704.090090</td>\n",
       "      <td>1.887574e+05</td>\n",
       "      <td>435.171171</td>\n",
       "      <td>13373.135135</td>\n",
       "      <td>10.977477</td>\n",
       "      <td>1208.058559</td>\n",
       "      <td>521.923423</td>\n",
       "      <td>1.930867e+06</td>\n",
       "      <td>178297.485586</td>\n",
       "    </tr>\n",
       "    <tr>\n",
       "      <th>std</th>\n",
       "      <td>65.309704</td>\n",
       "      <td>18.577802</td>\n",
       "      <td>2.192234</td>\n",
       "      <td>346.534275</td>\n",
       "      <td>27.591927</td>\n",
       "      <td>6.005821e+07</td>\n",
       "      <td>16000.242659</td>\n",
       "      <td>6.280116e+05</td>\n",
       "      <td>36.887730</td>\n",
       "      <td>19306.784778</td>\n",
       "      <td>1.374714e+06</td>\n",
       "      <td>4254.854675</td>\n",
       "      <td>53442.775100</td>\n",
       "      <td>27.731982</td>\n",
       "      <td>1248.293362</td>\n",
       "      <td>3720.519781</td>\n",
       "      <td>3.465343e+06</td>\n",
       "      <td>185236.562889</td>\n",
       "    </tr>\n",
       "    <tr>\n",
       "      <th>min</th>\n",
       "      <td>0.000000</td>\n",
       "      <td>0.000000</td>\n",
       "      <td>0.000000</td>\n",
       "      <td>0.000000</td>\n",
       "      <td>0.000000</td>\n",
       "      <td>9.000000e+00</td>\n",
       "      <td>0.000000</td>\n",
       "      <td>0.000000e+00</td>\n",
       "      <td>0.000000</td>\n",
       "      <td>0.000000</td>\n",
       "      <td>0.000000e+00</td>\n",
       "      <td>0.000000</td>\n",
       "      <td>0.000000</td>\n",
       "      <td>0.000000</td>\n",
       "      <td>0.000000</td>\n",
       "      <td>0.000000</td>\n",
       "      <td>0.000000e+00</td>\n",
       "      <td>0.000000</td>\n",
       "    </tr>\n",
       "    <tr>\n",
       "      <th>25%</th>\n",
       "      <td>55.250000</td>\n",
       "      <td>1.227500</td>\n",
       "      <td>0.487500</td>\n",
       "      <td>9.620000</td>\n",
       "      <td>94.025000</td>\n",
       "      <td>3.394550e+04</td>\n",
       "      <td>0.000000</td>\n",
       "      <td>2.295000e+02</td>\n",
       "      <td>0.000000</td>\n",
       "      <td>0.000000</td>\n",
       "      <td>8.250000e+01</td>\n",
       "      <td>3.000000</td>\n",
       "      <td>484.000000</td>\n",
       "      <td>0.000000</td>\n",
       "      <td>172.000000</td>\n",
       "      <td>0.000000</td>\n",
       "      <td>9.618100e+04</td>\n",
       "      <td>15481.000000</td>\n",
       "    </tr>\n",
       "    <tr>\n",
       "      <th>50%</th>\n",
       "      <td>110.500000</td>\n",
       "      <td>11.350000</td>\n",
       "      <td>0.975000</td>\n",
       "      <td>70.375000</td>\n",
       "      <td>97.605000</td>\n",
       "      <td>2.311015e+05</td>\n",
       "      <td>0.000000</td>\n",
       "      <td>2.623000e+03</td>\n",
       "      <td>0.000000</td>\n",
       "      <td>0.000000</td>\n",
       "      <td>1.076500e+03</td>\n",
       "      <td>8.000000</td>\n",
       "      <td>1105.000000</td>\n",
       "      <td>1.000000</td>\n",
       "      <td>797.500000</td>\n",
       "      <td>4.000000</td>\n",
       "      <td>7.037210e+05</td>\n",
       "      <td>113535.000000</td>\n",
       "    </tr>\n",
       "    <tr>\n",
       "      <th>75%</th>\n",
       "      <td>165.750000</td>\n",
       "      <td>29.355000</td>\n",
       "      <td>1.890000</td>\n",
       "      <td>207.682500</td>\n",
       "      <td>98.775000</td>\n",
       "      <td>1.376570e+06</td>\n",
       "      <td>0.000000</td>\n",
       "      <td>1.598575e+04</td>\n",
       "      <td>0.000000</td>\n",
       "      <td>0.000000</td>\n",
       "      <td>1.719875e+04</td>\n",
       "      <td>59.750000</td>\n",
       "      <td>5583.250000</td>\n",
       "      <td>5.000000</td>\n",
       "      <td>1961.000000</td>\n",
       "      <td>37.500000</td>\n",
       "      <td>2.076841e+06</td>\n",
       "      <td>293530.250000</td>\n",
       "    </tr>\n",
       "    <tr>\n",
       "      <th>max</th>\n",
       "      <td>230.000000</td>\n",
       "      <td>70.320000</td>\n",
       "      <td>22.220000</td>\n",
       "      <td>2201.190000</td>\n",
       "      <td>100.000000</td>\n",
       "      <td>6.298495e+08</td>\n",
       "      <td>163389.000000</td>\n",
       "      <td>6.571247e+06</td>\n",
       "      <td>379.000000</td>\n",
       "      <td>200005.000000</td>\n",
       "      <td>1.439424e+07</td>\n",
       "      <td>63088.000000</td>\n",
       "      <td>630879.000000</td>\n",
       "      <td>198.000000</td>\n",
       "      <td>6374.000000</td>\n",
       "      <td>38624.000000</td>\n",
       "      <td>2.201191e+07</td>\n",
       "      <td>703187.000000</td>\n",
       "    </tr>\n",
       "  </tbody>\n",
       "</table>\n",
       "</div>"
      ],
      "text/plain": [
       "             rank  Infection_Risk  Case_Fatality_Rate  Test_Percentage  \\\n",
       "count  222.000000      222.000000          222.000000       222.000000   \n",
       "mean   110.932432       17.756892            1.472252       193.086667   \n",
       "std     65.309704       18.577802            2.192234       346.534275   \n",
       "min      0.000000        0.000000            0.000000         0.000000   \n",
       "25%     55.250000        1.227500            0.487500         9.620000   \n",
       "50%    110.500000       11.350000            0.975000        70.375000   \n",
       "75%    165.750000       29.355000            1.890000       207.682500   \n",
       "max    230.000000       70.320000           22.220000      2201.190000   \n",
       "\n",
       "       Recovery_Proporation    TotalCases       NewCases   TotalDeaths  \\\n",
       "count            222.000000  2.220000e+02     222.000000  2.220000e+02   \n",
       "mean              86.691622  8.489764e+06    2207.959459  8.880001e+04   \n",
       "std               27.591927  6.005821e+07   16000.242659  6.280116e+05   \n",
       "min                0.000000  9.000000e+00       0.000000  0.000000e+00   \n",
       "25%               94.025000  3.394550e+04       0.000000  2.295000e+02   \n",
       "50%               97.605000  2.311015e+05       0.000000  2.623000e+03   \n",
       "75%               98.775000  1.376570e+06       0.000000  1.598575e+04   \n",
       "max              100.000000  6.298495e+08  163389.000000  6.571247e+06   \n",
       "\n",
       "        NewDeaths   NewRecovered   ActiveCases  one_Caseevery_X_ppl  \\\n",
       "count  222.000000     222.000000  2.220000e+02           222.000000   \n",
       "mean     5.121622    2704.090090  1.887574e+05           435.171171   \n",
       "std     36.887730   19306.784778  1.374714e+06          4254.854675   \n",
       "min      0.000000       0.000000  0.000000e+00             0.000000   \n",
       "25%      0.000000       0.000000  8.250000e+01             3.000000   \n",
       "50%      0.000000       0.000000  1.076500e+03             8.000000   \n",
       "75%      0.000000       0.000000  1.719875e+04            59.750000   \n",
       "max    379.000000  200005.000000  1.439424e+07         63088.000000   \n",
       "\n",
       "       one_Deathevery_X_ppl  one_Testevery_X_ppl  Deaths_1M_pop  \\\n",
       "count            222.000000           222.000000     222.000000   \n",
       "mean           13373.135135            10.977477    1208.058559   \n",
       "std            53442.775100            27.731982    1248.293362   \n",
       "min                0.000000             0.000000       0.000000   \n",
       "25%              484.000000             0.000000     172.000000   \n",
       "50%             1105.000000             1.000000     797.500000   \n",
       "75%             5583.250000             5.000000    1961.000000   \n",
       "max           630879.000000           198.000000    6374.000000   \n",
       "\n",
       "       Serious_Critical  Tests_1M_Pop  TotCases_1M_Pop  \n",
       "count        222.000000  2.220000e+02       222.000000  \n",
       "mean         521.923423  1.930867e+06    178297.485586  \n",
       "std         3720.519781  3.465343e+06    185236.562889  \n",
       "min            0.000000  0.000000e+00         0.000000  \n",
       "25%            0.000000  9.618100e+04     15481.000000  \n",
       "50%            4.000000  7.037210e+05    113535.000000  \n",
       "75%           37.500000  2.076841e+06    293530.250000  \n",
       "max        38624.000000  2.201191e+07    703187.000000  "
      ]
     },
     "metadata": {},
     "output_type": "display_data"
    },
    {
     "name": "stderr",
     "output_type": "stream",
     "text": [
      "C:\\Users\\Kevin Zhu\\AppData\\Local\\Temp\\ipykernel_5632\\340159003.py:2: FutureWarning:\n",
      "\n",
      "The default value of numeric_only in DataFrame.corr is deprecated. In a future version, it will default to False. Select only valid columns or specify the value of numeric_only to silence this warning.\n",
      "\n"
     ]
    },
    {
     "data": {
      "text/html": [
       "<div>\n",
       "<style scoped>\n",
       "    .dataframe tbody tr th:only-of-type {\n",
       "        vertical-align: middle;\n",
       "    }\n",
       "\n",
       "    .dataframe tbody tr th {\n",
       "        vertical-align: top;\n",
       "    }\n",
       "\n",
       "    .dataframe thead th {\n",
       "        text-align: right;\n",
       "    }\n",
       "</style>\n",
       "<table border=\"1\" class=\"dataframe\">\n",
       "  <thead>\n",
       "    <tr style=\"text-align: right;\">\n",
       "      <th></th>\n",
       "      <th>rank</th>\n",
       "      <th>Infection_Risk</th>\n",
       "      <th>Case_Fatality_Rate</th>\n",
       "      <th>Test_Percentage</th>\n",
       "      <th>Recovery_Proporation</th>\n",
       "      <th>TotalCases</th>\n",
       "      <th>NewCases</th>\n",
       "      <th>TotalDeaths</th>\n",
       "      <th>NewDeaths</th>\n",
       "      <th>NewRecovered</th>\n",
       "      <th>ActiveCases</th>\n",
       "      <th>one_Caseevery_X_ppl</th>\n",
       "      <th>one_Deathevery_X_ppl</th>\n",
       "      <th>one_Testevery_X_ppl</th>\n",
       "      <th>Deaths_1M_pop</th>\n",
       "      <th>Serious_Critical</th>\n",
       "      <th>Tests_1M_Pop</th>\n",
       "      <th>TotCases_1M_Pop</th>\n",
       "    </tr>\n",
       "  </thead>\n",
       "  <tbody>\n",
       "    <tr>\n",
       "      <th>rank</th>\n",
       "      <td>1.000000</td>\n",
       "      <td>-0.204974</td>\n",
       "      <td>0.157186</td>\n",
       "      <td>-0.105620</td>\n",
       "      <td>-0.235795</td>\n",
       "      <td>-0.228804</td>\n",
       "      <td>-0.224668</td>\n",
       "      <td>-0.226811</td>\n",
       "      <td>-0.223722</td>\n",
       "      <td>-0.226671</td>\n",
       "      <td>-0.220703</td>\n",
       "      <td>0.156262</td>\n",
       "      <td>0.266809</td>\n",
       "      <td>0.258861</td>\n",
       "      <td>-0.408583</td>\n",
       "      <td>-0.222881</td>\n",
       "      <td>-0.105619</td>\n",
       "      <td>-0.212293</td>\n",
       "    </tr>\n",
       "    <tr>\n",
       "      <th>Infection_Risk</th>\n",
       "      <td>-0.204974</td>\n",
       "      <td>1.000000</td>\n",
       "      <td>-0.348594</td>\n",
       "      <td>0.566306</td>\n",
       "      <td>-0.125528</td>\n",
       "      <td>-0.067695</td>\n",
       "      <td>-0.055756</td>\n",
       "      <td>-0.086145</td>\n",
       "      <td>-0.077264</td>\n",
       "      <td>-0.045151</td>\n",
       "      <td>-0.064522</td>\n",
       "      <td>-0.096944</td>\n",
       "      <td>-0.219495</td>\n",
       "      <td>-0.350583</td>\n",
       "      <td>0.478998</td>\n",
       "      <td>-0.096048</td>\n",
       "      <td>0.566306</td>\n",
       "      <td>0.999153</td>\n",
       "    </tr>\n",
       "    <tr>\n",
       "      <th>Case_Fatality_Rate</th>\n",
       "      <td>0.157186</td>\n",
       "      <td>-0.348594</td>\n",
       "      <td>1.000000</td>\n",
       "      <td>-0.220505</td>\n",
       "      <td>-0.002086</td>\n",
       "      <td>-0.027747</td>\n",
       "      <td>-0.037576</td>\n",
       "      <td>-0.013442</td>\n",
       "      <td>-0.027426</td>\n",
       "      <td>-0.035288</td>\n",
       "      <td>-0.029993</td>\n",
       "      <td>0.292570</td>\n",
       "      <td>0.204217</td>\n",
       "      <td>0.253462</td>\n",
       "      <td>-0.045680</td>\n",
       "      <td>-0.005283</td>\n",
       "      <td>-0.220505</td>\n",
       "      <td>-0.350394</td>\n",
       "    </tr>\n",
       "    <tr>\n",
       "      <th>Test_Percentage</th>\n",
       "      <td>-0.105620</td>\n",
       "      <td>0.566306</td>\n",
       "      <td>-0.220505</td>\n",
       "      <td>1.000000</td>\n",
       "      <td>-0.035680</td>\n",
       "      <td>-0.042892</td>\n",
       "      <td>-0.038346</td>\n",
       "      <td>-0.051934</td>\n",
       "      <td>-0.057527</td>\n",
       "      <td>-0.026817</td>\n",
       "      <td>-0.047519</td>\n",
       "      <td>-0.056250</td>\n",
       "      <td>-0.124114</td>\n",
       "      <td>-0.213564</td>\n",
       "      <td>0.231482</td>\n",
       "      <td>-0.064014</td>\n",
       "      <td>1.000000</td>\n",
       "      <td>0.565791</td>\n",
       "    </tr>\n",
       "    <tr>\n",
       "      <th>Recovery_Proporation</th>\n",
       "      <td>-0.235795</td>\n",
       "      <td>-0.125528</td>\n",
       "      <td>-0.002086</td>\n",
       "      <td>-0.035680</td>\n",
       "      <td>1.000000</td>\n",
       "      <td>0.050917</td>\n",
       "      <td>0.045318</td>\n",
       "      <td>0.049876</td>\n",
       "      <td>0.047653</td>\n",
       "      <td>0.048776</td>\n",
       "      <td>0.042802</td>\n",
       "      <td>0.001624</td>\n",
       "      <td>0.007971</td>\n",
       "      <td>0.004536</td>\n",
       "      <td>0.046527</td>\n",
       "      <td>0.046682</td>\n",
       "      <td>-0.035681</td>\n",
       "      <td>-0.124493</td>\n",
       "    </tr>\n",
       "    <tr>\n",
       "      <th>TotalCases</th>\n",
       "      <td>-0.228804</td>\n",
       "      <td>-0.067695</td>\n",
       "      <td>-0.027747</td>\n",
       "      <td>-0.042892</td>\n",
       "      <td>0.050917</td>\n",
       "      <td>1.000000</td>\n",
       "      <td>0.961660</td>\n",
       "      <td>0.997159</td>\n",
       "      <td>0.966566</td>\n",
       "      <td>0.975641</td>\n",
       "      <td>0.993716</td>\n",
       "      <td>-0.014383</td>\n",
       "      <td>-0.034458</td>\n",
       "      <td>-0.053776</td>\n",
       "      <td>0.003883</td>\n",
       "      <td>0.982355</td>\n",
       "      <td>-0.042892</td>\n",
       "      <td>-0.027051</td>\n",
       "    </tr>\n",
       "    <tr>\n",
       "      <th>NewCases</th>\n",
       "      <td>-0.224668</td>\n",
       "      <td>-0.055756</td>\n",
       "      <td>-0.037576</td>\n",
       "      <td>-0.038346</td>\n",
       "      <td>0.045318</td>\n",
       "      <td>0.961660</td>\n",
       "      <td>1.000000</td>\n",
       "      <td>0.953685</td>\n",
       "      <td>0.984970</td>\n",
       "      <td>0.986819</td>\n",
       "      <td>0.970783</td>\n",
       "      <td>-0.014033</td>\n",
       "      <td>-0.033062</td>\n",
       "      <td>-0.052742</td>\n",
       "      <td>-0.021617</td>\n",
       "      <td>0.944284</td>\n",
       "      <td>-0.038346</td>\n",
       "      <td>-0.016146</td>\n",
       "    </tr>\n",
       "    <tr>\n",
       "      <th>TotalDeaths</th>\n",
       "      <td>-0.226811</td>\n",
       "      <td>-0.086145</td>\n",
       "      <td>-0.013442</td>\n",
       "      <td>-0.051934</td>\n",
       "      <td>0.049876</td>\n",
       "      <td>0.997159</td>\n",
       "      <td>0.953685</td>\n",
       "      <td>1.000000</td>\n",
       "      <td>0.963725</td>\n",
       "      <td>0.968518</td>\n",
       "      <td>0.987612</td>\n",
       "      <td>-0.014293</td>\n",
       "      <td>-0.034474</td>\n",
       "      <td>-0.052212</td>\n",
       "      <td>0.018662</td>\n",
       "      <td>0.988703</td>\n",
       "      <td>-0.051934</td>\n",
       "      <td>-0.045648</td>\n",
       "    </tr>\n",
       "    <tr>\n",
       "      <th>NewDeaths</th>\n",
       "      <td>-0.223722</td>\n",
       "      <td>-0.077264</td>\n",
       "      <td>-0.027426</td>\n",
       "      <td>-0.057527</td>\n",
       "      <td>0.047653</td>\n",
       "      <td>0.966566</td>\n",
       "      <td>0.984970</td>\n",
       "      <td>0.963725</td>\n",
       "      <td>1.000000</td>\n",
       "      <td>0.981802</td>\n",
       "      <td>0.970761</td>\n",
       "      <td>-0.014162</td>\n",
       "      <td>-0.033752</td>\n",
       "      <td>-0.052515</td>\n",
       "      <td>-0.012106</td>\n",
       "      <td>0.956307</td>\n",
       "      <td>-0.057527</td>\n",
       "      <td>-0.037473</td>\n",
       "    </tr>\n",
       "    <tr>\n",
       "      <th>NewRecovered</th>\n",
       "      <td>-0.226671</td>\n",
       "      <td>-0.045151</td>\n",
       "      <td>-0.035288</td>\n",
       "      <td>-0.026817</td>\n",
       "      <td>0.048776</td>\n",
       "      <td>0.975641</td>\n",
       "      <td>0.986819</td>\n",
       "      <td>0.968518</td>\n",
       "      <td>0.981802</td>\n",
       "      <td>1.000000</td>\n",
       "      <td>0.978413</td>\n",
       "      <td>-0.014248</td>\n",
       "      <td>-0.033978</td>\n",
       "      <td>-0.053739</td>\n",
       "      <td>-0.006575</td>\n",
       "      <td>0.959501</td>\n",
       "      <td>-0.026817</td>\n",
       "      <td>-0.004938</td>\n",
       "    </tr>\n",
       "    <tr>\n",
       "      <th>ActiveCases</th>\n",
       "      <td>-0.220703</td>\n",
       "      <td>-0.064522</td>\n",
       "      <td>-0.029993</td>\n",
       "      <td>-0.047519</td>\n",
       "      <td>0.042802</td>\n",
       "      <td>0.993716</td>\n",
       "      <td>0.970783</td>\n",
       "      <td>0.987612</td>\n",
       "      <td>0.970761</td>\n",
       "      <td>0.978413</td>\n",
       "      <td>1.000000</td>\n",
       "      <td>-0.013969</td>\n",
       "      <td>-0.033384</td>\n",
       "      <td>-0.050301</td>\n",
       "      <td>-0.005440</td>\n",
       "      <td>0.977897</td>\n",
       "      <td>-0.047519</td>\n",
       "      <td>-0.023919</td>\n",
       "    </tr>\n",
       "    <tr>\n",
       "      <th>one_Caseevery_X_ppl</th>\n",
       "      <td>0.156262</td>\n",
       "      <td>-0.096944</td>\n",
       "      <td>0.292570</td>\n",
       "      <td>-0.056250</td>\n",
       "      <td>0.001624</td>\n",
       "      <td>-0.014383</td>\n",
       "      <td>-0.014033</td>\n",
       "      <td>-0.014293</td>\n",
       "      <td>-0.014162</td>\n",
       "      <td>-0.014248</td>\n",
       "      <td>-0.013969</td>\n",
       "      <td>1.000000</td>\n",
       "      <td>0.823879</td>\n",
       "      <td>0.020955</td>\n",
       "      <td>-0.096835</td>\n",
       "      <td>-0.014122</td>\n",
       "      <td>-0.056249</td>\n",
       "      <td>-0.097627</td>\n",
       "    </tr>\n",
       "    <tr>\n",
       "      <th>one_Deathevery_X_ppl</th>\n",
       "      <td>0.266809</td>\n",
       "      <td>-0.219495</td>\n",
       "      <td>0.204217</td>\n",
       "      <td>-0.124114</td>\n",
       "      <td>0.007971</td>\n",
       "      <td>-0.034458</td>\n",
       "      <td>-0.033062</td>\n",
       "      <td>-0.034474</td>\n",
       "      <td>-0.033752</td>\n",
       "      <td>-0.033978</td>\n",
       "      <td>-0.033384</td>\n",
       "      <td>0.823879</td>\n",
       "      <td>1.000000</td>\n",
       "      <td>0.166382</td>\n",
       "      <td>-0.228592</td>\n",
       "      <td>-0.034169</td>\n",
       "      <td>-0.124114</td>\n",
       "      <td>-0.221132</td>\n",
       "    </tr>\n",
       "    <tr>\n",
       "      <th>one_Testevery_X_ppl</th>\n",
       "      <td>0.258861</td>\n",
       "      <td>-0.350583</td>\n",
       "      <td>0.253462</td>\n",
       "      <td>-0.213564</td>\n",
       "      <td>0.004536</td>\n",
       "      <td>-0.053776</td>\n",
       "      <td>-0.052742</td>\n",
       "      <td>-0.052212</td>\n",
       "      <td>-0.052515</td>\n",
       "      <td>-0.053739</td>\n",
       "      <td>-0.050301</td>\n",
       "      <td>0.020955</td>\n",
       "      <td>0.166382</td>\n",
       "      <td>1.000000</td>\n",
       "      <td>-0.326770</td>\n",
       "      <td>-0.048628</td>\n",
       "      <td>-0.213564</td>\n",
       "      <td>-0.353181</td>\n",
       "    </tr>\n",
       "    <tr>\n",
       "      <th>Deaths_1M_pop</th>\n",
       "      <td>-0.408583</td>\n",
       "      <td>0.478998</td>\n",
       "      <td>-0.045680</td>\n",
       "      <td>0.231482</td>\n",
       "      <td>0.046527</td>\n",
       "      <td>0.003883</td>\n",
       "      <td>-0.021617</td>\n",
       "      <td>0.018662</td>\n",
       "      <td>-0.012106</td>\n",
       "      <td>-0.006575</td>\n",
       "      <td>-0.005440</td>\n",
       "      <td>-0.096835</td>\n",
       "      <td>-0.228592</td>\n",
       "      <td>-0.326770</td>\n",
       "      <td>1.000000</td>\n",
       "      <td>0.009835</td>\n",
       "      <td>0.231482</td>\n",
       "      <td>0.479259</td>\n",
       "    </tr>\n",
       "    <tr>\n",
       "      <th>Serious_Critical</th>\n",
       "      <td>-0.222881</td>\n",
       "      <td>-0.096048</td>\n",
       "      <td>-0.005283</td>\n",
       "      <td>-0.064014</td>\n",
       "      <td>0.046682</td>\n",
       "      <td>0.982355</td>\n",
       "      <td>0.944284</td>\n",
       "      <td>0.988703</td>\n",
       "      <td>0.956307</td>\n",
       "      <td>0.959501</td>\n",
       "      <td>0.977897</td>\n",
       "      <td>-0.014122</td>\n",
       "      <td>-0.034169</td>\n",
       "      <td>-0.048628</td>\n",
       "      <td>0.009835</td>\n",
       "      <td>1.000000</td>\n",
       "      <td>-0.064014</td>\n",
       "      <td>-0.055901</td>\n",
       "    </tr>\n",
       "    <tr>\n",
       "      <th>Tests_1M_Pop</th>\n",
       "      <td>-0.105619</td>\n",
       "      <td>0.566306</td>\n",
       "      <td>-0.220505</td>\n",
       "      <td>1.000000</td>\n",
       "      <td>-0.035681</td>\n",
       "      <td>-0.042892</td>\n",
       "      <td>-0.038346</td>\n",
       "      <td>-0.051934</td>\n",
       "      <td>-0.057527</td>\n",
       "      <td>-0.026817</td>\n",
       "      <td>-0.047519</td>\n",
       "      <td>-0.056249</td>\n",
       "      <td>-0.124114</td>\n",
       "      <td>-0.213564</td>\n",
       "      <td>0.231482</td>\n",
       "      <td>-0.064014</td>\n",
       "      <td>1.000000</td>\n",
       "      <td>0.565791</td>\n",
       "    </tr>\n",
       "    <tr>\n",
       "      <th>TotCases_1M_Pop</th>\n",
       "      <td>-0.212293</td>\n",
       "      <td>0.999153</td>\n",
       "      <td>-0.350394</td>\n",
       "      <td>0.565791</td>\n",
       "      <td>-0.124493</td>\n",
       "      <td>-0.027051</td>\n",
       "      <td>-0.016146</td>\n",
       "      <td>-0.045648</td>\n",
       "      <td>-0.037473</td>\n",
       "      <td>-0.004938</td>\n",
       "      <td>-0.023919</td>\n",
       "      <td>-0.097627</td>\n",
       "      <td>-0.221132</td>\n",
       "      <td>-0.353181</td>\n",
       "      <td>0.479259</td>\n",
       "      <td>-0.055901</td>\n",
       "      <td>0.565791</td>\n",
       "      <td>1.000000</td>\n",
       "    </tr>\n",
       "  </tbody>\n",
       "</table>\n",
       "</div>"
      ],
      "text/plain": [
       "                          rank  Infection_Risk  Case_Fatality_Rate  \\\n",
       "rank                  1.000000       -0.204974            0.157186   \n",
       "Infection_Risk       -0.204974        1.000000           -0.348594   \n",
       "Case_Fatality_Rate    0.157186       -0.348594            1.000000   \n",
       "Test_Percentage      -0.105620        0.566306           -0.220505   \n",
       "Recovery_Proporation -0.235795       -0.125528           -0.002086   \n",
       "TotalCases           -0.228804       -0.067695           -0.027747   \n",
       "NewCases             -0.224668       -0.055756           -0.037576   \n",
       "TotalDeaths          -0.226811       -0.086145           -0.013442   \n",
       "NewDeaths            -0.223722       -0.077264           -0.027426   \n",
       "NewRecovered         -0.226671       -0.045151           -0.035288   \n",
       "ActiveCases          -0.220703       -0.064522           -0.029993   \n",
       "one_Caseevery_X_ppl   0.156262       -0.096944            0.292570   \n",
       "one_Deathevery_X_ppl  0.266809       -0.219495            0.204217   \n",
       "one_Testevery_X_ppl   0.258861       -0.350583            0.253462   \n",
       "Deaths_1M_pop        -0.408583        0.478998           -0.045680   \n",
       "Serious_Critical     -0.222881       -0.096048           -0.005283   \n",
       "Tests_1M_Pop         -0.105619        0.566306           -0.220505   \n",
       "TotCases_1M_Pop      -0.212293        0.999153           -0.350394   \n",
       "\n",
       "                      Test_Percentage  Recovery_Proporation  TotalCases  \\\n",
       "rank                        -0.105620             -0.235795   -0.228804   \n",
       "Infection_Risk               0.566306             -0.125528   -0.067695   \n",
       "Case_Fatality_Rate          -0.220505             -0.002086   -0.027747   \n",
       "Test_Percentage              1.000000             -0.035680   -0.042892   \n",
       "Recovery_Proporation        -0.035680              1.000000    0.050917   \n",
       "TotalCases                  -0.042892              0.050917    1.000000   \n",
       "NewCases                    -0.038346              0.045318    0.961660   \n",
       "TotalDeaths                 -0.051934              0.049876    0.997159   \n",
       "NewDeaths                   -0.057527              0.047653    0.966566   \n",
       "NewRecovered                -0.026817              0.048776    0.975641   \n",
       "ActiveCases                 -0.047519              0.042802    0.993716   \n",
       "one_Caseevery_X_ppl         -0.056250              0.001624   -0.014383   \n",
       "one_Deathevery_X_ppl        -0.124114              0.007971   -0.034458   \n",
       "one_Testevery_X_ppl         -0.213564              0.004536   -0.053776   \n",
       "Deaths_1M_pop                0.231482              0.046527    0.003883   \n",
       "Serious_Critical            -0.064014              0.046682    0.982355   \n",
       "Tests_1M_Pop                 1.000000             -0.035681   -0.042892   \n",
       "TotCases_1M_Pop              0.565791             -0.124493   -0.027051   \n",
       "\n",
       "                      NewCases  TotalDeaths  NewDeaths  NewRecovered  \\\n",
       "rank                 -0.224668    -0.226811  -0.223722     -0.226671   \n",
       "Infection_Risk       -0.055756    -0.086145  -0.077264     -0.045151   \n",
       "Case_Fatality_Rate   -0.037576    -0.013442  -0.027426     -0.035288   \n",
       "Test_Percentage      -0.038346    -0.051934  -0.057527     -0.026817   \n",
       "Recovery_Proporation  0.045318     0.049876   0.047653      0.048776   \n",
       "TotalCases            0.961660     0.997159   0.966566      0.975641   \n",
       "NewCases              1.000000     0.953685   0.984970      0.986819   \n",
       "TotalDeaths           0.953685     1.000000   0.963725      0.968518   \n",
       "NewDeaths             0.984970     0.963725   1.000000      0.981802   \n",
       "NewRecovered          0.986819     0.968518   0.981802      1.000000   \n",
       "ActiveCases           0.970783     0.987612   0.970761      0.978413   \n",
       "one_Caseevery_X_ppl  -0.014033    -0.014293  -0.014162     -0.014248   \n",
       "one_Deathevery_X_ppl -0.033062    -0.034474  -0.033752     -0.033978   \n",
       "one_Testevery_X_ppl  -0.052742    -0.052212  -0.052515     -0.053739   \n",
       "Deaths_1M_pop        -0.021617     0.018662  -0.012106     -0.006575   \n",
       "Serious_Critical      0.944284     0.988703   0.956307      0.959501   \n",
       "Tests_1M_Pop         -0.038346    -0.051934  -0.057527     -0.026817   \n",
       "TotCases_1M_Pop      -0.016146    -0.045648  -0.037473     -0.004938   \n",
       "\n",
       "                      ActiveCases  one_Caseevery_X_ppl  one_Deathevery_X_ppl  \\\n",
       "rank                    -0.220703             0.156262              0.266809   \n",
       "Infection_Risk          -0.064522            -0.096944             -0.219495   \n",
       "Case_Fatality_Rate      -0.029993             0.292570              0.204217   \n",
       "Test_Percentage         -0.047519            -0.056250             -0.124114   \n",
       "Recovery_Proporation     0.042802             0.001624              0.007971   \n",
       "TotalCases               0.993716            -0.014383             -0.034458   \n",
       "NewCases                 0.970783            -0.014033             -0.033062   \n",
       "TotalDeaths              0.987612            -0.014293             -0.034474   \n",
       "NewDeaths                0.970761            -0.014162             -0.033752   \n",
       "NewRecovered             0.978413            -0.014248             -0.033978   \n",
       "ActiveCases              1.000000            -0.013969             -0.033384   \n",
       "one_Caseevery_X_ppl     -0.013969             1.000000              0.823879   \n",
       "one_Deathevery_X_ppl    -0.033384             0.823879              1.000000   \n",
       "one_Testevery_X_ppl     -0.050301             0.020955              0.166382   \n",
       "Deaths_1M_pop           -0.005440            -0.096835             -0.228592   \n",
       "Serious_Critical         0.977897            -0.014122             -0.034169   \n",
       "Tests_1M_Pop            -0.047519            -0.056249             -0.124114   \n",
       "TotCases_1M_Pop         -0.023919            -0.097627             -0.221132   \n",
       "\n",
       "                      one_Testevery_X_ppl  Deaths_1M_pop  Serious_Critical  \\\n",
       "rank                             0.258861      -0.408583         -0.222881   \n",
       "Infection_Risk                  -0.350583       0.478998         -0.096048   \n",
       "Case_Fatality_Rate               0.253462      -0.045680         -0.005283   \n",
       "Test_Percentage                 -0.213564       0.231482         -0.064014   \n",
       "Recovery_Proporation             0.004536       0.046527          0.046682   \n",
       "TotalCases                      -0.053776       0.003883          0.982355   \n",
       "NewCases                        -0.052742      -0.021617          0.944284   \n",
       "TotalDeaths                     -0.052212       0.018662          0.988703   \n",
       "NewDeaths                       -0.052515      -0.012106          0.956307   \n",
       "NewRecovered                    -0.053739      -0.006575          0.959501   \n",
       "ActiveCases                     -0.050301      -0.005440          0.977897   \n",
       "one_Caseevery_X_ppl              0.020955      -0.096835         -0.014122   \n",
       "one_Deathevery_X_ppl             0.166382      -0.228592         -0.034169   \n",
       "one_Testevery_X_ppl              1.000000      -0.326770         -0.048628   \n",
       "Deaths_1M_pop                   -0.326770       1.000000          0.009835   \n",
       "Serious_Critical                -0.048628       0.009835          1.000000   \n",
       "Tests_1M_Pop                    -0.213564       0.231482         -0.064014   \n",
       "TotCases_1M_Pop                 -0.353181       0.479259         -0.055901   \n",
       "\n",
       "                      Tests_1M_Pop  TotCases_1M_Pop  \n",
       "rank                     -0.105619        -0.212293  \n",
       "Infection_Risk            0.566306         0.999153  \n",
       "Case_Fatality_Rate       -0.220505        -0.350394  \n",
       "Test_Percentage           1.000000         0.565791  \n",
       "Recovery_Proporation     -0.035681        -0.124493  \n",
       "TotalCases               -0.042892        -0.027051  \n",
       "NewCases                 -0.038346        -0.016146  \n",
       "TotalDeaths              -0.051934        -0.045648  \n",
       "NewDeaths                -0.057527        -0.037473  \n",
       "NewRecovered             -0.026817        -0.004938  \n",
       "ActiveCases              -0.047519        -0.023919  \n",
       "one_Caseevery_X_ppl      -0.056249        -0.097627  \n",
       "one_Deathevery_X_ppl     -0.124114        -0.221132  \n",
       "one_Testevery_X_ppl      -0.213564        -0.353181  \n",
       "Deaths_1M_pop             0.231482         0.479259  \n",
       "Serious_Critical         -0.064014        -0.055901  \n",
       "Tests_1M_Pop              1.000000         0.565791  \n",
       "TotCases_1M_Pop           0.565791         1.000000  "
      ]
     },
     "metadata": {},
     "output_type": "display_data"
    },
    {
     "name": "stdout",
     "output_type": "stream",
     "text": [
      "<class 'pandas.core.frame.DataFrame'>\n",
      "RangeIndex: 222 entries, 0 to 221\n",
      "Data columns (total 26 columns):\n",
      " #   Column                Non-Null Count  Dtype  \n",
      "---  ------                --------------  -----  \n",
      " 0   id                    222 non-null    object \n",
      " 1   rank                  222 non-null    int64  \n",
      " 2   Country               222 non-null    object \n",
      " 3   Continent             222 non-null    object \n",
      " 4   TwoLetterSymbol       220 non-null    object \n",
      " 5   ThreeLetterSymbol     220 non-null    object \n",
      " 6   Infection_Risk        222 non-null    float64\n",
      " 7   Case_Fatality_Rate    222 non-null    float64\n",
      " 8   Test_Percentage       222 non-null    float64\n",
      " 9   Recovery_Proporation  222 non-null    float64\n",
      " 10  TotalCases            222 non-null    int64  \n",
      " 11  NewCases              222 non-null    int64  \n",
      " 12  TotalDeaths           222 non-null    int64  \n",
      " 13  NewDeaths             222 non-null    int64  \n",
      " 14  TotalRecovered        222 non-null    object \n",
      " 15  NewRecovered          222 non-null    int64  \n",
      " 16  ActiveCases           222 non-null    int64  \n",
      " 17  TotalTests            222 non-null    object \n",
      " 18  Population            222 non-null    object \n",
      " 19  one_Caseevery_X_ppl   222 non-null    int64  \n",
      " 20  one_Deathevery_X_ppl  222 non-null    int64  \n",
      " 21  one_Testevery_X_ppl   222 non-null    int64  \n",
      " 22  Deaths_1M_pop         222 non-null    int64  \n",
      " 23  Serious_Critical      222 non-null    int64  \n",
      " 24  Tests_1M_Pop          222 non-null    int64  \n",
      " 25  TotCases_1M_Pop       222 non-null    float64\n",
      "dtypes: float64(5), int64(13), object(8)\n",
      "memory usage: 45.2+ KB\n"
     ]
    },
    {
     "data": {
      "text/plain": [
       "None"
      ]
     },
     "metadata": {},
     "output_type": "display_data"
    },
    {
     "data": {
      "text/plain": [
       "id                      0\n",
       "rank                    0\n",
       "Country                 0\n",
       "Continent               0\n",
       "TwoLetterSymbol         2\n",
       "ThreeLetterSymbol       2\n",
       "Infection_Risk          0\n",
       "Case_Fatality_Rate      0\n",
       "Test_Percentage         0\n",
       "Recovery_Proporation    0\n",
       "TotalCases              0\n",
       "NewCases                0\n",
       "TotalDeaths             0\n",
       "NewDeaths               0\n",
       "TotalRecovered          0\n",
       "NewRecovered            0\n",
       "ActiveCases             0\n",
       "TotalTests              0\n",
       "Population              0\n",
       "one_Caseevery_X_ppl     0\n",
       "one_Deathevery_X_ppl    0\n",
       "one_Testevery_X_ppl     0\n",
       "Deaths_1M_pop           0\n",
       "Serious_Critical        0\n",
       "Tests_1M_Pop            0\n",
       "TotCases_1M_Pop         0\n",
       "dtype: int64"
      ]
     },
     "metadata": {},
     "output_type": "display_data"
    }
   ],
   "source": [
    "display(covid_df.describe())\n",
    "display(covid_df.corr())\n",
    "display(covid_df.info())\n",
    "display(covid_df.isnull().sum())"
   ]
  },
  {
   "cell_type": "markdown",
   "metadata": {},
   "source": [
    "Showing descriptive statistics, correlation, and information about the dataset that holds the current cases, deaths, and testing data on COVID-19 in each country. It also includes the first 2 rows that both show total amount of cases, deaths, and testing globally. Only TwoLetterSymbol and TwoLetterSymbol have missing data that is also found on those same rows after analyzing it. Those are not needed so it should be removed. Besides that, no duplicated date found in this dataset. I noticed that some test percentage values are above 100%. From what I could tell, people tend to get tested more than once for specific reasons that include going to events or travel to places."
   ]
  },
  {
   "cell_type": "code",
   "execution_count": 56,
   "metadata": {},
   "outputs": [
    {
     "data": {
      "text/plain": [
       "id                      0\n",
       "rank                    0\n",
       "Country                 0\n",
       "Continent               0\n",
       "TwoLetterSymbol         0\n",
       "ThreeLetterSymbol       0\n",
       "Infection_Risk          0\n",
       "Case_Fatality_Rate      0\n",
       "Test_Percentage         0\n",
       "Recovery_Proporation    0\n",
       "TotalCases              0\n",
       "NewCases                0\n",
       "TotalDeaths             0\n",
       "NewDeaths               0\n",
       "TotalRecovered          0\n",
       "NewRecovered            0\n",
       "ActiveCases             0\n",
       "TotalTests              0\n",
       "Population              0\n",
       "one_Caseevery_X_ppl     0\n",
       "one_Deathevery_X_ppl    0\n",
       "one_Testevery_X_ppl     0\n",
       "Deaths_1M_pop           0\n",
       "Serious_Critical        0\n",
       "Tests_1M_Pop            0\n",
       "TotCases_1M_Pop         0\n",
       "dtype: int64"
      ]
     },
     "metadata": {},
     "output_type": "display_data"
    }
   ],
   "source": [
    "covid_df.dropna(inplace=True)\n",
    "display(covid_df.isnull().sum())"
   ]
  },
  {
   "cell_type": "markdown",
   "metadata": {},
   "source": [
    "Removed rows that have missing data."
   ]
  },
  {
   "cell_type": "code",
   "execution_count": 57,
   "metadata": {},
   "outputs": [
    {
     "data": {
      "application/vnd.plotly.v1+json": {
       "config": {
        "plotlyServerURL": "https://plot.ly"
       },
       "data": [
        {
         "alignmentgroup": "True",
         "hovertemplate": "Country=%{x}<br>Infection Risk (%)=%{y}<extra></extra>",
         "legendgroup": "",
         "marker": {
          "color": "#636efa",
          "pattern": {
           "shape": ""
          }
         },
         "name": "",
         "offsetgroup": "",
         "orientation": "v",
         "showlegend": false,
         "textposition": "auto",
         "type": "bar",
         "x": [
          "Mauritius",
          "USA",
          "Zambia",
          "Ireland",
          "Ecuador",
          "Antigua and Barbuda",
          "Netherlands",
          "Lesotho",
          "Vatican City",
          "Rwanda",
          "Macao",
          "Switzerland",
          "Mongolia",
          "Réunion",
          "Botswana",
          "Djibouti",
          "Bulgaria",
          "Croatia",
          "Pakistan",
          "Czechia"
         ],
         "xaxis": "x",
         "y": [
          3.18,
          29.49,
          1.71,
          32.95,
          5.52,
          9.13,
          49.22,
          1.58,
          3.6,
          0.97,
          0.12,
          47.1,
          28.95,
          51.99,
          13.27,
          1.54,
          18.59,
          30.68,
          0.68,
          38.5
         ],
         "yaxis": "y"
        }
       ],
       "layout": {
        "barmode": "relative",
        "legend": {
         "tracegroupgap": 0
        },
        "template": {
         "data": {
          "bar": [
           {
            "error_x": {
             "color": "#2a3f5f"
            },
            "error_y": {
             "color": "#2a3f5f"
            },
            "marker": {
             "line": {
              "color": "#E5ECF6",
              "width": 0.5
             },
             "pattern": {
              "fillmode": "overlay",
              "size": 10,
              "solidity": 0.2
             }
            },
            "type": "bar"
           }
          ],
          "barpolar": [
           {
            "marker": {
             "line": {
              "color": "#E5ECF6",
              "width": 0.5
             },
             "pattern": {
              "fillmode": "overlay",
              "size": 10,
              "solidity": 0.2
             }
            },
            "type": "barpolar"
           }
          ],
          "carpet": [
           {
            "aaxis": {
             "endlinecolor": "#2a3f5f",
             "gridcolor": "white",
             "linecolor": "white",
             "minorgridcolor": "white",
             "startlinecolor": "#2a3f5f"
            },
            "baxis": {
             "endlinecolor": "#2a3f5f",
             "gridcolor": "white",
             "linecolor": "white",
             "minorgridcolor": "white",
             "startlinecolor": "#2a3f5f"
            },
            "type": "carpet"
           }
          ],
          "choropleth": [
           {
            "colorbar": {
             "outlinewidth": 0,
             "ticks": ""
            },
            "type": "choropleth"
           }
          ],
          "contour": [
           {
            "colorbar": {
             "outlinewidth": 0,
             "ticks": ""
            },
            "colorscale": [
             [
              0,
              "#0d0887"
             ],
             [
              0.1111111111111111,
              "#46039f"
             ],
             [
              0.2222222222222222,
              "#7201a8"
             ],
             [
              0.3333333333333333,
              "#9c179e"
             ],
             [
              0.4444444444444444,
              "#bd3786"
             ],
             [
              0.5555555555555556,
              "#d8576b"
             ],
             [
              0.6666666666666666,
              "#ed7953"
             ],
             [
              0.7777777777777778,
              "#fb9f3a"
             ],
             [
              0.8888888888888888,
              "#fdca26"
             ],
             [
              1,
              "#f0f921"
             ]
            ],
            "type": "contour"
           }
          ],
          "contourcarpet": [
           {
            "colorbar": {
             "outlinewidth": 0,
             "ticks": ""
            },
            "type": "contourcarpet"
           }
          ],
          "heatmap": [
           {
            "colorbar": {
             "outlinewidth": 0,
             "ticks": ""
            },
            "colorscale": [
             [
              0,
              "#0d0887"
             ],
             [
              0.1111111111111111,
              "#46039f"
             ],
             [
              0.2222222222222222,
              "#7201a8"
             ],
             [
              0.3333333333333333,
              "#9c179e"
             ],
             [
              0.4444444444444444,
              "#bd3786"
             ],
             [
              0.5555555555555556,
              "#d8576b"
             ],
             [
              0.6666666666666666,
              "#ed7953"
             ],
             [
              0.7777777777777778,
              "#fb9f3a"
             ],
             [
              0.8888888888888888,
              "#fdca26"
             ],
             [
              1,
              "#f0f921"
             ]
            ],
            "type": "heatmap"
           }
          ],
          "heatmapgl": [
           {
            "colorbar": {
             "outlinewidth": 0,
             "ticks": ""
            },
            "colorscale": [
             [
              0,
              "#0d0887"
             ],
             [
              0.1111111111111111,
              "#46039f"
             ],
             [
              0.2222222222222222,
              "#7201a8"
             ],
             [
              0.3333333333333333,
              "#9c179e"
             ],
             [
              0.4444444444444444,
              "#bd3786"
             ],
             [
              0.5555555555555556,
              "#d8576b"
             ],
             [
              0.6666666666666666,
              "#ed7953"
             ],
             [
              0.7777777777777778,
              "#fb9f3a"
             ],
             [
              0.8888888888888888,
              "#fdca26"
             ],
             [
              1,
              "#f0f921"
             ]
            ],
            "type": "heatmapgl"
           }
          ],
          "histogram": [
           {
            "marker": {
             "pattern": {
              "fillmode": "overlay",
              "size": 10,
              "solidity": 0.2
             }
            },
            "type": "histogram"
           }
          ],
          "histogram2d": [
           {
            "colorbar": {
             "outlinewidth": 0,
             "ticks": ""
            },
            "colorscale": [
             [
              0,
              "#0d0887"
             ],
             [
              0.1111111111111111,
              "#46039f"
             ],
             [
              0.2222222222222222,
              "#7201a8"
             ],
             [
              0.3333333333333333,
              "#9c179e"
             ],
             [
              0.4444444444444444,
              "#bd3786"
             ],
             [
              0.5555555555555556,
              "#d8576b"
             ],
             [
              0.6666666666666666,
              "#ed7953"
             ],
             [
              0.7777777777777778,
              "#fb9f3a"
             ],
             [
              0.8888888888888888,
              "#fdca26"
             ],
             [
              1,
              "#f0f921"
             ]
            ],
            "type": "histogram2d"
           }
          ],
          "histogram2dcontour": [
           {
            "colorbar": {
             "outlinewidth": 0,
             "ticks": ""
            },
            "colorscale": [
             [
              0,
              "#0d0887"
             ],
             [
              0.1111111111111111,
              "#46039f"
             ],
             [
              0.2222222222222222,
              "#7201a8"
             ],
             [
              0.3333333333333333,
              "#9c179e"
             ],
             [
              0.4444444444444444,
              "#bd3786"
             ],
             [
              0.5555555555555556,
              "#d8576b"
             ],
             [
              0.6666666666666666,
              "#ed7953"
             ],
             [
              0.7777777777777778,
              "#fb9f3a"
             ],
             [
              0.8888888888888888,
              "#fdca26"
             ],
             [
              1,
              "#f0f921"
             ]
            ],
            "type": "histogram2dcontour"
           }
          ],
          "mesh3d": [
           {
            "colorbar": {
             "outlinewidth": 0,
             "ticks": ""
            },
            "type": "mesh3d"
           }
          ],
          "parcoords": [
           {
            "line": {
             "colorbar": {
              "outlinewidth": 0,
              "ticks": ""
             }
            },
            "type": "parcoords"
           }
          ],
          "pie": [
           {
            "automargin": true,
            "type": "pie"
           }
          ],
          "scatter": [
           {
            "fillpattern": {
             "fillmode": "overlay",
             "size": 10,
             "solidity": 0.2
            },
            "type": "scatter"
           }
          ],
          "scatter3d": [
           {
            "line": {
             "colorbar": {
              "outlinewidth": 0,
              "ticks": ""
             }
            },
            "marker": {
             "colorbar": {
              "outlinewidth": 0,
              "ticks": ""
             }
            },
            "type": "scatter3d"
           }
          ],
          "scattercarpet": [
           {
            "marker": {
             "colorbar": {
              "outlinewidth": 0,
              "ticks": ""
             }
            },
            "type": "scattercarpet"
           }
          ],
          "scattergeo": [
           {
            "marker": {
             "colorbar": {
              "outlinewidth": 0,
              "ticks": ""
             }
            },
            "type": "scattergeo"
           }
          ],
          "scattergl": [
           {
            "marker": {
             "colorbar": {
              "outlinewidth": 0,
              "ticks": ""
             }
            },
            "type": "scattergl"
           }
          ],
          "scattermapbox": [
           {
            "marker": {
             "colorbar": {
              "outlinewidth": 0,
              "ticks": ""
             }
            },
            "type": "scattermapbox"
           }
          ],
          "scatterpolar": [
           {
            "marker": {
             "colorbar": {
              "outlinewidth": 0,
              "ticks": ""
             }
            },
            "type": "scatterpolar"
           }
          ],
          "scatterpolargl": [
           {
            "marker": {
             "colorbar": {
              "outlinewidth": 0,
              "ticks": ""
             }
            },
            "type": "scatterpolargl"
           }
          ],
          "scatterternary": [
           {
            "marker": {
             "colorbar": {
              "outlinewidth": 0,
              "ticks": ""
             }
            },
            "type": "scatterternary"
           }
          ],
          "surface": [
           {
            "colorbar": {
             "outlinewidth": 0,
             "ticks": ""
            },
            "colorscale": [
             [
              0,
              "#0d0887"
             ],
             [
              0.1111111111111111,
              "#46039f"
             ],
             [
              0.2222222222222222,
              "#7201a8"
             ],
             [
              0.3333333333333333,
              "#9c179e"
             ],
             [
              0.4444444444444444,
              "#bd3786"
             ],
             [
              0.5555555555555556,
              "#d8576b"
             ],
             [
              0.6666666666666666,
              "#ed7953"
             ],
             [
              0.7777777777777778,
              "#fb9f3a"
             ],
             [
              0.8888888888888888,
              "#fdca26"
             ],
             [
              1,
              "#f0f921"
             ]
            ],
            "type": "surface"
           }
          ],
          "table": [
           {
            "cells": {
             "fill": {
              "color": "#EBF0F8"
             },
             "line": {
              "color": "white"
             }
            },
            "header": {
             "fill": {
              "color": "#C8D4E3"
             },
             "line": {
              "color": "white"
             }
            },
            "type": "table"
           }
          ]
         },
         "layout": {
          "annotationdefaults": {
           "arrowcolor": "#2a3f5f",
           "arrowhead": 0,
           "arrowwidth": 1
          },
          "autotypenumbers": "strict",
          "coloraxis": {
           "colorbar": {
            "outlinewidth": 0,
            "ticks": ""
           }
          },
          "colorscale": {
           "diverging": [
            [
             0,
             "#8e0152"
            ],
            [
             0.1,
             "#c51b7d"
            ],
            [
             0.2,
             "#de77ae"
            ],
            [
             0.3,
             "#f1b6da"
            ],
            [
             0.4,
             "#fde0ef"
            ],
            [
             0.5,
             "#f7f7f7"
            ],
            [
             0.6,
             "#e6f5d0"
            ],
            [
             0.7,
             "#b8e186"
            ],
            [
             0.8,
             "#7fbc41"
            ],
            [
             0.9,
             "#4d9221"
            ],
            [
             1,
             "#276419"
            ]
           ],
           "sequential": [
            [
             0,
             "#0d0887"
            ],
            [
             0.1111111111111111,
             "#46039f"
            ],
            [
             0.2222222222222222,
             "#7201a8"
            ],
            [
             0.3333333333333333,
             "#9c179e"
            ],
            [
             0.4444444444444444,
             "#bd3786"
            ],
            [
             0.5555555555555556,
             "#d8576b"
            ],
            [
             0.6666666666666666,
             "#ed7953"
            ],
            [
             0.7777777777777778,
             "#fb9f3a"
            ],
            [
             0.8888888888888888,
             "#fdca26"
            ],
            [
             1,
             "#f0f921"
            ]
           ],
           "sequentialminus": [
            [
             0,
             "#0d0887"
            ],
            [
             0.1111111111111111,
             "#46039f"
            ],
            [
             0.2222222222222222,
             "#7201a8"
            ],
            [
             0.3333333333333333,
             "#9c179e"
            ],
            [
             0.4444444444444444,
             "#bd3786"
            ],
            [
             0.5555555555555556,
             "#d8576b"
            ],
            [
             0.6666666666666666,
             "#ed7953"
            ],
            [
             0.7777777777777778,
             "#fb9f3a"
            ],
            [
             0.8888888888888888,
             "#fdca26"
            ],
            [
             1,
             "#f0f921"
            ]
           ]
          },
          "colorway": [
           "#636efa",
           "#EF553B",
           "#00cc96",
           "#ab63fa",
           "#FFA15A",
           "#19d3f3",
           "#FF6692",
           "#B6E880",
           "#FF97FF",
           "#FECB52"
          ],
          "font": {
           "color": "#2a3f5f"
          },
          "geo": {
           "bgcolor": "white",
           "lakecolor": "white",
           "landcolor": "#E5ECF6",
           "showlakes": true,
           "showland": true,
           "subunitcolor": "white"
          },
          "hoverlabel": {
           "align": "left"
          },
          "hovermode": "closest",
          "mapbox": {
           "style": "light"
          },
          "paper_bgcolor": "white",
          "plot_bgcolor": "#E5ECF6",
          "polar": {
           "angularaxis": {
            "gridcolor": "white",
            "linecolor": "white",
            "ticks": ""
           },
           "bgcolor": "#E5ECF6",
           "radialaxis": {
            "gridcolor": "white",
            "linecolor": "white",
            "ticks": ""
           }
          },
          "scene": {
           "xaxis": {
            "backgroundcolor": "#E5ECF6",
            "gridcolor": "white",
            "gridwidth": 2,
            "linecolor": "white",
            "showbackground": true,
            "ticks": "",
            "zerolinecolor": "white"
           },
           "yaxis": {
            "backgroundcolor": "#E5ECF6",
            "gridcolor": "white",
            "gridwidth": 2,
            "linecolor": "white",
            "showbackground": true,
            "ticks": "",
            "zerolinecolor": "white"
           },
           "zaxis": {
            "backgroundcolor": "#E5ECF6",
            "gridcolor": "white",
            "gridwidth": 2,
            "linecolor": "white",
            "showbackground": true,
            "ticks": "",
            "zerolinecolor": "white"
           }
          },
          "shapedefaults": {
           "line": {
            "color": "#2a3f5f"
           }
          },
          "ternary": {
           "aaxis": {
            "gridcolor": "white",
            "linecolor": "white",
            "ticks": ""
           },
           "baxis": {
            "gridcolor": "white",
            "linecolor": "white",
            "ticks": ""
           },
           "bgcolor": "#E5ECF6",
           "caxis": {
            "gridcolor": "white",
            "linecolor": "white",
            "ticks": ""
           }
          },
          "title": {
           "x": 0.05
          },
          "xaxis": {
           "automargin": true,
           "gridcolor": "white",
           "linecolor": "white",
           "ticks": "",
           "title": {
            "standoff": 15
           },
           "zerolinecolor": "white",
           "zerolinewidth": 2
          },
          "yaxis": {
           "automargin": true,
           "gridcolor": "white",
           "linecolor": "white",
           "ticks": "",
           "title": {
            "standoff": 15
           },
           "zerolinecolor": "white",
           "zerolinewidth": 2
          }
         }
        },
        "title": {
         "text": "Infection Risk by Country"
        },
        "xaxis": {
         "anchor": "y",
         "domain": [
          0,
          1
         ],
         "title": {
          "text": "Country"
         }
        },
        "yaxis": {
         "anchor": "x",
         "domain": [
          0,
          1
         ],
         "title": {
          "text": "Infection Risk (%)"
         }
        }
       }
      }
     },
     "metadata": {},
     "output_type": "display_data"
    }
   ],
   "source": [
    "px.bar(covid_df.sample(20), x='Country', y='Infection_Risk', labels={'Infection_Risk':'Infection Risk (%)'}, title='Infection Risk by Country')"
   ]
  },
  {
   "cell_type": "markdown",
   "metadata": {},
   "source": [
    "Presenting a bar chart using plotly.express to show infection risk levels from 20 random countries. These risk levels will show the chances of getting infected at these countries. Some governments take extreme measures like enforcing mandatory quarantine to contain the virus while others are struggling with their main industry like tourism. That in turn can cause decline in economic performance."
   ]
  },
  {
   "cell_type": "code",
   "execution_count": 58,
   "metadata": {},
   "outputs": [
    {
     "data": {
      "text/html": [
       "<div>\n",
       "<style scoped>\n",
       "    .dataframe tbody tr th:only-of-type {\n",
       "        vertical-align: middle;\n",
       "    }\n",
       "\n",
       "    .dataframe tbody tr th {\n",
       "        vertical-align: top;\n",
       "    }\n",
       "\n",
       "    .dataframe thead th {\n",
       "        text-align: right;\n",
       "    }\n",
       "</style>\n",
       "<table border=\"1\" class=\"dataframe\">\n",
       "  <thead>\n",
       "    <tr style=\"text-align: right;\">\n",
       "      <th></th>\n",
       "      <th>PowerCode Code</th>\n",
       "      <th>Value</th>\n",
       "      <th>Flag Codes</th>\n",
       "      <th>Flags</th>\n",
       "    </tr>\n",
       "  </thead>\n",
       "  <tbody>\n",
       "    <tr>\n",
       "      <th>count</th>\n",
       "      <td>600.0</td>\n",
       "      <td>600.000000</td>\n",
       "      <td>0.0</td>\n",
       "      <td>0.0</td>\n",
       "    </tr>\n",
       "    <tr>\n",
       "      <th>mean</th>\n",
       "      <td>0.0</td>\n",
       "      <td>3.540973</td>\n",
       "      <td>NaN</td>\n",
       "      <td>NaN</td>\n",
       "    </tr>\n",
       "    <tr>\n",
       "      <th>std</th>\n",
       "      <td>0.0</td>\n",
       "      <td>5.037589</td>\n",
       "      <td>NaN</td>\n",
       "      <td>NaN</td>\n",
       "    </tr>\n",
       "    <tr>\n",
       "      <th>min</th>\n",
       "      <td>0.0</td>\n",
       "      <td>-18.178624</td>\n",
       "      <td>NaN</td>\n",
       "      <td>NaN</td>\n",
       "    </tr>\n",
       "    <tr>\n",
       "      <th>25%</th>\n",
       "      <td>0.0</td>\n",
       "      <td>1.358089</td>\n",
       "      <td>NaN</td>\n",
       "      <td>NaN</td>\n",
       "    </tr>\n",
       "    <tr>\n",
       "      <th>50%</th>\n",
       "      <td>0.0</td>\n",
       "      <td>2.870283</td>\n",
       "      <td>NaN</td>\n",
       "      <td>NaN</td>\n",
       "    </tr>\n",
       "    <tr>\n",
       "      <th>75%</th>\n",
       "      <td>0.0</td>\n",
       "      <td>5.106996</td>\n",
       "      <td>NaN</td>\n",
       "      <td>NaN</td>\n",
       "    </tr>\n",
       "    <tr>\n",
       "      <th>max</th>\n",
       "      <td>0.0</td>\n",
       "      <td>36.365622</td>\n",
       "      <td>NaN</td>\n",
       "      <td>NaN</td>\n",
       "    </tr>\n",
       "  </tbody>\n",
       "</table>\n",
       "</div>"
      ],
      "text/plain": [
       "       PowerCode Code       Value  Flag Codes  Flags\n",
       "count           600.0  600.000000         0.0    0.0\n",
       "mean              0.0    3.540973         NaN    NaN\n",
       "std               0.0    5.037589         NaN    NaN\n",
       "min               0.0  -18.178624         NaN    NaN\n",
       "25%               0.0    1.358089         NaN    NaN\n",
       "50%               0.0    2.870283         NaN    NaN\n",
       "75%               0.0    5.106996         NaN    NaN\n",
       "max               0.0   36.365622         NaN    NaN"
      ]
     },
     "metadata": {},
     "output_type": "display_data"
    },
    {
     "name": "stderr",
     "output_type": "stream",
     "text": [
      "C:\\Users\\Kevin Zhu\\AppData\\Local\\Temp\\ipykernel_5632\\2607317412.py:2: FutureWarning:\n",
      "\n",
      "The default value of numeric_only in DataFrame.corr is deprecated. In a future version, it will default to False. Select only valid columns or specify the value of numeric_only to silence this warning.\n",
      "\n"
     ]
    },
    {
     "data": {
      "text/html": [
       "<div>\n",
       "<style scoped>\n",
       "    .dataframe tbody tr th:only-of-type {\n",
       "        vertical-align: middle;\n",
       "    }\n",
       "\n",
       "    .dataframe tbody tr th {\n",
       "        vertical-align: top;\n",
       "    }\n",
       "\n",
       "    .dataframe thead th {\n",
       "        text-align: right;\n",
       "    }\n",
       "</style>\n",
       "<table border=\"1\" class=\"dataframe\">\n",
       "  <thead>\n",
       "    <tr style=\"text-align: right;\">\n",
       "      <th></th>\n",
       "      <th>PowerCode Code</th>\n",
       "      <th>Value</th>\n",
       "      <th>Flag Codes</th>\n",
       "      <th>Flags</th>\n",
       "    </tr>\n",
       "  </thead>\n",
       "  <tbody>\n",
       "    <tr>\n",
       "      <th>PowerCode Code</th>\n",
       "      <td>NaN</td>\n",
       "      <td>NaN</td>\n",
       "      <td>NaN</td>\n",
       "      <td>NaN</td>\n",
       "    </tr>\n",
       "    <tr>\n",
       "      <th>Value</th>\n",
       "      <td>NaN</td>\n",
       "      <td>1.0</td>\n",
       "      <td>NaN</td>\n",
       "      <td>NaN</td>\n",
       "    </tr>\n",
       "    <tr>\n",
       "      <th>Flag Codes</th>\n",
       "      <td>NaN</td>\n",
       "      <td>NaN</td>\n",
       "      <td>NaN</td>\n",
       "      <td>NaN</td>\n",
       "    </tr>\n",
       "    <tr>\n",
       "      <th>Flags</th>\n",
       "      <td>NaN</td>\n",
       "      <td>NaN</td>\n",
       "      <td>NaN</td>\n",
       "      <td>NaN</td>\n",
       "    </tr>\n",
       "  </tbody>\n",
       "</table>\n",
       "</div>"
      ],
      "text/plain": [
       "                PowerCode Code  Value  Flag Codes  Flags\n",
       "PowerCode Code             NaN    NaN         NaN    NaN\n",
       "Value                      NaN    1.0         NaN    NaN\n",
       "Flag Codes                 NaN    NaN         NaN    NaN\n",
       "Flags                      NaN    NaN         NaN    NaN"
      ]
     },
     "metadata": {},
     "output_type": "display_data"
    },
    {
     "name": "stdout",
     "output_type": "stream",
     "text": [
      "<class 'pandas.core.frame.DataFrame'>\n",
      "RangeIndex: 600 entries, 0 to 599\n",
      "Data columns (total 17 columns):\n",
      " #   Column                 Non-Null Count  Dtype  \n",
      "---  ------                 --------------  -----  \n",
      " 0   LOCATION               600 non-null    object \n",
      " 1   Country                600 non-null    object \n",
      " 2   VARIABLE               600 non-null    object \n",
      " 3   Variable               600 non-null    object \n",
      " 4   FREQUENCY              600 non-null    object \n",
      " 5   Frequency              600 non-null    object \n",
      " 6   TIME                   600 non-null    object \n",
      " 7   Time                   600 non-null    object \n",
      " 8   Unit Code              600 non-null    object \n",
      " 9   Unit                   600 non-null    object \n",
      " 10  PowerCode Code         600 non-null    int64  \n",
      " 11  PowerCode              600 non-null    object \n",
      " 12  Reference Period Code  600 non-null    object \n",
      " 13  Reference Period       600 non-null    object \n",
      " 14  Value                  600 non-null    float64\n",
      " 15  Flag Codes             0 non-null      float64\n",
      " 16  Flags                  0 non-null      float64\n",
      "dtypes: float64(3), int64(1), object(13)\n",
      "memory usage: 79.8+ KB\n"
     ]
    },
    {
     "data": {
      "text/plain": [
       "None"
      ]
     },
     "metadata": {},
     "output_type": "display_data"
    }
   ],
   "source": [
    "display(gdp_growth_df.describe())\n",
    "display(gdp_growth_df.corr())\n",
    "display(gdp_growth_df.info())"
   ]
  },
  {
   "cell_type": "markdown",
   "metadata": {},
   "source": [
    "Showing descriptive statistics, correlation, and information about the dataset that holds quarterly gdp growth from each country, starting from first quarter of 2019 to the projected GDP growth in 2023. No correlations are found in this dataset due to seeing missing data on all integer columns except the value column itself. I can change either \"Time\" or \"TIME\" column to date/time data type if I'm going to use them for a graph or other visualization. \"Flag Codes\" and \"Flags\" columns are empty so they will be removed."
   ]
  },
  {
   "cell_type": "code",
   "execution_count": 59,
   "metadata": {},
   "outputs": [],
   "source": [
    "gdp_growth_df.drop(columns=['Flag Codes', 'Flags'], inplace=True)\n",
    "gdp_growth_df['TIME'] = pd.to_datetime(gdp_growth_df['TIME'])"
   ]
  },
  {
   "cell_type": "markdown",
   "metadata": {},
   "source": [
    "Removing empty \"Flag Codes\" and \"Flags\" columns and changed \"TIME\" column to datetime data type. The \"TIME\" column will be used to show the time progression of GDP growth in each country and understand its impact from COVID-19 pandemic."
   ]
  },
  {
   "cell_type": "code",
   "execution_count": 60,
   "metadata": {},
   "outputs": [
    {
     "data": {
      "application/vnd.plotly.v1+json": {
       "config": {
        "plotlyServerURL": "https://plot.ly"
       },
       "data": [
        {
         "hovertemplate": "Country=Italy<br>TIME=%{x}<br>GDP Growth (%)=%{y}<extra></extra>",
         "legendgroup": "Italy",
         "line": {
          "color": "#636efa",
          "dash": "solid"
         },
         "marker": {
          "symbol": "circle"
         },
         "mode": "lines",
         "name": "Italy",
         "orientation": "v",
         "showlegend": true,
         "type": "scatter",
         "x": [
          "2019-01-01T00:00:00",
          "2019-04-01T00:00:00",
          "2019-07-01T00:00:00",
          "2019-10-01T00:00:00",
          "2020-01-01T00:00:00",
          "2020-04-01T00:00:00",
          "2020-07-01T00:00:00",
          "2020-10-01T00:00:00",
          "2021-01-01T00:00:00",
          "2021-04-01T00:00:00",
          "2021-07-01T00:00:00",
          "2021-10-01T00:00:00",
          "2022-01-01T00:00:00",
          "2022-04-01T00:00:00",
          "2022-07-01T00:00:00",
          "2022-10-01T00:00:00",
          "2023-01-01T00:00:00",
          "2023-04-01T00:00:00",
          "2023-07-01T00:00:00",
          "2023-10-01T00:00:00"
         ],
         "xaxis": "x",
         "y": [
          1.7151344203,
          0.5073973482,
          1.1963575859,
          2.831506457,
          -0.3879281139,
          5.2707900976,
          -2.4331235807,
          1.9207374891,
          -0.0395515051,
          1.236121768,
          -0.0456118144,
          -1.9636961666,
          5.7599013646,
          5.0547737093,
          4.9343372443,
          3.6976332623,
          2.6875613683,
          2.541586342,
          2.7354772305,
          2.7336174974
         ],
         "yaxis": "y"
        },
        {
         "hovertemplate": "Country=Korea<br>TIME=%{x}<br>GDP Growth (%)=%{y}<extra></extra>",
         "legendgroup": "Korea",
         "line": {
          "color": "#EF553B",
          "dash": "solid"
         },
         "marker": {
          "symbol": "circle"
         },
         "mode": "lines",
         "name": "Korea",
         "orientation": "v",
         "showlegend": true,
         "type": "scatter",
         "x": [
          "2019-01-01T00:00:00",
          "2019-04-01T00:00:00",
          "2019-07-01T00:00:00",
          "2019-10-01T00:00:00",
          "2020-01-01T00:00:00",
          "2020-04-01T00:00:00",
          "2020-07-01T00:00:00",
          "2020-10-01T00:00:00",
          "2021-01-01T00:00:00",
          "2021-04-01T00:00:00",
          "2021-07-01T00:00:00",
          "2021-10-01T00:00:00",
          "2022-01-01T00:00:00",
          "2022-04-01T00:00:00",
          "2022-07-01T00:00:00",
          "2022-10-01T00:00:00",
          "2023-01-01T00:00:00",
          "2023-04-01T00:00:00",
          "2023-07-01T00:00:00",
          "2023-10-01T00:00:00"
         ],
         "xaxis": "x",
         "y": [
          -1.815986405,
          1.4160112932,
          -0.9798869657,
          -2.1754610257,
          -0.2898998262,
          9.2923536737,
          1.4649937101,
          -0.4065695258,
          0.4669589445,
          4.7481158448,
          4.3035084921,
          1.4610027599,
          3.3783485574,
          3.4758439123,
          2.1199300088,
          2.8264593273,
          2.35687143,
          1.7710257438,
          1.386864627,
          2.4421841489
         ],
         "yaxis": "y"
        },
        {
         "hovertemplate": "Country=Germany<br>TIME=%{x}<br>GDP Growth (%)=%{y}<extra></extra>",
         "legendgroup": "Germany",
         "line": {
          "color": "#00cc96",
          "dash": "solid"
         },
         "marker": {
          "symbol": "circle"
         },
         "mode": "lines",
         "name": "Germany",
         "orientation": "v",
         "showlegend": true,
         "type": "scatter",
         "x": [
          "2019-01-01T00:00:00",
          "2019-04-01T00:00:00",
          "2019-07-01T00:00:00",
          "2019-10-01T00:00:00",
          "2020-01-01T00:00:00",
          "2020-04-01T00:00:00",
          "2020-07-01T00:00:00",
          "2020-10-01T00:00:00",
          "2021-01-01T00:00:00",
          "2021-04-01T00:00:00",
          "2021-07-01T00:00:00",
          "2021-10-01T00:00:00",
          "2022-01-01T00:00:00",
          "2022-04-01T00:00:00",
          "2022-07-01T00:00:00",
          "2022-10-01T00:00:00",
          "2023-01-01T00:00:00",
          "2023-04-01T00:00:00",
          "2023-07-01T00:00:00",
          "2023-10-01T00:00:00"
         ],
         "xaxis": "x",
         "y": [
          0.1259690736,
          2.6830960394,
          2.3746062511,
          3.0844552959,
          1.6692470809,
          2.6235037894,
          -3.5208388174,
          1.7248609013,
          6.7406005307,
          -0.6038038087,
          9.6503010062,
          4.2292496367,
          2.493878616,
          13.0841143395,
          7.1853434869,
          4.4883680079,
          3.5986992662,
          3.0193822348,
          2.5526119713,
          2.2892023304
         ],
         "yaxis": "y"
        },
        {
         "hovertemplate": "Country=Spain<br>TIME=%{x}<br>GDP Growth (%)=%{y}<extra></extra>",
         "legendgroup": "Spain",
         "line": {
          "color": "#ab63fa",
          "dash": "solid"
         },
         "marker": {
          "symbol": "circle"
         },
         "mode": "lines",
         "name": "Spain",
         "orientation": "v",
         "showlegend": true,
         "type": "scatter",
         "x": [
          "2019-01-01T00:00:00",
          "2019-04-01T00:00:00",
          "2019-07-01T00:00:00",
          "2019-10-01T00:00:00",
          "2020-01-01T00:00:00",
          "2020-04-01T00:00:00",
          "2020-07-01T00:00:00",
          "2020-10-01T00:00:00",
          "2021-01-01T00:00:00",
          "2021-04-01T00:00:00",
          "2021-07-01T00:00:00",
          "2021-10-01T00:00:00",
          "2022-01-01T00:00:00",
          "2022-04-01T00:00:00",
          "2022-07-01T00:00:00",
          "2022-10-01T00:00:00",
          "2023-01-01T00:00:00",
          "2023-04-01T00:00:00",
          "2023-07-01T00:00:00",
          "2023-10-01T00:00:00"
         ],
         "xaxis": "x",
         "y": [
          0.2092558222,
          1.4495485205,
          0.7597970848,
          2.7682342774,
          -1.8702589842,
          2.6082368329,
          2.836328771,
          0.6742250861,
          -1.1083337184,
          1.6997532008,
          6.645154391,
          10.2991206176,
          -3.430005588,
          5.1757702759,
          6.0829606908,
          4.3165602409,
          5.0087537498,
          4.1092357677,
          3.5285200744,
          3.3514305959
         ],
         "yaxis": "y"
        },
        {
         "hovertemplate": "Country=Netherlands<br>TIME=%{x}<br>GDP Growth (%)=%{y}<extra></extra>",
         "legendgroup": "Netherlands",
         "line": {
          "color": "#FFA15A",
          "dash": "solid"
         },
         "marker": {
          "symbol": "circle"
         },
         "mode": "lines",
         "name": "Netherlands",
         "orientation": "v",
         "showlegend": true,
         "type": "scatter",
         "x": [
          "2019-01-01T00:00:00",
          "2019-04-01T00:00:00",
          "2019-07-01T00:00:00",
          "2019-10-01T00:00:00",
          "2020-01-01T00:00:00",
          "2020-04-01T00:00:00",
          "2020-07-01T00:00:00",
          "2020-10-01T00:00:00",
          "2021-01-01T00:00:00",
          "2021-04-01T00:00:00",
          "2021-07-01T00:00:00",
          "2021-10-01T00:00:00",
          "2022-01-01T00:00:00",
          "2022-04-01T00:00:00",
          "2022-07-01T00:00:00",
          "2022-10-01T00:00:00",
          "2023-01-01T00:00:00",
          "2023-04-01T00:00:00",
          "2023-07-01T00:00:00",
          "2023-10-01T00:00:00"
         ],
         "xaxis": "x",
         "y": [
          4.7657401002,
          1.8182292635,
          2.7700401984,
          2.5668856689,
          2.038818818,
          -0.2140770935,
          4.8556118257,
          4.2369610353,
          0.7039880569,
          -0.8028353542,
          7.5851544336,
          1.2427463779,
          7.7915322947,
          5.9975458947,
          2.0366874909,
          2.133623719,
          4.9289798418,
          4.0537383139,
          3.6441323238,
          3.3829598735
         ],
         "yaxis": "y"
        },
        {
         "hovertemplate": "Country=Portugal<br>TIME=%{x}<br>GDP Growth (%)=%{y}<extra></extra>",
         "legendgroup": "Portugal",
         "line": {
          "color": "#19d3f3",
          "dash": "solid"
         },
         "marker": {
          "symbol": "circle"
         },
         "mode": "lines",
         "name": "Portugal",
         "orientation": "v",
         "showlegend": true,
         "type": "scatter",
         "x": [
          "2019-01-01T00:00:00",
          "2019-04-01T00:00:00",
          "2019-07-01T00:00:00",
          "2019-10-01T00:00:00",
          "2020-01-01T00:00:00",
          "2020-04-01T00:00:00",
          "2020-07-01T00:00:00",
          "2020-10-01T00:00:00",
          "2021-01-01T00:00:00",
          "2021-04-01T00:00:00",
          "2021-07-01T00:00:00",
          "2021-10-01T00:00:00",
          "2022-01-01T00:00:00",
          "2022-04-01T00:00:00",
          "2022-07-01T00:00:00",
          "2022-10-01T00:00:00",
          "2023-01-01T00:00:00",
          "2023-04-01T00:00:00",
          "2023-07-01T00:00:00",
          "2023-10-01T00:00:00"
         ],
         "xaxis": "x",
         "y": [
          4.1465818363,
          -0.4573360804,
          2.9739529664,
          0.0623877755,
          3.7416085657,
          8.27233272,
          -6.2518277129,
          0.3136081986,
          6.4564640752,
          -3.489155485,
          0.5306477316,
          -1.141298874,
          7.4701067231,
          9.8886588589,
          2.5404890404,
          2.2954697324,
          3.6768674089,
          2.2727722146,
          1.2514925106,
          0.58083359
         ],
         "yaxis": "y"
        },
        {
         "hovertemplate": "Country=Canada<br>TIME=%{x}<br>GDP Growth (%)=%{y}<extra></extra>",
         "legendgroup": "Canada",
         "line": {
          "color": "#FF6692",
          "dash": "solid"
         },
         "marker": {
          "symbol": "circle"
         },
         "mode": "lines",
         "name": "Canada",
         "orientation": "v",
         "showlegend": true,
         "type": "scatter",
         "x": [
          "2019-01-01T00:00:00",
          "2019-04-01T00:00:00",
          "2019-07-01T00:00:00",
          "2019-10-01T00:00:00",
          "2020-01-01T00:00:00",
          "2020-04-01T00:00:00",
          "2020-07-01T00:00:00",
          "2020-10-01T00:00:00",
          "2021-01-01T00:00:00",
          "2021-04-01T00:00:00",
          "2021-07-01T00:00:00",
          "2021-10-01T00:00:00",
          "2022-01-01T00:00:00",
          "2022-04-01T00:00:00",
          "2022-07-01T00:00:00",
          "2022-10-01T00:00:00",
          "2023-01-01T00:00:00",
          "2023-04-01T00:00:00",
          "2023-07-01T00:00:00",
          "2023-10-01T00:00:00"
         ],
         "xaxis": "x",
         "y": [
          5.2849087758,
          3.7893796017,
          0.016842126,
          3.6163155666,
          -4.1876635649,
          -2.8820762969,
          9.0990940108,
          5.5088435443,
          12.7029317457,
          9.9158331169,
          5.0027500741,
          8.0948068313,
          12.2272089485,
          9.7760260878,
          4.5770265759,
          2.5656214848,
          8.0654310365,
          1.9143494187,
          1.6520190194,
          1.6235444019
         ],
         "yaxis": "y"
        },
        {
         "hovertemplate": "Country=New Zealand<br>TIME=%{x}<br>GDP Growth (%)=%{y}<extra></extra>",
         "legendgroup": "New Zealand",
         "line": {
          "color": "#B6E880",
          "dash": "solid"
         },
         "marker": {
          "symbol": "circle"
         },
         "mode": "lines",
         "name": "New Zealand",
         "orientation": "v",
         "showlegend": true,
         "type": "scatter",
         "x": [
          "2019-01-01T00:00:00",
          "2019-04-01T00:00:00",
          "2019-07-01T00:00:00",
          "2019-10-01T00:00:00",
          "2020-01-01T00:00:00",
          "2020-04-01T00:00:00",
          "2020-07-01T00:00:00",
          "2020-10-01T00:00:00",
          "2021-01-01T00:00:00",
          "2021-04-01T00:00:00",
          "2021-07-01T00:00:00",
          "2021-10-01T00:00:00",
          "2022-01-01T00:00:00",
          "2022-04-01T00:00:00",
          "2022-07-01T00:00:00",
          "2022-10-01T00:00:00",
          "2023-01-01T00:00:00",
          "2023-04-01T00:00:00",
          "2023-07-01T00:00:00",
          "2023-10-01T00:00:00"
         ],
         "xaxis": "x",
         "y": [
          4.0109615956,
          3.9930813952,
          4.3534859847,
          1.9927621386,
          5.3748458699,
          -1.7861940159,
          1.5642012465,
          -2.0780527211,
          4.0343287806,
          5.9548933734,
          7.3175445015,
          2.5285394716,
          4.7492222751,
          1.1382683417,
          1.792099094,
          2.8868598845,
          3.937550993,
          4.2676368102,
          4.2768901751,
          3.625463807
         ],
         "yaxis": "y"
        },
        {
         "hovertemplate": "Country=Estonia<br>TIME=%{x}<br>GDP Growth (%)=%{y}<extra></extra>",
         "legendgroup": "Estonia",
         "line": {
          "color": "#FF97FF",
          "dash": "solid"
         },
         "marker": {
          "symbol": "circle"
         },
         "mode": "lines",
         "name": "Estonia",
         "orientation": "v",
         "showlegend": true,
         "type": "scatter",
         "x": [
          "2019-01-01T00:00:00",
          "2019-04-01T00:00:00",
          "2019-07-01T00:00:00",
          "2019-10-01T00:00:00",
          "2020-01-01T00:00:00",
          "2020-04-01T00:00:00",
          "2020-07-01T00:00:00",
          "2020-10-01T00:00:00",
          "2021-01-01T00:00:00",
          "2021-04-01T00:00:00",
          "2021-07-01T00:00:00",
          "2021-10-01T00:00:00",
          "2022-01-01T00:00:00",
          "2022-04-01T00:00:00",
          "2022-07-01T00:00:00",
          "2022-10-01T00:00:00",
          "2023-01-01T00:00:00",
          "2023-04-01T00:00:00",
          "2023-07-01T00:00:00",
          "2023-10-01T00:00:00"
         ],
         "xaxis": "x",
         "y": [
          3.3199872874,
          2.8016537627,
          -0.5444008609,
          1.4613770997,
          -3.9454956939,
          -6.7887335283,
          10.651232012,
          1.2144448952,
          2.1950959528,
          3.9632639013,
          16.4845737595,
          15.8212038784,
          2.7676776429,
          2.388701788,
          2.0808857101,
          2.0716216884,
          4.09918589,
          3.0587141099,
          1.9758482431,
          1.9850017768
         ],
         "yaxis": "y"
        },
        {
         "hovertemplate": "Country=Ireland<br>TIME=%{x}<br>GDP Growth (%)=%{y}<extra></extra>",
         "legendgroup": "Ireland",
         "line": {
          "color": "#FECB52",
          "dash": "solid"
         },
         "marker": {
          "symbol": "circle"
         },
         "mode": "lines",
         "name": "Ireland",
         "orientation": "v",
         "showlegend": true,
         "type": "scatter",
         "x": [
          "2019-01-01T00:00:00",
          "2019-04-01T00:00:00",
          "2019-07-01T00:00:00",
          "2019-10-01T00:00:00",
          "2020-01-01T00:00:00",
          "2020-04-01T00:00:00",
          "2020-07-01T00:00:00",
          "2020-10-01T00:00:00",
          "2021-01-01T00:00:00",
          "2021-04-01T00:00:00",
          "2021-07-01T00:00:00",
          "2021-10-01T00:00:00",
          "2022-01-01T00:00:00",
          "2022-04-01T00:00:00",
          "2022-07-01T00:00:00",
          "2022-10-01T00:00:00",
          "2023-01-01T00:00:00",
          "2023-04-01T00:00:00",
          "2023-07-01T00:00:00",
          "2023-10-01T00:00:00"
         ],
         "xaxis": "x",
         "y": [
          13.8371713635,
          1.8669073861,
          3.7772929164,
          3.2135752326,
          -4.308233142,
          -6.1151317653,
          -2.5902627804,
          2.7433275047,
          -7.1459514099,
          2.4100701837,
          7.826259639,
          5.9387508415,
          2.9337834814,
          4.6890206403,
          3.8001409862,
          3.0904374099,
          3.5221282111,
          2.1326468082,
          1.8805036485,
          1.5038671366
         ],
         "yaxis": "y"
        },
        {
         "hovertemplate": "Country=Greece<br>TIME=%{x}<br>GDP Growth (%)=%{y}<extra></extra>",
         "legendgroup": "Greece",
         "line": {
          "color": "#636efa",
          "dash": "solid"
         },
         "marker": {
          "symbol": "circle"
         },
         "mode": "lines",
         "name": "Greece",
         "orientation": "v",
         "showlegend": true,
         "type": "scatter",
         "x": [
          "2019-01-01T00:00:00",
          "2019-04-01T00:00:00",
          "2019-07-01T00:00:00",
          "2019-10-01T00:00:00",
          "2020-01-01T00:00:00",
          "2020-04-01T00:00:00",
          "2020-07-01T00:00:00",
          "2020-10-01T00:00:00",
          "2021-01-01T00:00:00",
          "2021-04-01T00:00:00",
          "2021-07-01T00:00:00",
          "2021-10-01T00:00:00",
          "2022-01-01T00:00:00",
          "2022-04-01T00:00:00",
          "2022-07-01T00:00:00",
          "2022-10-01T00:00:00",
          "2023-01-01T00:00:00",
          "2023-04-01T00:00:00",
          "2023-07-01T00:00:00",
          "2023-10-01T00:00:00"
         ],
         "xaxis": "x",
         "y": [
          2.7169614248,
          -0.2952791671,
          -3.9311706382,
          -0.891373878,
          3.4114100355,
          -5.4075803853,
          3.0814726336,
          -5.4233912371,
          4.0240145284,
          7.5877026519,
          1.3114410025,
          8.9962023983,
          2.8830514642,
          10.5301450324,
          1.3696160743,
          4.287101009,
          4.9612330361,
          2.7274545831,
          2.1894552036,
          2.2000695171
         ],
         "yaxis": "y"
        },
        {
         "hovertemplate": "Country=United Kingdom<br>TIME=%{x}<br>GDP Growth (%)=%{y}<extra></extra>",
         "legendgroup": "United Kingdom",
         "line": {
          "color": "#EF553B",
          "dash": "solid"
         },
         "marker": {
          "symbol": "circle"
         },
         "mode": "lines",
         "name": "United Kingdom",
         "orientation": "v",
         "showlegend": true,
         "type": "scatter",
         "x": [
          "2019-01-01T00:00:00",
          "2019-04-01T00:00:00",
          "2019-07-01T00:00:00",
          "2019-10-01T00:00:00",
          "2020-01-01T00:00:00",
          "2020-04-01T00:00:00",
          "2020-07-01T00:00:00",
          "2020-10-01T00:00:00",
          "2021-01-01T00:00:00",
          "2021-04-01T00:00:00",
          "2021-07-01T00:00:00",
          "2021-10-01T00:00:00",
          "2022-01-01T00:00:00",
          "2022-04-01T00:00:00",
          "2022-07-01T00:00:00",
          "2022-10-01T00:00:00",
          "2023-01-01T00:00:00",
          "2023-04-01T00:00:00",
          "2023-07-01T00:00:00",
          "2023-10-01T00:00:00"
         ],
         "xaxis": "x",
         "y": [
          2.126088768,
          2.5234775032,
          3.1467985599,
          -0.0461903889,
          5.6263004819,
          35.5484314322,
          -18.1786237337,
          0.7914714476,
          5.2549980804,
          -7.3548167115,
          2.4988084954,
          6.820978311,
          7.2336759133,
          10.1432726801,
          3.7776759122,
          7.6064543395,
          2.9821492153,
          7.7961952736,
          1.5507278033,
          0.7675334185
         ],
         "yaxis": "y"
        },
        {
         "hovertemplate": "Country=Finland<br>TIME=%{x}<br>GDP Growth (%)=%{y}<extra></extra>",
         "legendgroup": "Finland",
         "line": {
          "color": "#00cc96",
          "dash": "solid"
         },
         "marker": {
          "symbol": "circle"
         },
         "mode": "lines",
         "name": "Finland",
         "orientation": "v",
         "showlegend": true,
         "type": "scatter",
         "x": [
          "2019-01-01T00:00:00",
          "2019-04-01T00:00:00",
          "2019-07-01T00:00:00",
          "2019-10-01T00:00:00",
          "2020-01-01T00:00:00",
          "2020-04-01T00:00:00",
          "2020-07-01T00:00:00",
          "2020-10-01T00:00:00",
          "2021-01-01T00:00:00",
          "2021-04-01T00:00:00",
          "2021-07-01T00:00:00",
          "2021-10-01T00:00:00",
          "2022-01-01T00:00:00",
          "2022-04-01T00:00:00",
          "2022-07-01T00:00:00",
          "2022-10-01T00:00:00",
          "2023-01-01T00:00:00",
          "2023-04-01T00:00:00",
          "2023-07-01T00:00:00",
          "2023-10-01T00:00:00"
         ],
         "xaxis": "x",
         "y": [
          -0.9274953637,
          1.4911585522,
          1.6176647888,
          2.415244546,
          3.379638725,
          1.8448289645,
          -2.5780249854,
          -0.5101893359,
          4.7580605632,
          4.2994041369,
          5.3602384334,
          5.6433083393,
          4.5297050287,
          10.1884595233,
          4.2785932744,
          3.295551103,
          1.3027965938,
          4.5679242229,
          4.1407839295,
          4.125976481
         ],
         "yaxis": "y"
        },
        {
         "hovertemplate": "Country=Sweden<br>TIME=%{x}<br>GDP Growth (%)=%{y}<extra></extra>",
         "legendgroup": "Sweden",
         "line": {
          "color": "#ab63fa",
          "dash": "solid"
         },
         "marker": {
          "symbol": "circle"
         },
         "mode": "lines",
         "name": "Sweden",
         "orientation": "v",
         "showlegend": true,
         "type": "scatter",
         "x": [
          "2019-01-01T00:00:00",
          "2019-04-01T00:00:00",
          "2019-07-01T00:00:00",
          "2019-10-01T00:00:00",
          "2020-01-01T00:00:00",
          "2020-04-01T00:00:00",
          "2020-07-01T00:00:00",
          "2020-10-01T00:00:00",
          "2021-01-01T00:00:00",
          "2021-04-01T00:00:00",
          "2021-07-01T00:00:00",
          "2021-10-01T00:00:00",
          "2022-01-01T00:00:00",
          "2022-04-01T00:00:00",
          "2022-07-01T00:00:00",
          "2022-10-01T00:00:00",
          "2023-01-01T00:00:00",
          "2023-04-01T00:00:00",
          "2023-07-01T00:00:00",
          "2023-10-01T00:00:00"
         ],
         "xaxis": "x",
         "y": [
          5.2150559913,
          1.3866295766,
          0.2687700914,
          2.3587592439,
          4.4781060692,
          4.210490294,
          -6.1742030108,
          6.4963734949,
          4.4050159561,
          1.702537041,
          3.4800429118,
          8.7176831882,
          2.6359212359,
          14.3866303379,
          1.3235073874,
          6.5287009485,
          -0.270894264,
          11.6566185828,
          -0.7768156004,
          4.5782327022
         ],
         "yaxis": "y"
        },
        {
         "hovertemplate": "Country=Austria<br>TIME=%{x}<br>GDP Growth (%)=%{y}<extra></extra>",
         "legendgroup": "Austria",
         "line": {
          "color": "#FFA15A",
          "dash": "solid"
         },
         "marker": {
          "symbol": "circle"
         },
         "mode": "lines",
         "name": "Austria",
         "orientation": "v",
         "showlegend": true,
         "type": "scatter",
         "x": [
          "2019-01-01T00:00:00",
          "2019-04-01T00:00:00",
          "2019-07-01T00:00:00",
          "2019-10-01T00:00:00",
          "2020-01-01T00:00:00",
          "2020-04-01T00:00:00",
          "2020-07-01T00:00:00",
          "2020-10-01T00:00:00",
          "2021-01-01T00:00:00",
          "2021-04-01T00:00:00",
          "2021-07-01T00:00:00",
          "2021-10-01T00:00:00",
          "2022-01-01T00:00:00",
          "2022-04-01T00:00:00",
          "2022-07-01T00:00:00",
          "2022-10-01T00:00:00",
          "2023-01-01T00:00:00",
          "2023-04-01T00:00:00",
          "2023-07-01T00:00:00",
          "2023-10-01T00:00:00"
         ],
         "xaxis": "x",
         "y": [
          0.8905597799,
          1.549700635,
          2.878386444,
          1.9138977103,
          1.0908870301,
          6.5136876047,
          -0.0111201848,
          0.2707621968,
          1.4955199959,
          2.0263445562,
          3.8895947205,
          0.5028016642,
          0.1603782788,
          10.8410466548,
          4.8389384495,
          2.621190133,
          5.0585342909,
          1.4014489113,
          0.7652816705,
          0.2608192786
         ],
         "yaxis": "y"
        },
        {
         "hovertemplate": "Country=Norway<br>TIME=%{x}<br>GDP Growth (%)=%{y}<extra></extra>",
         "legendgroup": "Norway",
         "line": {
          "color": "#19d3f3",
          "dash": "solid"
         },
         "marker": {
          "symbol": "circle"
         },
         "mode": "lines",
         "name": "Norway",
         "orientation": "v",
         "showlegend": true,
         "type": "scatter",
         "x": [
          "2019-01-01T00:00:00",
          "2019-04-01T00:00:00",
          "2019-07-01T00:00:00",
          "2019-10-01T00:00:00",
          "2020-01-01T00:00:00",
          "2020-04-01T00:00:00",
          "2020-07-01T00:00:00",
          "2020-10-01T00:00:00",
          "2021-01-01T00:00:00",
          "2021-04-01T00:00:00",
          "2021-07-01T00:00:00",
          "2021-10-01T00:00:00",
          "2022-01-01T00:00:00",
          "2022-04-01T00:00:00",
          "2022-07-01T00:00:00",
          "2022-10-01T00:00:00",
          "2023-01-01T00:00:00",
          "2023-04-01T00:00:00",
          "2023-07-01T00:00:00",
          "2023-10-01T00:00:00"
         ],
         "xaxis": "x",
         "y": [
          -6.06643766,
          -0.9531407727,
          -2.4519270014,
          1.877954295,
          -7.1817077869,
          -17.3918012475,
          11.5869884662,
          6.1622601734,
          21.4448587107,
          19.1595191314,
          36.3656220842,
          36.0544333768,
          29.3204782509,
          7.7264446401,
          2.8870214844,
          3.4833120013,
          0.6265526994,
          0.4200066013,
          -0.7880262454,
          -0.8070604296
         ],
         "yaxis": "y"
        },
        {
         "hovertemplate": "Country=Chile<br>TIME=%{x}<br>GDP Growth (%)=%{y}<extra></extra>",
         "legendgroup": "Chile",
         "line": {
          "color": "#FF6692",
          "dash": "solid"
         },
         "marker": {
          "symbol": "circle"
         },
         "mode": "lines",
         "name": "Chile",
         "orientation": "v",
         "showlegend": true,
         "type": "scatter",
         "x": [
          "2019-01-01T00:00:00",
          "2019-04-01T00:00:00",
          "2019-07-01T00:00:00",
          "2019-10-01T00:00:00",
          "2020-01-01T00:00:00",
          "2020-04-01T00:00:00",
          "2020-07-01T00:00:00",
          "2020-10-01T00:00:00",
          "2021-01-01T00:00:00",
          "2021-04-01T00:00:00",
          "2021-07-01T00:00:00",
          "2021-10-01T00:00:00",
          "2022-01-01T00:00:00",
          "2022-04-01T00:00:00",
          "2022-07-01T00:00:00",
          "2022-10-01T00:00:00",
          "2023-01-01T00:00:00",
          "2023-04-01T00:00:00",
          "2023-07-01T00:00:00",
          "2023-10-01T00:00:00"
         ],
         "xaxis": "x",
         "y": [
          2.9334295405,
          -1.0173141246,
          5.4170631311,
          9.0314484633,
          6.1499154966,
          19.7290713485,
          4.7964409158,
          11.5793020314,
          1.8525251276,
          10.0311425105,
          7.8013763036,
          4.8820285249,
          12.7855332621,
          7.6459323843,
          7.778377758,
          4.3427472821,
          4.4814221068,
          3.933304832,
          3.283060359,
          3.5222092565
         ],
         "yaxis": "y"
        },
        {
         "hovertemplate": "Country=Mexico<br>TIME=%{x}<br>GDP Growth (%)=%{y}<extra></extra>",
         "legendgroup": "Mexico",
         "line": {
          "color": "#B6E880",
          "dash": "solid"
         },
         "marker": {
          "symbol": "circle"
         },
         "mode": "lines",
         "name": "Mexico",
         "orientation": "v",
         "showlegend": true,
         "type": "scatter",
         "x": [
          "2019-01-01T00:00:00",
          "2019-04-01T00:00:00",
          "2019-07-01T00:00:00",
          "2019-10-01T00:00:00",
          "2020-01-01T00:00:00",
          "2020-04-01T00:00:00",
          "2020-07-01T00:00:00",
          "2020-10-01T00:00:00",
          "2021-01-01T00:00:00",
          "2021-04-01T00:00:00",
          "2021-07-01T00:00:00",
          "2021-10-01T00:00:00",
          "2022-01-01T00:00:00",
          "2022-04-01T00:00:00",
          "2022-07-01T00:00:00",
          "2022-10-01T00:00:00",
          "2023-01-01T00:00:00",
          "2023-04-01T00:00:00",
          "2023-07-01T00:00:00",
          "2023-10-01T00:00:00"
         ],
         "xaxis": "x",
         "y": [
          3.500414827,
          4.916042477,
          3.7943618631,
          1.2046707314,
          6.6785335182,
          -4.7985118669,
          17.748796181,
          2.0111599915,
          7.966126252,
          7.6854700559,
          9.0453411807,
          6.9197309115,
          6.8405867027,
          7.2357064341,
          5.9579852732,
          4.665187203,
          3.7134607726,
          3.5613063853,
          3.2749133851,
          3.2860399325
         ],
         "yaxis": "y"
        },
        {
         "hovertemplate": "Country=Japan<br>TIME=%{x}<br>GDP Growth (%)=%{y}<extra></extra>",
         "legendgroup": "Japan",
         "line": {
          "color": "#FF97FF",
          "dash": "solid"
         },
         "marker": {
          "symbol": "circle"
         },
         "mode": "lines",
         "name": "Japan",
         "orientation": "v",
         "showlegend": true,
         "type": "scatter",
         "x": [
          "2019-01-01T00:00:00",
          "2019-04-01T00:00:00",
          "2019-07-01T00:00:00",
          "2019-10-01T00:00:00",
          "2020-01-01T00:00:00",
          "2020-04-01T00:00:00",
          "2020-07-01T00:00:00",
          "2020-10-01T00:00:00",
          "2021-01-01T00:00:00",
          "2021-04-01T00:00:00",
          "2021-07-01T00:00:00",
          "2021-10-01T00:00:00",
          "2022-01-01T00:00:00",
          "2022-04-01T00:00:00",
          "2022-07-01T00:00:00",
          "2022-10-01T00:00:00",
          "2023-01-01T00:00:00",
          "2023-04-01T00:00:00",
          "2023-07-01T00:00:00",
          "2023-10-01T00:00:00"
         ],
         "xaxis": "x",
         "y": [
          2.0000604201,
          1.0488930762,
          -0.0985961025,
          2.8635618106,
          0.0539513423,
          2.3627163927,
          -0.2963421426,
          -1.5271580859,
          -1.1840605109,
          -0.7472061095,
          -1.0634026046,
          -2.5594361292,
          1.4250843085,
          2.0897577561,
          1.8865925743,
          1.5769050942,
          1.9579390977,
          1.5960698202,
          1.3800063085,
          1.0414743863
         ],
         "yaxis": "y"
        },
        {
         "hovertemplate": "Country=Iceland<br>TIME=%{x}<br>GDP Growth (%)=%{y}<extra></extra>",
         "legendgroup": "Iceland",
         "line": {
          "color": "#FECB52",
          "dash": "solid"
         },
         "marker": {
          "symbol": "circle"
         },
         "mode": "lines",
         "name": "Iceland",
         "orientation": "v",
         "showlegend": true,
         "type": "scatter",
         "x": [
          "2019-01-01T00:00:00",
          "2019-04-01T00:00:00",
          "2019-07-01T00:00:00",
          "2019-10-01T00:00:00",
          "2020-01-01T00:00:00",
          "2020-04-01T00:00:00",
          "2020-07-01T00:00:00",
          "2020-10-01T00:00:00",
          "2021-01-01T00:00:00",
          "2021-04-01T00:00:00",
          "2021-07-01T00:00:00",
          "2021-10-01T00:00:00",
          "2022-01-01T00:00:00",
          "2022-04-01T00:00:00",
          "2022-07-01T00:00:00",
          "2022-10-01T00:00:00",
          "2023-01-01T00:00:00",
          "2023-04-01T00:00:00",
          "2023-07-01T00:00:00",
          "2023-10-01T00:00:00"
         ],
         "xaxis": "x",
         "y": [
          -2.3326073192,
          19.3488086037,
          3.1732793588,
          -3.1838075704,
          1.4252609772,
          9.0555711744,
          6.867429636,
          -2.8204559779,
          9.3295339189,
          2.3929925979,
          15.1066822657,
          4.8823747703,
          13.8509062362,
          2.3348483863,
          1.9167328137,
          2.3055772819,
          2.8966851502,
          2.8252863091,
          2.8681791319,
          2.5537599464
         ],
         "yaxis": "y"
        },
        {
         "hovertemplate": "Country=Australia<br>TIME=%{x}<br>GDP Growth (%)=%{y}<extra></extra>",
         "legendgroup": "Australia",
         "line": {
          "color": "#636efa",
          "dash": "solid"
         },
         "marker": {
          "symbol": "circle"
         },
         "mode": "lines",
         "name": "Australia",
         "orientation": "v",
         "showlegend": true,
         "type": "scatter",
         "x": [
          "2019-01-01T00:00:00",
          "2019-04-01T00:00:00",
          "2019-07-01T00:00:00",
          "2019-10-01T00:00:00",
          "2020-01-01T00:00:00",
          "2020-04-01T00:00:00",
          "2020-07-01T00:00:00",
          "2020-10-01T00:00:00",
          "2021-01-01T00:00:00",
          "2021-04-01T00:00:00",
          "2021-07-01T00:00:00",
          "2021-10-01T00:00:00",
          "2022-01-01T00:00:00",
          "2022-04-01T00:00:00",
          "2022-07-01T00:00:00",
          "2022-10-01T00:00:00",
          "2023-01-01T00:00:00",
          "2023-04-01T00:00:00",
          "2023-07-01T00:00:00",
          "2023-10-01T00:00:00"
         ],
         "xaxis": "x",
         "y": [
          3.3780917475,
          4.0993780206,
          3.2157988471,
          -2.0499940198,
          2.0230310687,
          -2.9796898543,
          3.7185999197,
          4.2143356202,
          7.7924881445,
          9.798494124,
          4.9868846061,
          -0.3650288135,
          12.2948978172,
          3.7072947587,
          2.9167805552,
          3.2839326867,
          2.5046098445,
          2.5046741307,
          2.1019357509,
          2.1973183908
         ],
         "yaxis": "y"
        },
        {
         "hovertemplate": "Country=United States<br>TIME=%{x}<br>GDP Growth (%)=%{y}<extra></extra>",
         "legendgroup": "United States",
         "line": {
          "color": "#EF553B",
          "dash": "solid"
         },
         "marker": {
          "symbol": "circle"
         },
         "mode": "lines",
         "name": "United States",
         "orientation": "v",
         "showlegend": true,
         "type": "scatter",
         "x": [
          "2019-01-01T00:00:00",
          "2019-04-01T00:00:00",
          "2019-07-01T00:00:00",
          "2019-10-01T00:00:00",
          "2020-01-01T00:00:00",
          "2020-04-01T00:00:00",
          "2020-07-01T00:00:00",
          "2020-10-01T00:00:00",
          "2021-01-01T00:00:00",
          "2021-04-01T00:00:00",
          "2021-07-01T00:00:00",
          "2021-10-01T00:00:00",
          "2022-01-01T00:00:00",
          "2022-04-01T00:00:00",
          "2022-07-01T00:00:00",
          "2022-10-01T00:00:00",
          "2023-01-01T00:00:00",
          "2023-04-01T00:00:00",
          "2023-07-01T00:00:00",
          "2023-10-01T00:00:00"
         ],
         "xaxis": "x",
         "y": [
          1.2253198926,
          2.3090251617,
          1.3090252778,
          1.6497827193,
          1.3087345562,
          -1.7082286331,
          3.6986378792,
          1.9466385147,
          4.3084947172,
          6.2324472331,
          5.9259011331,
          7.1434975496,
          8.1427345803,
          6.585839311,
          4.2524456905,
          3.1891200082,
          4.0782391159,
          3.2808467097,
          2.4770869683,
          2.4245292241
         ],
         "yaxis": "y"
        },
        {
         "hovertemplate": "Country=Luxembourg<br>TIME=%{x}<br>GDP Growth (%)=%{y}<extra></extra>",
         "legendgroup": "Luxembourg",
         "line": {
          "color": "#00cc96",
          "dash": "solid"
         },
         "marker": {
          "symbol": "circle"
         },
         "mode": "lines",
         "name": "Luxembourg",
         "orientation": "v",
         "showlegend": true,
         "type": "scatter",
         "x": [
          "2019-01-01T00:00:00",
          "2019-04-01T00:00:00",
          "2019-07-01T00:00:00",
          "2019-10-01T00:00:00",
          "2020-01-01T00:00:00",
          "2020-04-01T00:00:00",
          "2020-07-01T00:00:00",
          "2020-10-01T00:00:00",
          "2021-01-01T00:00:00",
          "2021-04-01T00:00:00",
          "2021-07-01T00:00:00",
          "2021-10-01T00:00:00",
          "2022-01-01T00:00:00",
          "2022-04-01T00:00:00",
          "2022-07-01T00:00:00",
          "2022-10-01T00:00:00",
          "2023-01-01T00:00:00",
          "2023-04-01T00:00:00",
          "2023-07-01T00:00:00",
          "2023-10-01T00:00:00"
         ],
         "xaxis": "x",
         "y": [
          -7.1244660597,
          8.8855196248,
          3.4378413163,
          2.8081159273,
          6.9604420355,
          5.7587060497,
          -4.5555916274,
          9.3088679095,
          6.6720035441,
          7.9851172803,
          9.8864650694,
          13.727867523,
          6.9643015704,
          -1.237602524,
          0.7623567304,
          0.8373946858,
          3.4204515281,
          3.1230726775,
          1.9014957609,
          1.4162814664
         ],
         "yaxis": "y"
        },
        {
         "hovertemplate": "Country=France<br>TIME=%{x}<br>GDP Growth (%)=%{y}<extra></extra>",
         "legendgroup": "France",
         "line": {
          "color": "#ab63fa",
          "dash": "solid"
         },
         "marker": {
          "symbol": "circle"
         },
         "mode": "lines",
         "name": "France",
         "orientation": "v",
         "showlegend": true,
         "type": "scatter",
         "x": [
          "2019-01-01T00:00:00",
          "2019-04-01T00:00:00",
          "2019-07-01T00:00:00",
          "2019-10-01T00:00:00",
          "2020-01-01T00:00:00",
          "2020-04-01T00:00:00",
          "2020-07-01T00:00:00",
          "2020-10-01T00:00:00",
          "2021-01-01T00:00:00",
          "2021-04-01T00:00:00",
          "2021-07-01T00:00:00",
          "2021-10-01T00:00:00",
          "2022-01-01T00:00:00",
          "2022-04-01T00:00:00",
          "2022-07-01T00:00:00",
          "2022-10-01T00:00:00",
          "2023-01-01T00:00:00",
          "2023-04-01T00:00:00",
          "2023-07-01T00:00:00",
          "2023-10-01T00:00:00"
         ],
         "xaxis": "x",
         "y": [
          1.825820916,
          1.2583467694,
          1.0563419279,
          0.9605251173,
          5.0944031304,
          17.3809409049,
          -15.6180331872,
          5.3869732212,
          3.4120170506,
          2.8177591757,
          -0.4602649082,
          0.9121582288,
          2.2483807357,
          3.5874595822,
          4.1774556485,
          3.3030397245,
          2.7598831702,
          3.6454491306,
          2.5862904188,
          2.4194485228
         ],
         "yaxis": "y"
        },
        {
         "hovertemplate": "Country=Switzerland<br>TIME=%{x}<br>GDP Growth (%)=%{y}<extra></extra>",
         "legendgroup": "Switzerland",
         "line": {
          "color": "#FFA15A",
          "dash": "solid"
         },
         "marker": {
          "symbol": "circle"
         },
         "mode": "lines",
         "name": "Switzerland",
         "orientation": "v",
         "showlegend": true,
         "type": "scatter",
         "x": [
          "2019-01-01T00:00:00",
          "2019-04-01T00:00:00",
          "2019-07-01T00:00:00",
          "2019-10-01T00:00:00",
          "2020-01-01T00:00:00",
          "2020-04-01T00:00:00",
          "2020-07-01T00:00:00",
          "2020-10-01T00:00:00",
          "2021-01-01T00:00:00",
          "2021-04-01T00:00:00",
          "2021-07-01T00:00:00",
          "2021-10-01T00:00:00",
          "2022-01-01T00:00:00",
          "2022-04-01T00:00:00",
          "2022-07-01T00:00:00",
          "2022-10-01T00:00:00",
          "2023-01-01T00:00:00",
          "2023-04-01T00:00:00",
          "2023-07-01T00:00:00",
          "2023-10-01T00:00:00"
         ],
         "xaxis": "x",
         "y": [
          -0.9436020516,
          -1.0981044287,
          -0.8029681637,
          -0.0503360076,
          -1.1470356965,
          -0.9308408175,
          0.2353463181,
          1.1641337261,
          0.2116793752,
          4.2541099359,
          1.6696611951,
          3.0198097112,
          2.1672571244,
          2.6070059596,
          2.3190751614,
          1.6227441557,
          1.0210256913,
          1.0213785615,
          0.8975822207,
          0.9725165909
         ],
         "yaxis": "y"
        },
        {
         "hovertemplate": "Country=Israel<br>TIME=%{x}<br>GDP Growth (%)=%{y}<extra></extra>",
         "legendgroup": "Israel",
         "line": {
          "color": "#19d3f3",
          "dash": "solid"
         },
         "marker": {
          "symbol": "circle"
         },
         "mode": "lines",
         "name": "Israel",
         "orientation": "v",
         "showlegend": true,
         "type": "scatter",
         "x": [
          "2019-01-01T00:00:00",
          "2019-04-01T00:00:00",
          "2019-07-01T00:00:00",
          "2019-10-01T00:00:00",
          "2020-01-01T00:00:00",
          "2020-04-01T00:00:00",
          "2020-07-01T00:00:00",
          "2020-10-01T00:00:00",
          "2021-01-01T00:00:00",
          "2021-04-01T00:00:00",
          "2021-07-01T00:00:00",
          "2021-10-01T00:00:00",
          "2022-01-01T00:00:00",
          "2022-04-01T00:00:00",
          "2022-07-01T00:00:00",
          "2022-10-01T00:00:00",
          "2023-01-01T00:00:00",
          "2023-04-01T00:00:00",
          "2023-07-01T00:00:00",
          "2023-10-01T00:00:00"
         ],
         "xaxis": "x",
         "y": [
          1.708699613,
          0.1404969873,
          1.4354796229,
          0.4911562137,
          1.657152786,
          2.0189659747,
          -1.8546014821,
          1.0989218228,
          7.1690499121,
          0.9387671581,
          7.4567468835,
          0.3382951227,
          8.0634595314,
          -1.6450339293,
          2.0138429559,
          2.5025421912,
          3.062060836,
          2.5120616328,
          1.6842045185,
          1.7493534058
         ],
         "yaxis": "y"
        },
        {
         "hovertemplate": "Country=Slovenia<br>TIME=%{x}<br>GDP Growth (%)=%{y}<extra></extra>",
         "legendgroup": "Slovenia",
         "line": {
          "color": "#FF6692",
          "dash": "solid"
         },
         "marker": {
          "symbol": "circle"
         },
         "mode": "lines",
         "name": "Slovenia",
         "orientation": "v",
         "showlegend": true,
         "type": "scatter",
         "x": [
          "2019-01-01T00:00:00",
          "2019-04-01T00:00:00",
          "2019-07-01T00:00:00",
          "2019-10-01T00:00:00",
          "2020-01-01T00:00:00",
          "2020-04-01T00:00:00",
          "2020-07-01T00:00:00",
          "2020-10-01T00:00:00",
          "2021-01-01T00:00:00",
          "2021-04-01T00:00:00",
          "2021-07-01T00:00:00",
          "2021-10-01T00:00:00",
          "2022-01-01T00:00:00",
          "2022-04-01T00:00:00",
          "2022-07-01T00:00:00",
          "2022-10-01T00:00:00",
          "2023-01-01T00:00:00",
          "2023-04-01T00:00:00",
          "2023-07-01T00:00:00",
          "2023-10-01T00:00:00"
         ],
         "xaxis": "x",
         "y": [
          2.3388005794,
          2.8723867849,
          3.9769948216,
          2.4845421518,
          -0.6536224063,
          1.3894106915,
          -1.3092822667,
          2.8536783679,
          5.5183735382,
          1.610319587,
          1.9291579065,
          2.7869666222,
          3.173450547,
          11.8846577696,
          10.2529157103,
          5.2032608929,
          5.3640132677,
          4.8414875484,
          4.4330634741,
          4.0767436989
         ],
         "yaxis": "y"
        },
        {
         "hovertemplate": "Country=Belgium<br>TIME=%{x}<br>GDP Growth (%)=%{y}<extra></extra>",
         "legendgroup": "Belgium",
         "line": {
          "color": "#B6E880",
          "dash": "solid"
         },
         "marker": {
          "symbol": "circle"
         },
         "mode": "lines",
         "name": "Belgium",
         "orientation": "v",
         "showlegend": true,
         "type": "scatter",
         "x": [
          "2019-01-01T00:00:00",
          "2019-04-01T00:00:00",
          "2019-07-01T00:00:00",
          "2019-10-01T00:00:00",
          "2020-01-01T00:00:00",
          "2020-04-01T00:00:00",
          "2020-07-01T00:00:00",
          "2020-10-01T00:00:00",
          "2021-01-01T00:00:00",
          "2021-04-01T00:00:00",
          "2021-07-01T00:00:00",
          "2021-10-01T00:00:00",
          "2022-01-01T00:00:00",
          "2022-04-01T00:00:00",
          "2022-07-01T00:00:00",
          "2022-10-01T00:00:00",
          "2023-01-01T00:00:00",
          "2023-04-01T00:00:00",
          "2023-07-01T00:00:00",
          "2023-10-01T00:00:00"
         ],
         "xaxis": "x",
         "y": [
          0.2648616796,
          1.4982558667,
          2.901596027,
          1.7714927512,
          1.2744589013,
          -4.1993738113,
          5.8141292199,
          3.5725375591,
          4.7934699361,
          3.0553721652,
          7.2399852689,
          8.577610721,
          12.0544598183,
          4.9455611716,
          3.1701564402,
          4.0888663381,
          3.419302352,
          3.135810914,
          2.8398729849,
          1.6080800026
         ],
         "yaxis": "y"
        },
        {
         "hovertemplate": "Country=Hungary<br>TIME=%{x}<br>GDP Growth (%)=%{y}<extra></extra>",
         "legendgroup": "Hungary",
         "line": {
          "color": "#FF97FF",
          "dash": "solid"
         },
         "marker": {
          "symbol": "circle"
         },
         "mode": "lines",
         "name": "Hungary",
         "orientation": "v",
         "showlegend": true,
         "type": "scatter",
         "x": [
          "2019-01-01T00:00:00",
          "2019-04-01T00:00:00",
          "2019-07-01T00:00:00",
          "2019-10-01T00:00:00",
          "2020-01-01T00:00:00",
          "2020-04-01T00:00:00",
          "2020-07-01T00:00:00",
          "2020-10-01T00:00:00",
          "2021-01-01T00:00:00",
          "2021-04-01T00:00:00",
          "2021-07-01T00:00:00",
          "2021-10-01T00:00:00",
          "2022-01-01T00:00:00",
          "2022-04-01T00:00:00",
          "2022-07-01T00:00:00",
          "2022-10-01T00:00:00",
          "2023-01-01T00:00:00",
          "2023-04-01T00:00:00",
          "2023-07-01T00:00:00",
          "2023-10-01T00:00:00"
         ],
         "xaxis": "x",
         "y": [
          6.1808461619,
          3.7372434657,
          2.2541592662,
          4.7977785688,
          12.2457301032,
          8.4555758138,
          -1.7439016061,
          13.2680771304,
          5.4248180669,
          11.6118865479,
          -0.7910406402,
          11.6914171754,
          8.1298572604,
          8.4235471717,
          9.3226303596,
          5.6744514669,
          7.8298040241,
          6.4493786503,
          5.8085199223,
          4.9988352445
         ],
         "yaxis": "y"
        },
        {
         "hovertemplate": "Country=Colombia<br>TIME=%{x}<br>GDP Growth (%)=%{y}<extra></extra>",
         "legendgroup": "Colombia",
         "line": {
          "color": "#FECB52",
          "dash": "solid"
         },
         "marker": {
          "symbol": "circle"
         },
         "mode": "lines",
         "name": "Colombia",
         "orientation": "v",
         "showlegend": true,
         "type": "scatter",
         "x": [
          "2019-01-01T00:00:00",
          "2019-04-01T00:00:00",
          "2019-07-01T00:00:00",
          "2019-10-01T00:00:00",
          "2020-01-01T00:00:00",
          "2020-04-01T00:00:00",
          "2020-07-01T00:00:00",
          "2020-10-01T00:00:00",
          "2021-01-01T00:00:00",
          "2021-04-01T00:00:00",
          "2021-07-01T00:00:00",
          "2021-10-01T00:00:00",
          "2022-01-01T00:00:00",
          "2022-04-01T00:00:00",
          "2022-07-01T00:00:00",
          "2022-10-01T00:00:00",
          "2023-01-01T00:00:00",
          "2023-04-01T00:00:00",
          "2023-07-01T00:00:00",
          "2023-10-01T00:00:00"
         ],
         "xaxis": "x",
         "y": [
          3.06625766,
          5.1447731011,
          4.1230886154,
          7.2715144452,
          -0.1440118102,
          -11.149633149,
          6.1809798427,
          10.6960038711,
          3.1413929133,
          8.7246018063,
          10.0322503013,
          13.9894346719,
          18.4846313104,
          11.4284936429,
          7.1296646316,
          6.2718829368,
          5.5956220245,
          5.7109854611,
          5.3449128315,
          4.5297311391
         ],
         "yaxis": "y"
        }
       ],
       "layout": {
        "legend": {
         "title": {
          "text": "Country"
         },
         "tracegroupgap": 0
        },
        "template": {
         "data": {
          "bar": [
           {
            "error_x": {
             "color": "#2a3f5f"
            },
            "error_y": {
             "color": "#2a3f5f"
            },
            "marker": {
             "line": {
              "color": "#E5ECF6",
              "width": 0.5
             },
             "pattern": {
              "fillmode": "overlay",
              "size": 10,
              "solidity": 0.2
             }
            },
            "type": "bar"
           }
          ],
          "barpolar": [
           {
            "marker": {
             "line": {
              "color": "#E5ECF6",
              "width": 0.5
             },
             "pattern": {
              "fillmode": "overlay",
              "size": 10,
              "solidity": 0.2
             }
            },
            "type": "barpolar"
           }
          ],
          "carpet": [
           {
            "aaxis": {
             "endlinecolor": "#2a3f5f",
             "gridcolor": "white",
             "linecolor": "white",
             "minorgridcolor": "white",
             "startlinecolor": "#2a3f5f"
            },
            "baxis": {
             "endlinecolor": "#2a3f5f",
             "gridcolor": "white",
             "linecolor": "white",
             "minorgridcolor": "white",
             "startlinecolor": "#2a3f5f"
            },
            "type": "carpet"
           }
          ],
          "choropleth": [
           {
            "colorbar": {
             "outlinewidth": 0,
             "ticks": ""
            },
            "type": "choropleth"
           }
          ],
          "contour": [
           {
            "colorbar": {
             "outlinewidth": 0,
             "ticks": ""
            },
            "colorscale": [
             [
              0,
              "#0d0887"
             ],
             [
              0.1111111111111111,
              "#46039f"
             ],
             [
              0.2222222222222222,
              "#7201a8"
             ],
             [
              0.3333333333333333,
              "#9c179e"
             ],
             [
              0.4444444444444444,
              "#bd3786"
             ],
             [
              0.5555555555555556,
              "#d8576b"
             ],
             [
              0.6666666666666666,
              "#ed7953"
             ],
             [
              0.7777777777777778,
              "#fb9f3a"
             ],
             [
              0.8888888888888888,
              "#fdca26"
             ],
             [
              1,
              "#f0f921"
             ]
            ],
            "type": "contour"
           }
          ],
          "contourcarpet": [
           {
            "colorbar": {
             "outlinewidth": 0,
             "ticks": ""
            },
            "type": "contourcarpet"
           }
          ],
          "heatmap": [
           {
            "colorbar": {
             "outlinewidth": 0,
             "ticks": ""
            },
            "colorscale": [
             [
              0,
              "#0d0887"
             ],
             [
              0.1111111111111111,
              "#46039f"
             ],
             [
              0.2222222222222222,
              "#7201a8"
             ],
             [
              0.3333333333333333,
              "#9c179e"
             ],
             [
              0.4444444444444444,
              "#bd3786"
             ],
             [
              0.5555555555555556,
              "#d8576b"
             ],
             [
              0.6666666666666666,
              "#ed7953"
             ],
             [
              0.7777777777777778,
              "#fb9f3a"
             ],
             [
              0.8888888888888888,
              "#fdca26"
             ],
             [
              1,
              "#f0f921"
             ]
            ],
            "type": "heatmap"
           }
          ],
          "heatmapgl": [
           {
            "colorbar": {
             "outlinewidth": 0,
             "ticks": ""
            },
            "colorscale": [
             [
              0,
              "#0d0887"
             ],
             [
              0.1111111111111111,
              "#46039f"
             ],
             [
              0.2222222222222222,
              "#7201a8"
             ],
             [
              0.3333333333333333,
              "#9c179e"
             ],
             [
              0.4444444444444444,
              "#bd3786"
             ],
             [
              0.5555555555555556,
              "#d8576b"
             ],
             [
              0.6666666666666666,
              "#ed7953"
             ],
             [
              0.7777777777777778,
              "#fb9f3a"
             ],
             [
              0.8888888888888888,
              "#fdca26"
             ],
             [
              1,
              "#f0f921"
             ]
            ],
            "type": "heatmapgl"
           }
          ],
          "histogram": [
           {
            "marker": {
             "pattern": {
              "fillmode": "overlay",
              "size": 10,
              "solidity": 0.2
             }
            },
            "type": "histogram"
           }
          ],
          "histogram2d": [
           {
            "colorbar": {
             "outlinewidth": 0,
             "ticks": ""
            },
            "colorscale": [
             [
              0,
              "#0d0887"
             ],
             [
              0.1111111111111111,
              "#46039f"
             ],
             [
              0.2222222222222222,
              "#7201a8"
             ],
             [
              0.3333333333333333,
              "#9c179e"
             ],
             [
              0.4444444444444444,
              "#bd3786"
             ],
             [
              0.5555555555555556,
              "#d8576b"
             ],
             [
              0.6666666666666666,
              "#ed7953"
             ],
             [
              0.7777777777777778,
              "#fb9f3a"
             ],
             [
              0.8888888888888888,
              "#fdca26"
             ],
             [
              1,
              "#f0f921"
             ]
            ],
            "type": "histogram2d"
           }
          ],
          "histogram2dcontour": [
           {
            "colorbar": {
             "outlinewidth": 0,
             "ticks": ""
            },
            "colorscale": [
             [
              0,
              "#0d0887"
             ],
             [
              0.1111111111111111,
              "#46039f"
             ],
             [
              0.2222222222222222,
              "#7201a8"
             ],
             [
              0.3333333333333333,
              "#9c179e"
             ],
             [
              0.4444444444444444,
              "#bd3786"
             ],
             [
              0.5555555555555556,
              "#d8576b"
             ],
             [
              0.6666666666666666,
              "#ed7953"
             ],
             [
              0.7777777777777778,
              "#fb9f3a"
             ],
             [
              0.8888888888888888,
              "#fdca26"
             ],
             [
              1,
              "#f0f921"
             ]
            ],
            "type": "histogram2dcontour"
           }
          ],
          "mesh3d": [
           {
            "colorbar": {
             "outlinewidth": 0,
             "ticks": ""
            },
            "type": "mesh3d"
           }
          ],
          "parcoords": [
           {
            "line": {
             "colorbar": {
              "outlinewidth": 0,
              "ticks": ""
             }
            },
            "type": "parcoords"
           }
          ],
          "pie": [
           {
            "automargin": true,
            "type": "pie"
           }
          ],
          "scatter": [
           {
            "fillpattern": {
             "fillmode": "overlay",
             "size": 10,
             "solidity": 0.2
            },
            "type": "scatter"
           }
          ],
          "scatter3d": [
           {
            "line": {
             "colorbar": {
              "outlinewidth": 0,
              "ticks": ""
             }
            },
            "marker": {
             "colorbar": {
              "outlinewidth": 0,
              "ticks": ""
             }
            },
            "type": "scatter3d"
           }
          ],
          "scattercarpet": [
           {
            "marker": {
             "colorbar": {
              "outlinewidth": 0,
              "ticks": ""
             }
            },
            "type": "scattercarpet"
           }
          ],
          "scattergeo": [
           {
            "marker": {
             "colorbar": {
              "outlinewidth": 0,
              "ticks": ""
             }
            },
            "type": "scattergeo"
           }
          ],
          "scattergl": [
           {
            "marker": {
             "colorbar": {
              "outlinewidth": 0,
              "ticks": ""
             }
            },
            "type": "scattergl"
           }
          ],
          "scattermapbox": [
           {
            "marker": {
             "colorbar": {
              "outlinewidth": 0,
              "ticks": ""
             }
            },
            "type": "scattermapbox"
           }
          ],
          "scatterpolar": [
           {
            "marker": {
             "colorbar": {
              "outlinewidth": 0,
              "ticks": ""
             }
            },
            "type": "scatterpolar"
           }
          ],
          "scatterpolargl": [
           {
            "marker": {
             "colorbar": {
              "outlinewidth": 0,
              "ticks": ""
             }
            },
            "type": "scatterpolargl"
           }
          ],
          "scatterternary": [
           {
            "marker": {
             "colorbar": {
              "outlinewidth": 0,
              "ticks": ""
             }
            },
            "type": "scatterternary"
           }
          ],
          "surface": [
           {
            "colorbar": {
             "outlinewidth": 0,
             "ticks": ""
            },
            "colorscale": [
             [
              0,
              "#0d0887"
             ],
             [
              0.1111111111111111,
              "#46039f"
             ],
             [
              0.2222222222222222,
              "#7201a8"
             ],
             [
              0.3333333333333333,
              "#9c179e"
             ],
             [
              0.4444444444444444,
              "#bd3786"
             ],
             [
              0.5555555555555556,
              "#d8576b"
             ],
             [
              0.6666666666666666,
              "#ed7953"
             ],
             [
              0.7777777777777778,
              "#fb9f3a"
             ],
             [
              0.8888888888888888,
              "#fdca26"
             ],
             [
              1,
              "#f0f921"
             ]
            ],
            "type": "surface"
           }
          ],
          "table": [
           {
            "cells": {
             "fill": {
              "color": "#EBF0F8"
             },
             "line": {
              "color": "white"
             }
            },
            "header": {
             "fill": {
              "color": "#C8D4E3"
             },
             "line": {
              "color": "white"
             }
            },
            "type": "table"
           }
          ]
         },
         "layout": {
          "annotationdefaults": {
           "arrowcolor": "#2a3f5f",
           "arrowhead": 0,
           "arrowwidth": 1
          },
          "autotypenumbers": "strict",
          "coloraxis": {
           "colorbar": {
            "outlinewidth": 0,
            "ticks": ""
           }
          },
          "colorscale": {
           "diverging": [
            [
             0,
             "#8e0152"
            ],
            [
             0.1,
             "#c51b7d"
            ],
            [
             0.2,
             "#de77ae"
            ],
            [
             0.3,
             "#f1b6da"
            ],
            [
             0.4,
             "#fde0ef"
            ],
            [
             0.5,
             "#f7f7f7"
            ],
            [
             0.6,
             "#e6f5d0"
            ],
            [
             0.7,
             "#b8e186"
            ],
            [
             0.8,
             "#7fbc41"
            ],
            [
             0.9,
             "#4d9221"
            ],
            [
             1,
             "#276419"
            ]
           ],
           "sequential": [
            [
             0,
             "#0d0887"
            ],
            [
             0.1111111111111111,
             "#46039f"
            ],
            [
             0.2222222222222222,
             "#7201a8"
            ],
            [
             0.3333333333333333,
             "#9c179e"
            ],
            [
             0.4444444444444444,
             "#bd3786"
            ],
            [
             0.5555555555555556,
             "#d8576b"
            ],
            [
             0.6666666666666666,
             "#ed7953"
            ],
            [
             0.7777777777777778,
             "#fb9f3a"
            ],
            [
             0.8888888888888888,
             "#fdca26"
            ],
            [
             1,
             "#f0f921"
            ]
           ],
           "sequentialminus": [
            [
             0,
             "#0d0887"
            ],
            [
             0.1111111111111111,
             "#46039f"
            ],
            [
             0.2222222222222222,
             "#7201a8"
            ],
            [
             0.3333333333333333,
             "#9c179e"
            ],
            [
             0.4444444444444444,
             "#bd3786"
            ],
            [
             0.5555555555555556,
             "#d8576b"
            ],
            [
             0.6666666666666666,
             "#ed7953"
            ],
            [
             0.7777777777777778,
             "#fb9f3a"
            ],
            [
             0.8888888888888888,
             "#fdca26"
            ],
            [
             1,
             "#f0f921"
            ]
           ]
          },
          "colorway": [
           "#636efa",
           "#EF553B",
           "#00cc96",
           "#ab63fa",
           "#FFA15A",
           "#19d3f3",
           "#FF6692",
           "#B6E880",
           "#FF97FF",
           "#FECB52"
          ],
          "font": {
           "color": "#2a3f5f"
          },
          "geo": {
           "bgcolor": "white",
           "lakecolor": "white",
           "landcolor": "#E5ECF6",
           "showlakes": true,
           "showland": true,
           "subunitcolor": "white"
          },
          "hoverlabel": {
           "align": "left"
          },
          "hovermode": "closest",
          "mapbox": {
           "style": "light"
          },
          "paper_bgcolor": "white",
          "plot_bgcolor": "#E5ECF6",
          "polar": {
           "angularaxis": {
            "gridcolor": "white",
            "linecolor": "white",
            "ticks": ""
           },
           "bgcolor": "#E5ECF6",
           "radialaxis": {
            "gridcolor": "white",
            "linecolor": "white",
            "ticks": ""
           }
          },
          "scene": {
           "xaxis": {
            "backgroundcolor": "#E5ECF6",
            "gridcolor": "white",
            "gridwidth": 2,
            "linecolor": "white",
            "showbackground": true,
            "ticks": "",
            "zerolinecolor": "white"
           },
           "yaxis": {
            "backgroundcolor": "#E5ECF6",
            "gridcolor": "white",
            "gridwidth": 2,
            "linecolor": "white",
            "showbackground": true,
            "ticks": "",
            "zerolinecolor": "white"
           },
           "zaxis": {
            "backgroundcolor": "#E5ECF6",
            "gridcolor": "white",
            "gridwidth": 2,
            "linecolor": "white",
            "showbackground": true,
            "ticks": "",
            "zerolinecolor": "white"
           }
          },
          "shapedefaults": {
           "line": {
            "color": "#2a3f5f"
           }
          },
          "ternary": {
           "aaxis": {
            "gridcolor": "white",
            "linecolor": "white",
            "ticks": ""
           },
           "baxis": {
            "gridcolor": "white",
            "linecolor": "white",
            "ticks": ""
           },
           "bgcolor": "#E5ECF6",
           "caxis": {
            "gridcolor": "white",
            "linecolor": "white",
            "ticks": ""
           }
          },
          "title": {
           "x": 0.05
          },
          "xaxis": {
           "automargin": true,
           "gridcolor": "white",
           "linecolor": "white",
           "ticks": "",
           "title": {
            "standoff": 15
           },
           "zerolinecolor": "white",
           "zerolinewidth": 2
          },
          "yaxis": {
           "automargin": true,
           "gridcolor": "white",
           "linecolor": "white",
           "ticks": "",
           "title": {
            "standoff": 15
           },
           "zerolinecolor": "white",
           "zerolinewidth": 2
          }
         }
        },
        "title": {
         "text": "GDP Growth Progression"
        },
        "xaxis": {
         "anchor": "y",
         "domain": [
          0,
          1
         ],
         "title": {
          "text": "TIME"
         }
        },
        "yaxis": {
         "anchor": "x",
         "domain": [
          0,
          1
         ],
         "title": {
          "text": "GDP Growth (%)"
         }
        }
       }
      }
     },
     "metadata": {},
     "output_type": "display_data"
    }
   ],
   "source": [
    "px.line(gdp_growth_df, x='TIME', y='Value', color='Country', labels={'Value':'GDP Growth (%)'}, title='GDP Growth Progression')"
   ]
  },
  {
   "cell_type": "markdown",
   "metadata": {},
   "source": [
    "This is a line graph from plotly express. This shows GDP growth of each country over time. As you can see, some countries didn't adapt as quickly as others at the height of the pandemic in 2020 which explains the moderate to sharp drop in GDP growth. "
   ]
  },
  {
   "cell_type": "code",
   "execution_count": 61,
   "metadata": {},
   "outputs": [
    {
     "data": {
      "text/html": [
       "<div>\n",
       "<style scoped>\n",
       "    .dataframe tbody tr th:only-of-type {\n",
       "        vertical-align: middle;\n",
       "    }\n",
       "\n",
       "    .dataframe tbody tr th {\n",
       "        vertical-align: top;\n",
       "    }\n",
       "\n",
       "    .dataframe thead th {\n",
       "        text-align: right;\n",
       "    }\n",
       "</style>\n",
       "<table border=\"1\" class=\"dataframe\">\n",
       "  <thead>\n",
       "    <tr style=\"text-align: right;\">\n",
       "      <th></th>\n",
       "      <th>PowerCode Code</th>\n",
       "      <th>Reference Period Code</th>\n",
       "      <th>Reference Period</th>\n",
       "      <th>Value</th>\n",
       "      <th>Flag Codes</th>\n",
       "      <th>Flags</th>\n",
       "    </tr>\n",
       "  </thead>\n",
       "  <tbody>\n",
       "    <tr>\n",
       "      <th>count</th>\n",
       "      <td>660.0</td>\n",
       "      <td>0.0</td>\n",
       "      <td>0.0</td>\n",
       "      <td>660.000000</td>\n",
       "      <td>0.0</td>\n",
       "      <td>0.0</td>\n",
       "    </tr>\n",
       "    <tr>\n",
       "      <th>mean</th>\n",
       "      <td>0.0</td>\n",
       "      <td>NaN</td>\n",
       "      <td>NaN</td>\n",
       "      <td>6.549563</td>\n",
       "      <td>NaN</td>\n",
       "      <td>NaN</td>\n",
       "    </tr>\n",
       "    <tr>\n",
       "      <th>std</th>\n",
       "      <td>0.0</td>\n",
       "      <td>NaN</td>\n",
       "      <td>NaN</td>\n",
       "      <td>5.320697</td>\n",
       "      <td>NaN</td>\n",
       "      <td>NaN</td>\n",
       "    </tr>\n",
       "    <tr>\n",
       "      <th>min</th>\n",
       "      <td>0.0</td>\n",
       "      <td>NaN</td>\n",
       "      <td>NaN</td>\n",
       "      <td>1.935733</td>\n",
       "      <td>NaN</td>\n",
       "      <td>NaN</td>\n",
       "    </tr>\n",
       "    <tr>\n",
       "      <th>25%</th>\n",
       "      <td>0.0</td>\n",
       "      <td>NaN</td>\n",
       "      <td>NaN</td>\n",
       "      <td>3.807204</td>\n",
       "      <td>NaN</td>\n",
       "      <td>NaN</td>\n",
       "    </tr>\n",
       "    <tr>\n",
       "      <th>50%</th>\n",
       "      <td>0.0</td>\n",
       "      <td>NaN</td>\n",
       "      <td>NaN</td>\n",
       "      <td>5.074848</td>\n",
       "      <td>NaN</td>\n",
       "      <td>NaN</td>\n",
       "    </tr>\n",
       "    <tr>\n",
       "      <th>75%</th>\n",
       "      <td>0.0</td>\n",
       "      <td>NaN</td>\n",
       "      <td>NaN</td>\n",
       "      <td>7.190324</td>\n",
       "      <td>NaN</td>\n",
       "      <td>NaN</td>\n",
       "    </tr>\n",
       "    <tr>\n",
       "      <th>max</th>\n",
       "      <td>0.0</td>\n",
       "      <td>NaN</td>\n",
       "      <td>NaN</td>\n",
       "      <td>34.874431</td>\n",
       "      <td>NaN</td>\n",
       "      <td>NaN</td>\n",
       "    </tr>\n",
       "  </tbody>\n",
       "</table>\n",
       "</div>"
      ],
      "text/plain": [
       "       PowerCode Code  Reference Period Code  Reference Period       Value  \\\n",
       "count           660.0                    0.0               0.0  660.000000   \n",
       "mean              0.0                    NaN               NaN    6.549563   \n",
       "std               0.0                    NaN               NaN    5.320697   \n",
       "min               0.0                    NaN               NaN    1.935733   \n",
       "25%               0.0                    NaN               NaN    3.807204   \n",
       "50%               0.0                    NaN               NaN    5.074848   \n",
       "75%               0.0                    NaN               NaN    7.190324   \n",
       "max               0.0                    NaN               NaN   34.874431   \n",
       "\n",
       "       Flag Codes  Flags  \n",
       "count         0.0    0.0  \n",
       "mean          NaN    NaN  \n",
       "std           NaN    NaN  \n",
       "min           NaN    NaN  \n",
       "25%           NaN    NaN  \n",
       "50%           NaN    NaN  \n",
       "75%           NaN    NaN  \n",
       "max           NaN    NaN  "
      ]
     },
     "metadata": {},
     "output_type": "display_data"
    },
    {
     "name": "stderr",
     "output_type": "stream",
     "text": [
      "C:\\Users\\Kevin Zhu\\AppData\\Local\\Temp\\ipykernel_5632\\2212985967.py:2: FutureWarning:\n",
      "\n",
      "The default value of numeric_only in DataFrame.median is deprecated. In a future version, it will default to False. In addition, specifying 'numeric_only=None' is deprecated. Select only valid columns or specify the value of numeric_only to silence this warning.\n",
      "\n"
     ]
    },
    {
     "data": {
      "text/plain": [
       "PowerCode Code           0.000000\n",
       "Reference Period Code         NaN\n",
       "Reference Period              NaN\n",
       "Value                    5.074848\n",
       "Flag Codes                    NaN\n",
       "Flags                         NaN\n",
       "dtype: float64"
      ]
     },
     "metadata": {},
     "output_type": "display_data"
    },
    {
     "name": "stderr",
     "output_type": "stream",
     "text": [
      "C:\\Users\\Kevin Zhu\\AppData\\Local\\Temp\\ipykernel_5632\\2212985967.py:3: FutureWarning:\n",
      "\n",
      "The default value of numeric_only in DataFrame.corr is deprecated. In a future version, it will default to False. Select only valid columns or specify the value of numeric_only to silence this warning.\n",
      "\n"
     ]
    },
    {
     "data": {
      "text/html": [
       "<div>\n",
       "<style scoped>\n",
       "    .dataframe tbody tr th:only-of-type {\n",
       "        vertical-align: middle;\n",
       "    }\n",
       "\n",
       "    .dataframe tbody tr th {\n",
       "        vertical-align: top;\n",
       "    }\n",
       "\n",
       "    .dataframe thead th {\n",
       "        text-align: right;\n",
       "    }\n",
       "</style>\n",
       "<table border=\"1\" class=\"dataframe\">\n",
       "  <thead>\n",
       "    <tr style=\"text-align: right;\">\n",
       "      <th></th>\n",
       "      <th>PowerCode Code</th>\n",
       "      <th>Reference Period Code</th>\n",
       "      <th>Reference Period</th>\n",
       "      <th>Value</th>\n",
       "      <th>Flag Codes</th>\n",
       "      <th>Flags</th>\n",
       "    </tr>\n",
       "  </thead>\n",
       "  <tbody>\n",
       "    <tr>\n",
       "      <th>PowerCode Code</th>\n",
       "      <td>NaN</td>\n",
       "      <td>NaN</td>\n",
       "      <td>NaN</td>\n",
       "      <td>NaN</td>\n",
       "      <td>NaN</td>\n",
       "      <td>NaN</td>\n",
       "    </tr>\n",
       "    <tr>\n",
       "      <th>Reference Period Code</th>\n",
       "      <td>NaN</td>\n",
       "      <td>NaN</td>\n",
       "      <td>NaN</td>\n",
       "      <td>NaN</td>\n",
       "      <td>NaN</td>\n",
       "      <td>NaN</td>\n",
       "    </tr>\n",
       "    <tr>\n",
       "      <th>Reference Period</th>\n",
       "      <td>NaN</td>\n",
       "      <td>NaN</td>\n",
       "      <td>NaN</td>\n",
       "      <td>NaN</td>\n",
       "      <td>NaN</td>\n",
       "      <td>NaN</td>\n",
       "    </tr>\n",
       "    <tr>\n",
       "      <th>Value</th>\n",
       "      <td>NaN</td>\n",
       "      <td>NaN</td>\n",
       "      <td>NaN</td>\n",
       "      <td>1.0</td>\n",
       "      <td>NaN</td>\n",
       "      <td>NaN</td>\n",
       "    </tr>\n",
       "    <tr>\n",
       "      <th>Flag Codes</th>\n",
       "      <td>NaN</td>\n",
       "      <td>NaN</td>\n",
       "      <td>NaN</td>\n",
       "      <td>NaN</td>\n",
       "      <td>NaN</td>\n",
       "      <td>NaN</td>\n",
       "    </tr>\n",
       "    <tr>\n",
       "      <th>Flags</th>\n",
       "      <td>NaN</td>\n",
       "      <td>NaN</td>\n",
       "      <td>NaN</td>\n",
       "      <td>NaN</td>\n",
       "      <td>NaN</td>\n",
       "      <td>NaN</td>\n",
       "    </tr>\n",
       "  </tbody>\n",
       "</table>\n",
       "</div>"
      ],
      "text/plain": [
       "                       PowerCode Code  Reference Period Code  \\\n",
       "PowerCode Code                    NaN                    NaN   \n",
       "Reference Period Code             NaN                    NaN   \n",
       "Reference Period                  NaN                    NaN   \n",
       "Value                             NaN                    NaN   \n",
       "Flag Codes                        NaN                    NaN   \n",
       "Flags                             NaN                    NaN   \n",
       "\n",
       "                       Reference Period  Value  Flag Codes  Flags  \n",
       "PowerCode Code                      NaN    NaN         NaN    NaN  \n",
       "Reference Period Code               NaN    NaN         NaN    NaN  \n",
       "Reference Period                    NaN    NaN         NaN    NaN  \n",
       "Value                               NaN    1.0         NaN    NaN  \n",
       "Flag Codes                          NaN    NaN         NaN    NaN  \n",
       "Flags                               NaN    NaN         NaN    NaN  "
      ]
     },
     "metadata": {},
     "output_type": "display_data"
    },
    {
     "name": "stdout",
     "output_type": "stream",
     "text": [
      "<class 'pandas.core.frame.DataFrame'>\n",
      "RangeIndex: 660 entries, 0 to 659\n",
      "Data columns (total 17 columns):\n",
      " #   Column                 Non-Null Count  Dtype  \n",
      "---  ------                 --------------  -----  \n",
      " 0   LOCATION               660 non-null    object \n",
      " 1   Country                660 non-null    object \n",
      " 2   VARIABLE               660 non-null    object \n",
      " 3   Variable               660 non-null    object \n",
      " 4   FREQUENCY              660 non-null    object \n",
      " 5   Frequency              660 non-null    object \n",
      " 6   TIME                   660 non-null    object \n",
      " 7   Time                   660 non-null    object \n",
      " 8   Unit Code              660 non-null    object \n",
      " 9   Unit                   660 non-null    object \n",
      " 10  PowerCode Code         660 non-null    int64  \n",
      " 11  PowerCode              660 non-null    object \n",
      " 12  Reference Period Code  0 non-null      float64\n",
      " 13  Reference Period       0 non-null      float64\n",
      " 14  Value                  660 non-null    float64\n",
      " 15  Flag Codes             0 non-null      float64\n",
      " 16  Flags                  0 non-null      float64\n",
      "dtypes: float64(5), int64(1), object(11)\n",
      "memory usage: 87.8+ KB\n"
     ]
    },
    {
     "data": {
      "text/plain": [
       "None"
      ]
     },
     "metadata": {},
     "output_type": "display_data"
    },
    {
     "data": {
      "text/plain": [
       "<AxesSubplot: >"
      ]
     },
     "execution_count": 61,
     "metadata": {},
     "output_type": "execute_result"
    },
    {
     "data": {
      "image/png": "[encoded data removed]",
      "text/plain": [
       "<Figure size 640x480 with 1 Axes>"
      ]
     },
     "metadata": {},
     "output_type": "display_data"
    }
   ],
   "source": [
    "display(unemployment_df.describe())\n",
    "display(unemployment_df.median())\n",
    "display(unemployment_df.corr())\n",
    "display(unemployment_df.info())\n",
    "unemployment_df['Value'].plot(kind='box')"
   ]
  },
  {
   "cell_type": "markdown",
   "metadata": {},
   "source": [
    "Showing descriptive statistics, correlation, information, and boxplot on the dataset that holds quarterly unemployment rate from each country, starting from first quarter of 2019 to the projected GDP growth in 2023. No correlations are found in this dataset due to seeing missing data on all integer columns except the value column itself. I can change either \"Time\" or \"TIME\" column to date/time data type if I'm going to use them for a graph or other visualization. \"Flag Codes\", \"Flags\", \"Reference Period Code\",and \"Reference Period\" columns are empty so they will be removed. There are a lot of outliers from the boxplot. It was due to the time span found in the dataset."
   ]
  },
  {
   "cell_type": "code",
   "execution_count": 65,
   "metadata": {},
   "outputs": [
    {
     "data": {
      "text/html": [
       "<div>\n",
       "<style scoped>\n",
       "    .dataframe tbody tr th:only-of-type {\n",
       "        vertical-align: middle;\n",
       "    }\n",
       "\n",
       "    .dataframe tbody tr th {\n",
       "        vertical-align: top;\n",
       "    }\n",
       "\n",
       "    .dataframe thead th {\n",
       "        text-align: right;\n",
       "    }\n",
       "</style>\n",
       "<table border=\"1\" class=\"dataframe\">\n",
       "  <thead>\n",
       "    <tr style=\"text-align: right;\">\n",
       "      <th></th>\n",
       "      <th>LOCATION</th>\n",
       "      <th>Country</th>\n",
       "      <th>VARIABLE</th>\n",
       "      <th>Variable</th>\n",
       "      <th>FREQUENCY</th>\n",
       "      <th>Frequency</th>\n",
       "      <th>TIME</th>\n",
       "      <th>Time</th>\n",
       "      <th>Unit Code</th>\n",
       "      <th>Unit</th>\n",
       "      <th>PowerCode Code</th>\n",
       "      <th>PowerCode</th>\n",
       "      <th>Value</th>\n",
       "    </tr>\n",
       "  </thead>\n",
       "  <tbody>\n",
       "    <tr>\n",
       "      <th>0</th>\n",
       "      <td>NOR</td>\n",
       "      <td>Norway</td>\n",
       "      <td>UNR</td>\n",
       "      <td>Unemployment rate</td>\n",
       "      <td>Q</td>\n",
       "      <td>Quarterly</td>\n",
       "      <td>2019-Q1</td>\n",
       "      <td>Q1-2019</td>\n",
       "      <td>PC</td>\n",
       "      <td>Percentage</td>\n",
       "      <td>0</td>\n",
       "      <td>Units</td>\n",
       "      <td>3.797019</td>\n",
       "    </tr>\n",
       "    <tr>\n",
       "      <th>1</th>\n",
       "      <td>NOR</td>\n",
       "      <td>Norway</td>\n",
       "      <td>UNR</td>\n",
       "      <td>Unemployment rate</td>\n",
       "      <td>Q</td>\n",
       "      <td>Quarterly</td>\n",
       "      <td>2019-Q2</td>\n",
       "      <td>Q2-2019</td>\n",
       "      <td>PC</td>\n",
       "      <td>Percentage</td>\n",
       "      <td>0</td>\n",
       "      <td>Units</td>\n",
       "      <td>3.385602</td>\n",
       "    </tr>\n",
       "    <tr>\n",
       "      <th>2</th>\n",
       "      <td>NOR</td>\n",
       "      <td>Norway</td>\n",
       "      <td>UNR</td>\n",
       "      <td>Unemployment rate</td>\n",
       "      <td>Q</td>\n",
       "      <td>Quarterly</td>\n",
       "      <td>2019-Q3</td>\n",
       "      <td>Q3-2019</td>\n",
       "      <td>PC</td>\n",
       "      <td>Percentage</td>\n",
       "      <td>0</td>\n",
       "      <td>Units</td>\n",
       "      <td>3.717994</td>\n",
       "    </tr>\n",
       "    <tr>\n",
       "      <th>3</th>\n",
       "      <td>NOR</td>\n",
       "      <td>Norway</td>\n",
       "      <td>UNR</td>\n",
       "      <td>Unemployment rate</td>\n",
       "      <td>Q</td>\n",
       "      <td>Quarterly</td>\n",
       "      <td>2019-Q4</td>\n",
       "      <td>Q4-2019</td>\n",
       "      <td>PC</td>\n",
       "      <td>Percentage</td>\n",
       "      <td>0</td>\n",
       "      <td>Units</td>\n",
       "      <td>3.969090</td>\n",
       "    </tr>\n",
       "    <tr>\n",
       "      <th>4</th>\n",
       "      <td>NOR</td>\n",
       "      <td>Norway</td>\n",
       "      <td>UNR</td>\n",
       "      <td>Unemployment rate</td>\n",
       "      <td>Q</td>\n",
       "      <td>Quarterly</td>\n",
       "      <td>2020-Q1</td>\n",
       "      <td>Q1-2020</td>\n",
       "      <td>PC</td>\n",
       "      <td>Percentage</td>\n",
       "      <td>0</td>\n",
       "      <td>Units</td>\n",
       "      <td>3.547594</td>\n",
       "    </tr>\n",
       "    <tr>\n",
       "      <th>...</th>\n",
       "      <td>...</td>\n",
       "      <td>...</td>\n",
       "      <td>...</td>\n",
       "      <td>...</td>\n",
       "      <td>...</td>\n",
       "      <td>...</td>\n",
       "      <td>...</td>\n",
       "      <td>...</td>\n",
       "      <td>...</td>\n",
       "      <td>...</td>\n",
       "      <td>...</td>\n",
       "      <td>...</td>\n",
       "      <td>...</td>\n",
       "    </tr>\n",
       "    <tr>\n",
       "      <th>655</th>\n",
       "      <td>CHL</td>\n",
       "      <td>Chile</td>\n",
       "      <td>UNR</td>\n",
       "      <td>Unemployment rate</td>\n",
       "      <td>Q</td>\n",
       "      <td>Quarterly</td>\n",
       "      <td>2022-Q4</td>\n",
       "      <td>Q4-2022</td>\n",
       "      <td>PC</td>\n",
       "      <td>Percentage</td>\n",
       "      <td>0</td>\n",
       "      <td>Units</td>\n",
       "      <td>8.316778</td>\n",
       "    </tr>\n",
       "    <tr>\n",
       "      <th>656</th>\n",
       "      <td>CHL</td>\n",
       "      <td>Chile</td>\n",
       "      <td>UNR</td>\n",
       "      <td>Unemployment rate</td>\n",
       "      <td>Q</td>\n",
       "      <td>Quarterly</td>\n",
       "      <td>2023-Q1</td>\n",
       "      <td>Q1-2023</td>\n",
       "      <td>PC</td>\n",
       "      <td>Percentage</td>\n",
       "      <td>0</td>\n",
       "      <td>Units</td>\n",
       "      <td>8.243505</td>\n",
       "    </tr>\n",
       "    <tr>\n",
       "      <th>657</th>\n",
       "      <td>CHL</td>\n",
       "      <td>Chile</td>\n",
       "      <td>UNR</td>\n",
       "      <td>Unemployment rate</td>\n",
       "      <td>Q</td>\n",
       "      <td>Quarterly</td>\n",
       "      <td>2023-Q2</td>\n",
       "      <td>Q2-2023</td>\n",
       "      <td>PC</td>\n",
       "      <td>Percentage</td>\n",
       "      <td>0</td>\n",
       "      <td>Units</td>\n",
       "      <td>8.170173</td>\n",
       "    </tr>\n",
       "    <tr>\n",
       "      <th>658</th>\n",
       "      <td>CHL</td>\n",
       "      <td>Chile</td>\n",
       "      <td>UNR</td>\n",
       "      <td>Unemployment rate</td>\n",
       "      <td>Q</td>\n",
       "      <td>Quarterly</td>\n",
       "      <td>2023-Q3</td>\n",
       "      <td>Q3-2023</td>\n",
       "      <td>PC</td>\n",
       "      <td>Percentage</td>\n",
       "      <td>0</td>\n",
       "      <td>Units</td>\n",
       "      <td>8.096782</td>\n",
       "    </tr>\n",
       "    <tr>\n",
       "      <th>659</th>\n",
       "      <td>CHL</td>\n",
       "      <td>Chile</td>\n",
       "      <td>UNR</td>\n",
       "      <td>Unemployment rate</td>\n",
       "      <td>Q</td>\n",
       "      <td>Quarterly</td>\n",
       "      <td>2023-Q4</td>\n",
       "      <td>Q4-2023</td>\n",
       "      <td>PC</td>\n",
       "      <td>Percentage</td>\n",
       "      <td>0</td>\n",
       "      <td>Units</td>\n",
       "      <td>8.023333</td>\n",
       "    </tr>\n",
       "  </tbody>\n",
       "</table>\n",
       "<p>660 rows × 13 columns</p>\n",
       "</div>"
      ],
      "text/plain": [
       "    LOCATION Country VARIABLE           Variable FREQUENCY  Frequency  \\\n",
       "0        NOR  Norway      UNR  Unemployment rate         Q  Quarterly   \n",
       "1        NOR  Norway      UNR  Unemployment rate         Q  Quarterly   \n",
       "2        NOR  Norway      UNR  Unemployment rate         Q  Quarterly   \n",
       "3        NOR  Norway      UNR  Unemployment rate         Q  Quarterly   \n",
       "4        NOR  Norway      UNR  Unemployment rate         Q  Quarterly   \n",
       "..       ...     ...      ...                ...       ...        ...   \n",
       "655      CHL   Chile      UNR  Unemployment rate         Q  Quarterly   \n",
       "656      CHL   Chile      UNR  Unemployment rate         Q  Quarterly   \n",
       "657      CHL   Chile      UNR  Unemployment rate         Q  Quarterly   \n",
       "658      CHL   Chile      UNR  Unemployment rate         Q  Quarterly   \n",
       "659      CHL   Chile      UNR  Unemployment rate         Q  Quarterly   \n",
       "\n",
       "        TIME     Time Unit Code        Unit  PowerCode Code PowerCode  \\\n",
       "0    2019-Q1  Q1-2019        PC  Percentage               0     Units   \n",
       "1    2019-Q2  Q2-2019        PC  Percentage               0     Units   \n",
       "2    2019-Q3  Q3-2019        PC  Percentage               0     Units   \n",
       "3    2019-Q4  Q4-2019        PC  Percentage               0     Units   \n",
       "4    2020-Q1  Q1-2020        PC  Percentage               0     Units   \n",
       "..       ...      ...       ...         ...             ...       ...   \n",
       "655  2022-Q4  Q4-2022        PC  Percentage               0     Units   \n",
       "656  2023-Q1  Q1-2023        PC  Percentage               0     Units   \n",
       "657  2023-Q2  Q2-2023        PC  Percentage               0     Units   \n",
       "658  2023-Q3  Q3-2023        PC  Percentage               0     Units   \n",
       "659  2023-Q4  Q4-2023        PC  Percentage               0     Units   \n",
       "\n",
       "        Value  \n",
       "0    3.797019  \n",
       "1    3.385602  \n",
       "2    3.717994  \n",
       "3    3.969090  \n",
       "4    3.547594  \n",
       "..        ...  \n",
       "655  8.316778  \n",
       "656  8.243505  \n",
       "657  8.170173  \n",
       "658  8.096782  \n",
       "659  8.023333  \n",
       "\n",
       "[660 rows x 13 columns]"
      ]
     },
     "execution_count": 65,
     "metadata": {},
     "output_type": "execute_result"
    }
   ],
   "source": [
    "if('Flag Codes', 'Flags', 'Reference Period Code', 'Reference Period') in unemployment_df.columns:\n",
    "    unemployment_df.drop(columns=['Flag Codes', 'Flags', 'Reference Period Code', 'Reference Period'],inplace = True)\n",
    "gdp_growth_df['TIME'] = pd.to_datetime(gdp_growth_df['TIME'])\n",
    "unemployment_df"
   ]
  },
  {
   "cell_type": "markdown",
   "metadata": {},
   "source": [
    "Removed \"Flag Codes\", \"Flags\", \"Reference Period Code\", \"Reference Period\" columns because they are not relevant to this project."
   ]
  },
  {
   "cell_type": "code",
   "execution_count": 66,
   "metadata": {},
   "outputs": [
    {
     "data": {
      "application/vnd.plotly.v1+json": {
       "config": {
        "plotlyServerURL": "https://plot.ly"
       },
       "data": [
        {
         "hovertemplate": "Country=Norway<br>TIME=%{x}<br>Unemployment Rate (%)=%{y}<extra></extra>",
         "legendgroup": "Norway",
         "line": {
          "color": "#636efa",
          "dash": "solid"
         },
         "marker": {
          "symbol": "circle"
         },
         "mode": "lines",
         "name": "Norway",
         "orientation": "v",
         "showlegend": true,
         "type": "scatter",
         "x": [
          "2019-Q1",
          "2019-Q2",
          "2019-Q3",
          "2019-Q4",
          "2020-Q1",
          "2020-Q2",
          "2020-Q3",
          "2020-Q4",
          "2021-Q1",
          "2021-Q2",
          "2021-Q3",
          "2021-Q4",
          "2022-Q1",
          "2022-Q2",
          "2022-Q3",
          "2022-Q4",
          "2023-Q1",
          "2023-Q2",
          "2023-Q3",
          "2023-Q4"
         ],
         "xaxis": "x",
         "y": [
          3.7970191625,
          3.3856022808,
          3.7179936864,
          3.9690902705,
          3.5475939586,
          4.6050301098,
          5.2761167781,
          5.047318612,
          4.738330976,
          5,
          4.0138408304,
          3.4482758621,
          3.0927835052,
          2.7541162483,
          2.7055661316,
          2.7347107448,
          2.7541366065,
          2.7735585884,
          2.8123947943,
          2.8512154874
         ],
         "yaxis": "y"
        },
        {
         "hovertemplate": "Country=Finland<br>TIME=%{x}<br>Unemployment Rate (%)=%{y}<extra></extra>",
         "legendgroup": "Finland",
         "line": {
          "color": "#EF553B",
          "dash": "solid"
         },
         "marker": {
          "symbol": "circle"
         },
         "mode": "lines",
         "name": "Finland",
         "orientation": "v",
         "showlegend": true,
         "type": "scatter",
         "x": [
          "2019-Q1",
          "2019-Q2",
          "2019-Q3",
          "2019-Q4",
          "2020-Q1",
          "2020-Q2",
          "2020-Q3",
          "2020-Q4",
          "2021-Q1",
          "2021-Q2",
          "2021-Q3",
          "2021-Q4",
          "2022-Q1",
          "2022-Q2",
          "2022-Q3",
          "2022-Q4",
          "2023-Q1",
          "2023-Q2",
          "2023-Q3",
          "2023-Q4"
         ],
         "xaxis": "x",
         "y": [
          6.6642075495,
          6.8643129536,
          6.6854759568,
          6.7423964822,
          6.7067927773,
          7.8185691016,
          8.4049079755,
          8.1665039063,
          7.9829372334,
          8.011083002,
          7.5792264128,
          6.9736842105,
          6.680210325,
          6.9167642925,
          7.43456723,
          7.8277334809,
          7.873533379,
          7.8277334809,
          7.7133046243,
          7.5530244354
         ],
         "yaxis": "y"
        },
        {
         "hovertemplate": "Country=Germany<br>TIME=%{x}<br>Unemployment Rate (%)=%{y}<extra></extra>",
         "legendgroup": "Germany",
         "line": {
          "color": "#00cc96",
          "dash": "solid"
         },
         "marker": {
          "symbol": "circle"
         },
         "mode": "lines",
         "name": "Germany",
         "orientation": "v",
         "showlegend": true,
         "type": "scatter",
         "x": [
          "2019-Q1",
          "2019-Q2",
          "2019-Q3",
          "2019-Q4",
          "2020-Q1",
          "2020-Q2",
          "2020-Q3",
          "2020-Q4",
          "2021-Q1",
          "2021-Q2",
          "2021-Q3",
          "2021-Q4",
          "2022-Q1",
          "2022-Q2",
          "2022-Q3",
          "2022-Q4",
          "2023-Q1",
          "2023-Q2",
          "2023-Q3",
          "2023-Q4"
         ],
         "xaxis": "x",
         "y": [
          3.2258064516,
          3.1192519926,
          3.0773941667,
          3.2511638556,
          3.5248340581,
          3.8420245399,
          4.064665127,
          4.0513375599,
          3.9189715621,
          3.7253072017,
          3.4530814494,
          3.2170961271,
          3.0042918455,
          3.033309309,
          3.101003219,
          3.1883286293,
          3.287596025,
          3.3891365169,
          3.4929477402,
          3.5990271546
         ],
         "yaxis": "y"
        },
        {
         "hovertemplate": "Country=Austria<br>TIME=%{x}<br>Unemployment Rate (%)=%{y}<extra></extra>",
         "legendgroup": "Austria",
         "line": {
          "color": "#ab63fa",
          "dash": "solid"
         },
         "marker": {
          "symbol": "circle"
         },
         "mode": "lines",
         "name": "Austria",
         "orientation": "v",
         "showlegend": true,
         "type": "scatter",
         "x": [
          "2019-Q1",
          "2019-Q2",
          "2019-Q3",
          "2019-Q4",
          "2020-Q1",
          "2020-Q2",
          "2020-Q3",
          "2020-Q4",
          "2021-Q1",
          "2021-Q2",
          "2021-Q3",
          "2021-Q4",
          "2022-Q1",
          "2022-Q2",
          "2022-Q3",
          "2022-Q4",
          "2023-Q1",
          "2023-Q2",
          "2023-Q3",
          "2023-Q4"
         ],
         "xaxis": "x",
         "y": [
          4.6872510001,
          4.3940830644,
          4.5277878261,
          4.3369720818,
          4.4191882796,
          5.5467091773,
          5.8260148236,
          5.6573074639,
          7.6146463543,
          6.4362203508,
          5.4067220786,
          5.2534069376,
          5.3476821545,
          5.2765428316,
          5.0870959173,
          5.1495870643,
          5.0547366513,
          4.9977694933,
          4.9692688242,
          4.9692688242
         ],
         "yaxis": "y"
        },
        {
         "hovertemplate": "Country=Italy<br>TIME=%{x}<br>Unemployment Rate (%)=%{y}<extra></extra>",
         "legendgroup": "Italy",
         "line": {
          "color": "#FFA15A",
          "dash": "solid"
         },
         "marker": {
          "symbol": "circle"
         },
         "mode": "lines",
         "name": "Italy",
         "orientation": "v",
         "showlegend": true,
         "type": "scatter",
         "x": [
          "2019-Q1",
          "2019-Q2",
          "2019-Q3",
          "2019-Q4",
          "2020-Q1",
          "2020-Q2",
          "2020-Q3",
          "2020-Q4",
          "2021-Q1",
          "2021-Q2",
          "2021-Q3",
          "2021-Q4",
          "2022-Q1",
          "2022-Q2",
          "2022-Q3",
          "2022-Q4",
          "2023-Q1",
          "2023-Q2",
          "2023-Q3",
          "2023-Q4"
         ],
         "xaxis": "x",
         "y": [
          10.314658659,
          9.9358750142,
          9.5838315648,
          9.6436066779,
          8.9913934794,
          8.5717438708,
          9.9979986213,
          9.7505644789,
          10.1329185153,
          9.7669851306,
          9.0479593996,
          8.9768628193,
          8.4373222088,
          9.0306429053,
          9.2663382999,
          9.3568231283,
          9.3929845712,
          9.3560165409,
          9.3190334274,
          9.2820352247
         ],
         "yaxis": "y"
        },
        {
         "hovertemplate": "Country=Canada<br>TIME=%{x}<br>Unemployment Rate (%)=%{y}<extra></extra>",
         "legendgroup": "Canada",
         "line": {
          "color": "#19d3f3",
          "dash": "solid"
         },
         "marker": {
          "symbol": "circle"
         },
         "mode": "lines",
         "name": "Canada",
         "orientation": "v",
         "showlegend": true,
         "type": "scatter",
         "x": [
          "2019-Q1",
          "2019-Q2",
          "2019-Q3",
          "2019-Q4",
          "2020-Q1",
          "2020-Q2",
          "2020-Q3",
          "2020-Q4",
          "2021-Q1",
          "2021-Q2",
          "2021-Q3",
          "2021-Q4",
          "2022-Q1",
          "2022-Q2",
          "2022-Q3",
          "2022-Q4",
          "2023-Q1",
          "2023-Q2",
          "2023-Q3",
          "2023-Q4"
         ],
         "xaxis": "x",
         "y": [
          5.8878047482,
          5.5451473743,
          5.7282193356,
          5.8192024286,
          6.3878352244,
          12.8713716513,
          10.123119242,
          8.9239952523,
          8.3828896575,
          7.8612617888,
          7.1883153817,
          6.3100495062,
          5.7838626126,
          5.6052270862,
          5.501589747,
          5.4449925757,
          5.3977953074,
          5.3600148742,
          5.3316654028,
          5.312758206
         ],
         "yaxis": "y"
        },
        {
         "hovertemplate": "Country=Mexico<br>TIME=%{x}<br>Unemployment Rate (%)=%{y}<extra></extra>",
         "legendgroup": "Mexico",
         "line": {
          "color": "#FF6692",
          "dash": "solid"
         },
         "marker": {
          "symbol": "circle"
         },
         "mode": "lines",
         "name": "Mexico",
         "orientation": "v",
         "showlegend": true,
         "type": "scatter",
         "x": [
          "2019-Q1",
          "2019-Q2",
          "2019-Q3",
          "2019-Q4",
          "2020-Q1",
          "2020-Q2",
          "2020-Q3",
          "2020-Q4",
          "2021-Q1",
          "2021-Q2",
          "2021-Q3",
          "2021-Q4",
          "2022-Q1",
          "2022-Q2",
          "2022-Q3",
          "2022-Q4",
          "2023-Q1",
          "2023-Q2",
          "2023-Q3",
          "2023-Q4"
         ],
         "xaxis": "x",
         "y": [
          3.4080415024,
          3.5573160484,
          3.4849224198,
          3.4171929376,
          3.4842204197,
          4.9159230724,
          4.9415897702,
          4.4308509277,
          4.4074699598,
          4.3202974771,
          4.0181679828,
          3.8073234133,
          3.5238734603,
          3.5238734603,
          3.6200610242,
          3.6200610242,
          3.715961461,
          3.715961461,
          3.8116712408,
          3.9072858817
         ],
         "yaxis": "y"
        },
        {
         "hovertemplate": "Country=Estonia<br>TIME=%{x}<br>Unemployment Rate (%)=%{y}<extra></extra>",
         "legendgroup": "Estonia",
         "line": {
          "color": "#B6E880",
          "dash": "solid"
         },
         "marker": {
          "symbol": "circle"
         },
         "mode": "lines",
         "name": "Estonia",
         "orientation": "v",
         "showlegend": true,
         "type": "scatter",
         "x": [
          "2019-Q1",
          "2019-Q2",
          "2019-Q3",
          "2019-Q4",
          "2020-Q1",
          "2020-Q2",
          "2020-Q3",
          "2020-Q4",
          "2021-Q1",
          "2021-Q2",
          "2021-Q3",
          "2021-Q4",
          "2022-Q1",
          "2022-Q2",
          "2022-Q3",
          "2022-Q4",
          "2023-Q1",
          "2023-Q2",
          "2023-Q3",
          "2023-Q4"
         ],
         "xaxis": "x",
         "y": [
          4.7220630759,
          4.6838182547,
          3.9854706078,
          4.3990730634,
          5.0126960395,
          6.5164292061,
          7.7866705046,
          7.918921856,
          7.1050734548,
          6.273952938,
          5.7821090115,
          5.5459976579,
          5.9200729147,
          6.7542791647,
          7.581088512,
          8.1743951043,
          8.4471444258,
          8.2649496883,
          8.1736710313,
          8.1736710313
         ],
         "yaxis": "y"
        },
        {
         "hovertemplate": "Country=Ireland<br>TIME=%{x}<br>Unemployment Rate (%)=%{y}<extra></extra>",
         "legendgroup": "Ireland",
         "line": {
          "color": "#FF97FF",
          "dash": "solid"
         },
         "marker": {
          "symbol": "circle"
         },
         "mode": "lines",
         "name": "Ireland",
         "orientation": "v",
         "showlegend": true,
         "type": "scatter",
         "x": [
          "2019-Q1",
          "2019-Q2",
          "2019-Q3",
          "2019-Q4",
          "2020-Q1",
          "2020-Q2",
          "2020-Q3",
          "2020-Q4",
          "2021-Q1",
          "2021-Q2",
          "2021-Q3",
          "2021-Q4",
          "2022-Q1",
          "2022-Q2",
          "2022-Q3",
          "2022-Q4",
          "2023-Q1",
          "2023-Q2",
          "2023-Q3",
          "2023-Q4"
         ],
         "xaxis": "x",
         "y": [
          4.9297217555,
          5.1384869781,
          4.9798668748,
          4.762291092,
          4.8379973501,
          5.08,
          7.067563081,
          6.2381149235,
          7.3285079783,
          6.8765633065,
          5.4660772631,
          5.1735926461,
          4.9438792747,
          4.8256353334,
          4.8020860641,
          4.8020860641,
          4.8722307124,
          4.9536677039,
          5.011699195,
          5.0696952543
         ],
         "yaxis": "y"
        },
        {
         "hovertemplate": "Country=Czech Republic<br>TIME=%{x}<br>Unemployment Rate (%)=%{y}<extra></extra>",
         "legendgroup": "Czech Republic",
         "line": {
          "color": "#FECB52",
          "dash": "solid"
         },
         "marker": {
          "symbol": "circle"
         },
         "mode": "lines",
         "name": "Czech Republic",
         "orientation": "v",
         "showlegend": true,
         "type": "scatter",
         "x": [
          "2019-Q1",
          "2019-Q2",
          "2019-Q3",
          "2019-Q4",
          "2020-Q1",
          "2020-Q2",
          "2020-Q3",
          "2020-Q4",
          "2021-Q1",
          "2021-Q2",
          "2021-Q3",
          "2021-Q4",
          "2022-Q1",
          "2022-Q2",
          "2022-Q3",
          "2022-Q4",
          "2023-Q1",
          "2023-Q2",
          "2023-Q3",
          "2023-Q4"
         ],
         "xaxis": "x",
         "y": [
          1.9591931546,
          1.9392058342,
          2.0498073012,
          2.0578058389,
          1.9357325152,
          2.4688376241,
          2.7271775841,
          3.033810735,
          3.2882042007,
          3.1064166044,
          2.6258912724,
          2.2637681585,
          2.3952670741,
          2.4431971138,
          2.5402685595,
          2.5889740724,
          2.5889740724,
          2.491465538,
          2.5595852726,
          2.6276574186
         ],
         "yaxis": "y"
        },
        {
         "hovertemplate": "Country=Israel<br>TIME=%{x}<br>Unemployment Rate (%)=%{y}<extra></extra>",
         "legendgroup": "Israel",
         "line": {
          "color": "#636efa",
          "dash": "solid"
         },
         "marker": {
          "symbol": "circle"
         },
         "mode": "lines",
         "name": "Israel",
         "orientation": "v",
         "showlegend": true,
         "type": "scatter",
         "x": [
          "2019-Q1",
          "2019-Q2",
          "2019-Q3",
          "2019-Q4",
          "2020-Q1",
          "2020-Q2",
          "2020-Q3",
          "2020-Q4",
          "2021-Q1",
          "2021-Q2",
          "2021-Q3",
          "2021-Q4",
          "2022-Q1",
          "2022-Q2",
          "2022-Q3",
          "2022-Q4",
          "2023-Q1",
          "2023-Q2",
          "2023-Q3",
          "2023-Q4"
         ],
         "xaxis": "x",
         "y": [
          4.0653334706,
          3.8673676961,
          3.6083754358,
          3.7346250726,
          3.5264680773,
          4.1713758933,
          4.7133177289,
          4.7436076976,
          5.1141719763,
          5.321303397,
          4.9864429447,
          4.4051891089,
          3.853515854,
          3.7578477105,
          3.6620843749,
          3.6141550637,
          3.6141550637,
          3.6141550637,
          3.6141550637,
          3.6141550637
         ],
         "yaxis": "y"
        },
        {
         "hovertemplate": "Country=Luxembourg<br>TIME=%{x}<br>Unemployment Rate (%)=%{y}<extra></extra>",
         "legendgroup": "Luxembourg",
         "line": {
          "color": "#EF553B",
          "dash": "solid"
         },
         "marker": {
          "symbol": "circle"
         },
         "mode": "lines",
         "name": "Luxembourg",
         "orientation": "v",
         "showlegend": true,
         "type": "scatter",
         "x": [
          "2019-Q1",
          "2019-Q2",
          "2019-Q3",
          "2019-Q4",
          "2020-Q1",
          "2020-Q2",
          "2020-Q3",
          "2020-Q4",
          "2021-Q1",
          "2021-Q2",
          "2021-Q3",
          "2021-Q4",
          "2022-Q1",
          "2022-Q2",
          "2022-Q3",
          "2022-Q4",
          "2023-Q1",
          "2023-Q2",
          "2023-Q3",
          "2023-Q4"
         ],
         "xaxis": "x",
         "y": [
          5.236399161,
          5.4382347067,
          5.4052191319,
          5.3790302868,
          5.6580319673,
          6.9609592625,
          6.4800183525,
          6.3159263418,
          6.2504973806,
          5.8811373171,
          5.5401197513,
          5.2275074641,
          4.8153715482,
          4.6732342235,
          4.6352932221,
          4.7207355558,
          4.8039411477,
          4.8965408763,
          5.0101184469,
          5.1235603771
         ],
         "yaxis": "y"
        },
        {
         "hovertemplate": "Country=Denmark<br>TIME=%{x}<br>Unemployment Rate (%)=%{y}<extra></extra>",
         "legendgroup": "Denmark",
         "line": {
          "color": "#00cc96",
          "dash": "solid"
         },
         "marker": {
          "symbol": "circle"
         },
         "mode": "lines",
         "name": "Denmark",
         "orientation": "v",
         "showlegend": true,
         "type": "scatter",
         "x": [
          "2019-Q1",
          "2019-Q2",
          "2019-Q3",
          "2019-Q4",
          "2020-Q1",
          "2020-Q2",
          "2020-Q3",
          "2020-Q4",
          "2021-Q1",
          "2021-Q2",
          "2021-Q3",
          "2021-Q4",
          "2022-Q1",
          "2022-Q2",
          "2022-Q3",
          "2022-Q4",
          "2023-Q1",
          "2023-Q2",
          "2023-Q3",
          "2023-Q4"
         ],
         "xaxis": "x",
         "y": [
          5.2258635961,
          4.9735915493,
          4.92432551,
          5.0559333187,
          4.8065262926,
          5.5370616955,
          6.2911725955,
          5.9450549451,
          5.9193815572,
          5.1214707814,
          4.8615652932,
          5.0686263914,
          4.3176615805,
          4.8142166302,
          5.4316892768,
          5.6676381559,
          5.5734940822,
          5.5372171587,
          5.4975768806,
          5.4579366024
         ],
         "yaxis": "y"
        },
        {
         "hovertemplate": "Country=Iceland<br>TIME=%{x}<br>Unemployment Rate (%)=%{y}<extra></extra>",
         "legendgroup": "Iceland",
         "line": {
          "color": "#ab63fa",
          "dash": "solid"
         },
         "marker": {
          "symbol": "circle"
         },
         "mode": "lines",
         "name": "Iceland",
         "orientation": "v",
         "showlegend": true,
         "type": "scatter",
         "x": [
          "2019-Q1",
          "2019-Q2",
          "2019-Q3",
          "2019-Q4",
          "2020-Q1",
          "2020-Q2",
          "2020-Q3",
          "2020-Q4",
          "2021-Q1",
          "2021-Q2",
          "2021-Q3",
          "2021-Q4",
          "2022-Q1",
          "2022-Q2",
          "2022-Q3",
          "2022-Q4",
          "2023-Q1",
          "2023-Q2",
          "2023-Q3",
          "2023-Q4"
         ],
         "xaxis": "x",
         "y": [
          3.5423509869,
          3.8009554259,
          4.2272154598,
          4.1495382844,
          4.4649682601,
          6.9154831034,
          6.5369157354,
          7.802592177,
          7.7237307438,
          6.8816694066,
          4.8119742617,
          4.6061169981,
          4.5586337313,
          4.5110794881,
          4.4634540913,
          4.4634540913,
          4.4634540913,
          4.4634540913,
          4.4634540913,
          4.4634540913
         ],
         "yaxis": "y"
        },
        {
         "hovertemplate": "Country=Belgium<br>TIME=%{x}<br>Unemployment Rate (%)=%{y}<extra></extra>",
         "legendgroup": "Belgium",
         "line": {
          "color": "#FFA15A",
          "dash": "solid"
         },
         "marker": {
          "symbol": "circle"
         },
         "mode": "lines",
         "name": "Belgium",
         "orientation": "v",
         "showlegend": true,
         "type": "scatter",
         "x": [
          "2019-Q1",
          "2019-Q2",
          "2019-Q3",
          "2019-Q4",
          "2020-Q1",
          "2020-Q2",
          "2020-Q3",
          "2020-Q4",
          "2021-Q1",
          "2021-Q2",
          "2021-Q3",
          "2021-Q4",
          "2022-Q1",
          "2022-Q2",
          "2022-Q3",
          "2022-Q4",
          "2023-Q1",
          "2023-Q2",
          "2023-Q3",
          "2023-Q4"
         ],
         "xaxis": "x",
         "y": [
          5.6333333333,
          5.5666666667,
          5.2333333333,
          5.3666666667,
          5.1333333333,
          5.4666666667,
          6.4,
          6,
          6.7,
          6.3333333333,
          6.2666666667,
          5.8,
          5.6,
          6.0553972407,
          6.1482349863,
          6.2177589382,
          6.2872313877,
          6.380897067,
          6.4276365093,
          6.4276365093
         ],
         "yaxis": "y"
        },
        {
         "hovertemplate": "Country=United Kingdom<br>TIME=%{x}<br>Unemployment Rate (%)=%{y}<extra></extra>",
         "legendgroup": "United Kingdom",
         "line": {
          "color": "#19d3f3",
          "dash": "solid"
         },
         "marker": {
          "symbol": "circle"
         },
         "mode": "lines",
         "name": "United Kingdom",
         "orientation": "v",
         "showlegend": true,
         "type": "scatter",
         "x": [
          "2019-Q1",
          "2019-Q2",
          "2019-Q3",
          "2019-Q4",
          "2020-Q1",
          "2020-Q2",
          "2020-Q3",
          "2020-Q4",
          "2021-Q1",
          "2021-Q2",
          "2021-Q3",
          "2021-Q4",
          "2022-Q1",
          "2022-Q2",
          "2022-Q3",
          "2022-Q4",
          "2023-Q1",
          "2023-Q2",
          "2023-Q3",
          "2023-Q4"
         ],
         "xaxis": "x",
         "y": [
          3.8182085601,
          3.8927943761,
          3.8345224463,
          3.7664728399,
          3.9986041237,
          4.1367752558,
          4.8501426513,
          5.2183142192,
          4.8856180174,
          4.7231078049,
          4.2652772872,
          4.0608387478,
          3.7132298596,
          3.7987407202,
          3.8937077617,
          3.9885810545,
          4.104497099,
          4.2202731963,
          4.3359095153,
          4.4514062249
         ],
         "yaxis": "y"
        },
        {
         "hovertemplate": "Country=Netherlands<br>TIME=%{x}<br>Unemployment Rate (%)=%{y}<extra></extra>",
         "legendgroup": "Netherlands",
         "line": {
          "color": "#FF6692",
          "dash": "solid"
         },
         "marker": {
          "symbol": "circle"
         },
         "mode": "lines",
         "name": "Netherlands",
         "orientation": "v",
         "showlegend": true,
         "type": "scatter",
         "x": [
          "2019-Q1",
          "2019-Q2",
          "2019-Q3",
          "2019-Q4",
          "2020-Q1",
          "2020-Q2",
          "2020-Q3",
          "2020-Q4",
          "2021-Q1",
          "2021-Q2",
          "2021-Q3",
          "2021-Q4",
          "2022-Q1",
          "2022-Q2",
          "2022-Q3",
          "2022-Q4",
          "2023-Q1",
          "2023-Q2",
          "2023-Q3",
          "2023-Q4"
         ],
         "xaxis": "x",
         "y": [
          4.4662921348,
          4.353765324,
          4.4932844933,
          4.4289287203,
          4.0306901819,
          4.8346948077,
          5.5011460721,
          5.093025673,
          4.6336729743,
          4.3371238386,
          4.1247762016,
          3.801109513,
          3.464840556,
          3.6573333964,
          3.9165513334,
          4.2322062668,
          4.3753569301,
          4.4421272544,
          4.4421272544,
          4.4421272544
         ],
         "yaxis": "y"
        },
        {
         "hovertemplate": "Country=Sweden<br>TIME=%{x}<br>Unemployment Rate (%)=%{y}<extra></extra>",
         "legendgroup": "Sweden",
         "line": {
          "color": "#B6E880",
          "dash": "solid"
         },
         "marker": {
          "symbol": "circle"
         },
         "mode": "lines",
         "name": "Sweden",
         "orientation": "v",
         "showlegend": true,
         "type": "scatter",
         "x": [
          "2019-Q1",
          "2019-Q2",
          "2019-Q3",
          "2019-Q4",
          "2020-Q1",
          "2020-Q2",
          "2020-Q3",
          "2020-Q4",
          "2021-Q1",
          "2021-Q2",
          "2021-Q3",
          "2021-Q4",
          "2022-Q1",
          "2022-Q2",
          "2022-Q3",
          "2022-Q4",
          "2023-Q1",
          "2023-Q2",
          "2023-Q3",
          "2023-Q4"
         ],
         "xaxis": "x",
         "y": [
          6.9368093986,
          6.6191615073,
          7.1354882032,
          7.1963480312,
          7.3837311952,
          8.6345972319,
          9.2367937053,
          8.884639898,
          9.1805959302,
          9.1935976797,
          8.6278037663,
          8.2019022032,
          7.6700339113,
          7.3049076356,
          7.2792193521,
          7.3616678673,
          7.1239720123,
          7.0533295413,
          7.3936611944,
          7.8421334081
         ],
         "yaxis": "y"
        },
        {
         "hovertemplate": "Country=United States<br>TIME=%{x}<br>Unemployment Rate (%)=%{y}<extra></extra>",
         "legendgroup": "United States",
         "line": {
          "color": "#FF97FF",
          "dash": "solid"
         },
         "marker": {
          "symbol": "circle"
         },
         "mode": "lines",
         "name": "United States",
         "orientation": "v",
         "showlegend": true,
         "type": "scatter",
         "x": [
          "2019-Q1",
          "2019-Q2",
          "2019-Q3",
          "2019-Q4",
          "2020-Q1",
          "2020-Q2",
          "2020-Q3",
          "2020-Q4",
          "2021-Q1",
          "2021-Q2",
          "2021-Q3",
          "2021-Q4",
          "2022-Q1",
          "2022-Q2",
          "2022-Q3",
          "2022-Q4",
          "2023-Q1",
          "2023-Q2",
          "2023-Q3",
          "2023-Q4"
         ],
         "xaxis": "x",
         "y": [
          3.8318060754,
          3.6315136527,
          3.6119293003,
          3.6017211083,
          3.8037842652,
          12.985912286,
          8.8178840655,
          6.7796715653,
          6.2062788097,
          5.8961301986,
          5.0942395081,
          4.2172293891,
          3.8068471632,
          3.617824975,
          3.5226325874,
          3.5107122353,
          3.5823007261,
          3.7016150238,
          3.8446682312,
          4.0113777925
         ],
         "yaxis": "y"
        },
        {
         "hovertemplate": "Country=Korea<br>TIME=%{x}<br>Unemployment Rate (%)=%{y}<extra></extra>",
         "legendgroup": "Korea",
         "line": {
          "color": "#FECB52",
          "dash": "solid"
         },
         "marker": {
          "symbol": "circle"
         },
         "mode": "lines",
         "name": "Korea",
         "orientation": "v",
         "showlegend": true,
         "type": "scatter",
         "x": [
          "2019-Q1",
          "2019-Q2",
          "2019-Q3",
          "2019-Q4",
          "2020-Q1",
          "2020-Q2",
          "2020-Q3",
          "2020-Q4",
          "2021-Q1",
          "2021-Q2",
          "2021-Q3",
          "2021-Q4",
          "2022-Q1",
          "2022-Q2",
          "2022-Q3",
          "2022-Q4",
          "2023-Q1",
          "2023-Q2",
          "2023-Q3",
          "2023-Q4"
         ],
         "xaxis": "x",
         "y": [
          3.87208246,
          3.8672855082,
          3.6612335453,
          3.6544748948,
          3.5961024744,
          4.0729241895,
          3.7746131452,
          4.3334053254,
          4.2919896948,
          3.6677902485,
          3.1469182254,
          3.4056687075,
          2.9998759376,
          3.2320956859,
          3.2803589799,
          3.2417676019,
          3.1163206067,
          3.0637254482,
          3.0637254482,
          3.0926760529
         ],
         "yaxis": "y"
        },
        {
         "hovertemplate": "Country=Hungary<br>TIME=%{x}<br>Unemployment Rate (%)=%{y}<extra></extra>",
         "legendgroup": "Hungary",
         "line": {
          "color": "#636efa",
          "dash": "solid"
         },
         "marker": {
          "symbol": "circle"
         },
         "mode": "lines",
         "name": "Hungary",
         "orientation": "v",
         "showlegend": true,
         "type": "scatter",
         "x": [
          "2019-Q1",
          "2019-Q2",
          "2019-Q3",
          "2019-Q4",
          "2020-Q1",
          "2020-Q2",
          "2020-Q3",
          "2020-Q4",
          "2021-Q1",
          "2021-Q2",
          "2021-Q3",
          "2021-Q4",
          "2022-Q1",
          "2022-Q2",
          "2022-Q3",
          "2022-Q4",
          "2023-Q1",
          "2023-Q2",
          "2023-Q3",
          "2023-Q4"
         ],
         "xaxis": "x",
         "y": [
          3.317999209,
          3.2817285854,
          3.3438827351,
          3.3057679088,
          3.475233489,
          4.5314562253,
          4.288709443,
          4.2188214746,
          4.2869314049,
          4.1361723301,
          3.9179567845,
          3.8601917723,
          3.8362376635,
          3.7883354009,
          3.7644110762,
          3.7644110762,
          3.7644110762,
          3.7644110762,
          3.7405992251,
          3.6929814016
         ],
         "yaxis": "y"
        },
        {
         "hovertemplate": "Country=Portugal<br>TIME=%{x}<br>Unemployment Rate (%)=%{y}<extra></extra>",
         "legendgroup": "Portugal",
         "line": {
          "color": "#EF553B",
          "dash": "solid"
         },
         "marker": {
          "symbol": "circle"
         },
         "mode": "lines",
         "name": "Portugal",
         "orientation": "v",
         "showlegend": true,
         "type": "scatter",
         "x": [
          "2019-Q1",
          "2019-Q2",
          "2019-Q3",
          "2019-Q4",
          "2020-Q1",
          "2020-Q2",
          "2020-Q3",
          "2020-Q4",
          "2021-Q1",
          "2021-Q2",
          "2021-Q3",
          "2021-Q4",
          "2022-Q1",
          "2022-Q2",
          "2022-Q3",
          "2022-Q4",
          "2023-Q1",
          "2023-Q2",
          "2023-Q3",
          "2023-Q4"
         ],
         "xaxis": "x",
         "y": [
          6.7026118031,
          6.819734972,
          6.4282415096,
          6.5951102527,
          6.6783910909,
          6.0760095891,
          8.0895066912,
          7.0067949716,
          7.0256935565,
          7.0529981315,
          6.2376248869,
          6.001689707,
          5.825328416,
          5.7876886592,
          5.7500338585,
          5.7312026964,
          5.7312026964,
          5.7312026964,
          5.7312026964,
          5.7312026964
         ],
         "yaxis": "y"
        },
        {
         "hovertemplate": "Country=Japan<br>TIME=%{x}<br>Unemployment Rate (%)=%{y}<extra></extra>",
         "legendgroup": "Japan",
         "line": {
          "color": "#00cc96",
          "dash": "solid"
         },
         "marker": {
          "symbol": "circle"
         },
         "mode": "lines",
         "name": "Japan",
         "orientation": "v",
         "showlegend": true,
         "type": "scatter",
         "x": [
          "2019-Q1",
          "2019-Q2",
          "2019-Q3",
          "2019-Q4",
          "2020-Q1",
          "2020-Q2",
          "2020-Q3",
          "2020-Q4",
          "2021-Q1",
          "2021-Q2",
          "2021-Q3",
          "2021-Q4",
          "2022-Q1",
          "2022-Q2",
          "2022-Q3",
          "2022-Q4",
          "2023-Q1",
          "2023-Q2",
          "2023-Q3",
          "2023-Q4"
         ],
         "xaxis": "x",
         "y": [
          2.4714644999,
          2.3524297169,
          2.3042807559,
          2.2811314412,
          2.471510314,
          2.7360645381,
          2.9374758033,
          2.987012987,
          2.9018286814,
          2.9269939242,
          2.7683997299,
          2.6801725391,
          2.720364006,
          2.66,
          2.62,
          2.58,
          2.54,
          2.5,
          2.47,
          2.44
         ],
         "yaxis": "y"
        },
        {
         "hovertemplate": "Country=Australia<br>TIME=%{x}<br>Unemployment Rate (%)=%{y}<extra></extra>",
         "legendgroup": "Australia",
         "line": {
          "color": "#ab63fa",
          "dash": "solid"
         },
         "marker": {
          "symbol": "circle"
         },
         "mode": "lines",
         "name": "Australia",
         "orientation": "v",
         "showlegend": true,
         "type": "scatter",
         "x": [
          "2019-Q1",
          "2019-Q2",
          "2019-Q3",
          "2019-Q4",
          "2020-Q1",
          "2020-Q2",
          "2020-Q3",
          "2020-Q4",
          "2021-Q1",
          "2021-Q2",
          "2021-Q3",
          "2021-Q4",
          "2022-Q1",
          "2022-Q2",
          "2022-Q3",
          "2022-Q4",
          "2023-Q1",
          "2023-Q2",
          "2023-Q3",
          "2023-Q4"
         ],
         "xaxis": "x",
         "y": [
          5.0873370446,
          5.1841469749,
          5.2001055197,
          5.158314129,
          5.257948343,
          6.8420650038,
          6.9932453191,
          6.7482298639,
          6.0531359389,
          5.1272428989,
          4.6072023244,
          4.6651656153,
          4.1525075782,
          4.0635024027,
          4.0635024027,
          4.0348275503,
          4.0348275503,
          4.0348275503,
          4.0348275503,
          4.0348275503
         ],
         "yaxis": "y"
        },
        {
         "hovertemplate": "Country=Switzerland<br>TIME=%{x}<br>Unemployment Rate (%)=%{y}<extra></extra>",
         "legendgroup": "Switzerland",
         "line": {
          "color": "#FFA15A",
          "dash": "solid"
         },
         "marker": {
          "symbol": "circle"
         },
         "mode": "lines",
         "name": "Switzerland",
         "orientation": "v",
         "showlegend": true,
         "type": "scatter",
         "x": [
          "2019-Q1",
          "2019-Q2",
          "2019-Q3",
          "2019-Q4",
          "2020-Q1",
          "2020-Q2",
          "2020-Q3",
          "2020-Q4",
          "2021-Q1",
          "2021-Q2",
          "2021-Q3",
          "2021-Q4",
          "2022-Q1",
          "2022-Q2",
          "2022-Q3",
          "2022-Q4",
          "2023-Q1",
          "2023-Q2",
          "2023-Q3",
          "2023-Q4"
         ],
         "xaxis": "x",
         "y": [
          4.619665013,
          4.3713650739,
          4.3788965083,
          4.185532321,
          4.2110820423,
          4.7832303354,
          5.0296356724,
          5.3000130699,
          5.4723681682,
          5.2322476983,
          4.8952551782,
          4.7605225897,
          4.7605225897,
          4.7415127139,
          4.7224990438,
          4.7129903112,
          4.7129903112,
          4.6177984933,
          4.5225115787,
          4.4271294724
         ],
         "yaxis": "y"
        },
        {
         "hovertemplate": "Country=Spain<br>TIME=%{x}<br>Unemployment Rate (%)=%{y}<extra></extra>",
         "legendgroup": "Spain",
         "line": {
          "color": "#19d3f3",
          "dash": "solid"
         },
         "marker": {
          "symbol": "circle"
         },
         "mode": "lines",
         "name": "Spain",
         "orientation": "v",
         "showlegend": true,
         "type": "scatter",
         "x": [
          "2019-Q1",
          "2019-Q2",
          "2019-Q3",
          "2019-Q4",
          "2020-Q1",
          "2020-Q2",
          "2020-Q3",
          "2020-Q4",
          "2021-Q1",
          "2021-Q2",
          "2021-Q3",
          "2021-Q4",
          "2022-Q1",
          "2022-Q2",
          "2022-Q3",
          "2022-Q4",
          "2023-Q1",
          "2023-Q2",
          "2023-Q3",
          "2023-Q4"
         ],
         "xaxis": "x",
         "y": [
          14.3136361471,
          14.1756499056,
          14.0188959843,
          13.9093403038,
          14.0596829794,
          15.4898750374,
          16.2818496951,
          16.3084654611,
          15.6326773867,
          15.4306963542,
          14.5602763551,
          13.5047787226,
          13.3607141955,
          13.5334744863,
          13.7058902899,
          13.8779622933,
          13.9295323758,
          13.9209382202,
          13.869342379,
          13.8005066886
         ],
         "yaxis": "y"
        },
        {
         "hovertemplate": "Country=France<br>TIME=%{x}<br>Unemployment Rate (%)=%{y}<extra></extra>",
         "legendgroup": "France",
         "line": {
          "color": "#FF6692",
          "dash": "solid"
         },
         "marker": {
          "symbol": "circle"
         },
         "mode": "lines",
         "name": "France",
         "orientation": "v",
         "showlegend": true,
         "type": "scatter",
         "x": [
          "2019-Q1",
          "2019-Q2",
          "2019-Q3",
          "2019-Q4",
          "2020-Q1",
          "2020-Q2",
          "2020-Q3",
          "2020-Q4",
          "2021-Q1",
          "2021-Q2",
          "2021-Q3",
          "2021-Q4",
          "2022-Q1",
          "2022-Q2",
          "2022-Q3",
          "2022-Q4",
          "2023-Q1",
          "2023-Q2",
          "2023-Q3",
          "2023-Q4"
         ],
         "xaxis": "x",
         "y": [
          8.8307945569,
          8.4967476223,
          8.4674552935,
          8.2854700999,
          7.9773996421,
          7.2153111471,
          9.1500711464,
          8.1684127456,
          8.2051909839,
          7.9731437213,
          8.028008595,
          7.4478851378,
          7.3,
          7.4389110889,
          7.5129007683,
          7.5591212077,
          7.6330517316,
          7.753092752,
          7.8637669059,
          7.9743082773
         ],
         "yaxis": "y"
        },
        {
         "hovertemplate": "Country=New Zealand<br>TIME=%{x}<br>Unemployment Rate (%)=%{y}<extra></extra>",
         "legendgroup": "New Zealand",
         "line": {
          "color": "#B6E880",
          "dash": "solid"
         },
         "marker": {
          "symbol": "circle"
         },
         "mode": "lines",
         "name": "New Zealand",
         "orientation": "v",
         "showlegend": true,
         "type": "scatter",
         "x": [
          "2019-Q1",
          "2019-Q2",
          "2019-Q3",
          "2019-Q4",
          "2020-Q1",
          "2020-Q2",
          "2020-Q3",
          "2020-Q4",
          "2021-Q1",
          "2021-Q2",
          "2021-Q3",
          "2021-Q4",
          "2022-Q1",
          "2022-Q2",
          "2022-Q3",
          "2022-Q4",
          "2023-Q1",
          "2023-Q2",
          "2023-Q3",
          "2023-Q4"
         ],
         "xaxis": "x",
         "y": [
          4.1562164099,
          3.9971448965,
          4.1474654378,
          4.1018387553,
          4.1899441341,
          4.0379213483,
          5.2705061082,
          4.9146043918,
          4.6164526206,
          3.9473684211,
          3.3538672142,
          3.1882070621,
          3.2191780822,
          3.1224939444,
          3.1514905041,
          3.209448918,
          3.3252501755,
          3.450538955,
          3.5804714401,
          3.7246250261
         ],
         "yaxis": "y"
        },
        {
         "hovertemplate": "Country=Slovak Republic<br>TIME=%{x}<br>Unemployment Rate (%)=%{y}<extra></extra>",
         "legendgroup": "Slovak Republic",
         "line": {
          "color": "#FF97FF",
          "dash": "solid"
         },
         "marker": {
          "symbol": "circle"
         },
         "mode": "lines",
         "name": "Slovak Republic",
         "orientation": "v",
         "showlegend": true,
         "type": "scatter",
         "x": [
          "2019-Q1",
          "2019-Q2",
          "2019-Q3",
          "2019-Q4",
          "2020-Q1",
          "2020-Q2",
          "2020-Q3",
          "2020-Q4",
          "2021-Q1",
          "2021-Q2",
          "2021-Q3",
          "2021-Q4",
          "2022-Q1",
          "2022-Q2",
          "2022-Q3",
          "2022-Q4",
          "2023-Q1",
          "2023-Q2",
          "2023-Q3",
          "2023-Q4"
         ],
         "xaxis": "x",
         "y": [
          5.8709225192,
          5.7199924206,
          5.7560424163,
          5.6663573906,
          6.0320735479,
          6.6427532389,
          7.0637435275,
          7.0139296947,
          7.1612864594,
          6.9272899559,
          6.6060023243,
          6.6215746223,
          6.6682171924,
          6.8267702361,
          6.7522837928,
          6.6311465578,
          6.5658210231,
          6.5004497835,
          6.3602004581,
          6.2197407588
         ],
         "yaxis": "y"
        },
        {
         "hovertemplate": "Country=Poland<br>TIME=%{x}<br>Unemployment Rate (%)=%{y}<extra></extra>",
         "legendgroup": "Poland",
         "line": {
          "color": "#FECB52",
          "dash": "solid"
         },
         "marker": {
          "symbol": "circle"
         },
         "mode": "lines",
         "name": "Poland",
         "orientation": "v",
         "showlegend": true,
         "type": "scatter",
         "x": [
          "2019-Q1",
          "2019-Q2",
          "2019-Q3",
          "2019-Q4",
          "2020-Q1",
          "2020-Q2",
          "2020-Q3",
          "2020-Q4",
          "2021-Q1",
          "2021-Q2",
          "2021-Q3",
          "2021-Q4",
          "2022-Q1",
          "2022-Q2",
          "2022-Q3",
          "2022-Q4",
          "2023-Q1",
          "2023-Q2",
          "2023-Q3",
          "2023-Q4"
         ],
         "xaxis": "x",
         "y": [
          3.7699335729,
          3.347875688,
          3.1684070917,
          2.9603389634,
          2.9719284941,
          3.2435899326,
          3.3676066805,
          3.2188771058,
          3.7729632616,
          3.6186063401,
          3.1026840239,
          2.9581918615,
          2.9487842732,
          2.9346274622,
          2.9208257713,
          2.8959377993,
          2.8959377993,
          2.8959377993,
          2.8959377993,
          2.8959377993
         ],
         "yaxis": "y"
        },
        {
         "hovertemplate": "Country=South Africa<br>TIME=%{x}<br>Unemployment Rate (%)=%{y}<extra></extra>",
         "legendgroup": "South Africa",
         "line": {
          "color": "#636efa",
          "dash": "solid"
         },
         "marker": {
          "symbol": "circle"
         },
         "mode": "lines",
         "name": "South Africa",
         "orientation": "v",
         "showlegend": true,
         "type": "scatter",
         "x": [
          "2019-Q1",
          "2019-Q2",
          "2019-Q3",
          "2019-Q4",
          "2020-Q1",
          "2020-Q2",
          "2020-Q3",
          "2020-Q4",
          "2021-Q1",
          "2021-Q2",
          "2021-Q3",
          "2021-Q4",
          "2022-Q1",
          "2022-Q2",
          "2022-Q3",
          "2022-Q4",
          "2023-Q1",
          "2023-Q2",
          "2023-Q3",
          "2023-Q4"
         ],
         "xaxis": "x",
         "y": [
          27.8294410278,
          29.0296075438,
          28.9117598624,
          28.9821398128,
          30.595524441,
          23.3698552467,
          30.5738219601,
          32.2368309305,
          33.1129739577,
          34.4753008451,
          34.6139733102,
          34.8744313021,
          34.6931935287,
          34.5273907335,
          34.3934245356,
          34.3233199565,
          34.2251543169,
          34.126841951,
          33.9921880204,
          33.8250969189
         ],
         "yaxis": "y"
        },
        {
         "hovertemplate": "Country=Colombia<br>TIME=%{x}<br>Unemployment Rate (%)=%{y}<extra></extra>",
         "legendgroup": "Colombia",
         "line": {
          "color": "#EF553B",
          "dash": "solid"
         },
         "marker": {
          "symbol": "circle"
         },
         "mode": "lines",
         "name": "Colombia",
         "orientation": "v",
         "showlegend": true,
         "type": "scatter",
         "x": [
          "2019-Q1",
          "2019-Q2",
          "2019-Q3",
          "2019-Q4",
          "2020-Q1",
          "2020-Q2",
          "2020-Q3",
          "2020-Q4",
          "2021-Q1",
          "2021-Q2",
          "2021-Q3",
          "2021-Q4",
          "2022-Q1",
          "2022-Q2",
          "2022-Q3",
          "2022-Q4",
          "2023-Q1",
          "2023-Q2",
          "2023-Q3",
          "2023-Q4"
         ],
         "xaxis": "x",
         "y": [
          10.3975903873,
          10.0816046563,
          10.5156188035,
          10.4598820635,
          11.3424972846,
          20.1027253939,
          17.2005631393,
          14.7455831389,
          14.7787649569,
          15.1871317789,
          12.5299499275,
          12.6935998759,
          12.0962041605,
          11.8620973321,
          11.5084744024,
          11.0345011687,
          10.5839397289,
          10.1298142875,
          9.6653236965,
          9.1903731944
         ],
         "yaxis": "y"
        },
        {
         "hovertemplate": "Country=Chile<br>TIME=%{x}<br>Unemployment Rate (%)=%{y}<extra></extra>",
         "legendgroup": "Chile",
         "line": {
          "color": "#00cc96",
          "dash": "solid"
         },
         "marker": {
          "symbol": "circle"
         },
         "mode": "lines",
         "name": "Chile",
         "orientation": "v",
         "showlegend": true,
         "type": "scatter",
         "x": [
          "2019-Q1",
          "2019-Q2",
          "2019-Q3",
          "2019-Q4",
          "2020-Q1",
          "2020-Q2",
          "2020-Q3",
          "2020-Q4",
          "2021-Q1",
          "2021-Q2",
          "2021-Q3",
          "2021-Q4",
          "2022-Q1",
          "2022-Q2",
          "2022-Q3",
          "2022-Q4",
          "2023-Q1",
          "2023-Q2",
          "2023-Q3",
          "2023-Q4"
         ],
         "xaxis": "x",
         "y": [
          7.2108812217,
          6.9662376355,
          7.1325296233,
          7.6100356561,
          8.1939912071,
          11.7645879771,
          12.0045080826,
          11.0699673313,
          10.3681766395,
          9.1302484516,
          8.1649893053,
          7.7494852106,
          7.7752389173,
          8.2133736873,
          8.3837409496,
          8.3167781135,
          8.2435048093,
          8.170172945,
          8.0967824739,
          8.023333349
         ],
         "yaxis": "y"
        }
       ],
       "layout": {
        "legend": {
         "title": {
          "text": "Country"
         },
         "tracegroupgap": 0
        },
        "template": {
         "data": {
          "bar": [
           {
            "error_x": {
             "color": "#2a3f5f"
            },
            "error_y": {
             "color": "#2a3f5f"
            },
            "marker": {
             "line": {
              "color": "#E5ECF6",
              "width": 0.5
             },
             "pattern": {
              "fillmode": "overlay",
              "size": 10,
              "solidity": 0.2
             }
            },
            "type": "bar"
           }
          ],
          "barpolar": [
           {
            "marker": {
             "line": {
              "color": "#E5ECF6",
              "width": 0.5
             },
             "pattern": {
              "fillmode": "overlay",
              "size": 10,
              "solidity": 0.2
             }
            },
            "type": "barpolar"
           }
          ],
          "carpet": [
           {
            "aaxis": {
             "endlinecolor": "#2a3f5f",
             "gridcolor": "white",
             "linecolor": "white",
             "minorgridcolor": "white",
             "startlinecolor": "#2a3f5f"
            },
            "baxis": {
             "endlinecolor": "#2a3f5f",
             "gridcolor": "white",
             "linecolor": "white",
             "minorgridcolor": "white",
             "startlinecolor": "#2a3f5f"
            },
            "type": "carpet"
           }
          ],
          "choropleth": [
           {
            "colorbar": {
             "outlinewidth": 0,
             "ticks": ""
            },
            "type": "choropleth"
           }
          ],
          "contour": [
           {
            "colorbar": {
             "outlinewidth": 0,
             "ticks": ""
            },
            "colorscale": [
             [
              0,
              "#0d0887"
             ],
             [
              0.1111111111111111,
              "#46039f"
             ],
             [
              0.2222222222222222,
              "#7201a8"
             ],
             [
              0.3333333333333333,
              "#9c179e"
             ],
             [
              0.4444444444444444,
              "#bd3786"
             ],
             [
              0.5555555555555556,
              "#d8576b"
             ],
             [
              0.6666666666666666,
              "#ed7953"
             ],
             [
              0.7777777777777778,
              "#fb9f3a"
             ],
             [
              0.8888888888888888,
              "#fdca26"
             ],
             [
              1,
              "#f0f921"
             ]
            ],
            "type": "contour"
           }
          ],
          "contourcarpet": [
           {
            "colorbar": {
             "outlinewidth": 0,
             "ticks": ""
            },
            "type": "contourcarpet"
           }
          ],
          "heatmap": [
           {
            "colorbar": {
             "outlinewidth": 0,
             "ticks": ""
            },
            "colorscale": [
             [
              0,
              "#0d0887"
             ],
             [
              0.1111111111111111,
              "#46039f"
             ],
             [
              0.2222222222222222,
              "#7201a8"
             ],
             [
              0.3333333333333333,
              "#9c179e"
             ],
             [
              0.4444444444444444,
              "#bd3786"
             ],
             [
              0.5555555555555556,
              "#d8576b"
             ],
             [
              0.6666666666666666,
              "#ed7953"
             ],
             [
              0.7777777777777778,
              "#fb9f3a"
             ],
             [
              0.8888888888888888,
              "#fdca26"
             ],
             [
              1,
              "#f0f921"
             ]
            ],
            "type": "heatmap"
           }
          ],
          "heatmapgl": [
           {
            "colorbar": {
             "outlinewidth": 0,
             "ticks": ""
            },
            "colorscale": [
             [
              0,
              "#0d0887"
             ],
             [
              0.1111111111111111,
              "#46039f"
             ],
             [
              0.2222222222222222,
              "#7201a8"
             ],
             [
              0.3333333333333333,
              "#9c179e"
             ],
             [
              0.4444444444444444,
              "#bd3786"
             ],
             [
              0.5555555555555556,
              "#d8576b"
             ],
             [
              0.6666666666666666,
              "#ed7953"
             ],
             [
              0.7777777777777778,
              "#fb9f3a"
             ],
             [
              0.8888888888888888,
              "#fdca26"
             ],
             [
              1,
              "#f0f921"
             ]
            ],
            "type": "heatmapgl"
           }
          ],
          "histogram": [
           {
            "marker": {
             "pattern": {
              "fillmode": "overlay",
              "size": 10,
              "solidity": 0.2
             }
            },
            "type": "histogram"
           }
          ],
          "histogram2d": [
           {
            "colorbar": {
             "outlinewidth": 0,
             "ticks": ""
            },
            "colorscale": [
             [
              0,
              "#0d0887"
             ],
             [
              0.1111111111111111,
              "#46039f"
             ],
             [
              0.2222222222222222,
              "#7201a8"
             ],
             [
              0.3333333333333333,
              "#9c179e"
             ],
             [
              0.4444444444444444,
              "#bd3786"
             ],
             [
              0.5555555555555556,
              "#d8576b"
             ],
             [
              0.6666666666666666,
              "#ed7953"
             ],
             [
              0.7777777777777778,
              "#fb9f3a"
             ],
             [
              0.8888888888888888,
              "#fdca26"
             ],
             [
              1,
              "#f0f921"
             ]
            ],
            "type": "histogram2d"
           }
          ],
          "histogram2dcontour": [
           {
            "colorbar": {
             "outlinewidth": 0,
             "ticks": ""
            },
            "colorscale": [
             [
              0,
              "#0d0887"
             ],
             [
              0.1111111111111111,
              "#46039f"
             ],
             [
              0.2222222222222222,
              "#7201a8"
             ],
             [
              0.3333333333333333,
              "#9c179e"
             ],
             [
              0.4444444444444444,
              "#bd3786"
             ],
             [
              0.5555555555555556,
              "#d8576b"
             ],
             [
              0.6666666666666666,
              "#ed7953"
             ],
             [
              0.7777777777777778,
              "#fb9f3a"
             ],
             [
              0.8888888888888888,
              "#fdca26"
             ],
             [
              1,
              "#f0f921"
             ]
            ],
            "type": "histogram2dcontour"
           }
          ],
          "mesh3d": [
           {
            "colorbar": {
             "outlinewidth": 0,
             "ticks": ""
            },
            "type": "mesh3d"
           }
          ],
          "parcoords": [
           {
            "line": {
             "colorbar": {
              "outlinewidth": 0,
              "ticks": ""
             }
            },
            "type": "parcoords"
           }
          ],
          "pie": [
           {
            "automargin": true,
            "type": "pie"
           }
          ],
          "scatter": [
           {
            "fillpattern": {
             "fillmode": "overlay",
             "size": 10,
             "solidity": 0.2
            },
            "type": "scatter"
           }
          ],
          "scatter3d": [
           {
            "line": {
             "colorbar": {
              "outlinewidth": 0,
              "ticks": ""
             }
            },
            "marker": {
             "colorbar": {
              "outlinewidth": 0,
              "ticks": ""
             }
            },
            "type": "scatter3d"
           }
          ],
          "scattercarpet": [
           {
            "marker": {
             "colorbar": {
              "outlinewidth": 0,
              "ticks": ""
             }
            },
            "type": "scattercarpet"
           }
          ],
          "scattergeo": [
           {
            "marker": {
             "colorbar": {
              "outlinewidth": 0,
              "ticks": ""
             }
            },
            "type": "scattergeo"
           }
          ],
          "scattergl": [
           {
            "marker": {
             "colorbar": {
              "outlinewidth": 0,
              "ticks": ""
             }
            },
            "type": "scattergl"
           }
          ],
          "scattermapbox": [
           {
            "marker": {
             "colorbar": {
              "outlinewidth": 0,
              "ticks": ""
             }
            },
            "type": "scattermapbox"
           }
          ],
          "scatterpolar": [
           {
            "marker": {
             "colorbar": {
              "outlinewidth": 0,
              "ticks": ""
             }
            },
            "type": "scatterpolar"
           }
          ],
          "scatterpolargl": [
           {
            "marker": {
             "colorbar": {
              "outlinewidth": 0,
              "ticks": ""
             }
            },
            "type": "scatterpolargl"
           }
          ],
          "scatterternary": [
           {
            "marker": {
             "colorbar": {
              "outlinewidth": 0,
              "ticks": ""
             }
            },
            "type": "scatterternary"
           }
          ],
          "surface": [
           {
            "colorbar": {
             "outlinewidth": 0,
             "ticks": ""
            },
            "colorscale": [
             [
              0,
              "#0d0887"
             ],
             [
              0.1111111111111111,
              "#46039f"
             ],
             [
              0.2222222222222222,
              "#7201a8"
             ],
             [
              0.3333333333333333,
              "#9c179e"
             ],
             [
              0.4444444444444444,
              "#bd3786"
             ],
             [
              0.5555555555555556,
              "#d8576b"
             ],
             [
              0.6666666666666666,
              "#ed7953"
             ],
             [
              0.7777777777777778,
              "#fb9f3a"
             ],
             [
              0.8888888888888888,
              "#fdca26"
             ],
             [
              1,
              "#f0f921"
             ]
            ],
            "type": "surface"
           }
          ],
          "table": [
           {
            "cells": {
             "fill": {
              "color": "#EBF0F8"
             },
             "line": {
              "color": "white"
             }
            },
            "header": {
             "fill": {
              "color": "#C8D4E3"
             },
             "line": {
              "color": "white"
             }
            },
            "type": "table"
           }
          ]
         },
         "layout": {
          "annotationdefaults": {
           "arrowcolor": "#2a3f5f",
           "arrowhead": 0,
           "arrowwidth": 1
          },
          "autotypenumbers": "strict",
          "coloraxis": {
           "colorbar": {
            "outlinewidth": 0,
            "ticks": ""
           }
          },
          "colorscale": {
           "diverging": [
            [
             0,
             "#8e0152"
            ],
            [
             0.1,
             "#c51b7d"
            ],
            [
             0.2,
             "#de77ae"
            ],
            [
             0.3,
             "#f1b6da"
            ],
            [
             0.4,
             "#fde0ef"
            ],
            [
             0.5,
             "#f7f7f7"
            ],
            [
             0.6,
             "#e6f5d0"
            ],
            [
             0.7,
             "#b8e186"
            ],
            [
             0.8,
             "#7fbc41"
            ],
            [
             0.9,
             "#4d9221"
            ],
            [
             1,
             "#276419"
            ]
           ],
           "sequential": [
            [
             0,
             "#0d0887"
            ],
            [
             0.1111111111111111,
             "#46039f"
            ],
            [
             0.2222222222222222,
             "#7201a8"
            ],
            [
             0.3333333333333333,
             "#9c179e"
            ],
            [
             0.4444444444444444,
             "#bd3786"
            ],
            [
             0.5555555555555556,
             "#d8576b"
            ],
            [
             0.6666666666666666,
             "#ed7953"
            ],
            [
             0.7777777777777778,
             "#fb9f3a"
            ],
            [
             0.8888888888888888,
             "#fdca26"
            ],
            [
             1,
             "#f0f921"
            ]
           ],
           "sequentialminus": [
            [
             0,
             "#0d0887"
            ],
            [
             0.1111111111111111,
             "#46039f"
            ],
            [
             0.2222222222222222,
             "#7201a8"
            ],
            [
             0.3333333333333333,
             "#9c179e"
            ],
            [
             0.4444444444444444,
             "#bd3786"
            ],
            [
             0.5555555555555556,
             "#d8576b"
            ],
            [
             0.6666666666666666,
             "#ed7953"
            ],
            [
             0.7777777777777778,
             "#fb9f3a"
            ],
            [
             0.8888888888888888,
             "#fdca26"
            ],
            [
             1,
             "#f0f921"
            ]
           ]
          },
          "colorway": [
           "#636efa",
           "#EF553B",
           "#00cc96",
           "#ab63fa",
           "#FFA15A",
           "#19d3f3",
           "#FF6692",
           "#B6E880",
           "#FF97FF",
           "#FECB52"
          ],
          "font": {
           "color": "#2a3f5f"
          },
          "geo": {
           "bgcolor": "white",
           "lakecolor": "white",
           "landcolor": "#E5ECF6",
           "showlakes": true,
           "showland": true,
           "subunitcolor": "white"
          },
          "hoverlabel": {
           "align": "left"
          },
          "hovermode": "closest",
          "mapbox": {
           "style": "light"
          },
          "paper_bgcolor": "white",
          "plot_bgcolor": "#E5ECF6",
          "polar": {
           "angularaxis": {
            "gridcolor": "white",
            "linecolor": "white",
            "ticks": ""
           },
           "bgcolor": "#E5ECF6",
           "radialaxis": {
            "gridcolor": "white",
            "linecolor": "white",
            "ticks": ""
           }
          },
          "scene": {
           "xaxis": {
            "backgroundcolor": "#E5ECF6",
            "gridcolor": "white",
            "gridwidth": 2,
            "linecolor": "white",
            "showbackground": true,
            "ticks": "",
            "zerolinecolor": "white"
           },
           "yaxis": {
            "backgroundcolor": "#E5ECF6",
            "gridcolor": "white",
            "gridwidth": 2,
            "linecolor": "white",
            "showbackground": true,
            "ticks": "",
            "zerolinecolor": "white"
           },
           "zaxis": {
            "backgroundcolor": "#E5ECF6",
            "gridcolor": "white",
            "gridwidth": 2,
            "linecolor": "white",
            "showbackground": true,
            "ticks": "",
            "zerolinecolor": "white"
           }
          },
          "shapedefaults": {
           "line": {
            "color": "#2a3f5f"
           }
          },
          "ternary": {
           "aaxis": {
            "gridcolor": "white",
            "linecolor": "white",
            "ticks": ""
           },
           "baxis": {
            "gridcolor": "white",
            "linecolor": "white",
            "ticks": ""
           },
           "bgcolor": "#E5ECF6",
           "caxis": {
            "gridcolor": "white",
            "linecolor": "white",
            "ticks": ""
           }
          },
          "title": {
           "x": 0.05
          },
          "xaxis": {
           "automargin": true,
           "gridcolor": "white",
           "linecolor": "white",
           "ticks": "",
           "title": {
            "standoff": 15
           },
           "zerolinecolor": "white",
           "zerolinewidth": 2
          },
          "yaxis": {
           "automargin": true,
           "gridcolor": "white",
           "linecolor": "white",
           "ticks": "",
           "title": {
            "standoff": 15
           },
           "zerolinecolor": "white",
           "zerolinewidth": 2
          }
         }
        },
        "title": {
         "text": "Unemployment by Country"
        },
        "xaxis": {
         "anchor": "y",
         "domain": [
          0,
          1
         ],
         "title": {
          "text": "TIME"
         }
        },
        "yaxis": {
         "anchor": "x",
         "domain": [
          0,
          1
         ],
         "title": {
          "text": "Unemployment Rate (%)"
         }
        }
       }
      }
     },
     "metadata": {},
     "output_type": "display_data"
    }
   ],
   "source": [
    "px.line(unemployment_df, x='TIME', y='Value', color='Country', labels={'Value':'Unemployment Rate (%)'}, title='Unemployment by Country')"
   ]
  },
  {
   "cell_type": "code",
   "execution_count": 12,
   "metadata": {},
   "outputs": [
    {
     "data": {
      "text/html": [
       "<div>\n",
       "<style scoped>\n",
       "    .dataframe tbody tr th:only-of-type {\n",
       "        vertical-align: middle;\n",
       "    }\n",
       "\n",
       "    .dataframe tbody tr th {\n",
       "        vertical-align: top;\n",
       "    }\n",
       "\n",
       "    .dataframe thead th {\n",
       "        text-align: right;\n",
       "    }\n",
       "</style>\n",
       "<table border=\"1\" class=\"dataframe\">\n",
       "  <thead>\n",
       "    <tr style=\"text-align: right;\">\n",
       "      <th></th>\n",
       "      <th>TOTAL_VACCINATIONS</th>\n",
       "      <th>PERSONS_VACCINATED_1PLUS_DOSE</th>\n",
       "      <th>TOTAL_VACCINATIONS_PER100</th>\n",
       "      <th>PERSONS_VACCINATED_1PLUS_DOSE_PER100</th>\n",
       "      <th>PERSONS_FULLY_VACCINATED</th>\n",
       "      <th>PERSONS_FULLY_VACCINATED_PER100</th>\n",
       "      <th>NUMBER_VACCINES_TYPES_USED</th>\n",
       "      <th>PERSONS_BOOSTER_ADD_DOSE</th>\n",
       "      <th>PERSONS_BOOSTER_ADD_DOSE_PER100</th>\n",
       "    </tr>\n",
       "  </thead>\n",
       "  <tbody>\n",
       "    <tr>\n",
       "      <th>count</th>\n",
       "      <td>2.280000e+02</td>\n",
       "      <td>2.280000e+02</td>\n",
       "      <td>228.000000</td>\n",
       "      <td>228.000000</td>\n",
       "      <td>2.280000e+02</td>\n",
       "      <td>228.000000</td>\n",
       "      <td>225.000000</td>\n",
       "      <td>2.030000e+02</td>\n",
       "      <td>203.000000</td>\n",
       "    </tr>\n",
       "    <tr>\n",
       "      <th>mean</th>\n",
       "      <td>5.606559e+07</td>\n",
       "      <td>2.362337e+07</td>\n",
       "      <td>145.173154</td>\n",
       "      <td>61.168145</td>\n",
       "      <td>2.169572e+07</td>\n",
       "      <td>55.761421</td>\n",
       "      <td>4.706667</td>\n",
       "      <td>1.111831e+07</td>\n",
       "      <td>30.323414</td>\n",
       "    </tr>\n",
       "    <tr>\n",
       "      <th>std</th>\n",
       "      <td>2.787346e+08</td>\n",
       "      <td>1.132779e+08</td>\n",
       "      <td>79.490080</td>\n",
       "      <td>26.102229</td>\n",
       "      <td>1.079075e+08</td>\n",
       "      <td>25.481418</td>\n",
       "      <td>2.737504</td>\n",
       "      <td>5.821399e+07</td>\n",
       "      <td>24.091051</td>\n",
       "    </tr>\n",
       "    <tr>\n",
       "      <th>min</th>\n",
       "      <td>1.380000e+02</td>\n",
       "      <td>0.000000e+00</td>\n",
       "      <td>0.204000</td>\n",
       "      <td>0.000000</td>\n",
       "      <td>0.000000e+00</td>\n",
       "      <td>0.000000</td>\n",
       "      <td>1.000000</td>\n",
       "      <td>0.000000e+00</td>\n",
       "      <td>0.000000</td>\n",
       "    </tr>\n",
       "    <tr>\n",
       "      <th>25%</th>\n",
       "      <td>4.557055e+05</td>\n",
       "      <td>1.914438e+05</td>\n",
       "      <td>73.152000</td>\n",
       "      <td>41.021750</td>\n",
       "      <td>1.839220e+05</td>\n",
       "      <td>34.748250</td>\n",
       "      <td>3.000000</td>\n",
       "      <td>3.910000e+04</td>\n",
       "      <td>6.622500</td>\n",
       "    </tr>\n",
       "    <tr>\n",
       "      <th>50%</th>\n",
       "      <td>3.970340e+06</td>\n",
       "      <td>2.312866e+06</td>\n",
       "      <td>150.840000</td>\n",
       "      <td>66.569500</td>\n",
       "      <td>2.083128e+06</td>\n",
       "      <td>60.629000</td>\n",
       "      <td>4.000000</td>\n",
       "      <td>4.849020e+05</td>\n",
       "      <td>28.375000</td>\n",
       "    </tr>\n",
       "    <tr>\n",
       "      <th>75%</th>\n",
       "      <td>1.983253e+07</td>\n",
       "      <td>9.374796e+06</td>\n",
       "      <td>212.181250</td>\n",
       "      <td>81.456250</td>\n",
       "      <td>8.270625e+06</td>\n",
       "      <td>76.394000</td>\n",
       "      <td>6.000000</td>\n",
       "      <td>3.806655e+06</td>\n",
       "      <td>51.519500</td>\n",
       "    </tr>\n",
       "    <tr>\n",
       "      <th>max</th>\n",
       "      <td>3.457954e+09</td>\n",
       "      <td>1.307474e+09</td>\n",
       "      <td>355.748000</td>\n",
       "      <td>124.882000</td>\n",
       "      <td>1.277278e+09</td>\n",
       "      <td>122.944000</td>\n",
       "      <td>12.000000</td>\n",
       "      <td>7.764255e+08</td>\n",
       "      <td>107.922000</td>\n",
       "    </tr>\n",
       "  </tbody>\n",
       "</table>\n",
       "</div>"
      ],
      "text/plain": [
       "       TOTAL_VACCINATIONS  PERSONS_VACCINATED_1PLUS_DOSE  \\\n",
       "count        2.280000e+02                   2.280000e+02   \n",
       "mean         5.606559e+07                   2.362337e+07   \n",
       "std          2.787346e+08                   1.132779e+08   \n",
       "min          1.380000e+02                   0.000000e+00   \n",
       "25%          4.557055e+05                   1.914438e+05   \n",
       "50%          3.970340e+06                   2.312866e+06   \n",
       "75%          1.983253e+07                   9.374796e+06   \n",
       "max          3.457954e+09                   1.307474e+09   \n",
       "\n",
       "       TOTAL_VACCINATIONS_PER100  PERSONS_VACCINATED_1PLUS_DOSE_PER100  \\\n",
       "count                 228.000000                            228.000000   \n",
       "mean                  145.173154                             61.168145   \n",
       "std                    79.490080                             26.102229   \n",
       "min                     0.204000                              0.000000   \n",
       "25%                    73.152000                             41.021750   \n",
       "50%                   150.840000                             66.569500   \n",
       "75%                   212.181250                             81.456250   \n",
       "max                   355.748000                            124.882000   \n",
       "\n",
       "       PERSONS_FULLY_VACCINATED  PERSONS_FULLY_VACCINATED_PER100  \\\n",
       "count              2.280000e+02                       228.000000   \n",
       "mean               2.169572e+07                        55.761421   \n",
       "std                1.079075e+08                        25.481418   \n",
       "min                0.000000e+00                         0.000000   \n",
       "25%                1.839220e+05                        34.748250   \n",
       "50%                2.083128e+06                        60.629000   \n",
       "75%                8.270625e+06                        76.394000   \n",
       "max                1.277278e+09                       122.944000   \n",
       "\n",
       "       NUMBER_VACCINES_TYPES_USED  PERSONS_BOOSTER_ADD_DOSE  \\\n",
       "count                  225.000000              2.030000e+02   \n",
       "mean                     4.706667              1.111831e+07   \n",
       "std                      2.737504              5.821399e+07   \n",
       "min                      1.000000              0.000000e+00   \n",
       "25%                      3.000000              3.910000e+04   \n",
       "50%                      4.000000              4.849020e+05   \n",
       "75%                      6.000000              3.806655e+06   \n",
       "max                     12.000000              7.764255e+08   \n",
       "\n",
       "       PERSONS_BOOSTER_ADD_DOSE_PER100  \n",
       "count                       203.000000  \n",
       "mean                         30.323414  \n",
       "std                          24.091051  \n",
       "min                           0.000000  \n",
       "25%                           6.622500  \n",
       "50%                          28.375000  \n",
       "75%                          51.519500  \n",
       "max                         107.922000  "
      ]
     },
     "metadata": {},
     "output_type": "display_data"
    },
    {
     "name": "stderr",
     "output_type": "stream",
     "text": [
      "C:\\Users\\Kevin Zhu\\AppData\\Local\\Temp\\ipykernel_31704\\1804452266.py:2: FutureWarning:\n",
      "\n",
      "The default value of numeric_only in DataFrame.median is deprecated. In a future version, it will default to False. In addition, specifying 'numeric_only=None' is deprecated. Select only valid columns or specify the value of numeric_only to silence this warning.\n",
      "\n"
     ]
    },
    {
     "data": {
      "text/plain": [
       "TOTAL_VACCINATIONS                      3.970340e+06\n",
       "PERSONS_VACCINATED_1PLUS_DOSE           2.312866e+06\n",
       "TOTAL_VACCINATIONS_PER100               1.508400e+02\n",
       "PERSONS_VACCINATED_1PLUS_DOSE_PER100    6.656950e+01\n",
       "PERSONS_FULLY_VACCINATED                2.083128e+06\n",
       "PERSONS_FULLY_VACCINATED_PER100         6.062900e+01\n",
       "NUMBER_VACCINES_TYPES_USED              4.000000e+00\n",
       "PERSONS_BOOSTER_ADD_DOSE                4.849020e+05\n",
       "PERSONS_BOOSTER_ADD_DOSE_PER100         2.837500e+01\n",
       "dtype: float64"
      ]
     },
     "metadata": {},
     "output_type": "display_data"
    },
    {
     "name": "stderr",
     "output_type": "stream",
     "text": [
      "C:\\Users\\Kevin Zhu\\AppData\\Local\\Temp\\ipykernel_31704\\1804452266.py:3: FutureWarning:\n",
      "\n",
      "The default value of numeric_only in DataFrame.corr is deprecated. In a future version, it will default to False. Select only valid columns or specify the value of numeric_only to silence this warning.\n",
      "\n"
     ]
    },
    {
     "data": {
      "text/html": [
       "<div>\n",
       "<style scoped>\n",
       "    .dataframe tbody tr th:only-of-type {\n",
       "        vertical-align: middle;\n",
       "    }\n",
       "\n",
       "    .dataframe tbody tr th {\n",
       "        vertical-align: top;\n",
       "    }\n",
       "\n",
       "    .dataframe thead th {\n",
       "        text-align: right;\n",
       "    }\n",
       "</style>\n",
       "<table border=\"1\" class=\"dataframe\">\n",
       "  <thead>\n",
       "    <tr style=\"text-align: right;\">\n",
       "      <th></th>\n",
       "      <th>TOTAL_VACCINATIONS</th>\n",
       "      <th>PERSONS_VACCINATED_1PLUS_DOSE</th>\n",
       "      <th>TOTAL_VACCINATIONS_PER100</th>\n",
       "      <th>PERSONS_VACCINATED_1PLUS_DOSE_PER100</th>\n",
       "      <th>PERSONS_FULLY_VACCINATED</th>\n",
       "      <th>PERSONS_FULLY_VACCINATED_PER100</th>\n",
       "      <th>NUMBER_VACCINES_TYPES_USED</th>\n",
       "      <th>PERSONS_BOOSTER_ADD_DOSE</th>\n",
       "      <th>PERSONS_BOOSTER_ADD_DOSE_PER100</th>\n",
       "    </tr>\n",
       "  </thead>\n",
       "  <tbody>\n",
       "    <tr>\n",
       "      <th>TOTAL_VACCINATIONS</th>\n",
       "      <td>1.000000</td>\n",
       "      <td>0.994349</td>\n",
       "      <td>0.127199</td>\n",
       "      <td>0.134632</td>\n",
       "      <td>0.996806</td>\n",
       "      <td>0.138205</td>\n",
       "      <td>0.159678</td>\n",
       "      <td>0.957216</td>\n",
       "      <td>0.075004</td>\n",
       "    </tr>\n",
       "    <tr>\n",
       "      <th>PERSONS_VACCINATED_1PLUS_DOSE</th>\n",
       "      <td>0.994349</td>\n",
       "      <td>1.000000</td>\n",
       "      <td>0.110509</td>\n",
       "      <td>0.124198</td>\n",
       "      <td>0.999276</td>\n",
       "      <td>0.125153</td>\n",
       "      <td>0.164147</td>\n",
       "      <td>0.922125</td>\n",
       "      <td>0.052436</td>\n",
       "    </tr>\n",
       "    <tr>\n",
       "      <th>TOTAL_VACCINATIONS_PER100</th>\n",
       "      <td>0.127199</td>\n",
       "      <td>0.110509</td>\n",
       "      <td>1.000000</td>\n",
       "      <td>0.947341</td>\n",
       "      <td>0.113540</td>\n",
       "      <td>0.964114</td>\n",
       "      <td>0.012821</td>\n",
       "      <td>0.146561</td>\n",
       "      <td>0.932602</td>\n",
       "    </tr>\n",
       "    <tr>\n",
       "      <th>PERSONS_VACCINATED_1PLUS_DOSE_PER100</th>\n",
       "      <td>0.134632</td>\n",
       "      <td>0.124198</td>\n",
       "      <td>0.947341</td>\n",
       "      <td>1.000000</td>\n",
       "      <td>0.124861</td>\n",
       "      <td>0.978499</td>\n",
       "      <td>0.008148</td>\n",
       "      <td>0.143433</td>\n",
       "      <td>0.816484</td>\n",
       "    </tr>\n",
       "    <tr>\n",
       "      <th>PERSONS_FULLY_VACCINATED</th>\n",
       "      <td>0.996806</td>\n",
       "      <td>0.999276</td>\n",
       "      <td>0.113540</td>\n",
       "      <td>0.124861</td>\n",
       "      <td>1.000000</td>\n",
       "      <td>0.127958</td>\n",
       "      <td>0.161043</td>\n",
       "      <td>0.932236</td>\n",
       "      <td>0.058209</td>\n",
       "    </tr>\n",
       "    <tr>\n",
       "      <th>PERSONS_FULLY_VACCINATED_PER100</th>\n",
       "      <td>0.138205</td>\n",
       "      <td>0.125153</td>\n",
       "      <td>0.964114</td>\n",
       "      <td>0.978499</td>\n",
       "      <td>0.127958</td>\n",
       "      <td>1.000000</td>\n",
       "      <td>0.022570</td>\n",
       "      <td>0.151199</td>\n",
       "      <td>0.863499</td>\n",
       "    </tr>\n",
       "    <tr>\n",
       "      <th>NUMBER_VACCINES_TYPES_USED</th>\n",
       "      <td>0.159678</td>\n",
       "      <td>0.164147</td>\n",
       "      <td>0.012821</td>\n",
       "      <td>0.008148</td>\n",
       "      <td>0.161043</td>\n",
       "      <td>0.022570</td>\n",
       "      <td>1.000000</td>\n",
       "      <td>0.153706</td>\n",
       "      <td>-0.031104</td>\n",
       "    </tr>\n",
       "    <tr>\n",
       "      <th>PERSONS_BOOSTER_ADD_DOSE</th>\n",
       "      <td>0.957216</td>\n",
       "      <td>0.922125</td>\n",
       "      <td>0.146561</td>\n",
       "      <td>0.143433</td>\n",
       "      <td>0.932236</td>\n",
       "      <td>0.151199</td>\n",
       "      <td>0.153706</td>\n",
       "      <td>1.000000</td>\n",
       "      <td>0.121212</td>\n",
       "    </tr>\n",
       "    <tr>\n",
       "      <th>PERSONS_BOOSTER_ADD_DOSE_PER100</th>\n",
       "      <td>0.075004</td>\n",
       "      <td>0.052436</td>\n",
       "      <td>0.932602</td>\n",
       "      <td>0.816484</td>\n",
       "      <td>0.058209</td>\n",
       "      <td>0.863499</td>\n",
       "      <td>-0.031104</td>\n",
       "      <td>0.121212</td>\n",
       "      <td>1.000000</td>\n",
       "    </tr>\n",
       "  </tbody>\n",
       "</table>\n",
       "</div>"
      ],
      "text/plain": [
       "                                      TOTAL_VACCINATIONS  \\\n",
       "TOTAL_VACCINATIONS                              1.000000   \n",
       "PERSONS_VACCINATED_1PLUS_DOSE                   0.994349   \n",
       "TOTAL_VACCINATIONS_PER100                       0.127199   \n",
       "PERSONS_VACCINATED_1PLUS_DOSE_PER100            0.134632   \n",
       "PERSONS_FULLY_VACCINATED                        0.996806   \n",
       "PERSONS_FULLY_VACCINATED_PER100                 0.138205   \n",
       "NUMBER_VACCINES_TYPES_USED                      0.159678   \n",
       "PERSONS_BOOSTER_ADD_DOSE                        0.957216   \n",
       "PERSONS_BOOSTER_ADD_DOSE_PER100                 0.075004   \n",
       "\n",
       "                                      PERSONS_VACCINATED_1PLUS_DOSE  \\\n",
       "TOTAL_VACCINATIONS                                         0.994349   \n",
       "PERSONS_VACCINATED_1PLUS_DOSE                              1.000000   \n",
       "TOTAL_VACCINATIONS_PER100                                  0.110509   \n",
       "PERSONS_VACCINATED_1PLUS_DOSE_PER100                       0.124198   \n",
       "PERSONS_FULLY_VACCINATED                                   0.999276   \n",
       "PERSONS_FULLY_VACCINATED_PER100                            0.125153   \n",
       "NUMBER_VACCINES_TYPES_USED                                 0.164147   \n",
       "PERSONS_BOOSTER_ADD_DOSE                                   0.922125   \n",
       "PERSONS_BOOSTER_ADD_DOSE_PER100                            0.052436   \n",
       "\n",
       "                                      TOTAL_VACCINATIONS_PER100  \\\n",
       "TOTAL_VACCINATIONS                                     0.127199   \n",
       "PERSONS_VACCINATED_1PLUS_DOSE                          0.110509   \n",
       "TOTAL_VACCINATIONS_PER100                              1.000000   \n",
       "PERSONS_VACCINATED_1PLUS_DOSE_PER100                   0.947341   \n",
       "PERSONS_FULLY_VACCINATED                               0.113540   \n",
       "PERSONS_FULLY_VACCINATED_PER100                        0.964114   \n",
       "NUMBER_VACCINES_TYPES_USED                             0.012821   \n",
       "PERSONS_BOOSTER_ADD_DOSE                               0.146561   \n",
       "PERSONS_BOOSTER_ADD_DOSE_PER100                        0.932602   \n",
       "\n",
       "                                      PERSONS_VACCINATED_1PLUS_DOSE_PER100  \\\n",
       "TOTAL_VACCINATIONS                                                0.134632   \n",
       "PERSONS_VACCINATED_1PLUS_DOSE                                     0.124198   \n",
       "TOTAL_VACCINATIONS_PER100                                         0.947341   \n",
       "PERSONS_VACCINATED_1PLUS_DOSE_PER100                              1.000000   \n",
       "PERSONS_FULLY_VACCINATED                                          0.124861   \n",
       "PERSONS_FULLY_VACCINATED_PER100                                   0.978499   \n",
       "NUMBER_VACCINES_TYPES_USED                                        0.008148   \n",
       "PERSONS_BOOSTER_ADD_DOSE                                          0.143433   \n",
       "PERSONS_BOOSTER_ADD_DOSE_PER100                                   0.816484   \n",
       "\n",
       "                                      PERSONS_FULLY_VACCINATED  \\\n",
       "TOTAL_VACCINATIONS                                    0.996806   \n",
       "PERSONS_VACCINATED_1PLUS_DOSE                         0.999276   \n",
       "TOTAL_VACCINATIONS_PER100                             0.113540   \n",
       "PERSONS_VACCINATED_1PLUS_DOSE_PER100                  0.124861   \n",
       "PERSONS_FULLY_VACCINATED                              1.000000   \n",
       "PERSONS_FULLY_VACCINATED_PER100                       0.127958   \n",
       "NUMBER_VACCINES_TYPES_USED                            0.161043   \n",
       "PERSONS_BOOSTER_ADD_DOSE                              0.932236   \n",
       "PERSONS_BOOSTER_ADD_DOSE_PER100                       0.058209   \n",
       "\n",
       "                                      PERSONS_FULLY_VACCINATED_PER100  \\\n",
       "TOTAL_VACCINATIONS                                           0.138205   \n",
       "PERSONS_VACCINATED_1PLUS_DOSE                                0.125153   \n",
       "TOTAL_VACCINATIONS_PER100                                    0.964114   \n",
       "PERSONS_VACCINATED_1PLUS_DOSE_PER100                         0.978499   \n",
       "PERSONS_FULLY_VACCINATED                                     0.127958   \n",
       "PERSONS_FULLY_VACCINATED_PER100                              1.000000   \n",
       "NUMBER_VACCINES_TYPES_USED                                   0.022570   \n",
       "PERSONS_BOOSTER_ADD_DOSE                                     0.151199   \n",
       "PERSONS_BOOSTER_ADD_DOSE_PER100                              0.863499   \n",
       "\n",
       "                                      NUMBER_VACCINES_TYPES_USED  \\\n",
       "TOTAL_VACCINATIONS                                      0.159678   \n",
       "PERSONS_VACCINATED_1PLUS_DOSE                           0.164147   \n",
       "TOTAL_VACCINATIONS_PER100                               0.012821   \n",
       "PERSONS_VACCINATED_1PLUS_DOSE_PER100                    0.008148   \n",
       "PERSONS_FULLY_VACCINATED                                0.161043   \n",
       "PERSONS_FULLY_VACCINATED_PER100                         0.022570   \n",
       "NUMBER_VACCINES_TYPES_USED                              1.000000   \n",
       "PERSONS_BOOSTER_ADD_DOSE                                0.153706   \n",
       "PERSONS_BOOSTER_ADD_DOSE_PER100                        -0.031104   \n",
       "\n",
       "                                      PERSONS_BOOSTER_ADD_DOSE  \\\n",
       "TOTAL_VACCINATIONS                                    0.957216   \n",
       "PERSONS_VACCINATED_1PLUS_DOSE                         0.922125   \n",
       "TOTAL_VACCINATIONS_PER100                             0.146561   \n",
       "PERSONS_VACCINATED_1PLUS_DOSE_PER100                  0.143433   \n",
       "PERSONS_FULLY_VACCINATED                              0.932236   \n",
       "PERSONS_FULLY_VACCINATED_PER100                       0.151199   \n",
       "NUMBER_VACCINES_TYPES_USED                            0.153706   \n",
       "PERSONS_BOOSTER_ADD_DOSE                              1.000000   \n",
       "PERSONS_BOOSTER_ADD_DOSE_PER100                       0.121212   \n",
       "\n",
       "                                      PERSONS_BOOSTER_ADD_DOSE_PER100  \n",
       "TOTAL_VACCINATIONS                                           0.075004  \n",
       "PERSONS_VACCINATED_1PLUS_DOSE                                0.052436  \n",
       "TOTAL_VACCINATIONS_PER100                                    0.932602  \n",
       "PERSONS_VACCINATED_1PLUS_DOSE_PER100                         0.816484  \n",
       "PERSONS_FULLY_VACCINATED                                     0.058209  \n",
       "PERSONS_FULLY_VACCINATED_PER100                              0.863499  \n",
       "NUMBER_VACCINES_TYPES_USED                                  -0.031104  \n",
       "PERSONS_BOOSTER_ADD_DOSE                                     0.121212  \n",
       "PERSONS_BOOSTER_ADD_DOSE_PER100                              1.000000  "
      ]
     },
     "metadata": {},
     "output_type": "display_data"
    },
    {
     "name": "stdout",
     "output_type": "stream",
     "text": [
      "<class 'pandas.core.frame.DataFrame'>\n",
      "RangeIndex: 229 entries, 0 to 228\n",
      "Data columns (total 16 columns):\n",
      " #   Column                                Non-Null Count  Dtype  \n",
      "---  ------                                --------------  -----  \n",
      " 0   COUNTRY                               229 non-null    object \n",
      " 1   ISO3                                  229 non-null    object \n",
      " 2   WHO_REGION                            229 non-null    object \n",
      " 3   DATA_SOURCE                           229 non-null    object \n",
      " 4   DATE_UPDATED                          229 non-null    object \n",
      " 5   TOTAL_VACCINATIONS                    228 non-null    float64\n",
      " 6   PERSONS_VACCINATED_1PLUS_DOSE         228 non-null    float64\n",
      " 7   TOTAL_VACCINATIONS_PER100             228 non-null    float64\n",
      " 8   PERSONS_VACCINATED_1PLUS_DOSE_PER100  228 non-null    float64\n",
      " 9   PERSONS_FULLY_VACCINATED              228 non-null    float64\n",
      " 10  PERSONS_FULLY_VACCINATED_PER100       228 non-null    float64\n",
      " 11  VACCINES_USED                         225 non-null    object \n",
      " 12  FIRST_VACCINE_DATE                    207 non-null    object \n",
      " 13  NUMBER_VACCINES_TYPES_USED            225 non-null    float64\n",
      " 14  PERSONS_BOOSTER_ADD_DOSE              203 non-null    float64\n",
      " 15  PERSONS_BOOSTER_ADD_DOSE_PER100       203 non-null    float64\n",
      "dtypes: float64(9), object(7)\n",
      "memory usage: 28.8+ KB\n"
     ]
    },
    {
     "data": {
      "text/plain": [
       "None"
      ]
     },
     "metadata": {},
     "output_type": "display_data"
    }
   ],
   "source": [
    "display(vaccination_df.describe())\n",
    "display(vaccination_df.median())\n",
    "display(vaccination_df.corr())\n",
    "display(vaccination_df.info())"
   ]
  },
  {
   "cell_type": "markdown",
   "metadata": {},
   "source": [
    "Almost all the columns from the dataset above have positive correlations with each other. I noticed that some columns have missing data including first vaccine date and amount of people who got the booster. The median and the 50th Percentile values on each column are the same in the vaccination dataset."
   ]
  },
  {
   "cell_type": "code",
   "execution_count": 14,
   "metadata": {},
   "outputs": [
    {
     "data": {
      "image/png": "[encoded data removed]",
      "text/plain": [
       "<Figure size 2000x2000 with 9 Axes>"
      ]
     },
     "metadata": {},
     "output_type": "display_data"
    }
   ],
   "source": [
    "vaccination_df.hist(figsize=(20,20))\n",
    "plt.show()"
   ]
  },
  {
   "cell_type": "markdown",
   "metadata": {},
   "source": [
    "Using histogram visualization from plotly to show the frequency of values from each column in the Vaccination dataset."
   ]
  },
  {
   "cell_type": "code",
   "execution_count": 30,
   "metadata": {},
   "outputs": [
    {
     "data": {
      "image/png": "[encoded data removed]",
      "text/plain": [
       "<Figure size 1000x1000 with 1 Axes>"
      ]
     },
     "metadata": {},
     "output_type": "display_data"
    }
   ],
   "source": [
    "sns.barplot(vaccination_df.sample(5), x='COUNTRY', y='PERSONS_FULLY_VACCINATED_PER100')\n",
    "sns.set(rc={\"figure.figsize\":(10,10)})"
   ]
  },
  {
   "cell_type": "code",
   "execution_count": null,
   "metadata": {},
   "outputs": [],
   "source": []
  }
 ],
 "metadata": {
  "kernelspec": {
   "display_name": "Python 3.10.6 64-bit",
   "language": "python",
   "name": "python3"
  },
  "language_info": {
   "codemirror_mode": {
    "name": "ipython",
    "version": 3
   },
   "file_extension": ".py",
   "mimetype": "text/x-python",
   "name": "python",
   "nbconvert_exporter": "python",
   "pygments_lexer": "ipython3",
   "version": "3.10.6"
  },
  "orig_nbformat": 4,
  "vscode": {
   "interpreter": {
    "hash": "778a6c92af810e9a8a1f2e8b0d596da6d6afe33578c9b9fabad2b92787e55813"
   }
  }
 },
 "nbformat": 4,
 "nbformat_minor": 2
}
