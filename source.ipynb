{
 "cells": [
  {
   "cell_type": "markdown",
   "metadata": {},
   "source": [
    "# Project Title\n",
    "Economic/Financial impact and adaptations from COVID-19 Pandemic."
   ]
  },
  {
   "cell_type": "markdown",
   "metadata": {},
   "source": [
    "## Topic\n",
    "*What problem are you (or your stakeholder) trying to address?*\n",
    "Using data analysis, machine learning, and data manipulation to investigate the econnomic consequences contributed by COVID-19 by searching the current case, deaths, and testing levels by country, and both financial and economic status of each country.\n",
    "## Project Question\n",
    "*What specific question are you seeking to answer with this project?*\n",
    "*This is not the same as the questions you ask to limit the scope of the project.*\n",
    "What are the major economic and financial consequences from COVID-19 Pandemic? How people can adapt to the pandemic financially?\n",
    "## What would an answer look like?\n",
    "*What is your hypothesized answer to your question?*\n",
    "![](COVID_Data.png)\n",
    "![](COVID_Vaccine_Data.png)\n",
    " \n",
    "COVID-19 Pandemic contributes to the decline in performance of the global economy. As people continue to get infected, health and financial situations start to unravel. Major businesses start to either shut down or scale back on their operations. That in turn contributes to the economic decline because people had to take care of their sick family members. People can adapt to the situation by requiring masks, testing, and vaccinations so that they can slowly go back to normal operations over time. Graphs and visualization will be applied to show the changes in the economy during COVID-19 Pandemic.\n",
    "## Data Sources\n",
    "*What 3 data sources have you identified for this project?*\n",
    "*How are you going to relate these datasets?*\n",
    "*How will you use this data to answer your project question?*\n",
    "\n",
    "Data Sources:\n",
    "- https://vaccovid-coronavirus-vaccine-and-treatment-tracker.p.rapidapi.com/api/npm-covid-data/ (Note: This needs an API key. Go to https://rapidapi.com/axisbits-axisbits-default/api/covid-19-statistics/)\n",
    "- EO_14102022180121049.csv (URL: https://stats.oecd.org/Index.aspx?DatasetCode=STLABOUR#)\n",
    "- EO_14102022183231815.csv (URL: https://stats.oecd.org/Index.aspx?DatasetCode=STLABOUR#)\n",
    "- https://covid19.who.int/who-data/vaccination-data.csv\n",
    "\n",
    "The 2 datasets will show the current COVID cases that includes their severity, deaths, testing, and vaccination levels by country. GDP growth and Unemployment data of each country will help explain the economic and financial consequences of COVID-19. The more people adapt to the COVID-19 Pandemic, the easier it is to get used to it and keep on moving. "
   ]
  },
  {
   "cell_type": "code",
   "execution_count": 1,
   "metadata": {},
   "outputs": [
    {
     "data": {
      "text/plain": [
       "'[{\"id\":\"40f44943-8413-4a31-a4df-deee8111f85f\",\"rank\":0,\"Country\":\"World\",\"Continent\":\"All\",\"TwoLetterSymbol\":null,\"ThreeLetterSymbol\":null,\"Infection_Risk\":0,\"Case_Fatality_Rate\":1.04,\"Test_Percentage\":0,\"Recovery_Proporation\":96.66,\"TotalCases\":629605718,\"NewCases\":199918,\"TotalDeaths\":6570696,\"NewDeaths\":504,\"TotalRecovered\":\"608590172\",\"NewRecovered\":244213,\"ActiveCases\":14444850,\"TotalTests\":\"0\",\"Population\":\"0\",\"one_Caseevery_X_ppl\":0,\"one_Deathevery_X_ppl\":0,\"one_Testevery_X_ppl\":0,\"Deaths_1M_pop\":843,\"Serious_Critical\":41686,\"Tests_1M_Pop\":0,\"TotCases_1M_Pop\":80773},{\"id\":\"63492a0f-56d7-4c00-9ac1-d64fd5414029\",\"rank\":0,\"Country\":\"Total:\",\"Continent\":\"All\",\"TwoLetterSymbol\":null,\"ThreeLetterSymbol\":null,\"Infection_Risk\":0,\"Case_Fatality_Rate\":1.04,\"Test_Percentage\":0,\"Recovery_Proporation\":96.66,\"TotalCases\":629605718,\"NewCases\":199918,\"TotalDeaths\":6570696,\"NewDeaths\":504,\"TotalRecovered\":\"608590172\",\"NewRecovered\":244213,\"ActiveCases\":14444850,\"TotalTests\":\"0\",\"Population\":\"0\",\"one_Caseevery_X_ppl\":0,\"one_Deathevery_X_ppl\":0,\"one_Testevery_X_ppl\":0,\"Deaths_1M_pop\":843,\"Serious_Critical\":41686,\"Tests_1M_Pop\":0,\"TotCases_1M_Pop\":80772.5},{\"id\":\"be02608d-a52f-4586-ae9b-220dee7daaf1\",\"rank\":1,\"Country\":\"USA\",\"Continent\":\"North America\",\"TwoLetterSymbol\":\"us\",\"ThreeLetterSymbol\":\"usa\",\"Infection_Risk\":29.48,\"Case_Fatality_Rate\":1.1,\"Test_Percentage\":335.29,\"Recovery_Proporation\":97.21,\"TotalCases\":98814003,\"NewCases\":0,\"TotalDeaths\":1090289,\"NewDeaths\":0,\"TotalRecovered\":\"96055534\",\"NewRecovered\":0,\"ActiveCases\":1668180,\"TotalTests\":\"1123688091\",\"Population\":\"335140742\",\"one_Caseevery_X_ppl\":3,\"one_Deathevery_X_ppl\":307,\"one_Testevery_X_ppl\":0,\"Deaths_1M_pop\":3253,\"Serious_Critical\":2689,\"Tests_1M_Pop\":3352884,\"TotCases_1M_Pop\":294843},{\"id\":\"f6ecf8d7-5867-42dc-9290-24fda4cb14f0\",\"rank\":2,\"Country\":\"India\",\"Continent\":\"Asia\",\"TwoLetterSymbol\":\"in\",\"ThreeLetterSymbol\":\"ind\",\"Infection_Risk\":3.16,\"Case_Fatality_Rate\":1.19,\"Test_Percentage\":63.64,\"Recovery_Proporation\":98.76,\"TotalCases\":44626427,\"NewCases\":0,\"TotalDeaths\":528874,\"NewDeaths\":0,\"TotalRecovered\":\"44070935\",\"NewRecovered\":0,\"ActiveCases\":26618,\"TotalTests\":\"897877536\",\"Population\":\"1410940200\",\"one_Caseevery_X_ppl\":32,\"one_Deathevery_X_ppl\":2668,\"one_Testevery_X_ppl\":2,\"Deaths_1M_pop\":375,\"Serious_Critical\":698,\"Tests_1M_Pop\":636368,\"TotCases_1M_Pop\":31629},{\"id\":\"911f9162-c39d-4e1c-9768-4d147cce2604\",\"rank\":3,\"Country\":\"France\",\"Continent\":\"Europe\",\"TwoLetterSymbol\":\"fr\",\"ThreeLetterSymbol\":\"fra\",\"Infection_Risk\":55.12,\"Case_Fatality_Rate\":0.43,\"Test_Percentage\":413.84,\"Recovery_Proporation\":96.71,\"TotalCases\":36161240,\"NewCases\":0,\"TotalDeaths\":155816,\"NewDeaths\":0,\"TotalRecovered\":\"34969865\",\"NewRecovered\":0,\"ActiveCases\":1035559,\"TotalTests\":\"271490188\",\"Population\":\"65602707\",\"one_Caseevery_X_ppl\":2,\"one_Deathevery_X_ppl\":421,\"one_Testevery_X_ppl\":0,\"Deaths_1M_pop\":2375,\"Serious_Critical\":869,\"Tests_1M_Pop\":4138399,\"TotCases_1M_Pop\":551216},{\"id\":\"338a3103-483a-4292-9559-1aac2ed47a90\",\"rank\":4,\"Country\":\"Brazil\",\"Continent\":\"South America\",\"TwoLetterSymbol\":\"br\",\"ThreeLetterSymbol\":\"bra\",\"Infection_Risk\":16.11,\"Case_Fatality_Rate\":1.98,\"Test_Percentage\":29.53,\"Recovery_Proporation\":97.6,\"TotalCases\":34788500,\"NewCases\":0,\"TotalDeaths\":687186,\"NewDeaths\":0,\"TotalRecovered\":\"33953433\",\"NewRecovered\":0,\"ActiveCases\":147881,\"TotalTests\":\"63776166\",\"Population\":\"216004169\",\"one_Caseevery_X_ppl\":6,\"one_Deathevery_X_ppl\":314,\"one_Testevery_X_ppl\":3,\"Deaths_1M_pop\":3181,\"Serious_Critical\":8318,\"Tests_1M_Pop\":295254,\"TotCases_1M_Pop\":161055},{\"id\":\"4be614b7-9865-4e78-a841-7dca20abd314\",\"rank\":5,\"Country\":\"Germany\",\"Continent\":\"Europe\",\"TwoLetterSymbol\":\"de\",\"ThreeLetterSymbol\":\"deu\",\"Infection_Risk\":41.01,\"Case_Fatality_Rate\":0.44,\"Test_Percentage\":144.95,\"Recovery_Proporation\":95,\"TotalCases\":34608835,\"NewCases\":0,\"TotalDeaths\":151420,\"NewDeaths\":0,\"TotalRecovered\":\"32877400\",\"NewRecovered\":19100,\"ActiveCases\":1580015,\"TotalTests\":\"122332384\",\"Population\":\"84394579\",\"one_Caseevery_X_ppl\":2,\"one_Deathevery_X_ppl\":557,\"one_Testevery_X_ppl\":1,\"Deaths_1M_pop\":1794,\"Serious_Critical\":1406,\"Tests_1M_Pop\":1449529,\"TotCases_1M_Pop\":410084},{\"id\":\"bc4902f3-885b-4666-bbae-a159b53c831b\",\"rank\":6,\"Country\":\"S. Korea\",\"Continent\":\"Asia\",\"TwoLetterSymbol\":\"kr\",\"ThreeLetterSymbol\":\"kor\",\"Infection_Risk\":48.86,\"Case_Fatality_Rate\":0.11,\"Test_Percentage\":30.77,\"Recovery_Proporation\":98.19,\"TotalCases\":25098996,\"NewCases\":22757,\"TotalDeaths\":28808,\"NewDeaths\":25,\"TotalRecovered\":\"24644880\",\"NewRecovered\":39332,\"ActiveCases\":425308,\"TotalTests\":\"15804065\",\"Population\":\"51369740\",\"one_Caseevery_X_ppl\":2,\"one_Deathevery_X_ppl\":1783,\"one_Testevery_X_ppl\":3,\"Deaths_1M_pop\":561,\"Serious_Critical\":245,\"Tests_1M_Pop\":307653,\"TotCases_1M_Pop\":488595},{\"id\":\"6b196012-2ecd-45e8-aac2-9379e5300894\",\"rank\":7,\"Country\":\"UK\",\"Continent\":\"Europe\",\"TwoLetterSymbol\":\"gb\",\"ThreeLetterSymbol\":\"gbr\",\"Infection_Risk\":34.64,\"Case_Fatality_Rate\":0.81,\"Test_Percentage\":760.6,\"Recovery_Proporation\":98.37,\"TotalCases\":23798793,\"NewCases\":0,\"TotalDeaths\":191681,\"NewDeaths\":0,\"TotalRecovered\":\"23410472\",\"NewRecovered\":2713,\"ActiveCases\":196640,\"TotalTests\":\"522526476\",\"Population\":\"68698935\",\"one_Caseevery_X_ppl\":3,\"one_Deathevery_X_ppl\":358,\"one_Testevery_X_ppl\":0,\"Deaths_1M_pop\":2790,\"Serious_Critical\":146,\"Tests_1M_Pop\":7606035,\"TotCases_1M_Pop\":346422},{\"id\":\"55dd283b-20e8-49ac-96f9-774f05abdfa9\",\"rank\":8,\"Country\":\"Italy\",\"Continent\":\"Europe\",\"TwoLetterSymbol\":\"it\",\"ThreeLetterSymbol\":\"ita\",\"Infection_Risk\":38.28,\"Case_Fatality_Rate\":0.77,\"Test_Percentage\":414.7,\"Recovery_Proporation\":96.83,\"TotalCases\":23069745,\"NewCases\":38968,\"TotalDeaths\":177956,\"NewDeaths\":73,\"TotalRecovered\":\"22339297\",\"NewRecovered\":29169,\"ActiveCases\":552492,\"TotalTests\":\"249896478\",\"Population\":\"60259246\",\"one_Caseevery_X_ppl\":3,\"one_Deathevery_X_ppl\":339,\"one_Testevery_X_ppl\":0,\"Deaths_1M_pop\":2953,\"Serious_Critical\":252,\"Tests_1M_Pop\":4147023,\"TotCases_1M_Pop\":382842},{\"id\":\"905d7fab-0083-4209-8a10-61f8b3e74994\",\"rank\":9,\"Country\":\"Japan\",\"Continent\":\"Asia\",\"TwoLetterSymbol\":\"jp\",\"ThreeLetterSymbol\":\"jpn\",\"Infection_Risk\":17.3,\"Case_Fatality_Rate\":0.21,\"Test_Percentage\":60.67,\"Recovery_Proporation\":94.11,\"TotalCases\":21727933,\"NewCases\":35138,\"TotalDeaths\":45823,\"NewDeaths\":67,\"TotalRecovered\":\"20448998\",\"NewRecovered\":6490,\"ActiveCases\":1233112,\"TotalTests\":\"76201407\",\"Population\":\"125594347\",\"one_Caseevery_X_ppl\":6,\"one_Deathevery_X_ppl\":2741,\"one_Testevery_X_ppl\":2,\"Deaths_1M_pop\":365,\"Serious_Critical\":118,\"Tests_1M_Pop\":606726,\"TotCases_1M_Pop\":173001},{\"id\":\"8d1ed383-8d38-4bf0-9931-ed46922de1a4\",\"rank\":10,\"Country\":\"Russia\",\"Continent\":\"Europe\",\"TwoLetterSymbol\":\"ru\",\"ThreeLetterSymbol\":\"rus\",\"Infection_Risk\":14.58,\"Case_Fatality_Rate\":1.83,\"Test_Percentage\":187.16,\"Recovery_Proporation\":96.68,\"TotalCases\":21292200,\"NewCases\":13384,\"TotalDeaths\":388807,\"NewDeaths\":98,\"TotalRecovered\":\"20585404\",\"NewRecovered\":26130,\"ActiveCases\":317989,\"TotalTests\":\"273400000\",\"Population\":\"146077066\",\"one_Caseevery_X_ppl\":7,\"one_Deathevery_X_ppl\":376,\"one_Testevery_X_ppl\":1,\"Deaths_1M_pop\":2662,\"Serious_Critical\":2300,\"Tests_1M_Pop\":1871615,\"TotCases_1M_Pop\":145760},{\"id\":\"a30588f4-4e4b-4e3b-92b2-1baeb341682e\",\"rank\":11,\"Country\":\"Turkey\",\"Continent\":\"Asia\",\"TwoLetterSymbol\":\"tr\",\"ThreeLetterSymbol\":\"tur\",\"Infection_Risk\":19.58,\"Case_Fatality_Rate\":0.6,\"Test_Percentage\":188.34,\"Recovery_Proporation\":99.3,\"TotalCases\":16919638,\"NewCases\":0,\"TotalDeaths\":101203,\"NewDeaths\":0,\"TotalRecovered\":\"16801923\",\"NewRecovered\":3302,\"ActiveCases\":16512,\"TotalTests\":\"162743369\",\"Population\":\"86408416\",\"one_Caseevery_X_ppl\":5,\"one_Deathevery_X_ppl\":854,\"one_Testevery_X_ppl\":1,\"Deaths_1M_pop\":1171,\"Serious_Critical\":0,\"Tests_1M_Pop\":1883420,\"TotCases_1M_Pop\":195810},{\"id\":\"63ceffad-0f5b-4c16-9ac6-9a3e037159ab\",\"rank\":12,\"Country\":\"Spain\",\"Continent\":\"Europe\",\"TwoLetterSymbol\":\"es\",\"ThreeLetterSymbol\":\"esp\",\"Infection_Risk\":28.77,\"Case_Fatality_Rate\":0.85,\"Test_Percentage\":1006.57,\"Recovery_Proporation\":98.48,\"TotalCases\":13462593,\"NewCases\":0,\"TotalDeaths\":114641,\"NewDeaths\":0,\"TotalRecovered\":\"13257857\",\"NewRecovered\":0,\"ActiveCases\":90095,\"TotalTests\":\"471036328\",\"Population\":\"46796048\",\"one_Caseevery_X_ppl\":3,\"one_Deathevery_X_ppl\":408,\"one_Testevery_X_ppl\":0,\"Deaths_1M_pop\":2450,\"Serious_Critical\":339,\"Tests_1M_Pop\":10065729,\"TotCases_1M_Pop\":287687},{\"id\":\"de1a2462-a817-4b62-839f-9c0f5f717eda\",\"rank\":13,\"Country\":\"Vietnam\",\"Continent\":\"Asia\",\"TwoLetterSymbol\":\"vn\",\"ThreeLetterSymbol\":\"vnm\",\"Infection_Risk\":11.57,\"Case_Fatality_Rate\":0.38,\"Test_Percentage\":86.4,\"Recovery_Proporation\":92.22,\"TotalCases\":11492273,\"NewCases\":732,\"TotalDeaths\":43155,\"NewDeaths\":0,\"TotalRecovered\":\"10598733\",\"NewRecovered\":289,\"ActiveCases\":850385,\"TotalTests\":\"85826548\",\"Population\":\"99335465\",\"one_Caseevery_X_ppl\":9,\"one_Deathevery_X_ppl\":2302,\"one_Testevery_X_ppl\":1,\"Deaths_1M_pop\":434,\"Serious_Critical\":53,\"Tests_1M_Pop\":864007,\"TotCases_1M_Pop\":115692},{\"id\":\"16766eed-520b-48d0-b7a1-f268b1b95520\",\"rank\":14,\"Country\":\"Australia\",\"Continent\":\"Australia/Oceania\",\"TwoLetterSymbol\":\"au\",\"ThreeLetterSymbol\":\"aus\",\"Infection_Risk\":39.39,\"Case_Fatality_Rate\":0.15,\"Test_Percentage\":301.19,\"Recovery_Proporation\":99.11,\"TotalCases\":10309104,\"NewCases\":2029,\"TotalDeaths\":15475,\"NewDeaths\":8,\"TotalRecovered\":\"10216900\",\"NewRecovered\":0,\"ActiveCases\":76729,\"TotalTests\":\"78835048\",\"Population\":\"26174539\",\"one_Caseevery_X_ppl\":3,\"one_Deathevery_X_ppl\":1691,\"one_Testevery_X_ppl\":0,\"Deaths_1M_pop\":591,\"Serious_Critical\":37,\"Tests_1M_Pop\":3011898,\"TotCases_1M_Pop\":393860},{\"id\":\"7b0615b0-8cf9-43f0-82a9-55f99f273ff2\",\"rank\":15,\"Country\":\"Argentina\",\"Continent\":\"South America\",\"TwoLetterSymbol\":\"ar\",\"ThreeLetterSymbol\":\"arg\",\"Infection_Risk\":21.05,\"Case_Fatality_Rate\":1.34,\"Test_Percentage\":77.41,\"Recovery_Proporation\":98.59,\"TotalCases\":9713594,\"NewCases\":0,\"TotalDeaths\":129958,\"NewDeaths\":0,\"TotalRecovered\":\"9576540\",\"NewRecovered\":640,\"ActiveCases\":7096,\"TotalTests\":\"35716069\",\"Population\":\"46141374\",\"one_Caseevery_X_ppl\":5,\"one_Deathevery_X_ppl\":355,\"one_Testevery_X_ppl\":1,\"Deaths_1M_pop\":2817,\"Serious_Critical\":279,\"Tests_1M_Pop\":774057,\"TotCases_1M_Pop\":210518},{\"id\":\"7d4fc69a-8af7-4d94-8b6e-61be6d099a90\",\"rank\":16,\"Country\":\"Netherlands\",\"Continent\":\"Europe\",\"TwoLetterSymbol\":\"nl\",\"ThreeLetterSymbol\":\"nld\",\"Infection_Risk\":49.22,\"Case_Fatality_Rate\":0.27,\"Test_Percentage\":122.57,\"Recovery_Proporation\":98.87,\"TotalCases\":8476062,\"NewCases\":0,\"TotalDeaths\":22721,\"NewDeaths\":0,\"TotalRecovered\":\"8379954\",\"NewRecovered\":0,\"ActiveCases\":73387,\"TotalTests\":\"21107399\",\"Population\":\"17221283\",\"one_Caseevery_X_ppl\":2,\"one_Deathevery_X_ppl\":758,\"one_Testevery_X_ppl\":1,\"Deaths_1M_pop\":1319,\"Serious_Critical\":39,\"Tests_1M_Pop\":1225658,\"TotCases_1M_Pop\":492185},{\"id\":\"fa5c2b0a-f283-406a-9d80-2ec4c1309a62\",\"rank\":17,\"Country\":\"Iran\",\"Continent\":\"Asia\",\"TwoLetterSymbol\":\"ir\",\"ThreeLetterSymbol\":\"irn\",\"Infection_Risk\":8.74,\"Case_Fatality_Rate\":1.91,\"Test_Percentage\":62.58,\"Recovery_Proporation\":97.02,\"TotalCases\":7554006,\"NewCases\":397,\"TotalDeaths\":144516,\"NewDeaths\":6,\"TotalRecovered\":\"7328944\",\"NewRecovered\":186,\"ActiveCases\":80546,\"TotalTests\":\"54095556\",\"Population\":\"86444496\",\"one_Caseevery_X_ppl\":11,\"one_Deathevery_X_ppl\":598,\"one_Testevery_X_ppl\":2,\"Deaths_1M_pop\":1672,\"Serious_Critical\":113,\"Tests_1M_Pop\":625784,\"TotCases_1M_Pop\":87386},{\"id\":\"0a14bd04-b96e-4afb-b4bf-8a4657740ccd\",\"rank\":18,\"Country\":\"Taiwan\",\"Continent\":\"Asia\",\"TwoLetterSymbol\":\"tw\",\"ThreeLetterSymbol\":\"twn\",\"Infection_Risk\":29.87,\"Case_Fatality_Rate\":0.17,\"Test_Percentage\":112.88,\"Recovery_Proporation\":87.34,\"TotalCases\":7142418,\"NewCases\":43510,\"TotalDeaths\":11843,\"NewDeaths\":77,\"TotalRecovered\":\"6238243\",\"NewRecovered\":38858,\"ActiveCases\":892332,\"TotalTests\":\"26994781\",\"Population\":\"23915022\",\"one_Caseevery_X_ppl\":3,\"one_Deathevery_X_ppl\":2019,\"one_Testevery_X_ppl\":1,\"Deaths_1M_pop\":495,\"Serious_Critical\":0,\"Tests_1M_Pop\":1128779,\"TotCases_1M_Pop\":298658},{\"id\":\"6d301ced-1214-48a3-952e-ffc655c8c284\",\"rank\":19,\"Country\":\"Mexico\",\"Continent\":\"North America\",\"TwoLetterSymbol\":\"mx\",\"ThreeLetterSymbol\":\"mex\",\"Infection_Risk\":5.38,\"Case_Fatality_Rate\":4.65,\"Test_Percentage\":14.01,\"Recovery_Proporation\":89.75,\"TotalCases\":7100886,\"NewCases\":0,\"TotalDeaths\":330254,\"NewDeaths\":0,\"TotalRecovered\":\"6373032\",\"NewRecovered\":0,\"ActiveCases\":397600,\"TotalTests\":\"18492768\",\"Population\":\"132021529\",\"one_Caseevery_X_ppl\":19,\"one_Deathevery_X_ppl\":400,\"one_Testevery_X_ppl\":7,\"Deaths_1M_pop\":2502,\"Serious_Critical\":4798,\"Tests_1M_Pop\":140074,\"TotCases_1M_Pop\":53786},{\"id\":\"2ff2436f-a569-44bf-ba29-083ad4f81f70\",\"rank\":20,\"Country\":\"Indonesia\",\"Continent\":\"Asia\",\"TwoLetterSymbol\":\"id\",\"ThreeLetterSymbol\":\"idn\",\"Infection_Risk\":2.3,\"Case_Fatality_Rate\":2.45,\"Test_Percentage\":39.12,\"Recovery_Proporation\":97.28,\"TotalCases\":6455542,\"NewCases\":1678,\"TotalDeaths\":158301,\"NewDeaths\":20,\"TotalRecovered\":\"6279980\",\"NewRecovered\":1867,\"ActiveCases\":17261,\"TotalTests\":\"109575332\",\"Population\":\"280118674\",\"one_Caseevery_X_ppl\":43,\"one_Deathevery_X_ppl\":1770,\"one_Testevery_X_ppl\":3,\"Deaths_1M_pop\":565,\"Serious_Critical\":2771,\"Tests_1M_Pop\":391175,\"TotCases_1M_Pop\":23046},{\"id\":\"6450f181-d69f-44f8-9707-e16ef455de60\",\"rank\":21,\"Country\":\"Poland\",\"Continent\":\"Europe\",\"TwoLetterSymbol\":\"pl\",\"ThreeLetterSymbol\":\"pol\",\"Infection_Risk\":16.76,\"Case_Fatality_Rate\":1.86,\"Test_Percentage\":99.39,\"Recovery_Proporation\":84.34,\"TotalCases\":6326446,\"NewCases\":1594,\"TotalDeaths\":117900,\"NewDeaths\":31,\"TotalRecovered\":\"5335940\",\"NewRecovered\":0,\"ActiveCases\":872606,\"TotalTests\":\"37521629\",\"Population\":\"37752158\",\"one_Caseevery_X_ppl\":6,\"one_Deathevery_X_ppl\":320,\"one_Testevery_X_ppl\":1,\"Deaths_1M_pop\":3123,\"Serious_Critical\":3650,\"Tests_1M_Pop\":993894,\"TotCases_1M_Pop\":167578},{\"id\":\"f90f48b5-e45e-4039-b963-64af3ef07a1c\",\"rank\":22,\"Country\":\"Colombia\",\"Continent\":\"South America\",\"TwoLetterSymbol\":\"co\",\"ThreeLetterSymbol\":\"col\",\"Infection_Risk\":12.1,\"Case_Fatality_Rate\":2.25,\"Test_Percentage\":70.33,\"Recovery_Proporation\":97.27,\"TotalCases\":6308558,\"NewCases\":0,\"TotalDeaths\":141820,\"NewDeaths\":0,\"TotalRecovered\":\"6136591\",\"NewRecovered\":0,\"ActiveCases\":30147,\"TotalTests\":\"36654229\",\"Population\":\"52119534\",\"one_Caseevery_X_ppl\":8,\"one_Deathevery_X_ppl\":368,\"one_Testevery_X_ppl\":1,\"Deaths_1M_pop\":2721,\"Serious_Critical\":342,\"Tests_1M_Pop\":703272,\"TotCases_1M_Pop\":121040},{\"id\":\"9fb86a08-d197-4fcb-b08a-bebbe5f6c642\",\"rank\":23,\"Country\":\"Portugal\",\"Continent\":\"Europe\",\"TwoLetterSymbol\":\"pt\",\"ThreeLetterSymbol\":\"prt\",\"Infection_Risk\":54.39,\"Case_Fatality_Rate\":0.46,\"Test_Percentage\":444.86,\"Recovery_Proporation\":98.56,\"TotalCases\":5509424,\"NewCases\":0,\"TotalDeaths\":25125,\"NewDeaths\":0,\"TotalRecovered\":\"5430047\",\"NewRecovered\":0,\"ActiveCases\":54252,\"TotalTests\":\"45059939\",\"Population\":\"10128972\",\"one_Caseevery_X_ppl\":2,\"one_Deathevery_X_ppl\":403,\"one_Testevery_X_ppl\":0,\"Deaths_1M_pop\":2481,\"Serious_Critical\":61,\"Tests_1M_Pop\":4448619,\"TotCases_1M_Pop\":543927},{\"id\":\"3648e894-a54c-41c8-8abf-4994e7b2b79c\",\"rank\":24,\"Country\":\"Austria\",\"Continent\":\"Europe\",\"TwoLetterSymbol\":\"at\",\"ThreeLetterSymbol\":\"aut\",\"Infection_Risk\":58.43,\"Case_Fatality_Rate\":0.39,\"Test_Percentage\":2180.86,\"Recovery_Proporation\":97.04,\"TotalCases\":5331324,\"NewCases\":11238,\"TotalDeaths\":20922,\"NewDeaths\":3,\"TotalRecovered\":\"5173569\",\"NewRecovered\":14106,\"ActiveCases\":136833,\"TotalTests\":\"198972158\",\"Population\":\"9123547\",\"one_Caseevery_X_ppl\":2,\"one_Deathevery_X_ppl\":436,\"one_Testevery_X_ppl\":0,\"Deaths_1M_pop\":2293,\"Serious_Critical\":47,\"Tests_1M_Pop\":21808641,\"TotCases_1M_Pop\":584348},{\"id\":\"6c1e2aef-eb2e-4cf7-9382-ed1358459d13\",\"rank\":25,\"Country\":\"Ukraine\",\"Continent\":\"Europe\",\"TwoLetterSymbol\":\"ua\",\"ThreeLetterSymbol\":\"ukr\",\"Infection_Risk\":12,\"Case_Fatality_Rate\":2.11,\"Test_Percentage\":45.26,\"Recovery_Proporation\":97.53,\"TotalCases\":5177217,\"NewCases\":0,\"TotalDeaths\":109206,\"NewDeaths\":0,\"TotalRecovered\":\"5049094\",\"NewRecovered\":6305,\"ActiveCases\":18917,\"TotalTests\":\"19521252\",\"Population\":\"43135296\",\"one_Caseevery_X_ppl\":8,\"one_Deathevery_X_ppl\":395,\"one_Testevery_X_ppl\":2,\"Deaths_1M_pop\":2532,\"Serious_Critical\":177,\"Tests_1M_Pop\":452559,\"TotCases_1M_Pop\":120023},{\"id\":\"311c2c2c-2484-42eb-a30b-e163a001a74e\",\"rank\":26,\"Country\":\"Greece\",\"Continent\":\"Europe\",\"TwoLetterSymbol\":\"gr\",\"ThreeLetterSymbol\":\"grc\",\"Infection_Risk\":48.77,\"Case_Fatality_Rate\":0.66,\"Test_Percentage\":926.9,\"Recovery_Proporation\":98.31,\"TotalCases\":5026494,\"NewCases\":0,\"TotalDeaths\":33313,\"NewDeaths\":0,\"TotalRecovered\":\"4941754\",\"NewRecovered\":7840,\"ActiveCases\":51427,\"TotalTests\":\"95536498\",\"Population\":\"10307077\",\"one_Caseevery_X_ppl\":2,\"one_Deathevery_X_ppl\":309,\"one_Testevery_X_ppl\":0,\"Deaths_1M_pop\":3232,\"Serious_Critical\":115,\"Tests_1M_Pop\":9269020,\"TotCases_1M_Pop\":487674},{\"id\":\"e104cdc2-f1cc-45de-a101-fc1d50310e23\",\"rank\":27,\"Country\":\"Malaysia\",\"Continent\":\"Asia\",\"TwoLetterSymbol\":\"my\",\"ThreeLetterSymbol\":\"mys\",\"Infection_Risk\":14.6,\"Case_Fatality_Rate\":0.75,\"Test_Percentage\":194.92,\"Recovery_Proporation\":98.74,\"TotalCases\":4863457,\"NewCases\":0,\"TotalDeaths\":36415,\"NewDeaths\":0,\"TotalRecovered\":\"4802012\",\"NewRecovered\":0,\"ActiveCases\":25030,\"TotalTests\":\"64929445\",\"Population\":\"33311632\",\"one_Caseevery_X_ppl\":7,\"one_Deathevery_X_ppl\":915,\"one_Testevery_X_ppl\":1,\"Deaths_1M_pop\":1093,\"Serious_Critical\":33,\"Tests_1M_Pop\":1949152,\"TotCases_1M_Pop\":145999},{\"id\":\"b012c316-0e20-4bfe-9ce2-edf9dcca2f0b\",\"rank\":29,\"Country\":\"Thailand\",\"Continent\":\"Asia\",\"TwoLetterSymbol\":\"th\",\"ThreeLetterSymbol\":\"tha\",\"Infection_Risk\":6.67,\"Case_Fatality_Rate\":0.7,\"Test_Percentage\":24.6,\"Recovery_Proporation\":99.19,\"TotalCases\":4685047,\"NewCases\":0,\"TotalDeaths\":32829,\"NewDeaths\":0,\"TotalRecovered\":\"4647275\",\"NewRecovered\":0,\"ActiveCases\":4943,\"TotalTests\":\"17270775\",\"Population\":\"70199178\",\"one_Caseevery_X_ppl\":15,\"one_Deathevery_X_ppl\":2138,\"one_Testevery_X_ppl\":4,\"Deaths_1M_pop\":468,\"Serious_Critical\":1496,\"Tests_1M_Pop\":246025,\"TotCases_1M_Pop\":66739},{\"id\":\"4a532c8d-46b7-45ea-b6a4-eb4966239356\",\"rank\":30,\"Country\":\"Chile\",\"Continent\":\"South America\",\"TwoLetterSymbol\":\"cl\",\"ThreeLetterSymbol\":\"chl\",\"Infection_Risk\":23.98,\"Case_Fatality_Rate\":1.31,\"Test_Percentage\":234.06,\"Recovery_Proporation\":98.31,\"TotalCases\":4674373,\"NewCases\":4970,\"TotalDeaths\":61412,\"NewDeaths\":15,\"TotalRecovered\":\"4595160\",\"NewRecovered\":2939,\"ActiveCases\":17801,\"TotalTests\":\"45618677\",\"Population\":\"19490330\",\"one_Caseevery_X_ppl\":4,\"one_Deathevery_X_ppl\":317,\"one_Testevery_X_ppl\":0,\"Deaths_1M_pop\":3151,\"Serious_Critical\":85,\"Tests_1M_Pop\":2340580,\"TotCases_1M_Pop\":239830},{\"id\":\"d16f103a-0088-436d-bac6-0a29535520f9\",\"rank\":31,\"Country\":\"Israel\",\"Continent\":\"Asia\",\"TwoLetterSymbol\":\"il\",\"ThreeLetterSymbol\":\"isr\",\"Infection_Risk\":50.1,\"Case_Fatality_Rate\":0.25,\"Test_Percentage\":443.63,\"Recovery_Proporation\":99.62,\"TotalCases\":4672057,\"NewCases\":0,\"TotalDeaths\":11712,\"NewDeaths\":0,\"TotalRecovered\":\"4654277\",\"NewRecovered\":0,\"ActiveCases\":6068,\"TotalTests\":\"41373364\",\"Population\":\"9326000\",\"one_Caseevery_X_ppl\":2,\"one_Deathevery_X_ppl\":796,\"one_Testevery_X_ppl\":0,\"Deaths_1M_pop\":1256,\"Serious_Critical\":90,\"Tests_1M_Pop\":4436346,\"TotCases_1M_Pop\":500971},{\"id\":\"fe31ac25-e0fe-49e9-a802-f00e0ed703d4\",\"rank\":32,\"Country\":\"Belgium\",\"Continent\":\"Europe\",\"TwoLetterSymbol\":\"be\",\"ThreeLetterSymbol\":\"bel\",\"Infection_Risk\":39.19,\"Case_Fatality_Rate\":0.71,\"Test_Percentage\":305.75,\"Recovery_Proporation\":97.6,\"TotalCases\":4586564,\"NewCases\":0,\"TotalDeaths\":32776,\"NewDeaths\":0,\"TotalRecovered\":\"4476350\",\"NewRecovered\":2495,\"ActiveCases\":77438,\"TotalTests\":\"35787160\",\"Population\":\"11704598\",\"one_Caseevery_X_ppl\":3,\"one_Deathevery_X_ppl\":357,\"one_Testevery_X_ppl\":0,\"Deaths_1M_pop\":2800,\"Serious_Critical\":68,\"Tests_1M_Pop\":3057530,\"TotCases_1M_Pop\":391860},{\"id\":\"e25f14b6-e3e8-4944-bef8-81d695a18188\",\"rank\":33,\"Country\":\"Canada\",\"Continent\":\"North America\",\"TwoLetterSymbol\":\"ca\",\"ThreeLetterSymbol\":\"can\",\"Infection_Risk\":11.15,\"Case_Fatality_Rate\":1.06,\"Test_Percentage\":169.92,\"Recovery_Proporation\":97.2,\"TotalCases\":4293273,\"NewCases\":0,\"TotalDeaths\":45689,\"NewDeaths\":0,\"TotalRecovered\":\"4173222\",\"NewRecovered\":5111,\"ActiveCases\":74362,\"TotalTests\":\"65412557\",\"Population\":\"38496648\",\"one_Caseevery_X_ppl\":9,\"one_Deathevery_X_ppl\":843,\"one_Testevery_X_ppl\":1,\"Deaths_1M_pop\":1187,\"Serious_Critical\":99,\"Tests_1M_Pop\":1699175,\"TotCases_1M_Pop\":111523},{\"id\":\"c5905947-ac1b-4bbb-8985-e794bb6ab6c3\",\"rank\":34,\"Country\":\"Peru\",\"Continent\":\"South America\",\"TwoLetterSymbol\":\"pe\",\"ThreeLetterSymbol\":\"per\",\"Infection_Risk\":12.2,\"Case_Fatality_Rate\":5.23,\"Test_Percentage\":104.18,\"Recovery_Proporation\":94.66,\"TotalCases\":4150121,\"NewCases\":0,\"TotalDeaths\":216855,\"NewDeaths\":0,\"TotalRecovered\":\"3928457\",\"NewRecovered\":239,\"ActiveCases\":4809,\"TotalTests\":\"35442033\",\"Population\":\"34019264\",\"one_Caseevery_X_ppl\":8,\"one_Deathevery_X_ppl\":157,\"one_Testevery_X_ppl\":1,\"Deaths_1M_pop\":6374,\"Serious_Critical\":118,\"Tests_1M_Pop\":1041822,\"TotCases_1M_Pop\":121993},{\"id\":\"1653a805-d080-4261-8e3f-dd2c7fef64bf\",\"rank\":35,\"Country\":\"Switzerland\",\"Continent\":\"Europe\",\"TwoLetterSymbol\":\"ch\",\"ThreeLetterSymbol\":\"che\",\"Infection_Risk\":47.1,\"Case_Fatality_Rate\":0.34,\"Test_Percentage\":255.45,\"Recovery_Proporation\":97.56,\"TotalCases\":4144447,\"NewCases\":0,\"TotalDeaths\":14203,\"NewDeaths\":0,\"TotalRecovered\":\"4043305\",\"NewRecovered\":2360,\"ActiveCases\":86939,\"TotalTests\":\"22476990\",\"Population\":\"8798919\",\"one_Caseevery_X_ppl\":2,\"one_Deathevery_X_ppl\":620,\"one_Testevery_X_ppl\":0,\"Deaths_1M_pop\":1614,\"Serious_Critical\":54,\"Tests_1M_Pop\":2554517,\"TotCases_1M_Pop\":471018},{\"id\":\"05633ff1-5dc7-49f6-b72a-2052c46ec3e1\",\"rank\":36,\"Country\":\"Czechia\",\"Continent\":\"Europe\",\"TwoLetterSymbol\":\"cz\",\"ThreeLetterSymbol\":\"cze\",\"Infection_Risk\":38.5,\"Case_Fatality_Rate\":1,\"Test_Percentage\":524.23,\"Recovery_Proporation\":98.51,\"TotalCases\":4140509,\"NewCases\":1940,\"TotalDeaths\":41376,\"NewDeaths\":7,\"TotalRecovered\":\"4078637\",\"NewRecovered\":3292,\"ActiveCases\":20496,\"TotalTests\":\"56376755\",\"Population\":\"10754261\",\"one_Caseevery_X_ppl\":3,\"one_Deathevery_X_ppl\":260,\"one_Testevery_X_ppl\":0,\"Deaths_1M_pop\":3847,\"Serious_Critical\":59,\"Tests_1M_Pop\":5242271,\"TotCases_1M_Pop\":385011},{\"id\":\"d2c89dbe-ab3b-4178-8d7d-1c908d7471c8\",\"rank\":37,\"Country\":\"South Africa\",\"Continent\":\"Africa\",\"TwoLetterSymbol\":\"za\",\"ThreeLetterSymbol\":\"zaf\",\"Infection_Risk\":6.59,\"Case_Fatality_Rate\":2.54,\"Test_Percentage\":42.9,\"Recovery_Proporation\":97.25,\"TotalCases\":4022973,\"NewCases\":0,\"TotalDeaths\":102246,\"NewDeaths\":0,\"TotalRecovered\":\"3912506\",\"NewRecovered\":0,\"ActiveCases\":8221,\"TotalTests\":\"26174429\",\"Population\":\"61013859\",\"one_Caseevery_X_ppl\":15,\"one_Deathevery_X_ppl\":597,\"one_Testevery_X_ppl\":2,\"Deaths_1M_pop\":1676,\"Serious_Critical\":192,\"Tests_1M_Pop\":428992,\"TotCases_1M_Pop\":65935},{\"id\":\"f0e6ea86-a22d-405c-a0c7-63dbb2a2c03f\",\"rank\":38,\"Country\":\"Philippines\",\"Continent\":\"Asia\",\"TwoLetterSymbol\":\"ph\",\"ThreeLetterSymbol\":\"phl\",\"Infection_Risk\":3.53,\"Case_Fatality_Rate\":1.59,\"Test_Percentage\":29.29,\"Recovery_Proporation\":97.74,\"TotalCases\":3980629,\"NewCases\":2367,\"TotalDeaths\":63477,\"NewDeaths\":38,\"TotalRecovered\":\"3890748\",\"NewRecovered\":2232,\"ActiveCases\":26404,\"TotalTests\":\"33067051\",\"Population\":\"112907030\",\"one_Caseevery_X_ppl\":28,\"one_Deathevery_X_ppl\":1779,\"one_Testevery_X_ppl\":3,\"Deaths_1M_pop\":562,\"Serious_Critical\":654,\"Tests_1M_Pop\":292870,\"TotCases_1M_Pop\":35256},{\"id\":\"4a525969-421a-4975-ae32-bfca080f31ec\",\"rank\":39,\"Country\":\"Romania\",\"Continent\":\"Europe\",\"TwoLetterSymbol\":\"ro\",\"ThreeLetterSymbol\":\"rou\",\"Infection_Risk\":17.31,\"Case_Fatality_Rate\":2.05,\"Test_Percentage\":133.51,\"Recovery_Proporation\":97.62,\"TotalCases\":3279623,\"NewCases\":478,\"TotalDeaths\":67119,\"NewDeaths\":5,\"TotalRecovered\":\"3201448\",\"NewRecovered\":1188,\"ActiveCases\":11056,\"TotalTests\":\"25294338\",\"Population\":\"18945397\",\"one_Caseevery_X_ppl\":6,\"one_Deathevery_X_ppl\":282,\"one_Testevery_X_ppl\":1,\"Deaths_1M_pop\":3543,\"Serious_Critical\":107,\"Tests_1M_Pop\":1335118,\"TotCases_1M_Pop\":173109},{\"id\":\"9aa3efef-70e8-4d44-bb06-5113e05a298a\",\"rank\":40,\"Country\":\"Denmark\",\"Continent\":\"Europe\",\"TwoLetterSymbol\":\"dk\",\"ThreeLetterSymbol\":\"dnk\",\"Infection_Risk\":53.52,\"Case_Fatality_Rate\":0.23,\"Test_Percentage\":2201.21,\"Recovery_Proporation\":99.34,\"TotalCases\":3125106,\"NewCases\":0,\"TotalDeaths\":7173,\"NewDeaths\":0,\"TotalRecovered\":\"3104569\",\"NewRecovered\":0,\"ActiveCases\":13364,\"TotalTests\":\"128522038\",\"Population\":\"5838695\",\"one_Caseevery_X_ppl\":2,\"one_Deathevery_X_ppl\":814,\"one_Testevery_X_ppl\":0,\"Deaths_1M_pop\":1229,\"Serious_Critical\":1,\"Tests_1M_Pop\":22012117,\"TotCases_1M_Pop\":535240},{\"id\":\"1846091c-6ef4-4641-8231-afcf4a6a77b6\",\"rank\":41,\"Country\":\"Sweden\",\"Continent\":\"Europe\",\"TwoLetterSymbol\":\"se\",\"ThreeLetterSymbol\":\"swe\",\"Infection_Risk\":25.43,\"Case_Fatality_Rate\":0.78,\"Test_Percentage\":185.6,\"Recovery_Proporation\":98.21,\"TotalCases\":2604866,\"NewCases\":0,\"TotalDeaths\":20407,\"NewDeaths\":0,\"TotalRecovered\":\"2558121\",\"NewRecovered\":938,\"ActiveCases\":26338,\"TotalTests\":\"19010468\",\"Population\":\"10242828\",\"one_Caseevery_X_ppl\":4,\"one_Deathevery_X_ppl\":502,\"one_Testevery_X_ppl\":1,\"Deaths_1M_pop\":1992,\"Serious_Critical\":17,\"Tests_1M_Pop\":1855978,\"TotCases_1M_Pop\":254311},{\"id\":\"7d322f05-e02b-40f5-bd69-577adea222a3\",\"rank\":42,\"Country\":\"Iraq\",\"Continent\":\"Asia\",\"TwoLetterSymbol\":\"iq\",\"ThreeLetterSymbol\":\"irq\",\"Infection_Risk\":5.82,\"Case_Fatality_Rate\":1.03,\"Test_Percentage\":45.77,\"Recovery_Proporation\":98.95,\"TotalCases\":2460868,\"NewCases\":0,\"TotalDeaths\":25356,\"NewDeaths\":0,\"TotalRecovered\":\"2435048\",\"NewRecovered\":0,\"ActiveCases\":464,\"TotalTests\":\"19350944\",\"Population\":\"42281205\",\"one_Caseevery_X_ppl\":17,\"one_Deathevery_X_ppl\":1668,\"one_Testevery_X_ppl\":2,\"Deaths_1M_pop\":600,\"Serious_Critical\":21,\"Tests_1M_Pop\":457672,\"TotCases_1M_Pop\":58202},{\"id\":\"cc09f3b8-9fd0-44ca-859c-ad9524bf9f28\",\"rank\":43,\"Country\":\"Serbia\",\"Continent\":\"Europe\",\"TwoLetterSymbol\":\"rs\",\"ThreeLetterSymbol\":\"srb\",\"Infection_Risk\":27.58,\"Case_Fatality_Rate\":0.72,\"Test_Percentage\":129.52,\"Recovery_Proporation\":97.88,\"TotalCases\":2387682,\"NewCases\":1174,\"TotalDeaths\":17128,\"NewDeaths\":6,\"TotalRecovered\":\"2337151\",\"NewRecovered\":2742,\"ActiveCases\":33403,\"TotalTests\":\"11212750\",\"Population\":\"8657194\",\"one_Caseevery_X_ppl\":4,\"one_Deathevery_X_ppl\":505,\"one_Testevery_X_ppl\":1,\"Deaths_1M_pop\":1978,\"Serious_Critical\":29,\"Tests_1M_Pop\":1295194,\"TotCases_1M_Pop\":275803},{\"id\":\"d1e5413c-287a-449f-bd0d-6bfc56d0b365\",\"rank\":44,\"Country\":\"Hungary\",\"Continent\":\"Europe\",\"TwoLetterSymbol\":\"hu\",\"ThreeLetterSymbol\":\"hun\",\"Infection_Risk\":22.08,\"Case_Fatality_Rate\":2.25,\"Test_Percentage\":118.64,\"Recovery_Proporation\":96.05,\"TotalCases\":2120543,\"NewCases\":0,\"TotalDeaths\":47680,\"NewDeaths\":0,\"TotalRecovered\":\"2036700\",\"NewRecovered\":0,\"ActiveCases\":36163,\"TotalTests\":\"11394556\",\"Population\":\"9604463\",\"one_Caseevery_X_ppl\":5,\"one_Deathevery_X_ppl\":201,\"one_Testevery_X_ppl\":1,\"Deaths_1M_pop\":4964,\"Serious_Critical\":32,\"Tests_1M_Pop\":1186381,\"TotCases_1M_Pop\":220787},{\"id\":\"c41513ff-6514-470a-b9f1-ff13a051cad2\",\"rank\":45,\"Country\":\"Bangladesh\",\"Continent\":\"Asia\",\"TwoLetterSymbol\":\"bd\",\"ThreeLetterSymbol\":\"bgd\",\"Infection_Risk\":1.21,\"Case_Fatality_Rate\":1.45,\"Test_Percentage\":8.87,\"Recovery_Proporation\":97.11,\"TotalCases\":2031797,\"NewCases\":0,\"TotalDeaths\":29393,\"NewDeaths\":0,\"TotalRecovered\":\"1973072\",\"NewRecovered\":0,\"ActiveCases\":29332,\"TotalTests\":\"14938292\",\"Population\":\"168430526\",\"one_Caseevery_X_ppl\":83,\"one_Deathevery_X_ppl\":5730,\"one_Testevery_X_ppl\":11,\"Deaths_1M_pop\":175,\"Serious_Critical\":1331,\"Tests_1M_Pop\":88691,\"TotCases_1M_Pop\":12063},{\"id\":\"f7c6cb29-752b-4f13-b419-813680ad7e12\",\"rank\":46,\"Country\":\"Singapore\",\"Continent\":\"Asia\",\"TwoLetterSymbol\":\"sg\",\"ThreeLetterSymbol\":\"sgp\",\"Infection_Risk\":33.68,\"Case_Fatality_Rate\":0.08,\"Test_Percentage\":412.22,\"Recovery_Proporation\":95,\"TotalCases\":2005884,\"NewCases\":8037,\"TotalDeaths\":1641,\"NewDeaths\":0,\"TotalRecovered\":\"1905616\",\"NewRecovered\":9023,\"ActiveCases\":98627,\"TotalTests\":\"24548641\",\"Population\":\"5955243\",\"one_Caseevery_X_ppl\":3,\"one_Deathevery_X_ppl\":3629,\"one_Testevery_X_ppl\":0,\"Deaths_1M_pop\":276,\"Serious_Critical\":9,\"Tests_1M_Pop\":4122190,\"TotCases_1M_Pop\":336827},{\"id\":\"785cd61b-3f21-4b2c-958a-ea07ecdad12c\",\"rank\":47,\"Country\":\"Slovakia\",\"Continent\":\"Europe\",\"TwoLetterSymbol\":\"sk\",\"ThreeLetterSymbol\":\"svk\",\"Infection_Risk\":33.84,\"Case_Fatality_Rate\":1.11,\"Test_Percentage\":133.89,\"Recovery_Proporation\":98.61,\"TotalCases\":1849389,\"NewCases\":412,\"TotalDeaths\":20507,\"NewDeaths\":6,\"TotalRecovered\":\"1823628\",\"NewRecovered\":439,\"ActiveCases\":5254,\"TotalTests\":\"7317820\",\"Population\":\"5465669\",\"one_Caseevery_X_ppl\":3,\"one_Deathevery_X_ppl\":267,\"one_Testevery_X_ppl\":1,\"Deaths_1M_pop\":3752,\"Serious_Critical\":42,\"Tests_1M_Pop\":1338870,\"TotCases_1M_Pop\":338365},{\"id\":\"5de37feb-3a9b-42d2-8c09-345c543829a7\",\"rank\":48,\"Country\":\"Hong Kong\",\"Continent\":\"Asia\",\"TwoLetterSymbol\":\"hk\",\"ThreeLetterSymbol\":\"hkg\",\"Infection_Risk\":24,\"Case_Fatality_Rate\":0.56,\"Test_Percentage\":868.1,\"Recovery_Proporation\":88.57,\"TotalCases\":1832284,\"NewCases\":5424,\"TotalDeaths\":10268,\"NewDeaths\":7,\"TotalRecovered\":\"1622893\",\"NewRecovered\":10069,\"ActiveCases\":199123,\"TotalTests\":\"66284763\",\"Population\":\"7635654\",\"one_Caseevery_X_ppl\":4,\"one_Deathevery_X_ppl\":744,\"one_Testevery_X_ppl\":0,\"Deaths_1M_pop\":1345,\"Serious_Critical\":5,\"Tests_1M_Pop\":8680954,\"TotCases_1M_Pop\":239964},{\"id\":\"ff0aaa9f-fc0e-4469-a70f-cece3c15fbb2\",\"rank\":49,\"Country\":\"New Zealand\",\"Continent\":\"Australia/Oceania\",\"TwoLetterSymbol\":\"nz\",\"ThreeLetterSymbol\":\"nzl\",\"Infection_Risk\":36,\"Case_Fatality_Rate\":0.17,\"Test_Percentage\":150.82,\"Recovery_Proporation\":99.26,\"TotalCases\":1800602,\"NewCases\":0,\"TotalDeaths\":3013,\"NewDeaths\":0,\"TotalRecovered\":\"1787362\",\"NewRecovered\":0,\"ActiveCases\":10227,\"TotalTests\":\"7544063\",\"Population\":\"5002100\",\"one_Caseevery_X_ppl\":3,\"one_Deathevery_X_ppl\":1660,\"one_Testevery_X_ppl\":1,\"Deaths_1M_pop\":602,\"Serious_Critical\":0,\"Tests_1M_Pop\":1508179,\"TotCases_1M_Pop\":359969},{\"id\":\"81672076-33c2-48e4-81d2-db6ce456cc78\",\"rank\":50,\"Country\":\"Georgia\",\"Continent\":\"Asia\",\"TwoLetterSymbol\":\"ge\",\"ThreeLetterSymbol\":\"geo\",\"Infection_Risk\":44.83,\"Case_Fatality_Rate\":0.95,\"Test_Percentage\":426.01,\"Recovery_Proporation\":91.95,\"TotalCases\":1780691,\"NewCases\":0,\"TotalDeaths\":16900,\"NewDeaths\":0,\"TotalRecovered\":\"1637293\",\"NewRecovered\":0,\"ActiveCases\":126498,\"TotalTests\":\"16920079\",\"Population\":\"3971720\",\"one_Caseevery_X_ppl\":2,\"one_Deathevery_X_ppl\":235,\"one_Testevery_X_ppl\":0,\"Deaths_1M_pop\":4255,\"Serious_Critical\":0,\"Tests_1M_Pop\":4260139,\"TotCases_1M_Pop\":448343},{\"id\":\"802162af-bec2-4b62-849e-4ecbf1d9c380\",\"rank\":51,\"Country\":\"Jordan\",\"Continent\":\"Asia\",\"TwoLetterSymbol\":\"jo\",\"ThreeLetterSymbol\":\"jor\",\"Infection_Risk\":16.74,\"Case_Fatality_Rate\":0.81,\"Test_Percentage\":164.86,\"Recovery_Proporation\":99.08,\"TotalCases\":1746997,\"NewCases\":0,\"TotalDeaths\":14122,\"NewDeaths\":0,\"TotalRecovered\":\"1731007\",\"NewRecovered\":0,\"ActiveCases\":1868,\"TotalTests\":\"17201885\",\"Population\":\"10434090\",\"one_Caseevery_X_ppl\":6,\"one_Deathevery_X_ppl\":739,\"one_Testevery_X_ppl\":1,\"Deaths_1M_pop\":1353,\"Serious_Critical\":59,\"Tests_1M_Pop\":1648623,\"TotCases_1M_Pop\":167432},{\"id\":\"aed73591-ee4f-4d22-a0f3-3d025d0b7821\",\"rank\":52,\"Country\":\"Ireland\",\"Continent\":\"Europe\",\"TwoLetterSymbol\":\"ie\",\"ThreeLetterSymbol\":\"irl\",\"Infection_Risk\":32.95,\"Case_Fatality_Rate\":0.48,\"Test_Percentage\":251.69,\"Recovery_Proporation\":99.09,\"TotalCases\":1668301,\"NewCases\":0,\"TotalDeaths\":7952,\"NewDeaths\":0,\"TotalRecovered\":\"1653116\",\"NewRecovered\":679,\"ActiveCases\":7233,\"TotalTests\":\"12744275\",\"Population\":\"5063556\",\"one_Caseevery_X_ppl\":3,\"one_Deathevery_X_ppl\":637,\"one_Testevery_X_ppl\":0,\"Deaths_1M_pop\":1570,\"Serious_Critical\":11,\"Tests_1M_Pop\":2516863,\"TotCases_1M_Pop\":329472},{\"id\":\"935ff8a6-77f1-4114-9403-9cbb7fa9cb99\",\"rank\":53,\"Country\":\"Pakistan\",\"Continent\":\"Asia\",\"TwoLetterSymbol\":\"pk\",\"ThreeLetterSymbol\":\"pak\",\"Infection_Risk\":0.68,\"Case_Fatality_Rate\":1.95,\"Test_Percentage\":13.25,\"Recovery_Proporation\":97.8,\"TotalCases\":1573319,\"NewCases\":36,\"TotalDeaths\":30620,\"NewDeaths\":0,\"TotalRecovered\":\"1538689\",\"NewRecovered\":0,\"ActiveCases\":4010,\"TotalTests\":\"30570862\",\"Population\":\"230674750\",\"one_Caseevery_X_ppl\":147,\"one_Deathevery_X_ppl\":7533,\"one_Testevery_X_ppl\":8,\"Deaths_1M_pop\":133,\"Serious_Critical\":3027,\"Tests_1M_Pop\":132528,\"TotCases_1M_Pop\":6821},{\"id\":\"4d14f059-2c26-4982-8132-fcc9a3e1deb3\",\"rank\":54,\"Country\":\"Norway\",\"Continent\":\"Europe\",\"TwoLetterSymbol\":\"no\",\"ThreeLetterSymbol\":\"nor\",\"Infection_Risk\":26.52,\"Case_Fatality_Rate\":0.28,\"Test_Percentage\":199.4,\"Recovery_Proporation\":99.64,\"TotalCases\":1463397,\"NewCases\":0,\"TotalDeaths\":4153,\"NewDeaths\":0,\"TotalRecovered\":\"1458085\",\"NewRecovered\":0,\"ActiveCases\":1159,\"TotalTests\":\"11002430\",\"Population\":\"5517888\",\"one_Caseevery_X_ppl\":4,\"one_Deathevery_X_ppl\":1329,\"one_Testevery_X_ppl\":1,\"Deaths_1M_pop\":753,\"Serious_Critical\":20,\"Tests_1M_Pop\":1993957,\"TotCases_1M_Pop\":265210},{\"id\":\"d1fc1231-ca5a-4f3c-b4cb-4770cdf15a98\",\"rank\":55,\"Country\":\"Kazakhstan\",\"Continent\":\"Asia\",\"TwoLetterSymbol\":\"kz\",\"ThreeLetterSymbol\":\"kaz\",\"Infection_Risk\":7.23,\"Case_Fatality_Rate\":0.98,\"Test_Percentage\":60.01,\"Recovery_Proporation\":98.94,\"TotalCases\":1394239,\"NewCases\":53,\"TotalDeaths\":13692,\"NewDeaths\":0,\"TotalRecovered\":\"1379442\",\"NewRecovered\":0,\"ActiveCases\":1105,\"TotalTests\":\"11575012\",\"Population\":\"19288852\",\"one_Caseevery_X_ppl\":14,\"one_Deathevery_X_ppl\":1409,\"one_Testevery_X_ppl\":2,\"Deaths_1M_pop\":710,\"Serious_Critical\":24,\"Tests_1M_Pop\":600088,\"TotCases_1M_Pop\":72282},{\"id\":\"dc7c0e8c-ad34-446d-a695-59fe62ef8c2d\",\"rank\":56,\"Country\":\"Finland\",\"Continent\":\"Europe\",\"TwoLetterSymbol\":\"fi\",\"ThreeLetterSymbol\":\"fin\",\"Infection_Risk\":23.8,\"Case_Fatality_Rate\":0.47,\"Test_Percentage\":208.29,\"Recovery_Proporation\":97.03,\"TotalCases\":1323455,\"NewCases\":0,\"TotalDeaths\":6242,\"NewDeaths\":0,\"TotalRecovered\":\"1284209\",\"NewRecovered\":0,\"ActiveCases\":33004,\"TotalTests\":\"11581841\",\"Population\":\"5560337\",\"one_Caseevery_X_ppl\":4,\"one_Deathevery_X_ppl\":891,\"one_Testevery_X_ppl\":0,\"Deaths_1M_pop\":1123,\"Serious_Critical\":21,\"Tests_1M_Pop\":2082939,\"TotCases_1M_Pop\":238017},{\"id\":\"a2f0283a-7995-4463-889c-5bfef1e7796d\",\"rank\":57,\"Country\":\"Bulgaria\",\"Continent\":\"Europe\",\"TwoLetterSymbol\":\"bg\",\"ThreeLetterSymbol\":\"bgr\",\"Infection_Risk\":18.59,\"Case_Fatality_Rate\":2.98,\"Test_Percentage\":155.69,\"Recovery_Proporation\":96.18,\"TotalCases\":1269597,\"NewCases\":0,\"TotalDeaths\":37782,\"NewDeaths\":0,\"TotalRecovered\":\"1221042\",\"NewRecovered\":0,\"ActiveCases\":10773,\"TotalTests\":\"10632692\",\"Population\":\"6829319\",\"one_Caseevery_X_ppl\":5,\"one_Deathevery_X_ppl\":181,\"one_Testevery_X_ppl\":1,\"Deaths_1M_pop\":5532,\"Serious_Critical\":43,\"Tests_1M_Pop\":1556918,\"TotCases_1M_Pop\":185904},{\"id\":\"75159d96-aba5-49fc-96a1-34fa22ef4770\",\"rank\":58,\"Country\":\"Morocco\",\"Continent\":\"Africa\",\"TwoLetterSymbol\":\"ma\",\"ThreeLetterSymbol\":\"mar\",\"Infection_Risk\":3.34,\"Case_Fatality_Rate\":1.29,\"Test_Percentage\":33.3,\"Recovery_Proporation\":98.7,\"TotalCases\":1265201,\"NewCases\":21,\"TotalDeaths\":16278,\"NewDeaths\":0,\"TotalRecovered\":\"1248779\",\"NewRecovered\":13,\"ActiveCases\":144,\"TotalTests\":\"12621980\",\"Population\":\"37908174\",\"one_Caseevery_X_ppl\":30,\"one_Deathevery_X_ppl\":2329,\"one_Testevery_X_ppl\":3,\"Deaths_1M_pop\":429,\"Serious_Critical\":293,\"Tests_1M_Pop\":332962,\"TotCases_1M_Pop\":33375},{\"id\":\"1fe0506d-1912-462f-880b-04c8ebeae16c\",\"rank\":59,\"Country\":\"Lithuania\",\"Continent\":\"Europe\",\"TwoLetterSymbol\":\"lt\",\"ThreeLetterSymbol\":\"ltu\",\"Infection_Risk\":47.86,\"Case_Fatality_Rate\":0.74,\"Test_Percentage\":387.03,\"Recovery_Proporation\":97.9,\"TotalCases\":1261435,\"NewCases\":625,\"TotalDeaths\":9360,\"NewDeaths\":2,\"TotalRecovered\":\"1234936\",\"NewRecovered\":109,\"ActiveCases\":17139,\"TotalTests\":\"10201428\",\"Population\":\"2635830\",\"one_Caseevery_X_ppl\":2,\"one_Deathevery_X_ppl\":282,\"one_Testevery_X_ppl\":0,\"Deaths_1M_pop\":3551,\"Serious_Critical\":7,\"Tests_1M_Pop\":3870291,\"TotCases_1M_Pop\":478572},{\"id\":\"28cc8b8a-2bf8-43a0-935a-02226843eecb\",\"rank\":60,\"Country\":\"Croatia\",\"Continent\":\"Europe\",\"TwoLetterSymbol\":\"hr\",\"ThreeLetterSymbol\":\"hrv\",\"Infection_Risk\":30.67,\"Case_Fatality_Rate\":1.37,\"Test_Percentage\":131.31,\"Recovery_Proporation\":98.27,\"TotalCases\":1241383,\"NewCases\":570,\"TotalDeaths\":17012,\"NewDeaths\":6,\"TotalRecovered\":\"1219961\",\"NewRecovered\":756,\"ActiveCases\":4410,\"TotalTests\":\"5315060\",\"Population\":\"4047603\",\"one_Caseevery_X_ppl\":3,\"one_Deathevery_X_ppl\":238,\"one_Testevery_X_ppl\":1,\"Deaths_1M_pop\":4203,\"Serious_Critical\":23,\"Tests_1M_Pop\":1313138,\"TotCases_1M_Pop\":306696},{\"id\":\"49bd08ef-9b3b-49c0-b8e6-fa7816ff0700\",\"rank\":61,\"Country\":\"Lebanon\",\"Continent\":\"Asia\",\"TwoLetterSymbol\":\"lb\",\"ThreeLetterSymbol\":\"lbn\",\"Infection_Risk\":18.01,\"Case_Fatality_Rate\":0.88,\"Test_Percentage\":70.98,\"Recovery_Proporation\":89.37,\"TotalCases\":1216999,\"NewCases\":0,\"TotalDeaths\":10688,\"NewDeaths\":0,\"TotalRecovered\":\"1087587\",\"NewRecovered\":0,\"ActiveCases\":118724,\"TotalTests\":\"4795578\",\"Population\":\"6755816\",\"one_Caseevery_X_ppl\":6,\"one_Deathevery_X_ppl\":632,\"one_Testevery_X_ppl\":1,\"Deaths_1M_pop\":1582,\"Serious_Critical\":74,\"Tests_1M_Pop\":709844,\"TotCases_1M_Pop\":180141},{\"id\":\"b9e72506-ad28-4266-8ab3-57bbb16ae65d\",\"rank\":62,\"Country\":\"Slovenia\",\"Continent\":\"Europe\",\"TwoLetterSymbol\":\"si\",\"ThreeLetterSymbol\":\"svn\",\"Infection_Risk\":58.43,\"Case_Fatality_Rate\":0.56,\"Test_Percentage\":132.51,\"Recovery_Proporation\":97.04,\"TotalCases\":1215166,\"NewCases\":1861,\"TotalDeaths\":6849,\"NewDeaths\":1,\"TotalRecovered\":\"1179193\",\"NewRecovered\":2557,\"ActiveCases\":29124,\"TotalTests\":\"2755649\",\"Population\":\"2079589\",\"one_Caseevery_X_ppl\":2,\"one_Deathevery_X_ppl\":304,\"one_Testevery_X_ppl\":1,\"Deaths_1M_pop\":3293,\"Serious_Critical\":20,\"Tests_1M_Pop\":1325093,\"TotCases_1M_Pop\":584330},{\"id\":\"eea4bad6-f826-4771-b1e4-d43b3124a0de\",\"rank\":63,\"Country\":\"Tunisia\",\"Continent\":\"Africa\",\"TwoLetterSymbol\":\"tn\",\"ThreeLetterSymbol\":\"tun\",\"Infection_Risk\":9.47,\"Case_Fatality_Rate\":2.55,\"Test_Percentage\":40.93,\"Recovery_Proporation\":0,\"TotalCases\":1145930,\"NewCases\":0,\"TotalDeaths\":29254,\"NewDeaths\":0,\"TotalRecovered\":\"1116676\",\"NewRecovered\":0,\"ActiveCases\":0,\"TotalTests\":\"4952266\",\"Population\":\"12100600\",\"one_Caseevery_X_ppl\":11,\"one_Deathevery_X_ppl\":414,\"one_Testevery_X_ppl\":2,\"Deaths_1M_pop\":2418,\"Serious_Critical\":101,\"Tests_1M_Pop\":409258,\"TotCases_1M_Pop\":94700},{\"id\":\"c2273b77-1484-454b-a2a4-42478d4847df\",\"rank\":64,\"Country\":\"Guatemala\",\"Continent\":\"North America\",\"TwoLetterSymbol\":\"gt\",\"ThreeLetterSymbol\":\"gtm\",\"Infection_Risk\":6.07,\"Case_Fatality_Rate\":1.75,\"Test_Percentage\":32.15,\"Recovery_Proporation\":98.09,\"TotalCases\":1132692,\"NewCases\":0,\"TotalDeaths\":19848,\"NewDeaths\":0,\"TotalRecovered\":\"1111082\",\"NewRecovered\":0,\"ActiveCases\":1762,\"TotalTests\":\"6002800\",\"Population\":\"18671405\",\"one_Caseevery_X_ppl\":16,\"one_Deathevery_X_ppl\":941,\"one_Testevery_X_ppl\":3,\"Deaths_1M_pop\":1063,\"Serious_Critical\":5,\"Tests_1M_Pop\":321497,\"TotCases_1M_Pop\":60665},{\"id\":\"bb6306c0-534b-4377-9027-c92d4338c384\",\"rank\":65,\"Country\":\"Costa Rica\",\"Continent\":\"North America\",\"TwoLetterSymbol\":\"cr\",\"ThreeLetterSymbol\":\"cri\",\"Infection_Risk\":21.68,\"Case_Fatality_Rate\":0.8,\"Test_Percentage\":89.61,\"Recovery_Proporation\":76.33,\"TotalCases\":1127602,\"NewCases\":0,\"TotalDeaths\":8974,\"NewDeaths\":0,\"TotalRecovered\":\"860711\",\"NewRecovered\":0,\"ActiveCases\":257917,\"TotalTests\":\"4659757\",\"Population\":\"5200179\",\"one_Caseevery_X_ppl\":5,\"one_Deathevery_X_ppl\":579,\"one_Testevery_X_ppl\":1,\"Deaths_1M_pop\":1726,\"Serious_Critical\":52,\"Tests_1M_Pop\":896076,\"TotCases_1M_Pop\":216839},{\"id\":\"e3509c74-070d-4629-b48e-478afa585c60\",\"rank\":66,\"Country\":\"Cuba\",\"Continent\":\"North America\",\"TwoLetterSymbol\":\"cu\",\"ThreeLetterSymbol\":\"cub\",\"Infection_Risk\":9.82,\"Case_Fatality_Rate\":0.77,\"Test_Percentage\":125.25,\"Recovery_Proporation\":99.23,\"TotalCases\":1111251,\"NewCases\":3,\"TotalDeaths\":8530,\"NewDeaths\":0,\"TotalRecovered\":\"1102647\",\"NewRecovered\":1,\"ActiveCases\":74,\"TotalTests\":\"14166734\",\"Population\":\"11310862\",\"one_Caseevery_X_ppl\":10,\"one_Deathevery_X_ppl\":1326,\"one_Testevery_X_ppl\":1,\"Deaths_1M_pop\":754,\"Serious_Critical\":23,\"Tests_1M_Pop\":1252489,\"TotCases_1M_Pop\":98246},{\"id\":\"5b87d5fe-3ba9-42e8-bb88-09ae079e1fcb\",\"rank\":67,\"Country\":\"Bolivia\",\"Continent\":\"South America\",\"TwoLetterSymbol\":\"bo\",\"ThreeLetterSymbol\":\"bol\",\"Infection_Risk\":9.21,\"Case_Fatality_Rate\":2.01,\"Test_Percentage\":22.48,\"Recovery_Proporation\":95.57,\"TotalCases\":1108903,\"NewCases\":0,\"TotalDeaths\":22237,\"NewDeaths\":0,\"TotalRecovered\":\"1059775\",\"NewRecovered\":0,\"ActiveCases\":26891,\"TotalTests\":\"2705422\",\"Population\":\"12036130\",\"one_Caseevery_X_ppl\":11,\"one_Deathevery_X_ppl\":541,\"one_Testevery_X_ppl\":4,\"Deaths_1M_pop\":1848,\"Serious_Critical\":220,\"Tests_1M_Pop\":224775,\"TotCases_1M_Pop\":92131},{\"id\":\"5d7de038-91f5-4150-b3f0-ecb490d78997\",\"rank\":68,\"Country\":\"UAE\",\"Continent\":\"Asia\",\"TwoLetterSymbol\":\"ae\",\"ThreeLetterSymbol\":\"are\",\"Infection_Risk\":10.16,\"Case_Fatality_Rate\":0.23,\"Test_Percentage\":1897.19,\"Recovery_Proporation\":97.96,\"TotalCases\":1032522,\"NewCases\":0,\"TotalDeaths\":2346,\"NewDeaths\":0,\"TotalRecovered\":\"1011464\",\"NewRecovered\":0,\"ActiveCases\":18712,\"TotalTests\":\"192809671\",\"Population\":\"10162893\",\"one_Caseevery_X_ppl\":10,\"one_Deathevery_X_ppl\":4332,\"one_Testevery_X_ppl\":0,\"Deaths_1M_pop\":231,\"Serious_Critical\":0,\"Tests_1M_Pop\":18971928,\"TotCases_1M_Pop\":101597},{\"id\":\"f86d0349-d502-4895-bf64-3364728f10c0\",\"rank\":69,\"Country\":\"Ecuador\",\"Continent\":\"South America\",\"TwoLetterSymbol\":\"ec\",\"ThreeLetterSymbol\":\"ecu\",\"Infection_Risk\":5.52,\"Case_Fatality_Rate\":3.57,\"Test_Percentage\":16.89,\"Recovery_Proporation\":96.18,\"TotalCases\":1006922,\"NewCases\":0,\"TotalDeaths\":35904,\"NewDeaths\":0,\"TotalRecovered\":\"968469\",\"NewRecovered\":294,\"ActiveCases\":2549,\"TotalTests\":\"3082403\",\"Population\":\"18254021\",\"one_Caseevery_X_ppl\":18,\"one_Deathevery_X_ppl\":508,\"one_Testevery_X_ppl\":6,\"Deaths_1M_pop\":1967,\"Serious_Critical\":759,\"Tests_1M_Pop\":168862,\"TotCases_1M_Pop\":55162},{\"id\":\"6743d550-56b6-4a61-9ef4-67cd895e11ef\",\"rank\":70,\"Country\":\"Nepal\",\"Continent\":\"Asia\",\"TwoLetterSymbol\":\"np\",\"ThreeLetterSymbol\":\"npl\",\"Infection_Risk\":3.3,\"Case_Fatality_Rate\":1.2,\"Test_Percentage\":19.61,\"Recovery_Proporation\":98.73,\"TotalCases\":1000123,\"NewCases\":45,\"TotalDeaths\":12018,\"NewDeaths\":0,\"TotalRecovered\":\"987438\",\"NewRecovered\":16,\"ActiveCases\":667,\"TotalTests\":\"5947509\",\"Population\":\"30332003\",\"one_Caseevery_X_ppl\":30,\"one_Deathevery_X_ppl\":2524,\"one_Testevery_X_ppl\":5,\"Deaths_1M_pop\":396,\"Serious_Critical\":0,\"Tests_1M_Pop\":196080,\"TotCases_1M_Pop\":32973},{\"id\":\"885c537d-9654-4502-8a5d-81bd424a659c\",\"rank\":71,\"Country\":\"Belarus\",\"Continent\":\"Europe\",\"TwoLetterSymbol\":\"by\",\"ThreeLetterSymbol\":\"blr\",\"Infection_Risk\":10.53,\"Case_Fatality_Rate\":0.72,\"Test_Percentage\":144.53,\"Recovery_Proporation\":99.15,\"TotalCases\":994037,\"NewCases\":0,\"TotalDeaths\":7118,\"NewDeaths\":0,\"TotalRecovered\":\"985592\",\"NewRecovered\":0,\"ActiveCases\":1327,\"TotalTests\":\"13646641\",\"Population\":\"9442240\",\"one_Caseevery_X_ppl\":9,\"one_Deathevery_X_ppl\":1327,\"one_Testevery_X_ppl\":1,\"Deaths_1M_pop\":754,\"Serious_Critical\":0,\"Tests_1M_Pop\":1445276,\"TotCases_1M_Pop\":105276},{\"id\":\"21d1365d-9bc7-4624-a17d-c30d5b86a35f\",\"rank\":72,\"Country\":\"Panama\",\"Continent\":\"North America\",\"TwoLetterSymbol\":\"pa\",\"ThreeLetterSymbol\":\"pan\",\"Infection_Risk\":22.11,\"Case_Fatality_Rate\":0.86,\"Test_Percentage\":158.95,\"Recovery_Proporation\":99.05,\"TotalCases\":988280,\"NewCases\":0,\"TotalDeaths\":8505,\"NewDeaths\":0,\"TotalRecovered\":\"978903\",\"NewRecovered\":0,\"ActiveCases\":872,\"TotalTests\":\"7104713\",\"Population\":\"4469667\",\"one_Caseevery_X_ppl\":5,\"one_Deathevery_X_ppl\":526,\"one_Testevery_X_ppl\":1,\"Deaths_1M_pop\":1903,\"Serious_Critical\":16,\"Tests_1M_Pop\":1589540,\"TotCases_1M_Pop\":221108},{\"id\":\"6a4f1e2a-ae9b-4d53-8966-3364c7e486ec\",\"rank\":73,\"Country\":\"Uruguay\",\"Continent\":\"South America\",\"TwoLetterSymbol\":\"uy\",\"ThreeLetterSymbol\":\"ury\",\"Infection_Risk\":28.21,\"Case_Fatality_Rate\":0.76,\"Test_Percentage\":174.65,\"Recovery_Proporation\":99.13,\"TotalCases\":987563,\"NewCases\":0,\"TotalDeaths\":7501,\"NewDeaths\":0,\"TotalRecovered\":\"978972\",\"NewRecovered\":0,\"ActiveCases\":1090,\"TotalTests\":\"6114822\",\"Population\":\"3501171\",\"one_Caseevery_X_ppl\":4,\"one_Deathevery_X_ppl\":467,\"one_Testevery_X_ppl\":1,\"Deaths_1M_pop\":2142,\"Serious_Critical\":18,\"Tests_1M_Pop\":1746508,\"TotCases_1M_Pop\":282066},{\"id\":\"75989859-6f57-4c6a-82de-9134e3698840\",\"rank\":74,\"Country\":\"Mongolia\",\"Continent\":\"Asia\",\"TwoLetterSymbol\":\"mn\",\"ThreeLetterSymbol\":\"mng\",\"Infection_Risk\":28.95,\"Case_Fatality_Rate\":0.22,\"Test_Percentage\":118.58,\"Recovery_Proporation\":99.67,\"TotalCases\":983958,\"NewCases\":0,\"TotalDeaths\":2179,\"NewDeaths\":0,\"TotalRecovered\":\"980685\",\"NewRecovered\":0,\"ActiveCases\":1094,\"TotalTests\":\"4030048\",\"Population\":\"3398688\",\"one_Caseevery_X_ppl\":3,\"one_Deathevery_X_ppl\":1560,\"one_Testevery_X_ppl\":1,\"Deaths_1M_pop\":641,\"Serious_Critical\":192,\"Tests_1M_Pop\":1185766,\"TotCases_1M_Pop\":289511},{\"id\":\"681d9074-d938-4db5-935b-c3468192b7a5\",\"rank\":75,\"Country\":\"Latvia\",\"Continent\":\"Europe\",\"TwoLetterSymbol\":\"lv\",\"ThreeLetterSymbol\":\"lva\",\"Infection_Risk\":51.28,\"Case_Fatality_Rate\":0.64,\"Test_Percentage\":419,\"Recovery_Proporation\":98.02,\"TotalCases\":942923,\"NewCases\":0,\"TotalDeaths\":6028,\"NewDeaths\":0,\"TotalRecovered\":\"924260\",\"NewRecovered\":0,\"ActiveCases\":12635,\"TotalTests\":\"7704267\",\"Population\":\"1838719\",\"one_Caseevery_X_ppl\":2,\"one_Deathevery_X_ppl\":305,\"one_Testevery_X_ppl\":0,\"Deaths_1M_pop\":3278,\"Serious_Critical\":3,\"Tests_1M_Pop\":4190019,\"TotCases_1M_Pop\":512815},{\"id\":\"0945c7b4-d129-4deb-9c5e-803aa859e387\",\"rank\":76,\"Country\":\"Azerbaijan\",\"Continent\":\"Asia\",\"TwoLetterSymbol\":\"az\",\"ThreeLetterSymbol\":\"aze\",\"Infection_Risk\":7.95,\"Case_Fatality_Rate\":1.21,\"Test_Percentage\":70.4,\"Recovery_Proporation\":98.74,\"TotalCases\":822485,\"NewCases\":0,\"TotalDeaths\":9931,\"NewDeaths\":0,\"TotalRecovered\":\"812087\",\"NewRecovered\":0,\"ActiveCases\":467,\"TotalTests\":\"7284670\",\"Population\":\"10347547\",\"one_Caseevery_X_ppl\":13,\"one_Deathevery_X_ppl\":1042,\"one_Testevery_X_ppl\":1,\"Deaths_1M_pop\":960,\"Serious_Critical\":0,\"Tests_1M_Pop\":704000,\"TotCases_1M_Pop\":79486},{\"id\":\"8322c6dd-f9f8-4061-bf31-a64e1ba32344\",\"rank\":77,\"Country\":\"Saudi Arabia\",\"Continent\":\"Asia\",\"TwoLetterSymbol\":\"sa\",\"ThreeLetterSymbol\":\"sau\",\"Infection_Risk\":2.27,\"Case_Fatality_Rate\":1.15,\"Test_Percentage\":123.22,\"Recovery_Proporation\":98.37,\"TotalCases\":818592,\"NewCases\":0,\"TotalDeaths\":9379,\"NewDeaths\":0,\"TotalRecovered\":\"805244\",\"NewRecovered\":0,\"ActiveCases\":3969,\"TotalTests\":\"44422279\",\"Population\":\"36050323\",\"one_Caseevery_X_ppl\":44,\"one_Deathevery_X_ppl\":3844,\"one_Testevery_X_ppl\":1,\"Deaths_1M_pop\":260,\"Serious_Critical\":36,\"Tests_1M_Pop\":1232230,\"TotCases_1M_Pop\":22707},{\"id\":\"3a31a649-913a-4832-a625-b9ea1fc659c6\",\"rank\":78,\"Country\":\"Paraguay\",\"Continent\":\"South America\",\"TwoLetterSymbol\":\"py\",\"ThreeLetterSymbol\":\"pry\",\"Infection_Risk\":9.78,\"Case_Fatality_Rate\":2.73,\"Test_Percentage\":36.24,\"Recovery_Proporation\":97.23,\"TotalCases\":717260,\"NewCases\":0,\"TotalDeaths\":19596,\"NewDeaths\":0,\"TotalRecovered\":\"697361\",\"NewRecovered\":0,\"ActiveCases\":303,\"TotalTests\":\"2657506\",\"Population\":\"7332324\",\"one_Caseevery_X_ppl\":10,\"one_Deathevery_X_ppl\":374,\"one_Testevery_X_ppl\":3,\"Deaths_1M_pop\":2673,\"Serious_Critical\":7,\"Tests_1M_Pop\":362437,\"TotCases_1M_Pop\":97822},{\"id\":\"0d159598-c97e-485c-a17b-a34a82ae29bd\",\"rank\":79,\"Country\":\"Bahrain\",\"Continent\":\"Asia\",\"TwoLetterSymbol\":\"bh\",\"ThreeLetterSymbol\":\"bhr\",\"Infection_Risk\":37.3,\"Case_Fatality_Rate\":0.22,\"Test_Percentage\":568.24,\"Recovery_Proporation\":99.44,\"TotalCases\":685067,\"NewCases\":0,\"TotalDeaths\":1521,\"NewDeaths\":0,\"TotalRecovered\":\"681214\",\"NewRecovered\":0,\"ActiveCases\":2332,\"TotalTests\":\"10435909\",\"Population\":\"1836525\",\"one_Caseevery_X_ppl\":3,\"one_Deathevery_X_ppl\":1207,\"one_Testevery_X_ppl\":0,\"Deaths_1M_pop\":828,\"Serious_Critical\":3,\"Tests_1M_Pop\":5682421,\"TotCases_1M_Pop\":373024},{\"id\":\"79b25104-b717-4a88-a9f8-deb868ddf519\",\"rank\":80,\"Country\":\"Sri Lanka\",\"Continent\":\"Asia\",\"TwoLetterSymbol\":\"lk\",\"ThreeLetterSymbol\":\"lka\",\"Infection_Risk\":3.1,\"Case_Fatality_Rate\":2.5,\"Test_Percentage\":30,\"Recovery_Proporation\":97.5,\"TotalCases\":670918,\"NewCases\":19,\"TotalDeaths\":16769,\"NewDeaths\":1,\"TotalRecovered\":\"654119\",\"NewRecovered\":104,\"ActiveCases\":30,\"TotalTests\":\"6486117\",\"Population\":\"21617907\",\"one_Caseevery_X_ppl\":32,\"one_Deathevery_X_ppl\":1289,\"one_Testevery_X_ppl\":3,\"Deaths_1M_pop\":776,\"Serious_Critical\":0,\"Tests_1M_Pop\":300034,\"TotCases_1M_Pop\":31035},{\"id\":\"d6f78add-5ba5-4a09-9207-f7ec95db5e61\",\"rank\":81,\"Country\":\"Kuwait\",\"Continent\":\"Asia\",\"TwoLetterSymbol\":\"kw\",\"ThreeLetterSymbol\":\"kwt\",\"Infection_Risk\":14.97,\"Case_Fatality_Rate\":0.39,\"Test_Percentage\":190.12,\"Recovery_Proporation\":99.46,\"TotalCases\":660667,\"NewCases\":0,\"TotalDeaths\":2564,\"NewDeaths\":0,\"TotalRecovered\":\"657113\",\"NewRecovered\":0,\"ActiveCases\":990,\"TotalTests\":\"8393046\",\"Population\":\"4414601\",\"one_Caseevery_X_ppl\":7,\"one_Deathevery_X_ppl\":1722,\"one_Testevery_X_ppl\":1,\"Deaths_1M_pop\":581,\"Serious_Critical\":1,\"Tests_1M_Pop\":1901201,\"TotCases_1M_Pop\":149655},{\"id\":\"4b172cda-eece-4d9d-959d-5d9bd0152a7a\",\"rank\":82,\"Country\":\"Dominican Republic\",\"Continent\":\"North America\",\"TwoLetterSymbol\":\"do\",\"ThreeLetterSymbol\":\"dom\",\"Infection_Risk\":5.82,\"Case_Fatality_Rate\":0.68,\"Test_Percentage\":32.96,\"Recovery_Proporation\":99.26,\"TotalCases\":645952,\"NewCases\":0,\"TotalDeaths\":4384,\"NewDeaths\":0,\"TotalRecovered\":\"641157\",\"NewRecovered\":0,\"ActiveCases\":411,\"TotalTests\":\"3657057\",\"Population\":\"11095950\",\"one_Caseevery_X_ppl\":17,\"one_Deathevery_X_ppl\":2531,\"one_Testevery_X_ppl\":3,\"Deaths_1M_pop\":395,\"Serious_Critical\":4,\"Tests_1M_Pop\":329585,\"TotCases_1M_Pop\":58215},{\"id\":\"656a97f0-ebc6-49bd-8aca-ba2b36ef2e5f\",\"rank\":83,\"Country\":\"Myanmar\",\"Continent\":\"Asia\",\"TwoLetterSymbol\":\"mm\",\"ThreeLetterSymbol\":\"mmr\",\"Infection_Risk\":1.14,\"Case_Fatality_Rate\":3.1,\"Test_Percentage\":16.39,\"Recovery_Proporation\":95.26,\"TotalCases\":627638,\"NewCases\":0,\"TotalDeaths\":19469,\"NewDeaths\":0,\"TotalRecovered\":\"597898\",\"NewRecovered\":0,\"ActiveCases\":10271,\"TotalTests\":\"9056450\",\"Population\":\"55241362\",\"one_Caseevery_X_ppl\":88,\"one_Deathevery_X_ppl\":2837,\"one_Testevery_X_ppl\":6,\"Deaths_1M_pop\":352,\"Serious_Critical\":0,\"Tests_1M_Pop\":163943,\"TotCases_1M_Pop\":11362},{\"id\":\"d4008e11-6975-4ea6-a9d0-aa571c2604aa\",\"rank\":84,\"Country\":\"Palestine\",\"Continent\":\"Asia\",\"TwoLetterSymbol\":\"ps\",\"ThreeLetterSymbol\":\"pse\",\"Infection_Risk\":11.56,\"Case_Fatality_Rate\":0.87,\"Test_Percentage\":57.31,\"Recovery_Proporation\":99.06,\"TotalCases\":620757,\"NewCases\":0,\"TotalDeaths\":5404,\"NewDeaths\":0,\"TotalRecovered\":\"614914\",\"NewRecovered\":0,\"ActiveCases\":439,\"TotalTests\":\"3078533\",\"Population\":\"5371907\",\"one_Caseevery_X_ppl\":9,\"one_Deathevery_X_ppl\":994,\"one_Testevery_X_ppl\":2,\"Deaths_1M_pop\":1006,\"Serious_Critical\":17,\"Tests_1M_Pop\":573080,\"TotCases_1M_Pop\":115556},{\"id\":\"8ffed1e8-55da-40c5-ba55-c8217745b6d4\",\"rank\":85,\"Country\":\"Estonia\",\"Continent\":\"Europe\",\"TwoLetterSymbol\":\"ee\",\"ThreeLetterSymbol\":\"est\",\"Infection_Risk\":45.49,\"Case_Fatality_Rate\":0.45,\"Test_Percentage\":267.46,\"Recovery_Proporation\":86.86,\"TotalCases\":604380,\"NewCases\":0,\"TotalDeaths\":2713,\"NewDeaths\":0,\"TotalRecovered\":\"524990\",\"NewRecovered\":0,\"ActiveCases\":76677,\"TotalTests\":\"3553431\",\"Population\":\"1328568\",\"one_Caseevery_X_ppl\":2,\"one_Deathevery_X_ppl\":490,\"one_Testevery_X_ppl\":0,\"Deaths_1M_pop\":2042,\"Serious_Critical\":7,\"Tests_1M_Pop\":2674632,\"TotCases_1M_Pop\":454911},{\"id\":\"f2bd16b1-2a21-42c3-ba7a-62e372619ba6\",\"rank\":86,\"Country\":\"Cyprus\",\"Continent\":\"Asia\",\"TwoLetterSymbol\":\"cy\",\"ThreeLetterSymbol\":\"cyp\",\"Infection_Risk\":48.36,\"Case_Fatality_Rate\":0.2,\"Test_Percentage\":785.41,\"Recovery_Proporation\":98.41,\"TotalCases\":593542,\"NewCases\":0,\"TotalDeaths\":1189,\"NewDeaths\":0,\"TotalRecovered\":\"584124\",\"NewRecovered\":0,\"ActiveCases\":8229,\"TotalTests\":\"9640118\",\"Population\":\"1227397\",\"one_Caseevery_X_ppl\":2,\"one_Deathevery_X_ppl\":1032,\"one_Testevery_X_ppl\":0,\"Deaths_1M_pop\":969,\"Serious_Critical\":60,\"Tests_1M_Pop\":7854116,\"TotCases_1M_Pop\":483578},{\"id\":\"40ec322d-781b-4601-a88e-ea02e883d286\",\"rank\":87,\"Country\":\"Moldova\",\"Continent\":\"Europe\",\"TwoLetterSymbol\":\"md\",\"ThreeLetterSymbol\":\"mda\",\"Infection_Risk\":14.75,\"Case_Fatality_Rate\":2.01,\"Test_Percentage\":80.16,\"Recovery_Proporation\":85.18,\"TotalCases\":591853,\"NewCases\":0,\"TotalDeaths\":11870,\"NewDeaths\":0,\"TotalRecovered\":\"504142\",\"NewRecovered\":0,\"ActiveCases\":75841,\"TotalTests\":\"3216305\",\"Population\":\"4012602\",\"one_Caseevery_X_ppl\":7,\"one_Deathevery_X_ppl\":338,\"one_Testevery_X_ppl\":1,\"Deaths_1M_pop\":2958,\"Serious_Critical\":49,\"Tests_1M_Pop\":801551,\"TotCases_1M_Pop\":147499},{\"id\":\"a4bf948e-feab-40c2-a4f3-8f1845227cb0\",\"rank\":88,\"Country\":\"Venezuela\",\"Continent\":\"South America\",\"TwoLetterSymbol\":\"ve\",\"ThreeLetterSymbol\":\"ven\",\"Infection_Risk\":1.93,\"Case_Fatality_Rate\":1.07,\"Test_Percentage\":11.89,\"Recovery_Proporation\":98.85,\"TotalCases\":545193,\"NewCases\":0,\"TotalDeaths\":5819,\"NewDeaths\":0,\"TotalRecovered\":\"538912\",\"NewRecovered\":0,\"ActiveCases\":462,\"TotalTests\":\"3359014\",\"Population\":\"28252374\",\"one_Caseevery_X_ppl\":52,\"one_Deathevery_X_ppl\":4855,\"one_Testevery_X_ppl\":8,\"Deaths_1M_pop\":206,\"Serious_Critical\":36,\"Tests_1M_Pop\":118893,\"TotCases_1M_Pop\":19297},{\"id\":\"7844e28f-fac5-4139-9e38-10524822bcc6\",\"rank\":89,\"Country\":\"Egypt\",\"Continent\":\"Africa\",\"TwoLetterSymbol\":\"eg\",\"ThreeLetterSymbol\":\"egy\",\"Infection_Risk\":0.48,\"Case_Fatality_Rate\":4.77,\"Test_Percentage\":3.46,\"Recovery_Proporation\":85.75,\"TotalCases\":515645,\"NewCases\":0,\"TotalDeaths\":24613,\"NewDeaths\":0,\"TotalRecovered\":\"442182\",\"NewRecovered\":0,\"ActiveCases\":48850,\"TotalTests\":\"3693367\",\"Population\":\"106736458\",\"one_Caseevery_X_ppl\":207,\"one_Deathevery_X_ppl\":4337,\"one_Testevery_X_ppl\":29,\"Deaths_1M_pop\":231,\"Serious_Critical\":122,\"Tests_1M_Pop\":34603,\"TotCases_1M_Pop\":4831},{\"id\":\"7fbd3cf9-04e1-4ecf-8187-7c1a53fcdd39\",\"rank\":90,\"Country\":\"Libya\",\"Continent\":\"Africa\",\"TwoLetterSymbol\":\"ly\",\"ThreeLetterSymbol\":\"lby\",\"Infection_Risk\":7.16,\"Case_Fatality_Rate\":1.27,\"Test_Percentage\":35.04,\"Recovery_Proporation\":98.72,\"TotalCases\":507010,\"NewCases\":0,\"TotalDeaths\":6437,\"NewDeaths\":0,\"TotalRecovered\":\"500528\",\"NewRecovered\":0,\"ActiveCases\":45,\"TotalTests\":\"2482490\",\"Population\":\"7084367\",\"one_Caseevery_X_ppl\":14,\"one_Deathevery_X_ppl\":1101,\"one_Testevery_X_ppl\":3,\"Deaths_1M_pop\":909,\"Serious_Critical\":101,\"Tests_1M_Pop\":350418,\"TotCases_1M_Pop\":71567},{\"id\":\"8b530d04-0043-48cc-938c-71395833398f\",\"rank\":91,\"Country\":\"Ethiopia\",\"Continent\":\"Africa\",\"TwoLetterSymbol\":\"et\",\"ThreeLetterSymbol\":\"eth\",\"Infection_Risk\":0.41,\"Case_Fatality_Rate\":1.53,\"Test_Percentage\":4.35,\"Recovery_Proporation\":95.6,\"TotalCases\":493767,\"NewCases\":0,\"TotalDeaths\":7572,\"NewDeaths\":0,\"TotalRecovered\":\"472020\",\"NewRecovered\":0,\"ActiveCases\":14175,\"TotalTests\":\"5286353\",\"Population\":\"121459121\",\"one_Caseevery_X_ppl\":246,\"one_Deathevery_X_ppl\":16041,\"one_Testevery_X_ppl\":23,\"Deaths_1M_pop\":62,\"Serious_Critical\":0,\"Tests_1M_Pop\":43524,\"TotCases_1M_Pop\":4065},{\"id\":\"07e7a02c-dadf-46fd-b333-03cf9576b9e3\",\"rank\":92,\"Country\":\"Réunion\",\"Continent\":\"Africa\",\"TwoLetterSymbol\":\"re\",\"ThreeLetterSymbol\":\"reu\",\"Infection_Risk\":51.95,\"Case_Fatality_Rate\":0.19,\"Test_Percentage\":176.25,\"Recovery_Proporation\":88.55,\"TotalCases\":472692,\"NewCases\":0,\"TotalDeaths\":894,\"NewDeaths\":0,\"TotalRecovered\":\"418572\",\"NewRecovered\":0,\"ActiveCases\":53226,\"TotalTests\":\"1603660\",\"Population\":\"909879\",\"one_Caseevery_X_ppl\":2,\"one_Deathevery_X_ppl\":1018,\"one_Testevery_X_ppl\":1,\"Deaths_1M_pop\":983,\"Serious_Critical\":10,\"Tests_1M_Pop\":1762498,\"TotCases_1M_Pop\":519511},{\"id\":\"d7b5b1f3-7613-497f-ad47-659c3e7b274f\",\"rank\":93,\"Country\":\"Qatar\",\"Continent\":\"Asia\",\"TwoLetterSymbol\":\"qa\",\"ThreeLetterSymbol\":\"qat\",\"Infection_Risk\":16.42,\"Case_Fatality_Rate\":0.15,\"Test_Percentage\":142.28,\"Recovery_Proporation\":99.23,\"TotalCases\":460970,\"NewCases\":0,\"TotalDeaths\":682,\"NewDeaths\":0,\"TotalRecovered\":\"457428\",\"NewRecovered\":0,\"ActiveCases\":2860,\"TotalTests\":\"3994911\",\"Population\":\"2807805\",\"one_Caseevery_X_ppl\":6,\"one_Deathevery_X_ppl\":4117,\"one_Testevery_X_ppl\":1,\"Deaths_1M_pop\":243,\"Serious_Critical\":0,\"Tests_1M_Pop\":1422788,\"TotCases_1M_Pop\":164175},{\"id\":\"06e13c04-2cd2-4b58-89c9-bf5e9673e7de\",\"rank\":94,\"Country\":\"Honduras\",\"Continent\":\"North America\",\"TwoLetterSymbol\":\"hn\",\"ThreeLetterSymbol\":\"hnd\",\"Infection_Risk\":4.45,\"Case_Fatality_Rate\":2.41,\"Test_Percentage\":14.94,\"Recovery_Proporation\":0,\"TotalCases\":456664,\"NewCases\":0,\"TotalDeaths\":10996,\"NewDeaths\":0,\"TotalRecovered\":\"445668\",\"NewRecovered\":0,\"ActiveCases\":0,\"TotalTests\":\"1533488\",\"Population\":\"10263862\",\"one_Caseevery_X_ppl\":22,\"one_Deathevery_X_ppl\":933,\"one_Testevery_X_ppl\":7,\"Deaths_1M_pop\":1071,\"Serious_Critical\":105,\"Tests_1M_Pop\":149407,\"TotCases_1M_Pop\":44492},{\"id\":\"f281c4d9-4a39-44d4-baa9-8deb858d73cb\",\"rank\":95,\"Country\":\"Armenia\",\"Continent\":\"Asia\",\"TwoLetterSymbol\":\"am\",\"ThreeLetterSymbol\":\"arm\",\"Infection_Risk\":14.94,\"Case_Fatality_Rate\":1.96,\"Test_Percentage\":108.2,\"Recovery_Proporation\":97.37,\"TotalCases\":444482,\"NewCases\":0,\"TotalDeaths\":8700,\"NewDeaths\":0,\"TotalRecovered\":\"432811\",\"NewRecovered\":0,\"ActiveCases\":2971,\"TotalTests\":\"3220025\",\"Population\":\"2975866\",\"one_Caseevery_X_ppl\":7,\"one_Deathevery_X_ppl\":342,\"one_Testevery_X_ppl\":1,\"Deaths_1M_pop\":2924,\"Serious_Critical\":0,\"Tests_1M_Pop\":1082046,\"TotCases_1M_Pop\":149362},{\"id\":\"6f12c131-ea0a-4953-9249-e3a16555b940\",\"rank\":96,\"Country\":\"Bosnia and Herzegovina\",\"Continent\":\"Europe\",\"TwoLetterSymbol\":\"ba\",\"ThreeLetterSymbol\":\"bih\",\"Infection_Risk\":12.35,\"Case_Fatality_Rate\":4.04,\"Test_Percentage\":57.74,\"Recovery_Proporation\":94.41,\"TotalCases\":399410,\"NewCases\":0,\"TotalDeaths\":16156,\"NewDeaths\":0,\"TotalRecovered\":\"377069\",\"NewRecovered\":0,\"ActiveCases\":6185,\"TotalTests\":\"1867560\",\"Population\":\"3234338\",\"one_Caseevery_X_ppl\":8,\"one_Deathevery_X_ppl\":200,\"one_Testevery_X_ppl\":2,\"Deaths_1M_pop\":4995,\"Serious_Critical\":0,\"Tests_1M_Pop\":577416,\"TotCases_1M_Pop\":123490},{\"id\":\"0c7482a0-3655-48e5-a002-ea7e84e9a5e0\",\"rank\":97,\"Country\":\"Oman\",\"Continent\":\"Asia\",\"TwoLetterSymbol\":\"om\",\"ThreeLetterSymbol\":\"omn\",\"Infection_Risk\":7.37,\"Case_Fatality_Rate\":1.07,\"Test_Percentage\":462.72,\"Recovery_Proporation\":96.55,\"TotalCases\":398424,\"NewCases\":0,\"TotalDeaths\":4260,\"NewDeaths\":0,\"TotalRecovered\":\"384669\",\"NewRecovered\":0,\"ActiveCases\":9495,\"TotalTests\":\"25000000\",\"Population\":\"5402875\",\"one_Caseevery_X_ppl\":14,\"one_Deathevery_X_ppl\":1268,\"one_Testevery_X_ppl\":0,\"Deaths_1M_pop\":788,\"Serious_Critical\":2,\"Tests_1M_Pop\":4627166,\"TotCases_1M_Pop\":73743},{\"id\":\"a4a08077-a4ec-4cca-a3f9-da0271e814a2\",\"rank\":98,\"Country\":\"North Macedonia\",\"Continent\":\"Europe\",\"TwoLetterSymbol\":\"mk\",\"ThreeLetterSymbol\":\"mkd\",\"Infection_Risk\":16.49,\"Case_Fatality_Rate\":2.78,\"Test_Percentage\":102.55,\"Recovery_Proporation\":97.13,\"TotalCases\":343585,\"NewCases\":0,\"TotalDeaths\":9551,\"NewDeaths\":0,\"TotalRecovered\":\"333707\",\"NewRecovered\":0,\"ActiveCases\":327,\"TotalTests\":\"2136270\",\"Population\":\"2083179\",\"one_Caseevery_X_ppl\":6,\"one_Deathevery_X_ppl\":218,\"one_Testevery_X_ppl\":1,\"Deaths_1M_pop\":4585,\"Serious_Critical\":0,\"Tests_1M_Pop\":1025486,\"TotCases_1M_Pop\":164933},{\"id\":\"4d0b4ae2-5c78-4099-83c1-106807cc3ca4\",\"rank\":99,\"Country\":\"Kenya\",\"Continent\":\"Africa\",\"TwoLetterSymbol\":\"ke\",\"ThreeLetterSymbol\":\"ken\",\"Infection_Risk\":0.6,\"Case_Fatality_Rate\":1.68,\"Test_Percentage\":6.92,\"Recovery_Proporation\":98.3,\"TotalCases\":338571,\"NewCases\":3,\"TotalDeaths\":5678,\"NewDeaths\":0,\"TotalRecovered\":\"332826\",\"NewRecovered\":8,\"ActiveCases\":67,\"TotalTests\":\"3905193\",\"Population\":\"56472830\",\"one_Caseevery_X_ppl\":167,\"one_Deathevery_X_ppl\":9946,\"one_Testevery_X_ppl\":14,\"Deaths_1M_pop\":101,\"Serious_Critical\":1,\"Tests_1M_Pop\":69152,\"TotCases_1M_Pop\":5995},{\"id\":\"8be534c1-1507-4eaa-a2a7-d3ddfecd8b35\",\"rank\":100,\"Country\":\"Zambia\",\"Continent\":\"Africa\",\"TwoLetterSymbol\":\"zm\",\"ThreeLetterSymbol\":\"zmb\",\"Infection_Risk\":1.71,\"Case_Fatality_Rate\":1.2,\"Test_Percentage\":19.12,\"Recovery_Proporation\":98.78,\"TotalCases\":333624,\"NewCases\":0,\"TotalDeaths\":4017,\"NewDeaths\":0,\"TotalRecovered\":\"329544\",\"NewRecovered\":0,\"ActiveCases\":63,\"TotalTests\":\"3740005\",\"Population\":\"19558440\",\"one_Caseevery_X_ppl\":59,\"one_Deathevery_X_ppl\":4869,\"one_Testevery_X_ppl\":5,\"Deaths_1M_pop\":205,\"Serious_Critical\":0,\"Tests_1M_Pop\":191222,\"TotCases_1M_Pop\":17058},{\"id\":\"fddf0a3a-754d-4938-bf36-23233f4a20ff\",\"rank\":101,\"Country\":\"Albania\",\"Continent\":\"Europe\",\"TwoLetterSymbol\":\"al\",\"ThreeLetterSymbol\":\"alb\",\"Infection_Risk\":11.59,\"Case_Fatality_Rate\":1.08,\"Test_Percentage\":67.62,\"Recovery_Proporation\":98.44,\"TotalCases\":332619,\"NewCases\":21,\"TotalDeaths\":3591,\"NewDeaths\":1,\"TotalRecovered\":\"327429\",\"NewRecovered\":19,\"ActiveCases\":1599,\"TotalTests\":\"1941032\",\"Population\":\"2870637\",\"one_Caseevery_X_ppl\":9,\"one_Deathevery_X_ppl\":799,\"one_Testevery_X_ppl\":1,\"Deaths_1M_pop\":1251,\"Serious_Critical\":0,\"Tests_1M_Pop\":676168,\"TotCases_1M_Pop\":115869},{\"id\":\"b9dfb35b-fcd7-4235-88db-3164f085fe32\",\"rank\":102,\"Country\":\"Botswana\",\"Continent\":\"Africa\",\"TwoLetterSymbol\":\"bw\",\"ThreeLetterSymbol\":\"bwa\",\"Infection_Risk\":13.27,\"Case_Fatality_Rate\":0.85,\"Test_Percentage\":82.4,\"Recovery_Proporation\":98.96,\"TotalCases\":326344,\"NewCases\":0,\"TotalDeaths\":2790,\"NewDeaths\":0,\"TotalRecovered\":\"322955\",\"NewRecovered\":0,\"ActiveCases\":599,\"TotalTests\":\"2026898\",\"Population\":\"2459923\",\"one_Caseevery_X_ppl\":8,\"one_Deathevery_X_ppl\":882,\"one_Testevery_X_ppl\":1,\"Deaths_1M_pop\":1134,\"Serious_Critical\":1,\"Tests_1M_Pop\":823968,\"TotCases_1M_Pop\":132664},{\"id\":\"a1f7abfd-5e25-4c08-955a-c61a8ad19665\",\"rank\":103,\"Country\":\"Luxembourg\",\"Continent\":\"Europe\",\"TwoLetterSymbol\":\"lu\",\"ThreeLetterSymbol\":\"lux\",\"Infection_Risk\":45.87,\"Case_Fatality_Rate\":0.38,\"Test_Percentage\":679.69,\"Recovery_Proporation\":97.06,\"TotalCases\":297757,\"NewCases\":0,\"TotalDeaths\":1133,\"NewDeaths\":0,\"TotalRecovered\":\"288991\",\"NewRecovered\":0,\"ActiveCases\":7633,\"TotalTests\":\"4412567\",\"Population\":\"649203\",\"one_Caseevery_X_ppl\":2,\"one_Deathevery_X_ppl\":573,\"one_Testevery_X_ppl\":0,\"Deaths_1M_pop\":1745,\"Serious_Critical\":0,\"Tests_1M_Pop\":6796899,\"TotCases_1M_Pop\":458650},{\"id\":\"e4a3c6fe-8601-48ca-b352-666fda42efef\",\"rank\":104,\"Country\":\"Montenegro\",\"Continent\":\"Europe\",\"TwoLetterSymbol\":\"me\",\"ThreeLetterSymbol\":\"mne\",\"Infection_Risk\":44.84,\"Case_Fatality_Rate\":0.99,\"Test_Percentage\":419.78,\"Recovery_Proporation\":98.7,\"TotalCases\":281694,\"NewCases\":0,\"TotalDeaths\":2782,\"NewDeaths\":0,\"TotalRecovered\":\"278038\",\"NewRecovered\":0,\"ActiveCases\":874,\"TotalTests\":\"2637235\",\"Population\":\"628247\",\"one_Caseevery_X_ppl\":2,\"one_Deathevery_X_ppl\":226,\"one_Testevery_X_ppl\":0,\"Deaths_1M_pop\":4428,\"Serious_Critical\":6,\"Tests_1M_Pop\":4197768,\"TotCases_1M_Pop\":448381},{\"id\":\"c1312566-0372-4b3f-b856-2ab3f468b8f2\",\"rank\":105,\"Country\":\"Algeria\",\"Continent\":\"Africa\",\"TwoLetterSymbol\":\"dz\",\"ThreeLetterSymbol\":\"dza\",\"Infection_Risk\":0.59,\"Case_Fatality_Rate\":2.54,\"Test_Percentage\":0.51,\"Recovery_Proporation\":67.36,\"TotalCases\":270734,\"NewCases\":0,\"TotalDeaths\":6881,\"NewDeaths\":0,\"TotalRecovered\":\"182353\",\"NewRecovered\":0,\"ActiveCases\":81500,\"TotalTests\":\"230861\",\"Population\":\"45656964\",\"one_Caseevery_X_ppl\":169,\"one_Deathevery_X_ppl\":6635,\"one_Testevery_X_ppl\":198,\"Deaths_1M_pop\":151,\"Serious_Critical\":0,\"Tests_1M_Pop\":5056,\"TotCases_1M_Pop\":5930},{\"id\":\"97dd3c39-1d10-44f7-b8db-6719494b8cd1\",\"rank\":106,\"Country\":\"Nigeria\",\"Continent\":\"Africa\",\"TwoLetterSymbol\":\"ng\",\"ThreeLetterSymbol\":\"nga\",\"Infection_Risk\":0.12,\"Case_Fatality_Rate\":1.19,\"Test_Percentage\":2.5,\"Recovery_Proporation\":97.45,\"TotalCases\":265816,\"NewCases\":0,\"TotalDeaths\":3155,\"NewDeaths\":0,\"TotalRecovered\":\"259043\",\"NewRecovered\":0,\"ActiveCases\":3618,\"TotalTests\":\"5441162\",\"Population\":\"217793690\",\"one_Caseevery_X_ppl\":819,\"one_Deathevery_X_ppl\":69031,\"one_Testevery_X_ppl\":40,\"Deaths_1M_pop\":14,\"Serious_Critical\":11,\"Tests_1M_Pop\":24983,\"TotCases_1M_Pop\":1220},{\"id\":\"09427c33-6194-4989-a06e-4d6d52518b06\",\"rank\":107,\"Country\":\"Zimbabwe\",\"Continent\":\"Africa\",\"TwoLetterSymbol\":\"zw\",\"ThreeLetterSymbol\":\"zwe\",\"Infection_Risk\":1.68,\"Case_Fatality_Rate\":2.17,\"Test_Percentage\":16.45,\"Recovery_Proporation\":97.67,\"TotalCases\":257827,\"NewCases\":0,\"TotalDeaths\":5605,\"NewDeaths\":0,\"TotalRecovered\":\"251825\",\"NewRecovered\":0,\"ActiveCases\":397,\"TotalTests\":\"2525756\",\"Population\":\"15356333\",\"one_Caseevery_X_ppl\":60,\"one_Deathevery_X_ppl\":2740,\"one_Testevery_X_ppl\":6,\"Deaths_1M_pop\":365,\"Serious_Critical\":12,\"Tests_1M_Pop\":164477,\"TotCases_1M_Pop\":16790},{\"id\":\"c0e96d03-21df-42c0-a932-ec088d305cba\",\"rank\":108,\"Country\":\"Uzbekistan\",\"Continent\":\"Asia\",\"TwoLetterSymbol\":\"uz\",\"ThreeLetterSymbol\":\"uzb\",\"Infection_Risk\":0.71,\"Case_Fatality_Rate\":0.67,\"Test_Percentage\":3.99,\"Recovery_Proporation\":98.81,\"TotalCases\":244382,\"NewCases\":0,\"TotalDeaths\":1637,\"NewDeaths\":0,\"TotalRecovered\":\"241486\",\"NewRecovered\":0,\"ActiveCases\":1259,\"TotalTests\":\"1377915\",\"Population\":\"34575368\",\"one_Caseevery_X_ppl\":141,\"one_Deathevery_X_ppl\":21121,\"one_Testevery_X_ppl\":25,\"Deaths_1M_pop\":47,\"Serious_Critical\":23,\"Tests_1M_Pop\":39853,\"TotCases_1M_Pop\":7068},{\"id\":\"c784559e-003a-490b-9753-4b23ee5fdb39\",\"rank\":109,\"Country\":\"Brunei\",\"Continent\":\"Asia\",\"TwoLetterSymbol\":\"bn\",\"ThreeLetterSymbol\":\"brn\",\"Infection_Risk\":51.86,\"Case_Fatality_Rate\":0.1,\"Test_Percentage\":160.57,\"Recovery_Proporation\":95.82,\"TotalCases\":231833,\"NewCases\":0,\"TotalDeaths\":225,\"NewDeaths\":0,\"TotalRecovered\":\"222140\",\"NewRecovered\":0,\"ActiveCases\":9468,\"TotalTests\":\"717784\",\"Population\":\"447030\",\"one_Caseevery_X_ppl\":2,\"one_Deathevery_X_ppl\":1987,\"one_Testevery_X_ppl\":1,\"Deaths_1M_pop\":503,\"Serious_Critical\":3,\"Tests_1M_Pop\":1605673,\"TotCases_1M_Pop\":518607},{\"id\":\"11b1c43d-0f5c-4503-855a-6bc5588790e2\",\"rank\":110,\"Country\":\"Mozambique\",\"Continent\":\"Africa\",\"TwoLetterSymbol\":\"mz\",\"ThreeLetterSymbol\":\"moz\",\"Infection_Risk\":0.69,\"Case_Fatality_Rate\":0.97,\"Test_Percentage\":4.12,\"Recovery_Proporation\":99.03,\"TotalCases\":230370,\"NewCases\":0,\"TotalDeaths\":2224,\"NewDeaths\":0,\"TotalRecovered\":\"228146\",\"NewRecovered\":0,\"ActiveCases\":0,\"TotalTests\":\"1371127\",\"Population\":\"33253002\",\"one_Caseevery_X_ppl\":144,\"one_Deathevery_X_ppl\":14952,\"one_Testevery_X_ppl\":24,\"Deaths_1M_pop\":67,\"Serious_Critical\":11,\"Tests_1M_Pop\":41233,\"TotCases_1M_Pop\":6928},{\"id\":\"b191f56d-eaf8-4a97-b1d3-e220e20aa686\",\"rank\":111,\"Country\":\"Martinique\",\"Continent\":\"North America\",\"TwoLetterSymbol\":\"mq\",\"ThreeLetterSymbol\":\"mtq\",\"Infection_Risk\":59.48,\"Case_Fatality_Rate\":0.47,\"Test_Percentage\":221.28,\"Recovery_Proporation\":0,\"TotalCases\":222830,\"NewCases\":0,\"TotalDeaths\":1047,\"NewDeaths\":0,\"TotalRecovered\":\"221783\",\"NewRecovered\":0,\"ActiveCases\":0,\"TotalTests\":\"828928\",\"Population\":\"374602\",\"one_Caseevery_X_ppl\":2,\"one_Deathevery_X_ppl\":358,\"one_Testevery_X_ppl\":0,\"Deaths_1M_pop\":2795,\"Serious_Critical\":8,\"Tests_1M_Pop\":2212823,\"TotCases_1M_Pop\":594845},{\"id\":\"a07df09d-690a-4ca7-8d76-0b01a071ea51\",\"rank\":112,\"Country\":\"Laos\",\"Continent\":\"Asia\",\"TwoLetterSymbol\":\"la\",\"ThreeLetterSymbol\":\"lao\",\"Infection_Risk\":2.87,\"Case_Fatality_Rate\":0.35,\"Test_Percentage\":16.41,\"Recovery_Proporation\":0,\"TotalCases\":216088,\"NewCases\":20,\"TotalDeaths\":758,\"NewDeaths\":0,\"TotalRecovered\":\"215330\",\"NewRecovered\":0,\"ActiveCases\":0,\"TotalTests\":\"1233207\",\"Population\":\"7516321\",\"one_Caseevery_X_ppl\":35,\"one_Deathevery_X_ppl\":9916,\"one_Testevery_X_ppl\":6,\"Deaths_1M_pop\":101,\"Serious_Critical\":0,\"Tests_1M_Pop\":164071,\"TotCases_1M_Pop\":28749},{\"id\":\"a173c7c0-6c68-4505-a21e-303b977f4432\",\"rank\":113,\"Country\":\"Kyrgyzstan\",\"Continent\":\"Asia\",\"TwoLetterSymbol\":\"kg\",\"ThreeLetterSymbol\":\"kgz\",\"Infection_Risk\":3.05,\"Case_Fatality_Rate\":1.45,\"Test_Percentage\":28.17,\"Recovery_Proporation\":95.23,\"TotalCases\":206250,\"NewCases\":0,\"TotalDeaths\":2991,\"NewDeaths\":0,\"TotalRecovered\":\"196406\",\"NewRecovered\":0,\"ActiveCases\":6853,\"TotalTests\":\"1907195\",\"Population\":\"6769675\",\"one_Caseevery_X_ppl\":33,\"one_Deathevery_X_ppl\":2263,\"one_Testevery_X_ppl\":4,\"Deaths_1M_pop\":442,\"Serious_Critical\":131,\"Tests_1M_Pop\":281726,\"TotCases_1M_Pop\":30467},{\"id\":\"4fd8c9f5-b433-4ae4-b8a0-3b04a1841304\",\"rank\":114,\"Country\":\"Iceland\",\"Continent\":\"Europe\",\"TwoLetterSymbol\":\"is\",\"ThreeLetterSymbol\":\"isl\",\"Infection_Risk\":59.48,\"Case_Fatality_Rate\":0.1,\"Test_Percentage\":576.5,\"Recovery_Proporation\":0,\"TotalCases\":205963,\"NewCases\":0,\"TotalDeaths\":213,\"NewDeaths\":0,\"TotalRecovered\":\"205750\",\"NewRecovered\":0,\"ActiveCases\":0,\"TotalTests\":\"1996384\",\"Population\":\"346292\",\"one_Caseevery_X_ppl\":2,\"one_Deathevery_X_ppl\":1626,\"one_Testevery_X_ppl\":0,\"Deaths_1M_pop\":615,\"Serious_Critical\":2,\"Tests_1M_Pop\":5765031,\"TotCases_1M_Pop\":594767},{\"id\":\"0eabfcba-af61-47f8-9054-217d94a00c7d\",\"rank\":115,\"Country\":\"El Salvador\",\"Continent\":\"North America\",\"TwoLetterSymbol\":\"sv\",\"ThreeLetterSymbol\":\"slv\",\"Infection_Risk\":3.08,\"Case_Fatality_Rate\":2.1,\"Test_Percentage\":39.78,\"Recovery_Proporation\":88.91,\"TotalCases\":201785,\"NewCases\":0,\"TotalDeaths\":4230,\"NewDeaths\":0,\"TotalRecovered\":\"179410\",\"NewRecovered\":0,\"ActiveCases\":18145,\"TotalTests\":\"2610114\",\"Population\":\"6560811\",\"one_Caseevery_X_ppl\":33,\"one_Deathevery_X_ppl\":1551,\"one_Testevery_X_ppl\":3,\"Deaths_1M_pop\":645,\"Serious_Critical\":8,\"Tests_1M_Pop\":397834,\"TotCases_1M_Pop\":30756},{\"id\":\"a22a19dd-cd37-4b17-bb78-214d939dcba6\",\"rank\":116,\"Country\":\"Afghanistan\",\"Continent\":\"Asia\",\"TwoLetterSymbol\":\"af\",\"ThreeLetterSymbol\":\"afg\",\"Infection_Risk\":0.49,\"Case_Fatality_Rate\":3.88,\"Test_Percentage\":2.73,\"Recovery_Proporation\":89.35,\"TotalCases\":201096,\"NewCases\":7,\"TotalDeaths\":7811,\"NewDeaths\":1,\"TotalRecovered\":\"179682\",\"NewRecovered\":36,\"ActiveCases\":13603,\"TotalTests\":\"1119266\",\"Population\":\"40928023\",\"one_Caseevery_X_ppl\":204,\"one_Deathevery_X_ppl\":5240,\"one_Testevery_X_ppl\":37,\"Deaths_1M_pop\":191,\"Serious_Critical\":1124,\"Tests_1M_Pop\":27347,\"TotCases_1M_Pop\":4913},{\"id\":\"30ac458c-b000-48f2-abc7-7c4c1c3e590c\",\"rank\":117,\"Country\":\"Guadeloupe\",\"Continent\":\"North America\",\"TwoLetterSymbol\":\"gp\",\"ThreeLetterSymbol\":\"glp\",\"Infection_Risk\":48.86,\"Case_Fatality_Rate\":0.51,\"Test_Percentage\":234.35,\"Recovery_Proporation\":0,\"TotalCases\":195593,\"NewCases\":0,\"TotalDeaths\":991,\"NewDeaths\":0,\"TotalRecovered\":\"194602\",\"NewRecovered\":0,\"ActiveCases\":0,\"TotalTests\":\"938039\",\"Population\":\"400280\",\"one_Caseevery_X_ppl\":2,\"one_Deathevery_X_ppl\":404,\"one_Testevery_X_ppl\":0,\"Deaths_1M_pop\":2476,\"Serious_Critical\":19,\"Tests_1M_Pop\":2343457,\"TotCases_1M_Pop\":488640},{\"id\":\"3aae6f72-2cd7-423d-9e01-c89c936d9d98\",\"rank\":118,\"Country\":\"Maldives\",\"Continent\":\"Asia\",\"TwoLetterSymbol\":\"mv\",\"ThreeLetterSymbol\":\"mdv\",\"Infection_Risk\":32.93,\"Case_Fatality_Rate\":0.17,\"Test_Percentage\":393.74,\"Recovery_Proporation\":88.42,\"TotalCases\":185125,\"NewCases\":0,\"TotalDeaths\":308,\"NewDeaths\":0,\"TotalRecovered\":\"163687\",\"NewRecovered\":0,\"ActiveCases\":21130,\"TotalTests\":\"2213831\",\"Population\":\"562256\",\"one_Caseevery_X_ppl\":3,\"one_Deathevery_X_ppl\":1826,\"one_Testevery_X_ppl\":0,\"Deaths_1M_pop\":548,\"Serious_Critical\":25,\"Tests_1M_Pop\":3937408,\"TotCases_1M_Pop\":329254},{\"id\":\"b1c7dda7-4fd3-4c84-9385-4a67aae6d0af\",\"rank\":119,\"Country\":\"Trinidad and Tobago\",\"Continent\":\"North America\",\"TwoLetterSymbol\":\"tt\",\"ThreeLetterSymbol\":\"tto\",\"Infection_Risk\":13.04,\"Case_Fatality_Rate\":2.3,\"Test_Percentage\":59.77,\"Recovery_Proporation\":95.92,\"TotalCases\":183824,\"NewCases\":0,\"TotalDeaths\":4224,\"NewDeaths\":0,\"TotalRecovered\":\"176317\",\"NewRecovered\":0,\"ActiveCases\":3283,\"TotalTests\":\"842716\",\"Population\":\"1409818\",\"one_Caseevery_X_ppl\":8,\"one_Deathevery_X_ppl\":334,\"one_Testevery_X_ppl\":2,\"Deaths_1M_pop\":2996,\"Serious_Critical\":8,\"Tests_1M_Pop\":597748,\"TotCases_1M_Pop\":130388},{\"id\":\"45d2c117-d4d7-4ad4-92c2-a18419a2ac40\",\"rank\":120,\"Country\":\"Ghana\",\"Continent\":\"Africa\",\"TwoLetterSymbol\":\"gh\",\"ThreeLetterSymbol\":\"gha\",\"Infection_Risk\":0.52,\"Case_Fatality_Rate\":0.86,\"Test_Percentage\":7.72,\"Recovery_Proporation\":98.89,\"TotalCases\":170177,\"NewCases\":0,\"TotalDeaths\":1460,\"NewDeaths\":0,\"TotalRecovered\":\"168293\",\"NewRecovered\":0,\"ActiveCases\":424,\"TotalTests\":\"2511658\",\"Population\":\"32552307\",\"one_Caseevery_X_ppl\":191,\"one_Deathevery_X_ppl\":22296,\"one_Testevery_X_ppl\":13,\"Deaths_1M_pop\":45,\"Serious_Critical\":2,\"Tests_1M_Pop\":77158,\"TotCases_1M_Pop\":5228},{\"id\":\"38c9ecad-032b-490b-b53d-3926970e07e3\",\"rank\":121,\"Country\":\"Uganda\",\"Continent\":\"Africa\",\"TwoLetterSymbol\":\"ug\",\"ThreeLetterSymbol\":\"uga\",\"Infection_Risk\":0.35,\"Case_Fatality_Rate\":2.14,\"Test_Percentage\":6.14,\"Recovery_Proporation\":59.29,\"TotalCases\":169396,\"NewCases\":0,\"TotalDeaths\":3628,\"NewDeaths\":0,\"TotalRecovered\":\"100431\",\"NewRecovered\":0,\"ActiveCases\":65337,\"TotalTests\":\"3012408\",\"Population\":\"49036606\",\"one_Caseevery_X_ppl\":289,\"one_Deathevery_X_ppl\":13516,\"one_Testevery_X_ppl\":16,\"Deaths_1M_pop\":74,\"Serious_Critical\":3,\"Tests_1M_Pop\":61432,\"TotCases_1M_Pop\":3454},{\"id\":\"30371056-ab76-408a-ab94-6e90ea8d6727\",\"rank\":122,\"Country\":\"Namibia\",\"Continent\":\"Africa\",\"TwoLetterSymbol\":\"na\",\"ThreeLetterSymbol\":\"nam\",\"Infection_Risk\":6.4,\"Case_Fatality_Rate\":2.4,\"Test_Percentage\":40.16,\"Recovery_Proporation\":97.38,\"TotalCases\":169253,\"NewCases\":0,\"TotalDeaths\":4065,\"NewDeaths\":0,\"TotalRecovered\":\"164813\",\"NewRecovered\":0,\"ActiveCases\":375,\"TotalTests\":\"1062663\",\"Population\":\"2645851\",\"one_Caseevery_X_ppl\":16,\"one_Deathevery_X_ppl\":651,\"one_Testevery_X_ppl\":2,\"Deaths_1M_pop\":1536,\"Serious_Critical\":0,\"Tests_1M_Pop\":401634,\"TotCases_1M_Pop\":63969},{\"id\":\"6441ca62-ed56-432f-b0c0-3024122e2588\",\"rank\":123,\"Country\":\"Jamaica\",\"Continent\":\"North America\",\"TwoLetterSymbol\":\"jm\",\"ThreeLetterSymbol\":\"jam\",\"Infection_Risk\":5.08,\"Case_Fatality_Rate\":2.19,\"Test_Percentage\":39.59,\"Recovery_Proporation\":65.42,\"TotalCases\":151931,\"NewCases\":0,\"TotalDeaths\":3320,\"NewDeaths\":0,\"TotalRecovered\":\"99392\",\"NewRecovered\":0,\"ActiveCases\":49219,\"TotalTests\":\"1183986\",\"Population\":\"2990629\",\"one_Caseevery_X_ppl\":20,\"one_Deathevery_X_ppl\":901,\"one_Testevery_X_ppl\":3,\"Deaths_1M_pop\":1110,\"Serious_Critical\":0,\"Tests_1M_Pop\":395899,\"TotCases_1M_Pop\":50802},{\"id\":\"f01f73fb-71ea-4624-b07e-e86ac91bc8aa\",\"rank\":124,\"Country\":\"Cambodia\",\"Continent\":\"Asia\",\"TwoLetterSymbol\":\"kh\",\"ThreeLetterSymbol\":\"khm\",\"Infection_Risk\":0.8,\"Case_Fatality_Rate\":2.22,\"Test_Percentage\":17.81,\"Recovery_Proporation\":97.73,\"TotalCases\":137963,\"NewCases\":6,\"TotalDeaths\":3056,\"NewDeaths\":0,\"TotalRecovered\":\"134834\",\"NewRecovered\":10,\"ActiveCases\":73,\"TotalTests\":\"3071982\",\"Population\":\"17246615\",\"one_Caseevery_X_ppl\":125,\"one_Deathevery_X_ppl\":5644,\"one_Testevery_X_ppl\":6,\"Deaths_1M_pop\":177,\"Serious_Critical\":0,\"Tests_1M_Pop\":178121,\"TotCases_1M_Pop\":7999},{\"id\":\"1f86fa0e-6fd9-4730-87fd-0ddbc0f36c5a\",\"rank\":125,\"Country\":\"Rwanda\",\"Continent\":\"Africa\",\"TwoLetterSymbol\":\"rw\",\"ThreeLetterSymbol\":\"rwa\",\"Infection_Risk\":0.97,\"Case_Fatality_Rate\":1.11,\"Test_Percentage\":42.67,\"Recovery_Proporation\":98.87,\"TotalCases\":132526,\"NewCases\":0,\"TotalDeaths\":1467,\"NewDeaths\":0,\"TotalRecovered\":\"131027\",\"NewRecovered\":0,\"ActiveCases\":32,\"TotalTests\":\"5839807\",\"Population\":\"13684579\",\"one_Caseevery_X_ppl\":103,\"one_Deathevery_X_ppl\":9328,\"one_Testevery_X_ppl\":2,\"Deaths_1M_pop\":107,\"Serious_Critical\":0,\"Tests_1M_Pop\":426744,\"TotCases_1M_Pop\":9684},{\"id\":\"34f83a43-85ad-481a-a2ee-85187b17353c\",\"rank\":126,\"Country\":\"Cameroon\",\"Continent\":\"Africa\",\"TwoLetterSymbol\":\"cm\",\"ThreeLetterSymbol\":\"cmr\",\"Infection_Risk\":0.43,\"Case_Fatality_Rate\":1.59,\"Test_Percentage\":6.24,\"Recovery_Proporation\":97.5,\"TotalCases\":121652,\"NewCases\":0,\"TotalDeaths\":1935,\"NewDeaths\":0,\"TotalRecovered\":\"118616\",\"NewRecovered\":0,\"ActiveCases\":1101,\"TotalTests\":\"1751774\",\"Population\":\"28053127\",\"one_Caseevery_X_ppl\":231,\"one_Deathevery_X_ppl\":14498,\"one_Testevery_X_ppl\":16,\"Deaths_1M_pop\":69,\"Serious_Critical\":13,\"Tests_1M_Pop\":62445,\"TotCases_1M_Pop\":4336},{\"id\":\"90d0759a-ecb8-4dd3-9312-e8f952e2834f\",\"rank\":127,\"Country\":\"Malta\",\"Continent\":\"Europe\",\"TwoLetterSymbol\":\"mt\",\"ThreeLetterSymbol\":\"mlt\",\"Infection_Risk\":25.88,\"Case_Fatality_Rate\":0.7,\"Test_Percentage\":465.81,\"Recovery_Proporation\":98.7,\"TotalCases\":114985,\"NewCases\":22,\"TotalDeaths\":806,\"NewDeaths\":0,\"TotalRecovered\":\"113495\",\"NewRecovered\":20,\"ActiveCases\":684,\"TotalTests\":\"2069213\",\"Population\":\"444223\",\"one_Caseevery_X_ppl\":4,\"one_Deathevery_X_ppl\":551,\"one_Testevery_X_ppl\":0,\"Deaths_1M_pop\":1814,\"Serious_Critical\":4,\"Tests_1M_Pop\":4658050,\"TotCases_1M_Pop\":258845},{\"id\":\"b50812db-56f1-447e-968b-526934c83624\",\"rank\":128,\"Country\":\"Angola\",\"Continent\":\"Africa\",\"TwoLetterSymbol\":\"ao\",\"ThreeLetterSymbol\":\"ago\",\"Infection_Risk\":0.29,\"Case_Fatality_Rate\":1.86,\"Test_Percentage\":4.26,\"Recovery_Proporation\":98.08,\"TotalCases\":103131,\"NewCases\":0,\"TotalDeaths\":1917,\"NewDeaths\":0,\"TotalRecovered\":\"101155\",\"NewRecovered\":0,\"ActiveCases\":59,\"TotalTests\":\"1499795\",\"Population\":\"35198666\",\"one_Caseevery_X_ppl\":341,\"one_Deathevery_X_ppl\":18361,\"one_Testevery_X_ppl\":23,\"Deaths_1M_pop\":54,\"Serious_Critical\":0,\"Tests_1M_Pop\":42609,\"TotCases_1M_Pop\":2930},{\"id\":\"c8f46d40-0f9b-4a75-bbca-97461b78c8b8\",\"rank\":129,\"Country\":\"Barbados\",\"Continent\":\"North America\",\"TwoLetterSymbol\":\"bb\",\"ThreeLetterSymbol\":\"brb\",\"Infection_Risk\":35.6,\"Case_Fatality_Rate\":0.55,\"Test_Percentage\":265.71,\"Recovery_Proporation\":99.25,\"TotalCases\":102580,\"NewCases\":0,\"TotalDeaths\":560,\"NewDeaths\":0,\"TotalRecovered\":\"101812\",\"NewRecovered\":0,\"ActiveCases\":208,\"TotalTests\":\"765701\",\"Population\":\"288177\",\"one_Caseevery_X_ppl\":3,\"one_Deathevery_X_ppl\":515,\"one_Testevery_X_ppl\":0,\"Deaths_1M_pop\":1943,\"Serious_Critical\":0,\"Tests_1M_Pop\":2657051,\"TotCases_1M_Pop\":355962},{\"id\":\"80ba148c-004a-40fa-8304-1b4195fc4a28\",\"rank\":130,\"Country\":\"French Guiana\",\"Continent\":\"South America\",\"TwoLetterSymbol\":\"gf\",\"ThreeLetterSymbol\":\"guf\",\"Infection_Risk\":29.74,\"Case_Fatality_Rate\":0.44,\"Test_Percentage\":205.87,\"Recovery_Proporation\":11.96,\"TotalCases\":94073,\"NewCases\":0,\"TotalDeaths\":410,\"NewDeaths\":0,\"TotalRecovered\":\"11254\",\"NewRecovered\":0,\"ActiveCases\":82409,\"TotalTests\":\"651257\",\"Population\":\"316341\",\"one_Caseevery_X_ppl\":3,\"one_Deathevery_X_ppl\":772,\"one_Testevery_X_ppl\":0,\"Deaths_1M_pop\":1296,\"Serious_Critical\":3,\"Tests_1M_Pop\":2058718,\"TotCases_1M_Pop\":297378},{\"id\":\"cd1dfb64-b4f2-4661-b570-66a98c26eeb1\",\"rank\":131,\"Country\":\"DRC\",\"Continent\":\"Africa\",\"TwoLetterSymbol\":\"cd\",\"ThreeLetterSymbol\":\"cod\",\"Infection_Risk\":0.1,\"Case_Fatality_Rate\":1.55,\"Test_Percentage\":0.88,\"Recovery_Proporation\":89.84,\"TotalCases\":92972,\"NewCases\":0,\"TotalDeaths\":1444,\"NewDeaths\":0,\"TotalRecovered\":\"83522\",\"NewRecovered\":0,\"ActiveCases\":8006,\"TotalTests\":\"846704\",\"Population\":\"95773105\",\"one_Caseevery_X_ppl\":1030,\"one_Deathevery_X_ppl\":66325,\"one_Testevery_X_ppl\":113,\"Deaths_1M_pop\":15,\"Serious_Critical\":0,\"Tests_1M_Pop\":8841,\"TotCases_1M_Pop\":971},{\"id\":\"797ccfb3-faf9-46fe-8e11-db4c9ea50700\",\"rank\":132,\"Country\":\"Channel Islands\",\"Continent\":\"Europe\",\"TwoLetterSymbol\":\"us\",\"ThreeLetterSymbol\":\"usa\",\"Infection_Risk\":52.32,\"Case_Fatality_Rate\":0.22,\"Test_Percentage\":705.74,\"Recovery_Proporation\":98.85,\"TotalCases\":92884,\"NewCases\":0,\"TotalDeaths\":204,\"NewDeaths\":0,\"TotalRecovered\":\"91820\",\"NewRecovered\":0,\"ActiveCases\":860,\"TotalTests\":\"1252808\",\"Population\":\"177517\",\"one_Caseevery_X_ppl\":2,\"one_Deathevery_X_ppl\":870,\"one_Testevery_X_ppl\":0,\"Deaths_1M_pop\":1149,\"Serious_Critical\":0,\"Tests_1M_Pop\":7057397,\"TotCases_1M_Pop\":523240},{\"id\":\"35347f67-6496-45b8-b013-622e97792c33\",\"rank\":133,\"Country\":\"Senegal\",\"Continent\":\"Africa\",\"TwoLetterSymbol\":\"sn\",\"ThreeLetterSymbol\":\"sen\",\"Infection_Risk\":0.5,\"Case_Fatality_Rate\":2.22,\"Test_Percentage\":6.46,\"Recovery_Proporation\":97.66,\"TotalCases\":88555,\"NewCases\":0,\"TotalDeaths\":1968,\"NewDeaths\":0,\"TotalRecovered\":\"86486\",\"NewRecovered\":0,\"ActiveCases\":101,\"TotalTests\":\"1146543\",\"Population\":\"17750434\",\"one_Caseevery_X_ppl\":200,\"one_Deathevery_X_ppl\":9020,\"one_Testevery_X_ppl\":15,\"Deaths_1M_pop\":111,\"Serious_Critical\":0,\"Tests_1M_Pop\":64592,\"TotCases_1M_Pop\":4989},{\"id\":\"b7cb925f-fc60-4ed0-b0d8-fd0a77dae164\",\"rank\":134,\"Country\":\"Malawi\",\"Continent\":\"Africa\",\"TwoLetterSymbol\":\"mw\",\"ThreeLetterSymbol\":\"mwi\",\"Infection_Risk\":0.43,\"Case_Fatality_Rate\":3.05,\"Test_Percentage\":3.05,\"Recovery_Proporation\":96.5,\"TotalCases\":88057,\"NewCases\":0,\"TotalDeaths\":2682,\"NewDeaths\":0,\"TotalRecovered\":\"84973\",\"NewRecovered\":0,\"ActiveCases\":402,\"TotalTests\":\"618640\",\"Population\":\"20257536\",\"one_Caseevery_X_ppl\":230,\"one_Deathevery_X_ppl\":7553,\"one_Testevery_X_ppl\":33,\"Deaths_1M_pop\":132,\"Serious_Critical\":67,\"Tests_1M_Pop\":30539,\"TotCases_1M_Pop\":4347},{\"id\":\"bbfdfb8a-1a86-4ad2-a36c-38f6c9cbf0c4\",\"rank\":135,\"Country\":\"Ivory Coast\",\"Continent\":\"Africa\",\"TwoLetterSymbol\":\"ci\",\"ThreeLetterSymbol\":\"civ\",\"Infection_Risk\":0.31,\"Case_Fatality_Rate\":0.94,\"Test_Percentage\":5.87,\"Recovery_Proporation\":98.99,\"TotalCases\":87509,\"NewCases\":0,\"TotalDeaths\":826,\"NewDeaths\":0,\"TotalRecovered\":\"86624\",\"NewRecovered\":0,\"ActiveCases\":59,\"TotalTests\":\"1635249\",\"Population\":\"27868230\",\"one_Caseevery_X_ppl\":318,\"one_Deathevery_X_ppl\":33739,\"one_Testevery_X_ppl\":17,\"Deaths_1M_pop\":30,\"Serious_Critical\":0,\"Tests_1M_Pop\":58678,\"TotCases_1M_Pop\":3140},{\"id\":\"93bf229f-1445-4ce5-aa0a-63c907479092\",\"rank\":136,\"Country\":\"Suriname\",\"Continent\":\"South America\",\"TwoLetterSymbol\":\"sr\",\"ThreeLetterSymbol\":\"sur\",\"Infection_Risk\":13.55,\"Case_Fatality_Rate\":1.71,\"Test_Percentage\":39.97,\"Recovery_Proporation\":0,\"TotalCases\":81131,\"NewCases\":0,\"TotalDeaths\":1385,\"NewDeaths\":0,\"TotalRecovered\":\"79746\",\"NewRecovered\":0,\"ActiveCases\":0,\"TotalTests\":\"239280\",\"Population\":\"598616\",\"one_Caseevery_X_ppl\":7,\"one_Deathevery_X_ppl\":432,\"one_Testevery_X_ppl\":3,\"Deaths_1M_pop\":2314,\"Serious_Critical\":0,\"Tests_1M_Pop\":399722,\"TotCases_1M_Pop\":135531},{\"id\":\"6b425e6c-2b37-480f-bfe9-3531d926ef63\",\"rank\":137,\"Country\":\"French Polynesia\",\"Continent\":\"Australia/Oceania\",\"TwoLetterSymbol\":\"pf\",\"ThreeLetterSymbol\":\"pyf\",\"Infection_Risk\":26.95,\"Case_Fatality_Rate\":0.85,\"Test_Percentage\":0,\"Recovery_Proporation\":0,\"TotalCases\":76706,\"NewCases\":0,\"TotalDeaths\":649,\"NewDeaths\":0,\"TotalRecovered\":\"76057\",\"NewRecovered\":0,\"ActiveCases\":0,\"TotalTests\":\"0\",\"Population\":\"284610\",\"one_Caseevery_X_ppl\":4,\"one_Deathevery_X_ppl\":439,\"one_Testevery_X_ppl\":0,\"Deaths_1M_pop\":2280,\"Serious_Critical\":7,\"Tests_1M_Pop\":0,\"TotCases_1M_Pop\":269513},{\"id\":\"0bc14339-2009-4132-a9f6-2a27ed8dd533\",\"rank\":138,\"Country\":\"New Caledonia\",\"Continent\":\"Australia/Oceania\",\"TwoLetterSymbol\":\"nc\",\"ThreeLetterSymbol\":\"ncl\",\"Infection_Risk\":25.44,\"Case_Fatality_Rate\":0.42,\"Test_Percentage\":33.92,\"Recovery_Proporation\":99.56,\"TotalCases\":74210,\"NewCases\":0,\"TotalDeaths\":314,\"NewDeaths\":0,\"TotalRecovered\":\"73884\",\"NewRecovered\":0,\"ActiveCases\":12,\"TotalTests\":\"98964\",\"Population\":\"291756\",\"one_Caseevery_X_ppl\":4,\"one_Deathevery_X_ppl\":929,\"one_Testevery_X_ppl\":3,\"Deaths_1M_pop\":1076,\"Serious_Critical\":9,\"Tests_1M_Pop\":339201,\"TotCases_1M_Pop\":254356},{\"id\":\"5f88cfd7-6a96-4234-86e2-050ea154a08d\",\"rank\":139,\"Country\":\"Eswatini\",\"Continent\":\"Africa\",\"TwoLetterSymbol\":\"sz\",\"ThreeLetterSymbol\":\"swz\",\"Infection_Risk\":6.18,\"Case_Fatality_Rate\":1.94,\"Test_Percentage\":88.07,\"Recovery_Proporation\":98.01,\"TotalCases\":73436,\"NewCases\":0,\"TotalDeaths\":1422,\"NewDeaths\":0,\"TotalRecovered\":\"71973\",\"NewRecovered\":0,\"ActiveCases\":41,\"TotalTests\":\"1045903\",\"Population\":\"1187554\",\"one_Caseevery_X_ppl\":16,\"one_Deathevery_X_ppl\":835,\"one_Testevery_X_ppl\":1,\"Deaths_1M_pop\":1197,\"Serious_Critical\":0,\"Tests_1M_Pop\":880720,\"TotCases_1M_Pop\":61838},{\"id\":\"d53fe90c-410d-4315-a7ba-941fab44867d\",\"rank\":140,\"Country\":\"Guyana\",\"Continent\":\"South America\",\"TwoLetterSymbol\":\"gy\",\"ThreeLetterSymbol\":\"guy\",\"Infection_Risk\":8.98,\"Case_Fatality_Rate\":1.79,\"Test_Percentage\":87.86,\"Recovery_Proporation\":98.14,\"TotalCases\":71399,\"NewCases\":0,\"TotalDeaths\":1281,\"NewDeaths\":0,\"TotalRecovered\":\"70074\",\"NewRecovered\":0,\"ActiveCases\":44,\"TotalTests\":\"698638\",\"Population\":\"795204\",\"one_Caseevery_X_ppl\":11,\"one_Deathevery_X_ppl\":621,\"one_Testevery_X_ppl\":1,\"Deaths_1M_pop\":1611,\"Serious_Critical\":0,\"Tests_1M_Pop\":878564,\"TotCases_1M_Pop\":89787},{\"id\":\"c6f18a23-8f0d-43b2-9824-43841ad9e91b\",\"rank\":141,\"Country\":\"Belize\",\"Continent\":\"North America\",\"TwoLetterSymbol\":\"bz\",\"ThreeLetterSymbol\":\"blz\",\"Infection_Risk\":16.64,\"Case_Fatality_Rate\":1,\"Test_Percentage\":139.1,\"Recovery_Proporation\":98.97,\"TotalCases\":68909,\"NewCases\":0,\"TotalDeaths\":686,\"NewDeaths\":0,\"TotalRecovered\":\"68197\",\"NewRecovered\":0,\"ActiveCases\":26,\"TotalTests\":\"576016\",\"Population\":\"414091\",\"one_Caseevery_X_ppl\":6,\"one_Deathevery_X_ppl\":604,\"one_Testevery_X_ppl\":1,\"Deaths_1M_pop\":1657,\"Serious_Critical\":6,\"Tests_1M_Pop\":1391037,\"TotCases_1M_Pop\":166410},{\"id\":\"7b513adb-ea2d-490b-a0d5-8f9f7af33ddc\",\"rank\":142,\"Country\":\"Fiji\",\"Continent\":\"Australia/Oceania\",\"TwoLetterSymbol\":\"fj\",\"ThreeLetterSymbol\":\"fji\",\"Infection_Risk\":7.49,\"Case_Fatality_Rate\":1.29,\"Test_Percentage\":72.8,\"Recovery_Proporation\":97.16,\"TotalCases\":68248,\"NewCases\":0,\"TotalDeaths\":878,\"NewDeaths\":0,\"TotalRecovered\":\"66307\",\"NewRecovered\":0,\"ActiveCases\":1063,\"TotalTests\":\"663351\",\"Population\":\"911255\",\"one_Caseevery_X_ppl\":13,\"one_Deathevery_X_ppl\":1038,\"one_Testevery_X_ppl\":1,\"Deaths_1M_pop\":964,\"Serious_Critical\":0,\"Tests_1M_Pop\":727953,\"TotCases_1M_Pop\":74895},{\"id\":\"e13ba956-f90f-4d60-a37f-4dfe17710fe1\",\"rank\":143,\"Country\":\"Madagascar\",\"Continent\":\"Africa\",\"TwoLetterSymbol\":\"mg\",\"ThreeLetterSymbol\":\"mdg\",\"Infection_Risk\":0.23,\"Case_Fatality_Rate\":2.11,\"Test_Percentage\":1.75,\"Recovery_Proporation\":97.87,\"TotalCases\":66687,\"NewCases\":0,\"TotalDeaths\":1410,\"NewDeaths\":0,\"TotalRecovered\":\"65267\",\"NewRecovered\":0,\"ActiveCases\":10,\"TotalTests\":\"512993\",\"Population\":\"29314850\",\"one_Caseevery_X_ppl\":440,\"one_Deathevery_X_ppl\":20791,\"one_Testevery_X_ppl\":57,\"Deaths_1M_pop\":48,\"Serious_Critical\":0,\"Tests_1M_Pop\":17499,\"TotCases_1M_Pop\":2275},{\"id\":\"7d476ff7-09ba-4720-a954-8116aa4732af\",\"rank\":144,\"Country\":\"Sudan\",\"Continent\":\"Africa\",\"TwoLetterSymbol\":\"sd\",\"ThreeLetterSymbol\":\"sdn\",\"Infection_Risk\":0.14,\"Case_Fatality_Rate\":7.83,\"Test_Percentage\":1.22,\"Recovery_Proporation\":90.7,\"TotalCases\":63375,\"NewCases\":0,\"TotalDeaths\":4963,\"NewDeaths\":0,\"TotalRecovered\":\"57481\",\"NewRecovered\":0,\"ActiveCases\":931,\"TotalTests\":\"562941\",\"Population\":\"46184499\",\"one_Caseevery_X_ppl\":729,\"one_Deathevery_X_ppl\":9306,\"one_Testevery_X_ppl\":82,\"Deaths_1M_pop\":107,\"Serious_Critical\":0,\"Tests_1M_Pop\":12189,\"TotCases_1M_Pop\":1372},{\"id\":\"34e08b74-4426-4f8f-ba04-2ad3268d57ed\",\"rank\":145,\"Country\":\"Mauritania\",\"Continent\":\"Africa\",\"TwoLetterSymbol\":\"mr\",\"ThreeLetterSymbol\":\"mrt\",\"Infection_Risk\":1.28,\"Case_Fatality_Rate\":1.58,\"Test_Percentage\":19.94,\"Recovery_Proporation\":98.11,\"TotalCases\":63045,\"NewCases\":0,\"TotalDeaths\":995,\"NewDeaths\":0,\"TotalRecovered\":\"61851\",\"NewRecovered\":0,\"ActiveCases\":199,\"TotalTests\":\"982719\",\"Population\":\"4928446\",\"one_Caseevery_X_ppl\":78,\"one_Deathevery_X_ppl\":4953,\"one_Testevery_X_ppl\":5,\"Deaths_1M_pop\":202,\"Serious_Critical\":0,\"Tests_1M_Pop\":199397,\"TotCases_1M_Pop\":12792},{\"id\":\"1b4c6f13-6569-42c4-ac46-70aac0a61cf1\",\"rank\":146,\"Country\":\"Cabo Verde\",\"Continent\":\"Africa\",\"TwoLetterSymbol\":\"cv\",\"ThreeLetterSymbol\":\"cpv\",\"Infection_Risk\":10.95,\"Case_Fatality_Rate\":0.66,\"Test_Percentage\":70.49,\"Recovery_Proporation\":99.24,\"TotalCases\":62395,\"NewCases\":0,\"TotalDeaths\":410,\"NewDeaths\":0,\"TotalRecovered\":\"61922\",\"NewRecovered\":0,\"ActiveCases\":63,\"TotalTests\":\"401622\",\"Population\":\"569757\",\"one_Caseevery_X_ppl\":9,\"one_Deathevery_X_ppl\":1390,\"one_Testevery_X_ppl\":1,\"Deaths_1M_pop\":720,\"Serious_Critical\":23,\"Tests_1M_Pop\":704901,\"TotCases_1M_Pop\":109512},{\"id\":\"bf5fe94d-de57-4ff8-b174-c1238e097c6c\",\"rank\":147,\"Country\":\"Bhutan\",\"Continent\":\"Asia\",\"TwoLetterSymbol\":\"bt\",\"ThreeLetterSymbol\":\"btn\",\"Infection_Risk\":7.86,\"Case_Fatality_Rate\":0.03,\"Test_Percentage\":291.25,\"Recovery_Proporation\":98.98,\"TotalCases\":62200,\"NewCases\":0,\"TotalDeaths\":21,\"NewDeaths\":0,\"TotalRecovered\":\"61564\",\"NewRecovered\":0,\"ActiveCases\":615,\"TotalTests\":\"2303734\",\"Population\":\"790982\",\"one_Caseevery_X_ppl\":13,\"one_Deathevery_X_ppl\":37666,\"one_Testevery_X_ppl\":0,\"Deaths_1M_pop\":27,\"Serious_Critical\":0,\"Tests_1M_Pop\":2912499,\"TotCases_1M_Pop\":78636},{\"id\":\"86c418c9-9bad-4c05-90a0-31f87650ee52\",\"rank\":148,\"Country\":\"Syria\",\"Continent\":\"Asia\",\"TwoLetterSymbol\":\"sy\",\"ThreeLetterSymbol\":\"syr\",\"Infection_Risk\":0.31,\"Case_Fatality_Rate\":5.52,\"Test_Percentage\":0.79,\"Recovery_Proporation\":94.45,\"TotalCases\":57332,\"NewCases\":0,\"TotalDeaths\":3163,\"NewDeaths\":0,\"TotalRecovered\":\"54151\",\"NewRecovered\":0,\"ActiveCases\":18,\"TotalTests\":\"146269\",\"Population\":\"18470376\",\"one_Caseevery_X_ppl\":322,\"one_Deathevery_X_ppl\":5840,\"one_Testevery_X_ppl\":126,\"Deaths_1M_pop\":171,\"Serious_Critical\":0,\"Tests_1M_Pop\":7919,\"TotCases_1M_Pop\":3104},{\"id\":\"7d567c91-c413-4427-b015-408a660c2fb7\",\"rank\":149,\"Country\":\"Burundi\",\"Continent\":\"Africa\",\"TwoLetterSymbol\":\"bi\",\"ThreeLetterSymbol\":\"bdi\",\"Infection_Risk\":0.4,\"Case_Fatality_Rate\":0.08,\"Test_Percentage\":2.72,\"Recovery_Proporation\":99.63,\"TotalCases\":50289,\"NewCases\":0,\"TotalDeaths\":38,\"NewDeaths\":0,\"TotalRecovered\":\"50104\",\"NewRecovered\":0,\"ActiveCases\":147,\"TotalTests\":\"345742\",\"Population\":\"12698684\",\"one_Caseevery_X_ppl\":253,\"one_Deathevery_X_ppl\":334176,\"one_Testevery_X_ppl\":37,\"Deaths_1M_pop\":3,\"Serious_Critical\":0,\"Tests_1M_Pop\":27227,\"TotCases_1M_Pop\":3960},{\"id\":\"9151888a-1e30-41cf-83ac-6b30b75199ba\",\"rank\":150,\"Country\":\"Gabon\",\"Continent\":\"Africa\",\"TwoLetterSymbol\":\"ga\",\"ThreeLetterSymbol\":\"gab\",\"Infection_Risk\":2.08,\"Case_Fatality_Rate\":0.63,\"Test_Percentage\":69,\"Recovery_Proporation\":99.06,\"TotalCases\":48810,\"NewCases\":0,\"TotalDeaths\":306,\"NewDeaths\":0,\"TotalRecovered\":\"48353\",\"NewRecovered\":0,\"ActiveCases\":151,\"TotalTests\":\"1618431\",\"Population\":\"2345525\",\"one_Caseevery_X_ppl\":48,\"one_Deathevery_X_ppl\":7665,\"one_Testevery_X_ppl\":1,\"Deaths_1M_pop\":130,\"Serious_Critical\":0,\"Tests_1M_Pop\":690008,\"TotCases_1M_Pop\":20810},{\"id\":\"d7bf6e66-1301-41b6-abef-9d561247123d\",\"rank\":151,\"Country\":\"Seychelles\",\"Continent\":\"Africa\",\"TwoLetterSymbol\":\"sc\",\"ThreeLetterSymbol\":\"syc\",\"Infection_Risk\":47.27,\"Case_Fatality_Rate\":0.36,\"Test_Percentage\":0,\"Recovery_Proporation\":98.53,\"TotalCases\":47141,\"NewCases\":0,\"TotalDeaths\":169,\"NewDeaths\":0,\"TotalRecovered\":\"46446\",\"NewRecovered\":0,\"ActiveCases\":526,\"TotalTests\":\"0\",\"Population\":\"99735\",\"one_Caseevery_X_ppl\":2,\"one_Deathevery_X_ppl\":590,\"one_Testevery_X_ppl\":0,\"Deaths_1M_pop\":1694,\"Serious_Critical\":0,\"Tests_1M_Pop\":0,\"TotCases_1M_Pop\":472663},{\"id\":\"3a152b44-2832-418e-853e-50a89cacf701\",\"rank\":152,\"Country\":\"Andorra\",\"Continent\":\"Europe\",\"TwoLetterSymbol\":\"ad\",\"ThreeLetterSymbol\":\"and\",\"Infection_Risk\":59.79,\"Case_Fatality_Rate\":0.33,\"Test_Percentage\":322.18,\"Recovery_Proporation\":99.4,\"TotalCases\":46366,\"NewCases\":0,\"TotalDeaths\":155,\"NewDeaths\":0,\"TotalRecovered\":\"46087\",\"NewRecovered\":0,\"ActiveCases\":124,\"TotalTests\":\"249838\",\"Population\":\"77547\",\"one_Caseevery_X_ppl\":2,\"one_Deathevery_X_ppl\":500,\"one_Testevery_X_ppl\":0,\"Deaths_1M_pop\":1999,\"Serious_Critical\":14,\"Tests_1M_Pop\":3221762,\"TotCases_1M_Pop\":597908},{\"id\":\"1d10595e-15e7-4d0f-a990-6b45b1af1120\",\"rank\":153,\"Country\":\"Papua New Guinea\",\"Continent\":\"Australia/Oceania\",\"TwoLetterSymbol\":\"pg\",\"ThreeLetterSymbol\":\"png\",\"Infection_Risk\":0.48,\"Case_Fatality_Rate\":1.48,\"Test_Percentage\":2.67,\"Recovery_Proporation\":97.31,\"TotalCases\":45199,\"NewCases\":0,\"TotalDeaths\":668,\"NewDeaths\":0,\"TotalRecovered\":\"43982\",\"NewRecovered\":0,\"ActiveCases\":549,\"TotalTests\":\"249149\",\"Population\":\"9333562\",\"one_Caseevery_X_ppl\":206,\"one_Deathevery_X_ppl\":13972,\"one_Testevery_X_ppl\":37,\"Deaths_1M_pop\":72,\"Serious_Critical\":7,\"Tests_1M_Pop\":26694,\"TotCases_1M_Pop\":4843},{\"id\":\"9390f297-9b1c-4460-9969-09162343cfaa\",\"rank\":154,\"Country\":\"Curaçao\",\"Continent\":\"North America\",\"TwoLetterSymbol\":\"cw\",\"ThreeLetterSymbol\":\"cuw\",\"Infection_Risk\":27.25,\"Case_Fatality_Rate\":0.62,\"Test_Percentage\":299.89,\"Recovery_Proporation\":99.1,\"TotalCases\":45127,\"NewCases\":0,\"TotalDeaths\":282,\"NewDeaths\":0,\"TotalRecovered\":\"44720\",\"NewRecovered\":0,\"ActiveCases\":125,\"TotalTests\":\"496693\",\"Population\":\"165623\",\"one_Caseevery_X_ppl\":4,\"one_Deathevery_X_ppl\":587,\"one_Testevery_X_ppl\":0,\"Deaths_1M_pop\":1703,\"Serious_Critical\":3,\"Tests_1M_Pop\":2998937,\"TotCases_1M_Pop\":272468},{\"id\":\"ebe06cac-5d5c-4fdd-bfe0-7fb7b27fbf19\",\"rank\":155,\"Country\":\"Aruba\",\"Continent\":\"North America\",\"TwoLetterSymbol\":\"aw\",\"ThreeLetterSymbol\":\"abw\",\"Infection_Risk\":39.81,\"Case_Fatality_Rate\":0.53,\"Test_Percentage\":165.02,\"Recovery_Proporation\":98.89,\"TotalCases\":42914,\"NewCases\":0,\"TotalDeaths\":227,\"NewDeaths\":0,\"TotalRecovered\":\"42438\",\"NewRecovered\":0,\"ActiveCases\":249,\"TotalTests\":\"177885\",\"Population\":\"107799\",\"one_Caseevery_X_ppl\":3,\"one_Deathevery_X_ppl\":475,\"one_Testevery_X_ppl\":1,\"Deaths_1M_pop\":2106,\"Serious_Critical\":2,\"Tests_1M_Pop\":1650154,\"TotCases_1M_Pop\":398093},{\"id\":\"fd80c13b-96b1-49cb-8612-2fc3c13907fd\",\"rank\":156,\"Country\":\"Mauritius\",\"Continent\":\"Africa\",\"TwoLetterSymbol\":\"mu\",\"ThreeLetterSymbol\":\"mus\",\"Infection_Risk\":3.18,\"Case_Fatality_Rate\":2.54,\"Test_Percentage\":28.1,\"Recovery_Proporation\":95.92,\"TotalCases\":40548,\"NewCases\":0,\"TotalDeaths\":1030,\"NewDeaths\":0,\"TotalRecovered\":\"38894\",\"NewRecovered\":0,\"ActiveCases\":624,\"TotalTests\":\"358675\",\"Population\":\"1276578\",\"one_Caseevery_X_ppl\":31,\"one_Deathevery_X_ppl\":1239,\"one_Testevery_X_ppl\":4,\"Deaths_1M_pop\":807,\"Serious_Critical\":0,\"Tests_1M_Pop\":280966,\"TotCases_1M_Pop\":31763},{\"id\":\"ba51f892-30dd-43c5-a994-f70954fc88d5\",\"rank\":157,\"Country\":\"Mayotte\",\"Continent\":\"Africa\",\"TwoLetterSymbol\":\"yt\",\"ThreeLetterSymbol\":\"myt\",\"Infection_Risk\":14,\"Case_Fatality_Rate\":0.46,\"Test_Percentage\":61.47,\"Recovery_Proporation\":0,\"TotalCases\":40297,\"NewCases\":0,\"TotalDeaths\":187,\"NewDeaths\":0,\"TotalRecovered\":\"40110\",\"NewRecovered\":0,\"ActiveCases\":0,\"TotalTests\":\"176919\",\"Population\":\"287829\",\"one_Caseevery_X_ppl\":7,\"one_Deathevery_X_ppl\":1539,\"one_Testevery_X_ppl\":2,\"Deaths_1M_pop\":650,\"Serious_Critical\":0,\"Tests_1M_Pop\":614667,\"TotCases_1M_Pop\":140003},{\"id\":\"10f44464-c1a6-4339-b9a7-cc76ca8596d2\",\"rank\":158,\"Country\":\"Tanzania\",\"Continent\":\"Africa\",\"TwoLetterSymbol\":\"tz\",\"ThreeLetterSymbol\":\"tza\",\"Infection_Risk\":0.06,\"Case_Fatality_Rate\":2.13,\"Test_Percentage\":0,\"Recovery_Proporation\":0,\"TotalCases\":39679,\"NewCases\":0,\"TotalDeaths\":845,\"NewDeaths\":0,\"TotalRecovered\":\"38834\",\"NewRecovered\":0,\"ActiveCases\":0,\"TotalTests\":\"0\",\"Population\":\"63615552\",\"one_Caseevery_X_ppl\":1603,\"one_Deathevery_X_ppl\":75285,\"one_Testevery_X_ppl\":0,\"Deaths_1M_pop\":13,\"Serious_Critical\":7,\"Tests_1M_Pop\":0,\"TotCases_1M_Pop\":624},{\"id\":\"23047b40-5204-4d21-a200-b219d68f6fdc\",\"rank\":159,\"Country\":\"Togo\",\"Continent\":\"Africa\",\"TwoLetterSymbol\":\"tg\",\"ThreeLetterSymbol\":\"tgo\",\"Infection_Risk\":0.45,\"Case_Fatality_Rate\":0.73,\"Test_Percentage\":9.12,\"Recovery_Proporation\":98.85,\"TotalCases\":39243,\"NewCases\":8,\"TotalDeaths\":287,\"NewDeaths\":0,\"TotalRecovered\":\"38793\",\"NewRecovered\":17,\"ActiveCases\":163,\"TotalTests\":\"795321\",\"Population\":\"8721294\",\"one_Caseevery_X_ppl\":222,\"one_Deathevery_X_ppl\":30388,\"one_Testevery_X_ppl\":11,\"Deaths_1M_pop\":33,\"Serious_Critical\":0,\"Tests_1M_Pop\":91193,\"TotCases_1M_Pop\":4500},{\"id\":\"1e9e5a58-50c9-4ff6-988d-2b7cdc2ae9c2\",\"rank\":160,\"Country\":\"Isle of Man\",\"Continent\":\"Europe\",\"TwoLetterSymbol\":\"im\",\"ThreeLetterSymbol\":\"imn\",\"Infection_Risk\":44.17,\"Case_Fatality_Rate\":0.31,\"Test_Percentage\":175.17,\"Recovery_Proporation\":0,\"TotalCases\":38008,\"NewCases\":0,\"TotalDeaths\":116,\"NewDeaths\":0,\"TotalRecovered\":\"37892\",\"NewRecovered\":0,\"ActiveCases\":0,\"TotalTests\":\"150753\",\"Population\":\"86059\",\"one_Caseevery_X_ppl\":2,\"one_Deathevery_X_ppl\":742,\"one_Testevery_X_ppl\":1,\"Deaths_1M_pop\":1348,\"Serious_Critical\":0,\"Tests_1M_Pop\":1751740,\"TotCases_1M_Pop\":441650},{\"id\":\"110c186f-54e9-4114-8646-c55536cbf62c\",\"rank\":161,\"Country\":\"Guinea\",\"Continent\":\"Africa\",\"TwoLetterSymbol\":\"gn\",\"ThreeLetterSymbol\":\"gin\",\"Infection_Risk\":0.27,\"Case_Fatality_Rate\":1.2,\"Test_Percentage\":4.73,\"Recovery_Proporation\":97.59,\"TotalCases\":37950,\"NewCases\":0,\"TotalDeaths\":455,\"NewDeaths\":0,\"TotalRecovered\":\"37034\",\"NewRecovered\":0,\"ActiveCases\":461,\"TotalTests\":\"660107\",\"Population\":\"13945384\",\"one_Caseevery_X_ppl\":367,\"one_Deathevery_X_ppl\":30649,\"one_Testevery_X_ppl\":21,\"Deaths_1M_pop\":33,\"Serious_Critical\":8,\"Tests_1M_Pop\":47335,\"TotCases_1M_Pop\":2721},{\"id\":\"26a055d8-a99d-4f17-9698-7ec229f92804\",\"rank\":162,\"Country\":\"Bahamas\",\"Continent\":\"North America\",\"TwoLetterSymbol\":\"bs\",\"ThreeLetterSymbol\":\"bhs\",\"Infection_Risk\":9.29,\"Case_Fatality_Rate\":2.23,\"Test_Percentage\":61.93,\"Recovery_Proporation\":96.93,\"TotalCases\":37318,\"NewCases\":0,\"TotalDeaths\":833,\"NewDeaths\":0,\"TotalRecovered\":\"36173\",\"NewRecovered\":0,\"ActiveCases\":312,\"TotalTests\":\"248846\",\"Population\":\"401812\",\"one_Caseevery_X_ppl\":11,\"one_Deathevery_X_ppl\":482,\"one_Testevery_X_ppl\":2,\"Deaths_1M_pop\":2073,\"Serious_Critical\":2,\"Tests_1M_Pop\":619310,\"TotCases_1M_Pop\":92874},{\"id\":\"2cd14646-419f-420e-83f3-004a8647ec65\",\"rank\":163,\"Country\":\"Faeroe Islands\",\"Continent\":\"Europe\",\"TwoLetterSymbol\":\"fo\",\"ThreeLetterSymbol\":\"fro\",\"Infection_Risk\":70.32,\"Case_Fatality_Rate\":0.08,\"Test_Percentage\":1578.54,\"Recovery_Proporation\":0,\"TotalCases\":34658,\"NewCases\":0,\"TotalDeaths\":28,\"NewDeaths\":0,\"TotalRecovered\":\"34630\",\"NewRecovered\":0,\"ActiveCases\":0,\"TotalTests\":\"778000\",\"Population\":\"49286\",\"one_Caseevery_X_ppl\":1,\"one_Deathevery_X_ppl\":1760,\"one_Testevery_X_ppl\":0,\"Deaths_1M_pop\":568,\"Serious_Critical\":5,\"Tests_1M_Pop\":15785416,\"TotCases_1M_Pop\":703202},{\"id\":\"a5a50324-b8db-40ce-9a38-8c9f42b2257d\",\"rank\":164,\"Country\":\"Lesotho\",\"Continent\":\"Africa\",\"TwoLetterSymbol\":\"ls\",\"ThreeLetterSymbol\":\"lso\",\"Infection_Risk\":1.58,\"Case_Fatality_Rate\":2.05,\"Test_Percentage\":19.77,\"Recovery_Proporation\":75.33,\"TotalCases\":34490,\"NewCases\":0,\"TotalDeaths\":706,\"NewDeaths\":0,\"TotalRecovered\":\"25980\",\"NewRecovered\":0,\"ActiveCases\":7804,\"TotalTests\":\"431221\",\"Population\":\"2180967\",\"one_Caseevery_X_ppl\":63,\"one_Deathevery_X_ppl\":3089,\"one_Testevery_X_ppl\":5,\"Deaths_1M_pop\":324,\"Serious_Critical\":0,\"Tests_1M_Pop\":197720,\"TotCases_1M_Pop\":15814},{\"id\":\"fe9ceb47-3198-44a6-977f-ad8a1c678ed7\",\"rank\":165,\"Country\":\"Haiti\",\"Continent\":\"North America\",\"TwoLetterSymbol\":\"ht\",\"ThreeLetterSymbol\":\"hti\",\"Infection_Risk\":0.29,\"Case_Fatality_Rate\":2.54,\"Test_Percentage\":1.13,\"Recovery_Proporation\":93.1,\"TotalCases\":33764,\"NewCases\":0,\"TotalDeaths\":857,\"NewDeaths\":0,\"TotalRecovered\":\"31434\",\"NewRecovered\":0,\"ActiveCases\":1473,\"TotalTests\":\"132422\",\"Population\":\"11719498\",\"one_Caseevery_X_ppl\":347,\"one_Deathevery_X_ppl\":13675,\"one_Testevery_X_ppl\":89,\"Deaths_1M_pop\":73,\"Serious_Critical\":0,\"Tests_1M_Pop\":11299,\"TotCases_1M_Pop\":2881},{\"id\":\"3333f6e7-a25a-4047-89f1-54968028405f\",\"rank\":166,\"Country\":\"Mali\",\"Continent\":\"Africa\",\"TwoLetterSymbol\":\"ml\",\"ThreeLetterSymbol\":\"mli\",\"Infection_Risk\":0.15,\"Case_Fatality_Rate\":2.27,\"Test_Percentage\":3.55,\"Recovery_Proporation\":97.43,\"TotalCases\":32706,\"NewCases\":2,\"TotalDeaths\":742,\"NewDeaths\":0,\"TotalRecovered\":\"31865\",\"NewRecovered\":11,\"ActiveCases\":99,\"TotalTests\":\"765081\",\"Population\":\"21581439\",\"one_Caseevery_X_ppl\":660,\"one_Deathevery_X_ppl\":29085,\"one_Testevery_X_ppl\":28,\"Deaths_1M_pop\":34,\"Serious_Critical\":0,\"Tests_1M_Pop\":35451,\"TotCases_1M_Pop\":1515},{\"id\":\"1004b1bb-30c2-49d2-b341-8a07c3fdcf99\",\"rank\":167,\"Country\":\"Cayman Islands\",\"Continent\":\"North America\",\"TwoLetterSymbol\":\"ky\",\"ThreeLetterSymbol\":\"cym\",\"Infection_Risk\":45.66,\"Case_Fatality_Rate\":0.11,\"Test_Percentage\":330.12,\"Recovery_Proporation\":27.76,\"TotalCases\":30809,\"NewCases\":0,\"TotalDeaths\":34,\"NewDeaths\":0,\"TotalRecovered\":\"8553\",\"NewRecovered\":0,\"ActiveCases\":22222,\"TotalTests\":\"222773\",\"Population\":\"67482\",\"one_Caseevery_X_ppl\":2,\"one_Deathevery_X_ppl\":1985,\"one_Testevery_X_ppl\":0,\"Deaths_1M_pop\":504,\"Serious_Critical\":1,\"Tests_1M_Pop\":3301221,\"TotCases_1M_Pop\":456551},{\"id\":\"cdb788e9-dee2-4809-993f-421c2223ef13\",\"rank\":168,\"Country\":\"Saint Lucia\",\"Continent\":\"North America\",\"TwoLetterSymbol\":\"lc\",\"ThreeLetterSymbol\":\"lca\",\"Infection_Risk\":15.93,\"Case_Fatality_Rate\":1.37,\"Test_Percentage\":113.71,\"Recovery_Proporation\":98.46,\"TotalCases\":29550,\"NewCases\":0,\"TotalDeaths\":404,\"NewDeaths\":0,\"TotalRecovered\":\"29095\",\"NewRecovered\":0,\"ActiveCases\":51,\"TotalTests\":\"210983\",\"Population\":\"185540\",\"one_Caseevery_X_ppl\":6,\"one_Deathevery_X_ppl\":459,\"one_Testevery_X_ppl\":1,\"Deaths_1M_pop\":2177,\"Serious_Critical\":0,\"Tests_1M_Pop\":1137129,\"TotCases_1M_Pop\":159265},{\"id\":\"e2155710-14d8-4ee2-87c2-7d46c3ac1ef8\",\"rank\":169,\"Country\":\"Benin\",\"Continent\":\"Africa\",\"TwoLetterSymbol\":\"bj\",\"ThreeLetterSymbol\":\"ben\",\"Infection_Risk\":0.22,\"Case_Fatality_Rate\":0.59,\"Test_Percentage\":4.7,\"Recovery_Proporation\":98.86,\"TotalCases\":27782,\"NewCases\":0,\"TotalDeaths\":163,\"NewDeaths\":0,\"TotalRecovered\":\"27464\",\"NewRecovered\":0,\"ActiveCases\":155,\"TotalTests\":\"604310\",\"Population\":\"12847532\",\"one_Caseevery_X_ppl\":462,\"one_Deathevery_X_ppl\":78819,\"one_Testevery_X_ppl\":21,\"Deaths_1M_pop\":13,\"Serious_Critical\":5,\"Tests_1M_Pop\":47037,\"TotCases_1M_Pop\":2162},{\"id\":\"ecade240-f4b1-4d06-b965-d48fa3c4486b\",\"rank\":170,\"Country\":\"Somalia\",\"Continent\":\"Africa\",\"TwoLetterSymbol\":\"so\",\"ThreeLetterSymbol\":\"som\",\"Infection_Risk\":0.16,\"Case_Fatality_Rate\":5,\"Test_Percentage\":2.37,\"Recovery_Proporation\":48.42,\"TotalCases\":27223,\"NewCases\":0,\"TotalDeaths\":1361,\"NewDeaths\":0,\"TotalRecovered\":\"13182\",\"NewRecovered\":0,\"ActiveCases\":12680,\"TotalTests\":\"400466\",\"Population\":\"16904714\",\"one_Caseevery_X_ppl\":621,\"one_Deathevery_X_ppl\":12421,\"one_Testevery_X_ppl\":42,\"Deaths_1M_pop\":81,\"Serious_Critical\":0,\"Tests_1M_Pop\":23690,\"TotCases_1M_Pop\":1610},{\"id\":\"c149304f-2523-4a3e-bc83-3d34d9c222e2\",\"rank\":171,\"Country\":\"Congo\",\"Continent\":\"Africa\",\"TwoLetterSymbol\":\"cg\",\"ThreeLetterSymbol\":\"cog\",\"Infection_Risk\":0.43,\"Case_Fatality_Rate\":1.55,\"Test_Percentage\":5.97,\"Recovery_Proporation\":96.65,\"TotalCases\":24837,\"NewCases\":0,\"TotalDeaths\":386,\"NewDeaths\":0,\"TotalRecovered\":\"24006\",\"NewRecovered\":0,\"ActiveCases\":445,\"TotalTests\":\"347815\",\"Population\":\"5827896\",\"one_Caseevery_X_ppl\":235,\"one_Deathevery_X_ppl\":15098,\"one_Testevery_X_ppl\":17,\"Deaths_1M_pop\":66,\"Serious_Critical\":0,\"Tests_1M_Pop\":59681,\"TotCases_1M_Pop\":4262},{\"id\":\"3bf85af0-0824-456e-b402-e67770e0d954\",\"rank\":172,\"Country\":\"Timor-Leste\",\"Continent\":\"Asia\",\"TwoLetterSymbol\":\"tl\",\"ThreeLetterSymbol\":\"tls\",\"Infection_Risk\":1.69,\"Case_Fatality_Rate\":0.59,\"Test_Percentage\":20.25,\"Recovery_Proporation\":99.25,\"TotalCases\":23276,\"NewCases\":0,\"TotalDeaths\":138,\"NewDeaths\":0,\"TotalRecovered\":\"23102\",\"NewRecovered\":0,\"ActiveCases\":36,\"TotalTests\":\"278529\",\"Population\":\"1375717\",\"one_Caseevery_X_ppl\":59,\"one_Deathevery_X_ppl\":9969,\"one_Testevery_X_ppl\":5,\"Deaths_1M_pop\":100,\"Serious_Critical\":0,\"Tests_1M_Pop\":202461,\"TotCases_1M_Pop\":16919},{\"id\":\"2777760e-308e-4b64-ae2a-32861952ca58\",\"rank\":173,\"Country\":\"Burkina Faso\",\"Continent\":\"Africa\",\"TwoLetterSymbol\":\"bf\",\"ThreeLetterSymbol\":\"bfa\",\"Infection_Risk\":0.1,\"Case_Fatality_Rate\":1.79,\"Test_Percentage\":1.12,\"Recovery_Proporation\":97.74,\"TotalCases\":21631,\"NewCases\":0,\"TotalDeaths\":387,\"NewDeaths\":0,\"TotalRecovered\":\"21143\",\"NewRecovered\":0,\"ActiveCases\":101,\"TotalTests\":\"248995\",\"Population\":\"22210796\",\"one_Caseevery_X_ppl\":1027,\"one_Deathevery_X_ppl\":57392,\"one_Testevery_X_ppl\":89,\"Deaths_1M_pop\":17,\"Serious_Critical\":0,\"Tests_1M_Pop\":11211,\"TotCases_1M_Pop\":974},{\"id\":\"eb3c622c-4e09-4e76-9f62-5986ec532511\",\"rank\":174,\"Country\":\"Solomon Islands\",\"Continent\":\"Australia/Oceania\",\"TwoLetterSymbol\":\"sb\",\"ThreeLetterSymbol\":\"slb\",\"Infection_Risk\":2.97,\"Case_Fatality_Rate\":0.71,\"Test_Percentage\":0.71,\"Recovery_Proporation\":75.92,\"TotalCases\":21544,\"NewCases\":0,\"TotalDeaths\":153,\"NewDeaths\":0,\"TotalRecovered\":\"16357\",\"NewRecovered\":0,\"ActiveCases\":5034,\"TotalTests\":\"5117\",\"Population\":\"725306\",\"one_Caseevery_X_ppl\":34,\"one_Deathevery_X_ppl\":4741,\"one_Testevery_X_ppl\":142,\"Deaths_1M_pop\":211,\"Serious_Critical\":1,\"Tests_1M_Pop\":7055,\"TotCases_1M_Pop\":29703},{\"id\":\"2e666397-1a93-4e38-a782-be34d6ea78b7\",\"rank\":175,\"Country\":\"San Marino\",\"Continent\":\"Europe\",\"TwoLetterSymbol\":\"sm\",\"ThreeLetterSymbol\":\"smr\",\"Infection_Risk\":62.31,\"Case_Fatality_Rate\":0.56,\"Test_Percentage\":462.35,\"Recovery_Proporation\":98.22,\"TotalCases\":21245,\"NewCases\":0,\"TotalDeaths\":118,\"NewDeaths\":0,\"TotalRecovered\":\"20867\",\"NewRecovered\":0,\"ActiveCases\":260,\"TotalTests\":\"157634\",\"Population\":\"34094\",\"one_Caseevery_X_ppl\":2,\"one_Deathevery_X_ppl\":289,\"one_Testevery_X_ppl\":0,\"Deaths_1M_pop\":3461,\"Serious_Critical\":4,\"Tests_1M_Pop\":4623511,\"TotCases_1M_Pop\":623130},{\"id\":\"f23e58f6-ff0e-4fac-ac2f-a82c51b41d30\",\"rank\":176,\"Country\":\"Liechtenstein\",\"Continent\":\"Europe\",\"TwoLetterSymbol\":\"li\",\"ThreeLetterSymbol\":\"lie\",\"Infection_Risk\":52.96,\"Case_Fatality_Rate\":0.42,\"Test_Percentage\":266.24,\"Recovery_Proporation\":97.54,\"TotalCases\":20325,\"NewCases\":0,\"TotalDeaths\":86,\"NewDeaths\":0,\"TotalRecovered\":\"19824\",\"NewRecovered\":0,\"ActiveCases\":415,\"TotalTests\":\"102174\",\"Population\":\"38377\",\"one_Caseevery_X_ppl\":2,\"one_Deathevery_X_ppl\":446,\"one_Testevery_X_ppl\":0,\"Deaths_1M_pop\":2241,\"Serious_Critical\":5,\"Tests_1M_Pop\":2662376,\"TotCases_1M_Pop\":529614},{\"id\":\"8862c06a-6b2a-43dd-b0e7-65fa2c6adaac\",\"rank\":177,\"Country\":\"Gibraltar\",\"Continent\":\"Europe\",\"TwoLetterSymbol\":\"gi\",\"ThreeLetterSymbol\":\"gib\",\"Infection_Risk\":59.76,\"Case_Fatality_Rate\":0.54,\"Test_Percentage\":1586.92,\"Recovery_Proporation\":82.4,\"TotalCases\":20121,\"NewCases\":0,\"TotalDeaths\":108,\"NewDeaths\":0,\"TotalRecovered\":\"16579\",\"NewRecovered\":0,\"ActiveCases\":3434,\"TotalTests\":\"534283\",\"Population\":\"33668\",\"one_Caseevery_X_ppl\":2,\"one_Deathevery_X_ppl\":312,\"one_Testevery_X_ppl\":0,\"Deaths_1M_pop\":3208,\"Serious_Critical\":0,\"Tests_1M_Pop\":15869164,\"TotCases_1M_Pop\":597630},{\"id\":\"759b83e8-7188-4a7f-9cc9-d580187ac7ba\",\"rank\":178,\"Country\":\"Grenada\",\"Continent\":\"North America\",\"TwoLetterSymbol\":\"gd\",\"ThreeLetterSymbol\":\"grd\",\"Infection_Risk\":17.18,\"Case_Fatality_Rate\":1.21,\"Test_Percentage\":158.13,\"Recovery_Proporation\":98.53,\"TotalCases\":19536,\"NewCases\":0,\"TotalDeaths\":237,\"NewDeaths\":0,\"TotalRecovered\":\"19248\",\"NewRecovered\":0,\"ActiveCases\":51,\"TotalTests\":\"179808\",\"Population\":\"113711\",\"one_Caseevery_X_ppl\":6,\"one_Deathevery_X_ppl\":480,\"one_Testevery_X_ppl\":1,\"Deaths_1M_pop\":2084,\"Serious_Critical\":4,\"Tests_1M_Pop\":1581272,\"TotCases_1M_Pop\":171804},{\"id\":\"a5595bac-dc78-412d-b4d6-a3dec5f10cff\",\"rank\":179,\"Country\":\"Nicaragua\",\"Continent\":\"North America\",\"TwoLetterSymbol\":\"ni\",\"ThreeLetterSymbol\":\"nic\",\"Infection_Risk\":0.27,\"Case_Fatality_Rate\":1.22,\"Test_Percentage\":0,\"Recovery_Proporation\":22.85,\"TotalCases\":18491,\"NewCases\":0,\"TotalDeaths\":225,\"NewDeaths\":0,\"TotalRecovered\":\"4225\",\"NewRecovered\":0,\"ActiveCases\":14041,\"TotalTests\":\"0\",\"Population\":\"6804277\",\"one_Caseevery_X_ppl\":368,\"one_Deathevery_X_ppl\":30241,\"one_Testevery_X_ppl\":0,\"Deaths_1M_pop\":33,\"Serious_Critical\":0,\"Tests_1M_Pop\":0,\"TotCases_1M_Pop\":2718},{\"id\":\"113949e6-d893-4803-9e79-ed404b7ef8f2\",\"rank\":180,\"Country\":\"Bermuda\",\"Continent\":\"North America\",\"TwoLetterSymbol\":\"bm\",\"ThreeLetterSymbol\":\"bmu\",\"Infection_Risk\":29.5,\"Case_Fatality_Rate\":0.81,\"Test_Percentage\":1633.9,\"Recovery_Proporation\":98.78,\"TotalCases\":18220,\"NewCases\":0,\"TotalDeaths\":148,\"NewDeaths\":0,\"TotalRecovered\":\"17997\",\"NewRecovered\":0,\"ActiveCases\":75,\"TotalTests\":\"1008999\",\"Population\":\"61754\",\"one_Caseevery_X_ppl\":3,\"one_Deathevery_X_ppl\":417,\"one_Testevery_X_ppl\":0,\"Deaths_1M_pop\":2397,\"Serious_Critical\":0,\"Tests_1M_Pop\":16339006,\"TotCases_1M_Pop\":295042},{\"id\":\"6b5f4ee7-4e90-42ac-9490-5a8052f01697\",\"rank\":181,\"Country\":\"South Sudan\",\"Continent\":\"Africa\",\"TwoLetterSymbol\":\"ss\",\"ThreeLetterSymbol\":\"ssd\",\"Infection_Risk\":0.16,\"Case_Fatality_Rate\":0.77,\"Test_Percentage\":3.57,\"Recovery_Proporation\":97.26,\"TotalCases\":17823,\"NewCases\":0,\"TotalDeaths\":138,\"NewDeaths\":0,\"TotalRecovered\":\"17335\",\"NewRecovered\":0,\"ActiveCases\":350,\"TotalTests\":\"410280\",\"Population\":\"11492980\",\"one_Caseevery_X_ppl\":645,\"one_Deathevery_X_ppl\":83282,\"one_Testevery_X_ppl\":28,\"Deaths_1M_pop\":12,\"Serious_Critical\":1,\"Tests_1M_Pop\":35698,\"TotCases_1M_Pop\":1551},{\"id\":\"ade1dd49-6935-41ea-9387-173c6fabbdf2\",\"rank\":182,\"Country\":\"Tajikistan\",\"Continent\":\"Asia\",\"TwoLetterSymbol\":\"tj\",\"ThreeLetterSymbol\":\"tjk\",\"Infection_Risk\":0.18,\"Case_Fatality_Rate\":0.7,\"Test_Percentage\":0,\"Recovery_Proporation\":97.07,\"TotalCases\":17786,\"NewCases\":0,\"TotalDeaths\":125,\"NewDeaths\":0,\"TotalRecovered\":\"17264\",\"NewRecovered\":0,\"ActiveCases\":397,\"TotalTests\":\"0\",\"Population\":\"10026262\",\"one_Caseevery_X_ppl\":564,\"one_Deathevery_X_ppl\":80210,\"one_Testevery_X_ppl\":0,\"Deaths_1M_pop\":12,\"Serious_Critical\":0,\"Tests_1M_Pop\":0,\"TotCases_1M_Pop\":1774},{\"id\":\"bec0723e-b568-405c-aa9d-79c25dc00bc9\",\"rank\":183,\"Country\":\"Equatorial Guinea\",\"Continent\":\"Africa\",\"TwoLetterSymbol\":\"gq\",\"ThreeLetterSymbol\":\"gnq\",\"Infection_Risk\":1.13,\"Case_Fatality_Rate\":1.07,\"Test_Percentage\":24.25,\"Recovery_Proporation\":97.85,\"TotalCases\":17081,\"NewCases\":0,\"TotalDeaths\":183,\"NewDeaths\":0,\"TotalRecovered\":\"16713\",\"NewRecovered\":0,\"ActiveCases\":185,\"TotalTests\":\"365697\",\"Population\":\"1508146\",\"one_Caseevery_X_ppl\":88,\"one_Deathevery_X_ppl\":8241,\"one_Testevery_X_ppl\":4,\"Deaths_1M_pop\":121,\"Serious_Critical\":5,\"Tests_1M_Pop\":242481,\"TotCases_1M_Pop\":11326},{\"id\":\"a24e99b5-d592-437a-bbeb-eb19bdfbc803\",\"rank\":185,\"Country\":\"Samoa\",\"Continent\":\"Australia/Oceania\",\"TwoLetterSymbol\":\"ws\",\"ThreeLetterSymbol\":\"wsm\",\"Infection_Risk\":7.91,\"Case_Fatality_Rate\":0.18,\"Test_Percentage\":93.04,\"Recovery_Proporation\":10.07,\"TotalCases\":15941,\"NewCases\":0,\"TotalDeaths\":29,\"NewDeaths\":0,\"TotalRecovered\":\"1605\",\"NewRecovered\":0,\"ActiveCases\":14307,\"TotalTests\":\"187397\",\"Population\":\"201420\",\"one_Caseevery_X_ppl\":13,\"one_Deathevery_X_ppl\":6946,\"one_Testevery_X_ppl\":1,\"Deaths_1M_pop\":144,\"Serious_Critical\":4,\"Tests_1M_Pop\":930379,\"TotCases_1M_Pop\":79143},{\"id\":\"17833c0d-21d8-4fa8-9744-2c39c541867f\",\"rank\":186,\"Country\":\"Dominica\",\"Continent\":\"North America\",\"TwoLetterSymbol\":\"dm\",\"ThreeLetterSymbol\":\"dma\",\"Infection_Risk\":21.77,\"Case_Fatality_Rate\":0.47,\"Test_Percentage\":316.8,\"Recovery_Proporation\":99.45,\"TotalCases\":15760,\"NewCases\":0,\"TotalDeaths\":74,\"NewDeaths\":0,\"TotalRecovered\":\"15673\",\"NewRecovered\":0,\"ActiveCases\":13,\"TotalTests\":\"229344\",\"Population\":\"72393\",\"one_Caseevery_X_ppl\":5,\"one_Deathevery_X_ppl\":978,\"one_Testevery_X_ppl\":0,\"Deaths_1M_pop\":1022,\"Serious_Critical\":0,\"Tests_1M_Pop\":3168041,\"TotCases_1M_Pop\":217701},{\"id\":\"c830054b-710d-4310-8c0f-d3f68bdb773c\",\"rank\":187,\"Country\":\"Djibouti\",\"Continent\":\"Africa\",\"TwoLetterSymbol\":\"dj\",\"ThreeLetterSymbol\":\"dji\",\"Infection_Risk\":1.54,\"Case_Fatality_Rate\":1.2,\"Test_Percentage\":29.97,\"Recovery_Proporation\":98.32,\"TotalCases\":15690,\"NewCases\":0,\"TotalDeaths\":189,\"NewDeaths\":0,\"TotalRecovered\":\"15427\",\"NewRecovered\":0,\"ActiveCases\":74,\"TotalTests\":\"305941\",\"Population\":\"1020765\",\"one_Caseevery_X_ppl\":65,\"one_Deathevery_X_ppl\":5401,\"one_Testevery_X_ppl\":3,\"Deaths_1M_pop\":185,\"Serious_Critical\":0,\"Tests_1M_Pop\":299717,\"TotCases_1M_Pop\":15371},{\"id\":\"4088c3ae-7003-40cf-971a-8db0325a24a0\",\"rank\":188,\"Country\":\"Marshall Islands\",\"Continent\":\"Australia/Oceania\",\"TwoLetterSymbol\":\"mh\",\"ThreeLetterSymbol\":\"mhl\",\"Infection_Risk\":25.58,\"Case_Fatality_Rate\":0.11,\"Test_Percentage\":0,\"Recovery_Proporation\":98.81,\"TotalCases\":15375,\"NewCases\":0,\"TotalDeaths\":17,\"NewDeaths\":0,\"TotalRecovered\":\"15192\",\"NewRecovered\":0,\"ActiveCases\":166,\"TotalTests\":\"0\",\"Population\":\"60101\",\"one_Caseevery_X_ppl\":4,\"one_Deathevery_X_ppl\":3535,\"one_Testevery_X_ppl\":0,\"Deaths_1M_pop\":283,\"Serious_Critical\":22,\"Tests_1M_Pop\":0,\"TotCases_1M_Pop\":255819},{\"id\":\"5af2bc78-d5a6-4ba3-892b-a5e804f50f1c\",\"rank\":189,\"Country\":\"CAR\",\"Continent\":\"Africa\",\"TwoLetterSymbol\":\"cf\",\"ThreeLetterSymbol\":\"caf\",\"Infection_Risk\":0.3,\"Case_Fatality_Rate\":0.76,\"Test_Percentage\":1.62,\"Recovery_Proporation\":97.19,\"TotalCases\":14957,\"NewCases\":0,\"TotalDeaths\":113,\"NewDeaths\":0,\"TotalRecovered\":\"14536\",\"NewRecovered\":0,\"ActiveCases\":308,\"TotalTests\":\"81294\",\"Population\":\"5021280\",\"one_Caseevery_X_ppl\":336,\"one_Deathevery_X_ppl\":44436,\"one_Testevery_X_ppl\":62,\"Deaths_1M_pop\":23,\"Serious_Critical\":2,\"Tests_1M_Pop\":16190,\"TotCases_1M_Pop\":2979},{\"id\":\"cd8aca67-cf0e-4935-ba90-40fbeba12f31\",\"rank\":190,\"Country\":\"Monaco\",\"Continent\":\"Europe\",\"TwoLetterSymbol\":\"mc\",\"ThreeLetterSymbol\":\"mco\",\"Infection_Risk\":37.09,\"Case_Fatality_Rate\":0.43,\"Test_Percentage\":197.23,\"Recovery_Proporation\":99.2,\"TotalCases\":14790,\"NewCases\":8,\"TotalDeaths\":63,\"NewDeaths\":0,\"TotalRecovered\":\"14671\",\"NewRecovered\":12,\"ActiveCases\":56,\"TotalTests\":\"78646\",\"Population\":\"39876\",\"one_Caseevery_X_ppl\":3,\"one_Deathevery_X_ppl\":633,\"one_Testevery_X_ppl\":1,\"Deaths_1M_pop\":1580,\"Serious_Critical\":4,\"Tests_1M_Pop\":1972264,\"TotCases_1M_Pop\":370900},{\"id\":\"d310d75e-c9d9-4175-bfe9-77a72865fbb0\",\"rank\":191,\"Country\":\"Gambia\",\"Continent\":\"Africa\",\"TwoLetterSymbol\":\"gm\",\"ThreeLetterSymbol\":\"gmb\",\"Infection_Risk\":0.49,\"Case_Fatality_Rate\":2.97,\"Test_Percentage\":6.05,\"Recovery_Proporation\":96.16,\"TotalCases\":12508,\"NewCases\":0,\"TotalDeaths\":372,\"NewDeaths\":0,\"TotalRecovered\":\"12028\",\"NewRecovered\":0,\"ActiveCases\":108,\"TotalTests\":\"155686\",\"Population\":\"2571546\",\"one_Caseevery_X_ppl\":206,\"one_Deathevery_X_ppl\":6913,\"one_Testevery_X_ppl\":17,\"Deaths_1M_pop\":145,\"Serious_Critical\":0,\"Tests_1M_Pop\":60542,\"TotCases_1M_Pop\":4864},{\"id\":\"e874ebf4-8dc3-4430-8cee-7188fe21b727\",\"rank\":192,\"Country\":\"Saint Martin\",\"Continent\":\"North America\",\"TwoLetterSymbol\":\"mf\",\"ThreeLetterSymbol\":\"maf\",\"Infection_Risk\":29.85,\"Case_Fatality_Rate\":0.53,\"Test_Percentage\":279.77,\"Recovery_Proporation\":11.67,\"TotalCases\":11992,\"NewCases\":0,\"TotalDeaths\":63,\"NewDeaths\":0,\"TotalRecovered\":\"1399\",\"NewRecovered\":0,\"ActiveCases\":10530,\"TotalTests\":\"112382\",\"Population\":\"40170\",\"one_Caseevery_X_ppl\":3,\"one_Deathevery_X_ppl\":638,\"one_Testevery_X_ppl\":0,\"Deaths_1M_pop\":1568,\"Serious_Critical\":7,\"Tests_1M_Pop\":2797660,\"TotCases_1M_Pop\":298531},{\"id\":\"10c001f9-5d62-4525-bfae-70dbdd7493d9\",\"rank\":193,\"Country\":\"Greenland\",\"Continent\":\"North America\",\"TwoLetterSymbol\":\"gl\",\"ThreeLetterSymbol\":\"grl\",\"Infection_Risk\":21,\"Case_Fatality_Rate\":0.18,\"Test_Percentage\":289.37,\"Recovery_Proporation\":23.06,\"TotalCases\":11971,\"NewCases\":0,\"TotalDeaths\":21,\"NewDeaths\":0,\"TotalRecovered\":\"2761\",\"NewRecovered\":0,\"ActiveCases\":9189,\"TotalTests\":\"164926\",\"Population\":\"56994\",\"one_Caseevery_X_ppl\":5,\"one_Deathevery_X_ppl\":2714,\"one_Testevery_X_ppl\":0,\"Deaths_1M_pop\":368,\"Serious_Critical\":4,\"Tests_1M_Pop\":2893743,\"TotCases_1M_Pop\":210040},{\"id\":\"7571007a-00f6-4500-bb60-f4fefbd4e388\",\"rank\":194,\"Country\":\"Yemen\",\"Continent\":\"Asia\",\"TwoLetterSymbol\":\"ye\",\"ThreeLetterSymbol\":\"yem\",\"Infection_Risk\":0.04,\"Case_Fatality_Rate\":18.08,\"Test_Percentage\":1.05,\"Recovery_Proporation\":76.42,\"TotalCases\":11939,\"NewCases\":0,\"TotalDeaths\":2158,\"NewDeaths\":0,\"TotalRecovered\":\"9124\",\"NewRecovered\":0,\"ActiveCases\":657,\"TotalTests\":\"329592\",\"Population\":\"31324253\",\"one_Caseevery_X_ppl\":2624,\"one_Deathevery_X_ppl\":14515,\"one_Testevery_X_ppl\":95,\"Deaths_1M_pop\":69,\"Serious_Critical\":23,\"Tests_1M_Pop\":10522,\"TotCases_1M_Pop\":381},{\"id\":\"2223fb5d-b4b7-44f6-a006-ade92c817990\",\"rank\":195,\"Country\":\"Vanuatu\",\"Continent\":\"Australia/Oceania\",\"TwoLetterSymbol\":\"vu\",\"ThreeLetterSymbol\":\"vut\",\"Infection_Risk\":3.69,\"Case_Fatality_Rate\":0.12,\"Test_Percentage\":7.72,\"Recovery_Proporation\":99.86,\"TotalCases\":11935,\"NewCases\":0,\"TotalDeaths\":14,\"NewDeaths\":0,\"TotalRecovered\":\"11918\",\"NewRecovered\":0,\"ActiveCases\":3,\"TotalTests\":\"24976\",\"Population\":\"323516\",\"one_Caseevery_X_ppl\":27,\"one_Deathevery_X_ppl\":23108,\"one_Testevery_X_ppl\":13,\"Deaths_1M_pop\":43,\"Serious_Critical\":0,\"Tests_1M_Pop\":77202,\"TotCases_1M_Pop\":36892},{\"id\":\"7c640202-55e5-4657-9891-f36fc57df35b\",\"rank\":196,\"Country\":\"Caribbean Netherlands\",\"Continent\":\"North America\",\"TwoLetterSymbol\":\"bq\",\"ThreeLetterSymbol\":\"bes\",\"Infection_Risk\":42.14,\"Case_Fatality_Rate\":0.32,\"Test_Percentage\":112.5,\"Recovery_Proporation\":92.84,\"TotalCases\":11284,\"NewCases\":0,\"TotalDeaths\":36,\"NewDeaths\":0,\"TotalRecovered\":\"10476\",\"NewRecovered\":0,\"ActiveCases\":772,\"TotalTests\":\"30126\",\"Population\":\"26779\",\"one_Caseevery_X_ppl\":2,\"one_Deathevery_X_ppl\":744,\"one_Testevery_X_ppl\":1,\"Deaths_1M_pop\":1344,\"Serious_Critical\":0,\"Tests_1M_Pop\":1124986,\"TotCases_1M_Pop\":421375},{\"id\":\"e5f66c08-7ee3-42ef-8794-bc5893959c2d\",\"rank\":197,\"Country\":\"Sint Maarten\",\"Continent\":\"North America\",\"TwoLetterSymbol\":\"sx\",\"ThreeLetterSymbol\":\"sxm\",\"Infection_Risk\":24.73,\"Case_Fatality_Rate\":0.8,\"Test_Percentage\":141.08,\"Recovery_Proporation\":99.11,\"TotalCases\":10876,\"NewCases\":0,\"TotalDeaths\":87,\"NewDeaths\":0,\"TotalRecovered\":\"10779\",\"NewRecovered\":0,\"ActiveCases\":10,\"TotalTests\":\"62056\",\"Population\":\"43986\",\"one_Caseevery_X_ppl\":4,\"one_Deathevery_X_ppl\":506,\"one_Testevery_X_ppl\":1,\"Deaths_1M_pop\":1978,\"Serious_Critical\":0,\"Tests_1M_Pop\":1410813,\"TotCases_1M_Pop\":247260},{\"id\":\"73a44b22-4103-4219-abf6-6a9052c5a6ea\",\"rank\":198,\"Country\":\"Eritrea\",\"Continent\":\"Africa\",\"TwoLetterSymbol\":\"er\",\"ThreeLetterSymbol\":\"eri\",\"Infection_Risk\":0.28,\"Case_Fatality_Rate\":1.01,\"Test_Percentage\":0.65,\"Recovery_Proporation\":98.92,\"TotalCases\":10182,\"NewCases\":0,\"TotalDeaths\":103,\"NewDeaths\":0,\"TotalRecovered\":\"10072\",\"NewRecovered\":0,\"ActiveCases\":7,\"TotalTests\":\"23693\",\"Population\":\"3658352\",\"one_Caseevery_X_ppl\":359,\"one_Deathevery_X_ppl\":35518,\"one_Testevery_X_ppl\":154,\"Deaths_1M_pop\":28,\"Serious_Critical\":0,\"Tests_1M_Pop\":6476,\"TotCases_1M_Pop\":2783},{\"id\":\"ff4865bd-4235-44b3-89a7-d5780521117c\",\"rank\":200,\"Country\":\"Niger\",\"Continent\":\"Africa\",\"TwoLetterSymbol\":\"ne\",\"ThreeLetterSymbol\":\"ner\",\"Infection_Risk\":0.04,\"Case_Fatality_Rate\":3.14,\"Test_Percentage\":0.97,\"Recovery_Proporation\":89.52,\"TotalCases\":9931,\"NewCases\":0,\"TotalDeaths\":312,\"NewDeaths\":0,\"TotalRecovered\":\"8890\",\"NewRecovered\":0,\"ActiveCases\":729,\"TotalTests\":\"254538\",\"Population\":\"26206007\",\"one_Caseevery_X_ppl\":2639,\"one_Deathevery_X_ppl\":83994,\"one_Testevery_X_ppl\":103,\"Deaths_1M_pop\":12,\"Serious_Critical\":1,\"Tests_1M_Pop\":9713,\"TotCases_1M_Pop\":379},{\"id\":\"a9022093-264b-4ef7-8040-1af903412df3\",\"rank\":201,\"Country\":\"Antigua and Barbuda\",\"Continent\":\"North America\",\"TwoLetterSymbol\":\"ag\",\"ThreeLetterSymbol\":\"atg\",\"Infection_Risk\":9.13,\"Case_Fatality_Rate\":1.6,\"Test_Percentage\":18.94,\"Recovery_Proporation\":98.33,\"TotalCases\":9106,\"NewCases\":0,\"TotalDeaths\":146,\"NewDeaths\":0,\"TotalRecovered\":\"8954\",\"NewRecovered\":0,\"ActiveCases\":6,\"TotalTests\":\"18901\",\"Population\":\"99778\",\"one_Caseevery_X_ppl\":11,\"one_Deathevery_X_ppl\":683,\"one_Testevery_X_ppl\":5,\"Deaths_1M_pop\":1463,\"Serious_Critical\":1,\"Tests_1M_Pop\":189431,\"TotCases_1M_Pop\":91263},{\"id\":\"1a7c2436-654a-4ee5-b441-c5ecca24cdb3\",\"rank\":202,\"Country\":\"Guinea-Bissau\",\"Continent\":\"Africa\",\"TwoLetterSymbol\":\"gw\",\"ThreeLetterSymbol\":\"gnb\",\"Infection_Risk\":0.43,\"Case_Fatality_Rate\":1.99,\"Test_Percentage\":7,\"Recovery_Proporation\":94.1,\"TotalCases\":8831,\"NewCases\":0,\"TotalDeaths\":176,\"NewDeaths\":0,\"TotalRecovered\":\"8310\",\"NewRecovered\":0,\"ActiveCases\":345,\"TotalTests\":\"145231\",\"Population\":\"2074096\",\"one_Caseevery_X_ppl\":235,\"one_Deathevery_X_ppl\":11785,\"one_Testevery_X_ppl\":14,\"Deaths_1M_pop\":85,\"Serious_Critical\":6,\"Tests_1M_Pop\":70021,\"TotCases_1M_Pop\":4258},{\"id\":\"1ab1822a-8b0c-42bd-afe6-fb7e43d89d69\",\"rank\":203,\"Country\":\"Comoros\",\"Continent\":\"Africa\",\"TwoLetterSymbol\":\"km\",\"ThreeLetterSymbol\":\"com\",\"Infection_Risk\":0.93,\"Case_Fatality_Rate\":1.9,\"Test_Percentage\":0,\"Recovery_Proporation\":98.05,\"TotalCases\":8481,\"NewCases\":0,\"TotalDeaths\":161,\"NewDeaths\":0,\"TotalRecovered\":\"8316\",\"NewRecovered\":0,\"ActiveCases\":4,\"TotalTests\":\"0\",\"Population\":\"911851\",\"one_Caseevery_X_ppl\":108,\"one_Deathevery_X_ppl\":5664,\"one_Testevery_X_ppl\":0,\"Deaths_1M_pop\":177,\"Serious_Critical\":0,\"Tests_1M_Pop\":0,\"TotCases_1M_Pop\":9301},{\"id\":\"66685d8a-d2f8-45e9-b5b5-047535dbb566\",\"rank\":204,\"Country\":\"Liberia\",\"Continent\":\"Africa\",\"TwoLetterSymbol\":\"lr\",\"ThreeLetterSymbol\":\"lbr\",\"Infection_Risk\":0.15,\"Case_Fatality_Rate\":3.68,\"Test_Percentage\":2.62,\"Recovery_Proporation\":96.19,\"TotalCases\":7985,\"NewCases\":0,\"TotalDeaths\":294,\"NewDeaths\":0,\"TotalRecovered\":\"7681\",\"NewRecovered\":0,\"ActiveCases\":10,\"TotalTests\":\"139824\",\"Population\":\"5328826\",\"one_Caseevery_X_ppl\":667,\"one_Deathevery_X_ppl\":18125,\"one_Testevery_X_ppl\":38,\"Deaths_1M_pop\":55,\"Serious_Critical\":2,\"Tests_1M_Pop\":26239,\"TotCases_1M_Pop\":1498},{\"id\":\"efc676e5-a2c5-4d3b-9572-257b5e001d39\",\"rank\":205,\"Country\":\"Sierra Leone\",\"Continent\":\"Africa\",\"TwoLetterSymbol\":\"sl\",\"ThreeLetterSymbol\":\"sle\",\"Infection_Risk\":0.09,\"Case_Fatality_Rate\":1.63,\"Test_Percentage\":3.11,\"Recovery_Proporation\":0,\"TotalCases\":7752,\"NewCases\":0,\"TotalDeaths\":126,\"NewDeaths\":0,\"TotalRecovered\":\"7626\",\"NewRecovered\":0,\"ActiveCases\":0,\"TotalTests\":\"259958\",\"Population\":\"8346969\",\"one_Caseevery_X_ppl\":1077,\"one_Deathevery_X_ppl\":66246,\"one_Testevery_X_ppl\":32,\"Deaths_1M_pop\":15,\"Serious_Critical\":0,\"Tests_1M_Pop\":31144,\"TotCases_1M_Pop\":929},{\"id\":\"eb98badf-bb25-4255-89eb-930e5be74222\",\"rank\":206,\"Country\":\"Chad\",\"Continent\":\"Africa\",\"TwoLetterSymbol\":\"td\",\"ThreeLetterSymbol\":\"tcd\",\"Infection_Risk\":0.04,\"Case_Fatality_Rate\":2.54,\"Test_Percentage\":1.09,\"Recovery_Proporation\":64.09,\"TotalCases\":7605,\"NewCases\":0,\"TotalDeaths\":193,\"NewDeaths\":0,\"TotalRecovered\":\"4874\",\"NewRecovered\":0,\"ActiveCases\":2538,\"TotalTests\":\"191341\",\"Population\":\"17501093\",\"one_Caseevery_X_ppl\":2301,\"one_Deathevery_X_ppl\":90679,\"one_Testevery_X_ppl\":91,\"Deaths_1M_pop\":11,\"Serious_Critical\":0,\"Tests_1M_Pop\":10933,\"TotCases_1M_Pop\":435},{\"id\":\"f4a6f24f-8b9a-4f70-b7f0-3c1a3cbdfbff\",\"rank\":207,\"Country\":\"British Virgin Islands\",\"Continent\":\"North America\",\"TwoLetterSymbol\":\"vg\",\"ThreeLetterSymbol\":\"vgb\",\"Infection_Risk\":23.8,\"Case_Fatality_Rate\":0.88,\"Test_Percentage\":349.75,\"Recovery_Proporation\":0,\"TotalCases\":7305,\"NewCases\":0,\"TotalDeaths\":64,\"NewDeaths\":0,\"TotalRecovered\":\"7241\",\"NewRecovered\":0,\"ActiveCases\":0,\"TotalTests\":\"107339\",\"Population\":\"30690\",\"one_Caseevery_X_ppl\":4,\"one_Deathevery_X_ppl\":480,\"one_Testevery_X_ppl\":0,\"Deaths_1M_pop\":2085,\"Serious_Critical\":0,\"Tests_1M_Pop\":3497524,\"TotCases_1M_Pop\":238025},{\"id\":\"8ea1486d-6647-4b7c-835e-a2788a6a5b7b\",\"rank\":208,\"Country\":\"St. Vincent Grenadines\",\"Continent\":\"North America\",\"TwoLetterSymbol\":\"vc\",\"ThreeLetterSymbol\":\"vct\",\"Infection_Risk\":6.36,\"Case_Fatality_Rate\":1.62,\"Test_Percentage\":90.26,\"Recovery_Proporation\":93.38,\"TotalCases\":7112,\"NewCases\":0,\"TotalDeaths\":115,\"NewDeaths\":0,\"TotalRecovered\":\"6641\",\"NewRecovered\":0,\"ActiveCases\":356,\"TotalTests\":\"100856\",\"Population\":\"111743\",\"one_Caseevery_X_ppl\":16,\"one_Deathevery_X_ppl\":972,\"one_Testevery_X_ppl\":1,\"Deaths_1M_pop\":1029,\"Serious_Critical\":0,\"Tests_1M_Pop\":902571,\"TotCases_1M_Pop\":63646},{\"id\":\"6bcba3d3-d887-47d5-bdcd-7282cf91cc1e\",\"rank\":209,\"Country\":\"Saint Kitts and Nevis\",\"Continent\":\"North America\",\"TwoLetterSymbol\":\"kn\",\"ThreeLetterSymbol\":\"kna\",\"Infection_Risk\":12.1,\"Case_Fatality_Rate\":0.7,\"Test_Percentage\":230.98,\"Recovery_Proporation\":99.1,\"TotalCases\":6541,\"NewCases\":0,\"TotalDeaths\":46,\"NewDeaths\":0,\"TotalRecovered\":\"6482\",\"NewRecovered\":0,\"ActiveCases\":13,\"TotalTests\":\"124861\",\"Population\":\"54057\",\"one_Caseevery_X_ppl\":8,\"one_Deathevery_X_ppl\":1175,\"one_Testevery_X_ppl\":0,\"Deaths_1M_pop\":851,\"Serious_Critical\":0,\"Tests_1M_Pop\":2309803,\"TotCases_1M_Pop\":121002},{\"id\":\"acee9dc8-0b7d-4eb7-9f1a-5e682db302ae\",\"rank\":211,\"Country\":\"Turks and Caicos\",\"Continent\":\"North America\",\"TwoLetterSymbol\":\"tc\",\"ThreeLetterSymbol\":\"tca\",\"Infection_Risk\":15.99,\"Case_Fatality_Rate\":0.56,\"Test_Percentage\":1378.3,\"Recovery_Proporation\":99.08,\"TotalCases\":6380,\"NewCases\":0,\"TotalDeaths\":36,\"NewDeaths\":0,\"TotalRecovered\":\"6321\",\"NewRecovered\":0,\"ActiveCases\":23,\"TotalTests\":\"550093\",\"Population\":\"39911\",\"one_Caseevery_X_ppl\":6,\"one_Deathevery_X_ppl\":1109,\"one_Testevery_X_ppl\":0,\"Deaths_1M_pop\":902,\"Serious_Critical\":4,\"Tests_1M_Pop\":13782992,\"TotCases_1M_Pop\":159856},{\"id\":\"85061c40-883d-44e2-9a50-c6c0b5de2a54\",\"rank\":212,\"Country\":\"Sao Tome and Principe\",\"Continent\":\"Africa\",\"TwoLetterSymbol\":\"st\",\"ThreeLetterSymbol\":\"stp\",\"Infection_Risk\":2.74,\"Case_Fatality_Rate\":1.23,\"Test_Percentage\":12.71,\"Recovery_Proporation\":98.51,\"TotalCases\":6252,\"NewCases\":0,\"TotalDeaths\":77,\"NewDeaths\":0,\"TotalRecovered\":\"6159\",\"NewRecovered\":0,\"ActiveCases\":16,\"TotalTests\":\"29036\",\"Population\":\"228441\",\"one_Caseevery_X_ppl\":37,\"one_Deathevery_X_ppl\":2967,\"one_Testevery_X_ppl\":8,\"Deaths_1M_pop\":337,\"Serious_Critical\":0,\"Tests_1M_Pop\":127105,\"TotCases_1M_Pop\":27368},{\"id\":\"399cc203-6843-4a31-b599-5fe5a0365cb6\",\"rank\":214,\"Country\":\"St. Barth\",\"Continent\":\"North America\",\"TwoLetterSymbol\":\"bl\",\"ThreeLetterSymbol\":\"blm\",\"Infection_Risk\":53.31,\"Case_Fatality_Rate\":0.11,\"Test_Percentage\":790.73,\"Recovery_Proporation\":0,\"TotalCases\":5302,\"NewCases\":0,\"TotalDeaths\":6,\"NewDeaths\":0,\"TotalRecovered\":\"5296\",\"NewRecovered\":0,\"ActiveCases\":0,\"TotalTests\":\"78646\",\"Population\":\"9946\",\"one_Caseevery_X_ppl\":2,\"one_Deathevery_X_ppl\":1658,\"one_Testevery_X_ppl\":0,\"Deaths_1M_pop\":603,\"Serious_Critical\":0,\"Tests_1M_Pop\":7907299,\"TotCases_1M_Pop\":533079},{\"id\":\"834d4b30-7863-48af-bee8-54b606081edf\",\"rank\":216,\"Country\":\"Anguilla\",\"Continent\":\"North America\",\"TwoLetterSymbol\":\"ai\",\"ThreeLetterSymbol\":\"aia\",\"Infection_Risk\":25.25,\"Case_Fatality_Rate\":0.31,\"Test_Percentage\":335.65,\"Recovery_Proporation\":99.56,\"TotalCases\":3866,\"NewCases\":0,\"TotalDeaths\":12,\"NewDeaths\":0,\"TotalRecovered\":\"3849\",\"NewRecovered\":0,\"ActiveCases\":5,\"TotalTests\":\"51382\",\"Population\":\"15308\",\"one_Caseevery_X_ppl\":4,\"one_Deathevery_X_ppl\":1276,\"one_Testevery_X_ppl\":0,\"Deaths_1M_pop\":784,\"Serious_Critical\":4,\"Tests_1M_Pop\":3356546,\"TotCases_1M_Pop\":252548},{\"id\":\"f3f7c897-e88f-426f-b804-efc3ea76a20c\",\"rank\":218,\"Country\":\"Saint Pierre Miquelon\",\"Continent\":\"North America\",\"TwoLetterSymbol\":\"pm\",\"ThreeLetterSymbol\":\"spm\",\"Infection_Risk\":56.39,\"Case_Fatality_Rate\":0.03,\"Test_Percentage\":438.39,\"Recovery_Proporation\":75.8,\"TotalCases\":3231,\"NewCases\":0,\"TotalDeaths\":1,\"NewDeaths\":0,\"TotalRecovered\":\"2449\",\"NewRecovered\":0,\"ActiveCases\":781,\"TotalTests\":\"25120\",\"Population\":\"5730\",\"one_Caseevery_X_ppl\":2,\"one_Deathevery_X_ppl\":5730,\"one_Testevery_X_ppl\":0,\"Deaths_1M_pop\":175,\"Serious_Critical\":1,\"Tests_1M_Pop\":4383944,\"TotCases_1M_Pop\":563874},{\"id\":\"ec87cb7a-533c-4ed1-a2bd-7eb05549f552\",\"rank\":219,\"Country\":\"Falkland Islands\",\"Continent\":\"South America\",\"TwoLetterSymbol\":\"fk\",\"ThreeLetterSymbol\":\"flk\",\"Infection_Risk\":52.01,\"Case_Fatality_Rate\":0,\"Test_Percentage\":232.61,\"Recovery_Proporation\":97.72,\"TotalCases\":1930,\"NewCases\":0,\"TotalDeaths\":0,\"NewDeaths\":0,\"TotalRecovered\":\"1886\",\"NewRecovered\":0,\"ActiveCases\":44,\"TotalTests\":\"8632\",\"Population\":\"3711\",\"one_Caseevery_X_ppl\":2,\"one_Deathevery_X_ppl\":0,\"one_Testevery_X_ppl\":0,\"Deaths_1M_pop\":0,\"Serious_Critical\":0,\"Tests_1M_Pop\":2326058,\"TotCases_1M_Pop\":520075},{\"id\":\"563abe42-b4b2-4102-81a5-e65bcd3b8faa\",\"rank\":221,\"Country\":\"Montserrat\",\"Continent\":\"North America\",\"TwoLetterSymbol\":\"ms\",\"ThreeLetterSymbol\":\"msr\",\"Infection_Risk\":28.07,\"Case_Fatality_Rate\":0.57,\"Test_Percentage\":355.31,\"Recovery_Proporation\":98.08,\"TotalCases\":1403,\"NewCases\":0,\"TotalDeaths\":8,\"NewDeaths\":0,\"TotalRecovered\":\"1376\",\"NewRecovered\":0,\"ActiveCases\":19,\"TotalTests\":\"17762\",\"Population\":\"4999\",\"one_Caseevery_X_ppl\":4,\"one_Deathevery_X_ppl\":625,\"one_Testevery_X_ppl\":0,\"Deaths_1M_pop\":1600,\"Serious_Critical\":0,\"Tests_1M_Pop\":3553111,\"TotCases_1M_Pop\":280656},{\"id\":\"4f5de98a-49e3-4394-9534-b4b0c800ff96\",\"rank\":222,\"Country\":\"Macao\",\"Continent\":\"Asia\",\"TwoLetterSymbol\":\"mo\",\"ThreeLetterSymbol\":\"mac\",\"Infection_Risk\":0.12,\"Case_Fatality_Rate\":0.76,\"Test_Percentage\":1.17,\"Recovery_Proporation\":99.24,\"TotalCases\":793,\"NewCases\":0,\"TotalDeaths\":6,\"NewDeaths\":0,\"TotalRecovered\":\"787\",\"NewRecovered\":0,\"ActiveCases\":0,\"TotalTests\":\"7850\",\"Population\":\"669520\",\"one_Caseevery_X_ppl\":844,\"one_Deathevery_X_ppl\":111587,\"one_Testevery_X_ppl\":85,\"Deaths_1M_pop\":9,\"Serious_Critical\":0,\"Tests_1M_Pop\":11725,\"TotCases_1M_Pop\":1184},{\"id\":\"f2e9f8ce-c9cd-4ba0-bebe-bb0a853870c3\",\"rank\":223,\"Country\":\"Wallis and Futuna\",\"Continent\":\"Australia/Oceania\",\"TwoLetterSymbol\":\"wf\",\"ThreeLetterSymbol\":\"wlf\",\"Infection_Risk\":7.05,\"Case_Fatality_Rate\":0.92,\"Test_Percentage\":190.05,\"Recovery_Proporation\":57.56,\"TotalCases\":761,\"NewCases\":0,\"TotalDeaths\":7,\"NewDeaths\":0,\"TotalRecovered\":\"438\",\"NewRecovered\":0,\"ActiveCases\":316,\"TotalTests\":\"20508\",\"Population\":\"10791\",\"one_Caseevery_X_ppl\":14,\"one_Deathevery_X_ppl\":1542,\"one_Testevery_X_ppl\":1,\"Deaths_1M_pop\":649,\"Serious_Critical\":0,\"Tests_1M_Pop\":1900473,\"TotCases_1M_Pop\":70522},{\"id\":\"b230d5ca-c30a-4d22-814e-53ceccfb8364\",\"rank\":224,\"Country\":\"Diamond Princess\",\"Continent\":\"\",\"TwoLetterSymbol\":\"us\",\"ThreeLetterSymbol\":\"usa\",\"Infection_Risk\":0,\"Case_Fatality_Rate\":1.83,\"Test_Percentage\":0,\"Recovery_Proporation\":98.17,\"TotalCases\":712,\"NewCases\":0,\"TotalDeaths\":13,\"NewDeaths\":0,\"TotalRecovered\":\"699\",\"NewRecovered\":0,\"ActiveCases\":0,\"TotalTests\":\"0\",\"Population\":\"0\",\"one_Caseevery_X_ppl\":0,\"one_Deathevery_X_ppl\":0,\"one_Testevery_X_ppl\":0,\"Deaths_1M_pop\":0,\"Serious_Critical\":0,\"Tests_1M_Pop\":0,\"TotCases_1M_Pop\":0},{\"id\":\"f4fd07f5-e786-4153-bafe-7b35194a7eef\",\"rank\":226,\"Country\":\"Vatican City\",\"Continent\":\"Europe\",\"TwoLetterSymbol\":\"va\",\"ThreeLetterSymbol\":\"vat\",\"Infection_Risk\":3.6,\"Case_Fatality_Rate\":0,\"Test_Percentage\":0,\"Recovery_Proporation\":100,\"TotalCases\":29,\"NewCases\":0,\"TotalDeaths\":0,\"NewDeaths\":0,\"TotalRecovered\":\"29\",\"NewRecovered\":0,\"ActiveCases\":0,\"TotalTests\":\"0\",\"Population\":\"806\",\"one_Caseevery_X_ppl\":28,\"one_Deathevery_X_ppl\":0,\"one_Testevery_X_ppl\":0,\"Deaths_1M_pop\":0,\"Serious_Critical\":0,\"Tests_1M_Pop\":0,\"TotCases_1M_Pop\":35980},{\"id\":\"98a06a3a-311a-445f-9caf-3b967e1ffef5\",\"rank\":228,\"Country\":\"Western Sahara\",\"Continent\":\"Africa\",\"TwoLetterSymbol\":\"eh\",\"ThreeLetterSymbol\":\"esh\",\"Infection_Risk\":0,\"Case_Fatality_Rate\":10,\"Test_Percentage\":0,\"Recovery_Proporation\":90,\"TotalCases\":10,\"NewCases\":0,\"TotalDeaths\":1,\"NewDeaths\":0,\"TotalRecovered\":\"9\",\"NewRecovered\":0,\"ActiveCases\":0,\"TotalTests\":\"0\",\"Population\":\"630838\",\"one_Caseevery_X_ppl\":63084,\"one_Deathevery_X_ppl\":630838,\"one_Testevery_X_ppl\":0,\"Deaths_1M_pop\":2,\"Serious_Critical\":0,\"Tests_1M_Pop\":0,\"TotCases_1M_Pop\":16},{\"id\":\"fa63e305-e10f-4b5d-a400-2edd6dcab0f4\",\"rank\":229,\"Country\":\"MS Zaandam\",\"Continent\":\"\",\"TwoLetterSymbol\":\"us\",\"ThreeLetterSymbol\":\"usa\",\"Infection_Risk\":0,\"Case_Fatality_Rate\":22.22,\"Test_Percentage\":0,\"Recovery_Proporation\":77.78,\"TotalCases\":9,\"NewCases\":0,\"TotalDeaths\":2,\"NewDeaths\":0,\"TotalRecovered\":\"7\",\"NewRecovered\":0,\"ActiveCases\":0,\"TotalTests\":\"0\",\"Population\":\"0\",\"one_Caseevery_X_ppl\":0,\"one_Deathevery_X_ppl\":0,\"one_Testevery_X_ppl\":0,\"Deaths_1M_pop\":0,\"Serious_Critical\":0,\"Tests_1M_Pop\":0,\"TotCases_1M_Pop\":0},{\"id\":\"eb9b3fbc-6738-4a35-a943-42a0e05ea149\",\"rank\":230,\"Country\":\"China\",\"Continent\":\"Asia\",\"TwoLetterSymbol\":\"cn\",\"ThreeLetterSymbol\":\"chn\",\"Infection_Risk\":0.02,\"Case_Fatality_Rate\":2.05,\"Test_Percentage\":11.12,\"Recovery_Proporation\":96.17,\"TotalCases\":255529,\"NewCases\":361,\"TotalDeaths\":5226,\"NewDeaths\":0,\"TotalRecovered\":\"245740\",\"NewRecovered\":254,\"ActiveCases\":4563,\"TotalTests\":\"160000000\",\"Population\":\"1439323776\",\"one_Caseevery_X_ppl\":5633,\"one_Deathevery_X_ppl\":275416,\"one_Testevery_X_ppl\":9,\"Deaths_1M_pop\":4,\"Serious_Critical\":17,\"Tests_1M_Pop\":111163,\"TotCases_1M_Pop\":178}]'"
      ]
     },
     "execution_count": 1,
     "metadata": {},
     "output_type": "execute_result"
    }
   ],
   "source": [
    "# Start your code here\n",
    "\n",
    "import requests\n",
    "import numpy as np\n",
    "import pandas as pd\n",
    "\n",
    "%matplotlib inline\n",
    "import matplotlib as mpl\n",
    "import matplotlib.pyplot as plt\n",
    "import seaborn as sns\n",
    "import plotly.express as px\n",
    "\n",
    "mpl.rc('axes', labelsize=14)\n",
    "mpl.rc('xtick', labelsize=12)\n",
    "mpl.rc('ytick', labelsize=12)\n",
    "plt.style.use(\"bmh\")\n",
    "# API\n",
    "\n",
    "url = \"https://vaccovid-coronavirus-vaccine-and-treatment-tracker.p.rapidapi.com/api/npm-covid-data/\"\n",
    "\n",
    "headers = {\n",
    "\t\"X-RapidAPI-Key\": \"fbf638b489msh484afad00eb0877p19941bjsnfcab5b02a55a\",\n",
    "\t\"X-RapidAPI-Host\": \"vaccovid-coronavirus-vaccine-and-treatment-tracker.p.rapidapi.com\"\n",
    "}\n",
    "\n",
    "response = requests.request(\"GET\", url, headers=headers)\n",
    "\n",
    "response.text"
   ]
  },
  {
   "cell_type": "code",
   "execution_count": 2,
   "metadata": {},
   "outputs": [
    {
     "data": {
      "text/html": [
       "<div>\n",
       "<style scoped>\n",
       "    .dataframe tbody tr th:only-of-type {\n",
       "        vertical-align: middle;\n",
       "    }\n",
       "\n",
       "    .dataframe tbody tr th {\n",
       "        vertical-align: top;\n",
       "    }\n",
       "\n",
       "    .dataframe thead th {\n",
       "        text-align: right;\n",
       "    }\n",
       "</style>\n",
       "<table border=\"1\" class=\"dataframe\">\n",
       "  <thead>\n",
       "    <tr style=\"text-align: right;\">\n",
       "      <th></th>\n",
       "      <th>LOCATION</th>\n",
       "      <th>Country</th>\n",
       "      <th>VARIABLE</th>\n",
       "      <th>Variable</th>\n",
       "      <th>FREQUENCY</th>\n",
       "      <th>Frequency</th>\n",
       "      <th>TIME</th>\n",
       "      <th>Time</th>\n",
       "      <th>Unit Code</th>\n",
       "      <th>Unit</th>\n",
       "      <th>PowerCode Code</th>\n",
       "      <th>PowerCode</th>\n",
       "      <th>Reference Period Code</th>\n",
       "      <th>Reference Period</th>\n",
       "      <th>Value</th>\n",
       "      <th>Flag Codes</th>\n",
       "      <th>Flags</th>\n",
       "    </tr>\n",
       "  </thead>\n",
       "  <tbody>\n",
       "    <tr>\n",
       "      <th>0</th>\n",
       "      <td>ITA</td>\n",
       "      <td>Italy</td>\n",
       "      <td>PGDP_ANNPCT</td>\n",
       "      <td>Gross domestic product, market prices, deflato...</td>\n",
       "      <td>Q</td>\n",
       "      <td>Quarterly</td>\n",
       "      <td>2019-Q1</td>\n",
       "      <td>Q1-2019</td>\n",
       "      <td>PC</td>\n",
       "      <td>Percentage</td>\n",
       "      <td>0</td>\n",
       "      <td>Units</td>\n",
       "      <td>2015</td>\n",
       "      <td>2015</td>\n",
       "      <td>1.715134</td>\n",
       "      <td>NaN</td>\n",
       "      <td>NaN</td>\n",
       "    </tr>\n",
       "    <tr>\n",
       "      <th>1</th>\n",
       "      <td>ITA</td>\n",
       "      <td>Italy</td>\n",
       "      <td>PGDP_ANNPCT</td>\n",
       "      <td>Gross domestic product, market prices, deflato...</td>\n",
       "      <td>Q</td>\n",
       "      <td>Quarterly</td>\n",
       "      <td>2019-Q2</td>\n",
       "      <td>Q2-2019</td>\n",
       "      <td>PC</td>\n",
       "      <td>Percentage</td>\n",
       "      <td>0</td>\n",
       "      <td>Units</td>\n",
       "      <td>2015</td>\n",
       "      <td>2015</td>\n",
       "      <td>0.507397</td>\n",
       "      <td>NaN</td>\n",
       "      <td>NaN</td>\n",
       "    </tr>\n",
       "    <tr>\n",
       "      <th>2</th>\n",
       "      <td>ITA</td>\n",
       "      <td>Italy</td>\n",
       "      <td>PGDP_ANNPCT</td>\n",
       "      <td>Gross domestic product, market prices, deflato...</td>\n",
       "      <td>Q</td>\n",
       "      <td>Quarterly</td>\n",
       "      <td>2019-Q3</td>\n",
       "      <td>Q3-2019</td>\n",
       "      <td>PC</td>\n",
       "      <td>Percentage</td>\n",
       "      <td>0</td>\n",
       "      <td>Units</td>\n",
       "      <td>2015</td>\n",
       "      <td>2015</td>\n",
       "      <td>1.196358</td>\n",
       "      <td>NaN</td>\n",
       "      <td>NaN</td>\n",
       "    </tr>\n",
       "    <tr>\n",
       "      <th>3</th>\n",
       "      <td>ITA</td>\n",
       "      <td>Italy</td>\n",
       "      <td>PGDP_ANNPCT</td>\n",
       "      <td>Gross domestic product, market prices, deflato...</td>\n",
       "      <td>Q</td>\n",
       "      <td>Quarterly</td>\n",
       "      <td>2019-Q4</td>\n",
       "      <td>Q4-2019</td>\n",
       "      <td>PC</td>\n",
       "      <td>Percentage</td>\n",
       "      <td>0</td>\n",
       "      <td>Units</td>\n",
       "      <td>2015</td>\n",
       "      <td>2015</td>\n",
       "      <td>2.831506</td>\n",
       "      <td>NaN</td>\n",
       "      <td>NaN</td>\n",
       "    </tr>\n",
       "    <tr>\n",
       "      <th>4</th>\n",
       "      <td>ITA</td>\n",
       "      <td>Italy</td>\n",
       "      <td>PGDP_ANNPCT</td>\n",
       "      <td>Gross domestic product, market prices, deflato...</td>\n",
       "      <td>Q</td>\n",
       "      <td>Quarterly</td>\n",
       "      <td>2020-Q1</td>\n",
       "      <td>Q1-2020</td>\n",
       "      <td>PC</td>\n",
       "      <td>Percentage</td>\n",
       "      <td>0</td>\n",
       "      <td>Units</td>\n",
       "      <td>2015</td>\n",
       "      <td>2015</td>\n",
       "      <td>-0.387928</td>\n",
       "      <td>NaN</td>\n",
       "      <td>NaN</td>\n",
       "    </tr>\n",
       "    <tr>\n",
       "      <th>...</th>\n",
       "      <td>...</td>\n",
       "      <td>...</td>\n",
       "      <td>...</td>\n",
       "      <td>...</td>\n",
       "      <td>...</td>\n",
       "      <td>...</td>\n",
       "      <td>...</td>\n",
       "      <td>...</td>\n",
       "      <td>...</td>\n",
       "      <td>...</td>\n",
       "      <td>...</td>\n",
       "      <td>...</td>\n",
       "      <td>...</td>\n",
       "      <td>...</td>\n",
       "      <td>...</td>\n",
       "      <td>...</td>\n",
       "      <td>...</td>\n",
       "    </tr>\n",
       "    <tr>\n",
       "      <th>595</th>\n",
       "      <td>COL</td>\n",
       "      <td>Colombia</td>\n",
       "      <td>PGDP_ANNPCT</td>\n",
       "      <td>Gross domestic product, market prices, deflato...</td>\n",
       "      <td>Q</td>\n",
       "      <td>Quarterly</td>\n",
       "      <td>2022-Q4</td>\n",
       "      <td>Q4-2022</td>\n",
       "      <td>PC</td>\n",
       "      <td>Percentage</td>\n",
       "      <td>0</td>\n",
       "      <td>Units</td>\n",
       "      <td>2015</td>\n",
       "      <td>2015</td>\n",
       "      <td>6.271883</td>\n",
       "      <td>NaN</td>\n",
       "      <td>NaN</td>\n",
       "    </tr>\n",
       "    <tr>\n",
       "      <th>596</th>\n",
       "      <td>COL</td>\n",
       "      <td>Colombia</td>\n",
       "      <td>PGDP_ANNPCT</td>\n",
       "      <td>Gross domestic product, market prices, deflato...</td>\n",
       "      <td>Q</td>\n",
       "      <td>Quarterly</td>\n",
       "      <td>2023-Q1</td>\n",
       "      <td>Q1-2023</td>\n",
       "      <td>PC</td>\n",
       "      <td>Percentage</td>\n",
       "      <td>0</td>\n",
       "      <td>Units</td>\n",
       "      <td>2015</td>\n",
       "      <td>2015</td>\n",
       "      <td>5.595622</td>\n",
       "      <td>NaN</td>\n",
       "      <td>NaN</td>\n",
       "    </tr>\n",
       "    <tr>\n",
       "      <th>597</th>\n",
       "      <td>COL</td>\n",
       "      <td>Colombia</td>\n",
       "      <td>PGDP_ANNPCT</td>\n",
       "      <td>Gross domestic product, market prices, deflato...</td>\n",
       "      <td>Q</td>\n",
       "      <td>Quarterly</td>\n",
       "      <td>2023-Q2</td>\n",
       "      <td>Q2-2023</td>\n",
       "      <td>PC</td>\n",
       "      <td>Percentage</td>\n",
       "      <td>0</td>\n",
       "      <td>Units</td>\n",
       "      <td>2015</td>\n",
       "      <td>2015</td>\n",
       "      <td>5.710985</td>\n",
       "      <td>NaN</td>\n",
       "      <td>NaN</td>\n",
       "    </tr>\n",
       "    <tr>\n",
       "      <th>598</th>\n",
       "      <td>COL</td>\n",
       "      <td>Colombia</td>\n",
       "      <td>PGDP_ANNPCT</td>\n",
       "      <td>Gross domestic product, market prices, deflato...</td>\n",
       "      <td>Q</td>\n",
       "      <td>Quarterly</td>\n",
       "      <td>2023-Q3</td>\n",
       "      <td>Q3-2023</td>\n",
       "      <td>PC</td>\n",
       "      <td>Percentage</td>\n",
       "      <td>0</td>\n",
       "      <td>Units</td>\n",
       "      <td>2015</td>\n",
       "      <td>2015</td>\n",
       "      <td>5.344913</td>\n",
       "      <td>NaN</td>\n",
       "      <td>NaN</td>\n",
       "    </tr>\n",
       "    <tr>\n",
       "      <th>599</th>\n",
       "      <td>COL</td>\n",
       "      <td>Colombia</td>\n",
       "      <td>PGDP_ANNPCT</td>\n",
       "      <td>Gross domestic product, market prices, deflato...</td>\n",
       "      <td>Q</td>\n",
       "      <td>Quarterly</td>\n",
       "      <td>2023-Q4</td>\n",
       "      <td>Q4-2023</td>\n",
       "      <td>PC</td>\n",
       "      <td>Percentage</td>\n",
       "      <td>0</td>\n",
       "      <td>Units</td>\n",
       "      <td>2015</td>\n",
       "      <td>2015</td>\n",
       "      <td>4.529731</td>\n",
       "      <td>NaN</td>\n",
       "      <td>NaN</td>\n",
       "    </tr>\n",
       "  </tbody>\n",
       "</table>\n",
       "<p>600 rows × 17 columns</p>\n",
       "</div>"
      ],
      "text/plain": [
       "    LOCATION   Country     VARIABLE  \\\n",
       "0        ITA     Italy  PGDP_ANNPCT   \n",
       "1        ITA     Italy  PGDP_ANNPCT   \n",
       "2        ITA     Italy  PGDP_ANNPCT   \n",
       "3        ITA     Italy  PGDP_ANNPCT   \n",
       "4        ITA     Italy  PGDP_ANNPCT   \n",
       "..       ...       ...          ...   \n",
       "595      COL  Colombia  PGDP_ANNPCT   \n",
       "596      COL  Colombia  PGDP_ANNPCT   \n",
       "597      COL  Colombia  PGDP_ANNPCT   \n",
       "598      COL  Colombia  PGDP_ANNPCT   \n",
       "599      COL  Colombia  PGDP_ANNPCT   \n",
       "\n",
       "                                              Variable FREQUENCY  Frequency  \\\n",
       "0    Gross domestic product, market prices, deflato...         Q  Quarterly   \n",
       "1    Gross domestic product, market prices, deflato...         Q  Quarterly   \n",
       "2    Gross domestic product, market prices, deflato...         Q  Quarterly   \n",
       "3    Gross domestic product, market prices, deflato...         Q  Quarterly   \n",
       "4    Gross domestic product, market prices, deflato...         Q  Quarterly   \n",
       "..                                                 ...       ...        ...   \n",
       "595  Gross domestic product, market prices, deflato...         Q  Quarterly   \n",
       "596  Gross domestic product, market prices, deflato...         Q  Quarterly   \n",
       "597  Gross domestic product, market prices, deflato...         Q  Quarterly   \n",
       "598  Gross domestic product, market prices, deflato...         Q  Quarterly   \n",
       "599  Gross domestic product, market prices, deflato...         Q  Quarterly   \n",
       "\n",
       "        TIME     Time Unit Code        Unit  PowerCode Code PowerCode  \\\n",
       "0    2019-Q1  Q1-2019        PC  Percentage               0     Units   \n",
       "1    2019-Q2  Q2-2019        PC  Percentage               0     Units   \n",
       "2    2019-Q3  Q3-2019        PC  Percentage               0     Units   \n",
       "3    2019-Q4  Q4-2019        PC  Percentage               0     Units   \n",
       "4    2020-Q1  Q1-2020        PC  Percentage               0     Units   \n",
       "..       ...      ...       ...         ...             ...       ...   \n",
       "595  2022-Q4  Q4-2022        PC  Percentage               0     Units   \n",
       "596  2023-Q1  Q1-2023        PC  Percentage               0     Units   \n",
       "597  2023-Q2  Q2-2023        PC  Percentage               0     Units   \n",
       "598  2023-Q3  Q3-2023        PC  Percentage               0     Units   \n",
       "599  2023-Q4  Q4-2023        PC  Percentage               0     Units   \n",
       "\n",
       "    Reference Period Code Reference Period     Value  Flag Codes  Flags  \n",
       "0                    2015             2015  1.715134         NaN    NaN  \n",
       "1                    2015             2015  0.507397         NaN    NaN  \n",
       "2                    2015             2015  1.196358         NaN    NaN  \n",
       "3                    2015             2015  2.831506         NaN    NaN  \n",
       "4                    2015             2015 -0.387928         NaN    NaN  \n",
       "..                    ...              ...       ...         ...    ...  \n",
       "595                  2015             2015  6.271883         NaN    NaN  \n",
       "596                  2015             2015  5.595622         NaN    NaN  \n",
       "597                  2015             2015  5.710985         NaN    NaN  \n",
       "598                  2015             2015  5.344913         NaN    NaN  \n",
       "599                  2015             2015  4.529731         NaN    NaN  \n",
       "\n",
       "[600 rows x 17 columns]"
      ]
     },
     "execution_count": 2,
     "metadata": {},
     "output_type": "execute_result"
    }
   ],
   "source": [
    "# Database file\n",
    "gdp_growth_df = pd.read_csv('EO_14102022183231815.csv')\n",
    "pd.set_option('display.max_columns', None)\n",
    "gdp_growth_df"
   ]
  },
  {
   "cell_type": "code",
   "execution_count": 3,
   "metadata": {},
   "outputs": [
    {
     "data": {
      "text/html": [
       "<div>\n",
       "<style scoped>\n",
       "    .dataframe tbody tr th:only-of-type {\n",
       "        vertical-align: middle;\n",
       "    }\n",
       "\n",
       "    .dataframe tbody tr th {\n",
       "        vertical-align: top;\n",
       "    }\n",
       "\n",
       "    .dataframe thead th {\n",
       "        text-align: right;\n",
       "    }\n",
       "</style>\n",
       "<table border=\"1\" class=\"dataframe\">\n",
       "  <thead>\n",
       "    <tr style=\"text-align: right;\">\n",
       "      <th></th>\n",
       "      <th>LOCATION</th>\n",
       "      <th>Country</th>\n",
       "      <th>VARIABLE</th>\n",
       "      <th>Variable</th>\n",
       "      <th>FREQUENCY</th>\n",
       "      <th>Frequency</th>\n",
       "      <th>TIME</th>\n",
       "      <th>Time</th>\n",
       "      <th>Unit Code</th>\n",
       "      <th>Unit</th>\n",
       "      <th>PowerCode Code</th>\n",
       "      <th>PowerCode</th>\n",
       "      <th>Reference Period Code</th>\n",
       "      <th>Reference Period</th>\n",
       "      <th>Value</th>\n",
       "      <th>Flag Codes</th>\n",
       "      <th>Flags</th>\n",
       "    </tr>\n",
       "  </thead>\n",
       "  <tbody>\n",
       "    <tr>\n",
       "      <th>0</th>\n",
       "      <td>NOR</td>\n",
       "      <td>Norway</td>\n",
       "      <td>UNR</td>\n",
       "      <td>Unemployment rate</td>\n",
       "      <td>Q</td>\n",
       "      <td>Quarterly</td>\n",
       "      <td>2019-Q1</td>\n",
       "      <td>Q1-2019</td>\n",
       "      <td>PC</td>\n",
       "      <td>Percentage</td>\n",
       "      <td>0</td>\n",
       "      <td>Units</td>\n",
       "      <td>NaN</td>\n",
       "      <td>NaN</td>\n",
       "      <td>3.797019</td>\n",
       "      <td>NaN</td>\n",
       "      <td>NaN</td>\n",
       "    </tr>\n",
       "    <tr>\n",
       "      <th>1</th>\n",
       "      <td>NOR</td>\n",
       "      <td>Norway</td>\n",
       "      <td>UNR</td>\n",
       "      <td>Unemployment rate</td>\n",
       "      <td>Q</td>\n",
       "      <td>Quarterly</td>\n",
       "      <td>2019-Q2</td>\n",
       "      <td>Q2-2019</td>\n",
       "      <td>PC</td>\n",
       "      <td>Percentage</td>\n",
       "      <td>0</td>\n",
       "      <td>Units</td>\n",
       "      <td>NaN</td>\n",
       "      <td>NaN</td>\n",
       "      <td>3.385602</td>\n",
       "      <td>NaN</td>\n",
       "      <td>NaN</td>\n",
       "    </tr>\n",
       "    <tr>\n",
       "      <th>2</th>\n",
       "      <td>NOR</td>\n",
       "      <td>Norway</td>\n",
       "      <td>UNR</td>\n",
       "      <td>Unemployment rate</td>\n",
       "      <td>Q</td>\n",
       "      <td>Quarterly</td>\n",
       "      <td>2019-Q3</td>\n",
       "      <td>Q3-2019</td>\n",
       "      <td>PC</td>\n",
       "      <td>Percentage</td>\n",
       "      <td>0</td>\n",
       "      <td>Units</td>\n",
       "      <td>NaN</td>\n",
       "      <td>NaN</td>\n",
       "      <td>3.717994</td>\n",
       "      <td>NaN</td>\n",
       "      <td>NaN</td>\n",
       "    </tr>\n",
       "    <tr>\n",
       "      <th>3</th>\n",
       "      <td>NOR</td>\n",
       "      <td>Norway</td>\n",
       "      <td>UNR</td>\n",
       "      <td>Unemployment rate</td>\n",
       "      <td>Q</td>\n",
       "      <td>Quarterly</td>\n",
       "      <td>2019-Q4</td>\n",
       "      <td>Q4-2019</td>\n",
       "      <td>PC</td>\n",
       "      <td>Percentage</td>\n",
       "      <td>0</td>\n",
       "      <td>Units</td>\n",
       "      <td>NaN</td>\n",
       "      <td>NaN</td>\n",
       "      <td>3.969090</td>\n",
       "      <td>NaN</td>\n",
       "      <td>NaN</td>\n",
       "    </tr>\n",
       "    <tr>\n",
       "      <th>4</th>\n",
       "      <td>NOR</td>\n",
       "      <td>Norway</td>\n",
       "      <td>UNR</td>\n",
       "      <td>Unemployment rate</td>\n",
       "      <td>Q</td>\n",
       "      <td>Quarterly</td>\n",
       "      <td>2020-Q1</td>\n",
       "      <td>Q1-2020</td>\n",
       "      <td>PC</td>\n",
       "      <td>Percentage</td>\n",
       "      <td>0</td>\n",
       "      <td>Units</td>\n",
       "      <td>NaN</td>\n",
       "      <td>NaN</td>\n",
       "      <td>3.547594</td>\n",
       "      <td>NaN</td>\n",
       "      <td>NaN</td>\n",
       "    </tr>\n",
       "    <tr>\n",
       "      <th>...</th>\n",
       "      <td>...</td>\n",
       "      <td>...</td>\n",
       "      <td>...</td>\n",
       "      <td>...</td>\n",
       "      <td>...</td>\n",
       "      <td>...</td>\n",
       "      <td>...</td>\n",
       "      <td>...</td>\n",
       "      <td>...</td>\n",
       "      <td>...</td>\n",
       "      <td>...</td>\n",
       "      <td>...</td>\n",
       "      <td>...</td>\n",
       "      <td>...</td>\n",
       "      <td>...</td>\n",
       "      <td>...</td>\n",
       "      <td>...</td>\n",
       "    </tr>\n",
       "    <tr>\n",
       "      <th>655</th>\n",
       "      <td>CHL</td>\n",
       "      <td>Chile</td>\n",
       "      <td>UNR</td>\n",
       "      <td>Unemployment rate</td>\n",
       "      <td>Q</td>\n",
       "      <td>Quarterly</td>\n",
       "      <td>2022-Q4</td>\n",
       "      <td>Q4-2022</td>\n",
       "      <td>PC</td>\n",
       "      <td>Percentage</td>\n",
       "      <td>0</td>\n",
       "      <td>Units</td>\n",
       "      <td>NaN</td>\n",
       "      <td>NaN</td>\n",
       "      <td>8.316778</td>\n",
       "      <td>NaN</td>\n",
       "      <td>NaN</td>\n",
       "    </tr>\n",
       "    <tr>\n",
       "      <th>656</th>\n",
       "      <td>CHL</td>\n",
       "      <td>Chile</td>\n",
       "      <td>UNR</td>\n",
       "      <td>Unemployment rate</td>\n",
       "      <td>Q</td>\n",
       "      <td>Quarterly</td>\n",
       "      <td>2023-Q1</td>\n",
       "      <td>Q1-2023</td>\n",
       "      <td>PC</td>\n",
       "      <td>Percentage</td>\n",
       "      <td>0</td>\n",
       "      <td>Units</td>\n",
       "      <td>NaN</td>\n",
       "      <td>NaN</td>\n",
       "      <td>8.243505</td>\n",
       "      <td>NaN</td>\n",
       "      <td>NaN</td>\n",
       "    </tr>\n",
       "    <tr>\n",
       "      <th>657</th>\n",
       "      <td>CHL</td>\n",
       "      <td>Chile</td>\n",
       "      <td>UNR</td>\n",
       "      <td>Unemployment rate</td>\n",
       "      <td>Q</td>\n",
       "      <td>Quarterly</td>\n",
       "      <td>2023-Q2</td>\n",
       "      <td>Q2-2023</td>\n",
       "      <td>PC</td>\n",
       "      <td>Percentage</td>\n",
       "      <td>0</td>\n",
       "      <td>Units</td>\n",
       "      <td>NaN</td>\n",
       "      <td>NaN</td>\n",
       "      <td>8.170173</td>\n",
       "      <td>NaN</td>\n",
       "      <td>NaN</td>\n",
       "    </tr>\n",
       "    <tr>\n",
       "      <th>658</th>\n",
       "      <td>CHL</td>\n",
       "      <td>Chile</td>\n",
       "      <td>UNR</td>\n",
       "      <td>Unemployment rate</td>\n",
       "      <td>Q</td>\n",
       "      <td>Quarterly</td>\n",
       "      <td>2023-Q3</td>\n",
       "      <td>Q3-2023</td>\n",
       "      <td>PC</td>\n",
       "      <td>Percentage</td>\n",
       "      <td>0</td>\n",
       "      <td>Units</td>\n",
       "      <td>NaN</td>\n",
       "      <td>NaN</td>\n",
       "      <td>8.096782</td>\n",
       "      <td>NaN</td>\n",
       "      <td>NaN</td>\n",
       "    </tr>\n",
       "    <tr>\n",
       "      <th>659</th>\n",
       "      <td>CHL</td>\n",
       "      <td>Chile</td>\n",
       "      <td>UNR</td>\n",
       "      <td>Unemployment rate</td>\n",
       "      <td>Q</td>\n",
       "      <td>Quarterly</td>\n",
       "      <td>2023-Q4</td>\n",
       "      <td>Q4-2023</td>\n",
       "      <td>PC</td>\n",
       "      <td>Percentage</td>\n",
       "      <td>0</td>\n",
       "      <td>Units</td>\n",
       "      <td>NaN</td>\n",
       "      <td>NaN</td>\n",
       "      <td>8.023333</td>\n",
       "      <td>NaN</td>\n",
       "      <td>NaN</td>\n",
       "    </tr>\n",
       "  </tbody>\n",
       "</table>\n",
       "<p>660 rows × 17 columns</p>\n",
       "</div>"
      ],
      "text/plain": [
       "    LOCATION Country VARIABLE           Variable FREQUENCY  Frequency  \\\n",
       "0        NOR  Norway      UNR  Unemployment rate         Q  Quarterly   \n",
       "1        NOR  Norway      UNR  Unemployment rate         Q  Quarterly   \n",
       "2        NOR  Norway      UNR  Unemployment rate         Q  Quarterly   \n",
       "3        NOR  Norway      UNR  Unemployment rate         Q  Quarterly   \n",
       "4        NOR  Norway      UNR  Unemployment rate         Q  Quarterly   \n",
       "..       ...     ...      ...                ...       ...        ...   \n",
       "655      CHL   Chile      UNR  Unemployment rate         Q  Quarterly   \n",
       "656      CHL   Chile      UNR  Unemployment rate         Q  Quarterly   \n",
       "657      CHL   Chile      UNR  Unemployment rate         Q  Quarterly   \n",
       "658      CHL   Chile      UNR  Unemployment rate         Q  Quarterly   \n",
       "659      CHL   Chile      UNR  Unemployment rate         Q  Quarterly   \n",
       "\n",
       "        TIME     Time Unit Code        Unit  PowerCode Code PowerCode  \\\n",
       "0    2019-Q1  Q1-2019        PC  Percentage               0     Units   \n",
       "1    2019-Q2  Q2-2019        PC  Percentage               0     Units   \n",
       "2    2019-Q3  Q3-2019        PC  Percentage               0     Units   \n",
       "3    2019-Q4  Q4-2019        PC  Percentage               0     Units   \n",
       "4    2020-Q1  Q1-2020        PC  Percentage               0     Units   \n",
       "..       ...      ...       ...         ...             ...       ...   \n",
       "655  2022-Q4  Q4-2022        PC  Percentage               0     Units   \n",
       "656  2023-Q1  Q1-2023        PC  Percentage               0     Units   \n",
       "657  2023-Q2  Q2-2023        PC  Percentage               0     Units   \n",
       "658  2023-Q3  Q3-2023        PC  Percentage               0     Units   \n",
       "659  2023-Q4  Q4-2023        PC  Percentage               0     Units   \n",
       "\n",
       "     Reference Period Code  Reference Period     Value  Flag Codes  Flags  \n",
       "0                      NaN               NaN  3.797019         NaN    NaN  \n",
       "1                      NaN               NaN  3.385602         NaN    NaN  \n",
       "2                      NaN               NaN  3.717994         NaN    NaN  \n",
       "3                      NaN               NaN  3.969090         NaN    NaN  \n",
       "4                      NaN               NaN  3.547594         NaN    NaN  \n",
       "..                     ...               ...       ...         ...    ...  \n",
       "655                    NaN               NaN  8.316778         NaN    NaN  \n",
       "656                    NaN               NaN  8.243505         NaN    NaN  \n",
       "657                    NaN               NaN  8.170173         NaN    NaN  \n",
       "658                    NaN               NaN  8.096782         NaN    NaN  \n",
       "659                    NaN               NaN  8.023333         NaN    NaN  \n",
       "\n",
       "[660 rows x 17 columns]"
      ]
     },
     "execution_count": 3,
     "metadata": {},
     "output_type": "execute_result"
    }
   ],
   "source": [
    "unemployment_df = pd.read_csv('EO_14102022180121049.csv')\n",
    "pd.set_option('display.max_columns', None)\n",
    "unemployment_df"
   ]
  },
  {
   "cell_type": "code",
   "execution_count": 4,
   "metadata": {},
   "outputs": [
    {
     "data": {
      "text/html": [
       "<div>\n",
       "<style scoped>\n",
       "    .dataframe tbody tr th:only-of-type {\n",
       "        vertical-align: middle;\n",
       "    }\n",
       "\n",
       "    .dataframe tbody tr th {\n",
       "        vertical-align: top;\n",
       "    }\n",
       "\n",
       "    .dataframe thead th {\n",
       "        text-align: right;\n",
       "    }\n",
       "</style>\n",
       "<table border=\"1\" class=\"dataframe\">\n",
       "  <thead>\n",
       "    <tr style=\"text-align: right;\">\n",
       "      <th></th>\n",
       "      <th>COUNTRY</th>\n",
       "      <th>ISO3</th>\n",
       "      <th>WHO_REGION</th>\n",
       "      <th>DATA_SOURCE</th>\n",
       "      <th>DATE_UPDATED</th>\n",
       "      <th>TOTAL_VACCINATIONS</th>\n",
       "      <th>PERSONS_VACCINATED_1PLUS_DOSE</th>\n",
       "      <th>TOTAL_VACCINATIONS_PER100</th>\n",
       "      <th>PERSONS_VACCINATED_1PLUS_DOSE_PER100</th>\n",
       "      <th>PERSONS_FULLY_VACCINATED</th>\n",
       "      <th>PERSONS_FULLY_VACCINATED_PER100</th>\n",
       "      <th>VACCINES_USED</th>\n",
       "      <th>FIRST_VACCINE_DATE</th>\n",
       "      <th>NUMBER_VACCINES_TYPES_USED</th>\n",
       "      <th>PERSONS_BOOSTER_ADD_DOSE</th>\n",
       "      <th>PERSONS_BOOSTER_ADD_DOSE_PER100</th>\n",
       "    </tr>\n",
       "  </thead>\n",
       "  <tbody>\n",
       "    <tr>\n",
       "      <th>0</th>\n",
       "      <td>Afghanistan</td>\n",
       "      <td>AFG</td>\n",
       "      <td>EMRO</td>\n",
       "      <td>REPORTING</td>\n",
       "      <td>2022-10-11</td>\n",
       "      <td>11951964.0</td>\n",
       "      <td>10987211.0</td>\n",
       "      <td>30.702</td>\n",
       "      <td>28.224</td>\n",
       "      <td>10303193.0</td>\n",
       "      <td>26.467</td>\n",
       "      <td>AstraZeneca - Vaxzevria,Beijing CNBG - BBIBP-C...</td>\n",
       "      <td>2021-02-22</td>\n",
       "      <td>11.0</td>\n",
       "      <td>NaN</td>\n",
       "      <td>NaN</td>\n",
       "    </tr>\n",
       "    <tr>\n",
       "      <th>1</th>\n",
       "      <td>Albania</td>\n",
       "      <td>ALB</td>\n",
       "      <td>EURO</td>\n",
       "      <td>REPORTING</td>\n",
       "      <td>2022-09-25</td>\n",
       "      <td>2978248.0</td>\n",
       "      <td>1337562.0</td>\n",
       "      <td>103.500</td>\n",
       "      <td>46.999</td>\n",
       "      <td>1263870.0</td>\n",
       "      <td>44.409</td>\n",
       "      <td>AstraZeneca - Vaxzevria,Gamaleya - Gam-Covid-V...</td>\n",
       "      <td>2021-01-13</td>\n",
       "      <td>5.0</td>\n",
       "      <td>357344.0</td>\n",
       "      <td>12.556</td>\n",
       "    </tr>\n",
       "    <tr>\n",
       "      <th>2</th>\n",
       "      <td>Algeria</td>\n",
       "      <td>DZA</td>\n",
       "      <td>AFRO</td>\n",
       "      <td>REPORTING</td>\n",
       "      <td>2022-09-04</td>\n",
       "      <td>15267442.0</td>\n",
       "      <td>7840131.0</td>\n",
       "      <td>34.817</td>\n",
       "      <td>17.879</td>\n",
       "      <td>6481186.0</td>\n",
       "      <td>14.780</td>\n",
       "      <td>Beijing CNBG - BBIBP-CorV,Gamaleya - Gam-Covid...</td>\n",
       "      <td>2021-01-30</td>\n",
       "      <td>4.0</td>\n",
       "      <td>575651.0</td>\n",
       "      <td>1.313</td>\n",
       "    </tr>\n",
       "    <tr>\n",
       "      <th>3</th>\n",
       "      <td>American Samoa</td>\n",
       "      <td>ASM</td>\n",
       "      <td>WPRO</td>\n",
       "      <td>REPORTING</td>\n",
       "      <td>2022-08-23</td>\n",
       "      <td>111316.0</td>\n",
       "      <td>44885.0</td>\n",
       "      <td>201.670</td>\n",
       "      <td>81.318</td>\n",
       "      <td>41423.0</td>\n",
       "      <td>75.046</td>\n",
       "      <td>Janssen - Ad26.COV 2-S,Moderna - Spikevax,Pfiz...</td>\n",
       "      <td>2020-12-21</td>\n",
       "      <td>3.0</td>\n",
       "      <td>24160.0</td>\n",
       "      <td>43.770</td>\n",
       "    </tr>\n",
       "    <tr>\n",
       "      <th>4</th>\n",
       "      <td>Andorra</td>\n",
       "      <td>AND</td>\n",
       "      <td>EURO</td>\n",
       "      <td>REPORTING</td>\n",
       "      <td>2022-09-11</td>\n",
       "      <td>154216.0</td>\n",
       "      <td>57894.0</td>\n",
       "      <td>199.600</td>\n",
       "      <td>75.999</td>\n",
       "      <td>53478.0</td>\n",
       "      <td>70.202</td>\n",
       "      <td>AstraZeneca - Vaxzevria,Moderna - Spikevax,Pfi...</td>\n",
       "      <td>2021-01-20</td>\n",
       "      <td>3.0</td>\n",
       "      <td>42844.0</td>\n",
       "      <td>56.243</td>\n",
       "    </tr>\n",
       "    <tr>\n",
       "      <th>...</th>\n",
       "      <td>...</td>\n",
       "      <td>...</td>\n",
       "      <td>...</td>\n",
       "      <td>...</td>\n",
       "      <td>...</td>\n",
       "      <td>...</td>\n",
       "      <td>...</td>\n",
       "      <td>...</td>\n",
       "      <td>...</td>\n",
       "      <td>...</td>\n",
       "      <td>...</td>\n",
       "      <td>...</td>\n",
       "      <td>...</td>\n",
       "      <td>...</td>\n",
       "      <td>...</td>\n",
       "      <td>...</td>\n",
       "    </tr>\n",
       "    <tr>\n",
       "      <th>224</th>\n",
       "      <td>Viet Nam</td>\n",
       "      <td>VNM</td>\n",
       "      <td>WPRO</td>\n",
       "      <td>REPORTING</td>\n",
       "      <td>2022-10-02</td>\n",
       "      <td>260210114.0</td>\n",
       "      <td>90034165.0</td>\n",
       "      <td>267.325</td>\n",
       "      <td>92.496</td>\n",
       "      <td>84374202.0</td>\n",
       "      <td>86.681</td>\n",
       "      <td>AstraZeneca - Vaxzevria,Beijing CNBG - BBIBP-C...</td>\n",
       "      <td>2021-03-08</td>\n",
       "      <td>6.0</td>\n",
       "      <td>55849282.0</td>\n",
       "      <td>57.376</td>\n",
       "    </tr>\n",
       "    <tr>\n",
       "      <th>225</th>\n",
       "      <td>Wallis and Futuna</td>\n",
       "      <td>WLF</td>\n",
       "      <td>WPRO</td>\n",
       "      <td>REPORTING</td>\n",
       "      <td>2022-07-26</td>\n",
       "      <td>16782.0</td>\n",
       "      <td>6592.0</td>\n",
       "      <td>149.226</td>\n",
       "      <td>58.616</td>\n",
       "      <td>6989.0</td>\n",
       "      <td>62.147</td>\n",
       "      <td>Moderna - Spikevax</td>\n",
       "      <td>2021-03-19</td>\n",
       "      <td>1.0</td>\n",
       "      <td>3201.0</td>\n",
       "      <td>28.463</td>\n",
       "    </tr>\n",
       "    <tr>\n",
       "      <th>226</th>\n",
       "      <td>Yemen</td>\n",
       "      <td>YEM</td>\n",
       "      <td>EMRO</td>\n",
       "      <td>REPORTING</td>\n",
       "      <td>2022-09-28</td>\n",
       "      <td>1065395.0</td>\n",
       "      <td>861625.0</td>\n",
       "      <td>3.572</td>\n",
       "      <td>2.889</td>\n",
       "      <td>604202.0</td>\n",
       "      <td>2.026</td>\n",
       "      <td>AstraZeneca - Vaxzevria,Beijing CNBG - BBIBP-C...</td>\n",
       "      <td>2021-04-20</td>\n",
       "      <td>11.0</td>\n",
       "      <td>33507.0</td>\n",
       "      <td>0.112</td>\n",
       "    </tr>\n",
       "    <tr>\n",
       "      <th>227</th>\n",
       "      <td>Zambia</td>\n",
       "      <td>ZMB</td>\n",
       "      <td>AFRO</td>\n",
       "      <td>REPORTING</td>\n",
       "      <td>2022-09-25</td>\n",
       "      <td>9315275.0</td>\n",
       "      <td>8233510.0</td>\n",
       "      <td>50.671</td>\n",
       "      <td>44.786</td>\n",
       "      <td>6043203.0</td>\n",
       "      <td>32.872</td>\n",
       "      <td>Beijing CNBG - BBIBP-CorV,Janssen - Ad26.COV 2...</td>\n",
       "      <td>2021-04-14</td>\n",
       "      <td>3.0</td>\n",
       "      <td>668550.0</td>\n",
       "      <td>3.637</td>\n",
       "    </tr>\n",
       "    <tr>\n",
       "      <th>228</th>\n",
       "      <td>Zimbabwe</td>\n",
       "      <td>ZWE</td>\n",
       "      <td>AFRO</td>\n",
       "      <td>REPORTING</td>\n",
       "      <td>2022-10-09</td>\n",
       "      <td>12582801.0</td>\n",
       "      <td>6533054.0</td>\n",
       "      <td>84.659</td>\n",
       "      <td>43.955</td>\n",
       "      <td>4887515.0</td>\n",
       "      <td>32.884</td>\n",
       "      <td>Beijing CNBG - BBIBP-CorV,Bharat - Covaxin,Gam...</td>\n",
       "      <td>2021-02-18</td>\n",
       "      <td>4.0</td>\n",
       "      <td>1162232.0</td>\n",
       "      <td>7.820</td>\n",
       "    </tr>\n",
       "  </tbody>\n",
       "</table>\n",
       "<p>229 rows × 16 columns</p>\n",
       "</div>"
      ],
      "text/plain": [
       "               COUNTRY ISO3 WHO_REGION DATA_SOURCE DATE_UPDATED  \\\n",
       "0          Afghanistan  AFG       EMRO   REPORTING   2022-10-11   \n",
       "1              Albania  ALB       EURO   REPORTING   2022-09-25   \n",
       "2              Algeria  DZA       AFRO   REPORTING   2022-09-04   \n",
       "3       American Samoa  ASM       WPRO   REPORTING   2022-08-23   \n",
       "4              Andorra  AND       EURO   REPORTING   2022-09-11   \n",
       "..                 ...  ...        ...         ...          ...   \n",
       "224           Viet Nam  VNM       WPRO   REPORTING   2022-10-02   \n",
       "225  Wallis and Futuna  WLF       WPRO   REPORTING   2022-07-26   \n",
       "226              Yemen  YEM       EMRO   REPORTING   2022-09-28   \n",
       "227             Zambia  ZMB       AFRO   REPORTING   2022-09-25   \n",
       "228           Zimbabwe  ZWE       AFRO   REPORTING   2022-10-09   \n",
       "\n",
       "     TOTAL_VACCINATIONS  PERSONS_VACCINATED_1PLUS_DOSE  \\\n",
       "0            11951964.0                     10987211.0   \n",
       "1             2978248.0                      1337562.0   \n",
       "2            15267442.0                      7840131.0   \n",
       "3              111316.0                        44885.0   \n",
       "4              154216.0                        57894.0   \n",
       "..                  ...                            ...   \n",
       "224         260210114.0                     90034165.0   \n",
       "225             16782.0                         6592.0   \n",
       "226           1065395.0                       861625.0   \n",
       "227           9315275.0                      8233510.0   \n",
       "228          12582801.0                      6533054.0   \n",
       "\n",
       "     TOTAL_VACCINATIONS_PER100  PERSONS_VACCINATED_1PLUS_DOSE_PER100  \\\n",
       "0                       30.702                                28.224   \n",
       "1                      103.500                                46.999   \n",
       "2                       34.817                                17.879   \n",
       "3                      201.670                                81.318   \n",
       "4                      199.600                                75.999   \n",
       "..                         ...                                   ...   \n",
       "224                    267.325                                92.496   \n",
       "225                    149.226                                58.616   \n",
       "226                      3.572                                 2.889   \n",
       "227                     50.671                                44.786   \n",
       "228                     84.659                                43.955   \n",
       "\n",
       "     PERSONS_FULLY_VACCINATED  PERSONS_FULLY_VACCINATED_PER100  \\\n",
       "0                  10303193.0                           26.467   \n",
       "1                   1263870.0                           44.409   \n",
       "2                   6481186.0                           14.780   \n",
       "3                     41423.0                           75.046   \n",
       "4                     53478.0                           70.202   \n",
       "..                        ...                              ...   \n",
       "224                84374202.0                           86.681   \n",
       "225                    6989.0                           62.147   \n",
       "226                  604202.0                            2.026   \n",
       "227                 6043203.0                           32.872   \n",
       "228                 4887515.0                           32.884   \n",
       "\n",
       "                                         VACCINES_USED FIRST_VACCINE_DATE  \\\n",
       "0    AstraZeneca - Vaxzevria,Beijing CNBG - BBIBP-C...         2021-02-22   \n",
       "1    AstraZeneca - Vaxzevria,Gamaleya - Gam-Covid-V...         2021-01-13   \n",
       "2    Beijing CNBG - BBIBP-CorV,Gamaleya - Gam-Covid...         2021-01-30   \n",
       "3    Janssen - Ad26.COV 2-S,Moderna - Spikevax,Pfiz...         2020-12-21   \n",
       "4    AstraZeneca - Vaxzevria,Moderna - Spikevax,Pfi...         2021-01-20   \n",
       "..                                                 ...                ...   \n",
       "224  AstraZeneca - Vaxzevria,Beijing CNBG - BBIBP-C...         2021-03-08   \n",
       "225                                 Moderna - Spikevax         2021-03-19   \n",
       "226  AstraZeneca - Vaxzevria,Beijing CNBG - BBIBP-C...         2021-04-20   \n",
       "227  Beijing CNBG - BBIBP-CorV,Janssen - Ad26.COV 2...         2021-04-14   \n",
       "228  Beijing CNBG - BBIBP-CorV,Bharat - Covaxin,Gam...         2021-02-18   \n",
       "\n",
       "     NUMBER_VACCINES_TYPES_USED  PERSONS_BOOSTER_ADD_DOSE  \\\n",
       "0                          11.0                       NaN   \n",
       "1                           5.0                  357344.0   \n",
       "2                           4.0                  575651.0   \n",
       "3                           3.0                   24160.0   \n",
       "4                           3.0                   42844.0   \n",
       "..                          ...                       ...   \n",
       "224                         6.0                55849282.0   \n",
       "225                         1.0                    3201.0   \n",
       "226                        11.0                   33507.0   \n",
       "227                         3.0                  668550.0   \n",
       "228                         4.0                 1162232.0   \n",
       "\n",
       "     PERSONS_BOOSTER_ADD_DOSE_PER100  \n",
       "0                                NaN  \n",
       "1                             12.556  \n",
       "2                              1.313  \n",
       "3                             43.770  \n",
       "4                             56.243  \n",
       "..                               ...  \n",
       "224                           57.376  \n",
       "225                           28.463  \n",
       "226                            0.112  \n",
       "227                            3.637  \n",
       "228                            7.820  \n",
       "\n",
       "[229 rows x 16 columns]"
      ]
     },
     "execution_count": 4,
     "metadata": {},
     "output_type": "execute_result"
    }
   ],
   "source": [
    "# Database or File URL\n",
    "vaccination_df = pd.read_csv('https://covid19.who.int/who-data/vaccination-data.csv')\n",
    "vaccination_df"
   ]
  },
  {
   "cell_type": "code",
   "execution_count": 5,
   "metadata": {},
   "outputs": [
    {
     "data": {
      "text/html": [
       "<div>\n",
       "<style scoped>\n",
       "    .dataframe tbody tr th:only-of-type {\n",
       "        vertical-align: middle;\n",
       "    }\n",
       "\n",
       "    .dataframe tbody tr th {\n",
       "        vertical-align: top;\n",
       "    }\n",
       "\n",
       "    .dataframe thead th {\n",
       "        text-align: right;\n",
       "    }\n",
       "</style>\n",
       "<table border=\"1\" class=\"dataframe\">\n",
       "  <thead>\n",
       "    <tr style=\"text-align: right;\">\n",
       "      <th></th>\n",
       "      <th>id</th>\n",
       "      <th>rank</th>\n",
       "      <th>Country</th>\n",
       "      <th>Continent</th>\n",
       "      <th>TwoLetterSymbol</th>\n",
       "      <th>ThreeLetterSymbol</th>\n",
       "      <th>Infection_Risk</th>\n",
       "      <th>Case_Fatality_Rate</th>\n",
       "      <th>Test_Percentage</th>\n",
       "      <th>Recovery_Proporation</th>\n",
       "      <th>TotalCases</th>\n",
       "      <th>NewCases</th>\n",
       "      <th>TotalDeaths</th>\n",
       "      <th>NewDeaths</th>\n",
       "      <th>TotalRecovered</th>\n",
       "      <th>NewRecovered</th>\n",
       "      <th>ActiveCases</th>\n",
       "      <th>TotalTests</th>\n",
       "      <th>Population</th>\n",
       "      <th>one_Caseevery_X_ppl</th>\n",
       "      <th>one_Deathevery_X_ppl</th>\n",
       "      <th>one_Testevery_X_ppl</th>\n",
       "      <th>Deaths_1M_pop</th>\n",
       "      <th>Serious_Critical</th>\n",
       "      <th>Tests_1M_Pop</th>\n",
       "      <th>TotCases_1M_Pop</th>\n",
       "    </tr>\n",
       "  </thead>\n",
       "  <tbody>\n",
       "    <tr>\n",
       "      <th>0</th>\n",
       "      <td>40f44943-8413-4a31-a4df-deee8111f85f</td>\n",
       "      <td>0</td>\n",
       "      <td>World</td>\n",
       "      <td>All</td>\n",
       "      <td>None</td>\n",
       "      <td>None</td>\n",
       "      <td>0.00</td>\n",
       "      <td>1.04</td>\n",
       "      <td>0.00</td>\n",
       "      <td>96.66</td>\n",
       "      <td>629605718</td>\n",
       "      <td>199918</td>\n",
       "      <td>6570696</td>\n",
       "      <td>504</td>\n",
       "      <td>608590172</td>\n",
       "      <td>244213</td>\n",
       "      <td>14444850</td>\n",
       "      <td>0</td>\n",
       "      <td>0</td>\n",
       "      <td>0</td>\n",
       "      <td>0</td>\n",
       "      <td>0</td>\n",
       "      <td>843</td>\n",
       "      <td>41686</td>\n",
       "      <td>0</td>\n",
       "      <td>80773.0</td>\n",
       "    </tr>\n",
       "    <tr>\n",
       "      <th>1</th>\n",
       "      <td>63492a0f-56d7-4c00-9ac1-d64fd5414029</td>\n",
       "      <td>0</td>\n",
       "      <td>Total:</td>\n",
       "      <td>All</td>\n",
       "      <td>None</td>\n",
       "      <td>None</td>\n",
       "      <td>0.00</td>\n",
       "      <td>1.04</td>\n",
       "      <td>0.00</td>\n",
       "      <td>96.66</td>\n",
       "      <td>629605718</td>\n",
       "      <td>199918</td>\n",
       "      <td>6570696</td>\n",
       "      <td>504</td>\n",
       "      <td>608590172</td>\n",
       "      <td>244213</td>\n",
       "      <td>14444850</td>\n",
       "      <td>0</td>\n",
       "      <td>0</td>\n",
       "      <td>0</td>\n",
       "      <td>0</td>\n",
       "      <td>0</td>\n",
       "      <td>843</td>\n",
       "      <td>41686</td>\n",
       "      <td>0</td>\n",
       "      <td>80772.5</td>\n",
       "    </tr>\n",
       "    <tr>\n",
       "      <th>2</th>\n",
       "      <td>be02608d-a52f-4586-ae9b-220dee7daaf1</td>\n",
       "      <td>1</td>\n",
       "      <td>USA</td>\n",
       "      <td>North America</td>\n",
       "      <td>us</td>\n",
       "      <td>usa</td>\n",
       "      <td>29.48</td>\n",
       "      <td>1.10</td>\n",
       "      <td>335.29</td>\n",
       "      <td>97.21</td>\n",
       "      <td>98814003</td>\n",
       "      <td>0</td>\n",
       "      <td>1090289</td>\n",
       "      <td>0</td>\n",
       "      <td>96055534</td>\n",
       "      <td>0</td>\n",
       "      <td>1668180</td>\n",
       "      <td>1123688091</td>\n",
       "      <td>335140742</td>\n",
       "      <td>3</td>\n",
       "      <td>307</td>\n",
       "      <td>0</td>\n",
       "      <td>3253</td>\n",
       "      <td>2689</td>\n",
       "      <td>3352884</td>\n",
       "      <td>294843.0</td>\n",
       "    </tr>\n",
       "    <tr>\n",
       "      <th>3</th>\n",
       "      <td>f6ecf8d7-5867-42dc-9290-24fda4cb14f0</td>\n",
       "      <td>2</td>\n",
       "      <td>India</td>\n",
       "      <td>Asia</td>\n",
       "      <td>in</td>\n",
       "      <td>ind</td>\n",
       "      <td>3.16</td>\n",
       "      <td>1.19</td>\n",
       "      <td>63.64</td>\n",
       "      <td>98.76</td>\n",
       "      <td>44626427</td>\n",
       "      <td>0</td>\n",
       "      <td>528874</td>\n",
       "      <td>0</td>\n",
       "      <td>44070935</td>\n",
       "      <td>0</td>\n",
       "      <td>26618</td>\n",
       "      <td>897877536</td>\n",
       "      <td>1410940200</td>\n",
       "      <td>32</td>\n",
       "      <td>2668</td>\n",
       "      <td>2</td>\n",
       "      <td>375</td>\n",
       "      <td>698</td>\n",
       "      <td>636368</td>\n",
       "      <td>31629.0</td>\n",
       "    </tr>\n",
       "    <tr>\n",
       "      <th>4</th>\n",
       "      <td>911f9162-c39d-4e1c-9768-4d147cce2604</td>\n",
       "      <td>3</td>\n",
       "      <td>France</td>\n",
       "      <td>Europe</td>\n",
       "      <td>fr</td>\n",
       "      <td>fra</td>\n",
       "      <td>55.12</td>\n",
       "      <td>0.43</td>\n",
       "      <td>413.84</td>\n",
       "      <td>96.71</td>\n",
       "      <td>36161240</td>\n",
       "      <td>0</td>\n",
       "      <td>155816</td>\n",
       "      <td>0</td>\n",
       "      <td>34969865</td>\n",
       "      <td>0</td>\n",
       "      <td>1035559</td>\n",
       "      <td>271490188</td>\n",
       "      <td>65602707</td>\n",
       "      <td>2</td>\n",
       "      <td>421</td>\n",
       "      <td>0</td>\n",
       "      <td>2375</td>\n",
       "      <td>869</td>\n",
       "      <td>4138399</td>\n",
       "      <td>551216.0</td>\n",
       "    </tr>\n",
       "    <tr>\n",
       "      <th>...</th>\n",
       "      <td>...</td>\n",
       "      <td>...</td>\n",
       "      <td>...</td>\n",
       "      <td>...</td>\n",
       "      <td>...</td>\n",
       "      <td>...</td>\n",
       "      <td>...</td>\n",
       "      <td>...</td>\n",
       "      <td>...</td>\n",
       "      <td>...</td>\n",
       "      <td>...</td>\n",
       "      <td>...</td>\n",
       "      <td>...</td>\n",
       "      <td>...</td>\n",
       "      <td>...</td>\n",
       "      <td>...</td>\n",
       "      <td>...</td>\n",
       "      <td>...</td>\n",
       "      <td>...</td>\n",
       "      <td>...</td>\n",
       "      <td>...</td>\n",
       "      <td>...</td>\n",
       "      <td>...</td>\n",
       "      <td>...</td>\n",
       "      <td>...</td>\n",
       "      <td>...</td>\n",
       "    </tr>\n",
       "    <tr>\n",
       "      <th>217</th>\n",
       "      <td>b230d5ca-c30a-4d22-814e-53ceccfb8364</td>\n",
       "      <td>224</td>\n",
       "      <td>Diamond Princess</td>\n",
       "      <td></td>\n",
       "      <td>us</td>\n",
       "      <td>usa</td>\n",
       "      <td>0.00</td>\n",
       "      <td>1.83</td>\n",
       "      <td>0.00</td>\n",
       "      <td>98.17</td>\n",
       "      <td>712</td>\n",
       "      <td>0</td>\n",
       "      <td>13</td>\n",
       "      <td>0</td>\n",
       "      <td>699</td>\n",
       "      <td>0</td>\n",
       "      <td>0</td>\n",
       "      <td>0</td>\n",
       "      <td>0</td>\n",
       "      <td>0</td>\n",
       "      <td>0</td>\n",
       "      <td>0</td>\n",
       "      <td>0</td>\n",
       "      <td>0</td>\n",
       "      <td>0</td>\n",
       "      <td>0.0</td>\n",
       "    </tr>\n",
       "    <tr>\n",
       "      <th>218</th>\n",
       "      <td>f4fd07f5-e786-4153-bafe-7b35194a7eef</td>\n",
       "      <td>226</td>\n",
       "      <td>Vatican City</td>\n",
       "      <td>Europe</td>\n",
       "      <td>va</td>\n",
       "      <td>vat</td>\n",
       "      <td>3.60</td>\n",
       "      <td>0.00</td>\n",
       "      <td>0.00</td>\n",
       "      <td>100.00</td>\n",
       "      <td>29</td>\n",
       "      <td>0</td>\n",
       "      <td>0</td>\n",
       "      <td>0</td>\n",
       "      <td>29</td>\n",
       "      <td>0</td>\n",
       "      <td>0</td>\n",
       "      <td>0</td>\n",
       "      <td>806</td>\n",
       "      <td>28</td>\n",
       "      <td>0</td>\n",
       "      <td>0</td>\n",
       "      <td>0</td>\n",
       "      <td>0</td>\n",
       "      <td>0</td>\n",
       "      <td>35980.0</td>\n",
       "    </tr>\n",
       "    <tr>\n",
       "      <th>219</th>\n",
       "      <td>98a06a3a-311a-445f-9caf-3b967e1ffef5</td>\n",
       "      <td>228</td>\n",
       "      <td>Western Sahara</td>\n",
       "      <td>Africa</td>\n",
       "      <td>eh</td>\n",
       "      <td>esh</td>\n",
       "      <td>0.00</td>\n",
       "      <td>10.00</td>\n",
       "      <td>0.00</td>\n",
       "      <td>90.00</td>\n",
       "      <td>10</td>\n",
       "      <td>0</td>\n",
       "      <td>1</td>\n",
       "      <td>0</td>\n",
       "      <td>9</td>\n",
       "      <td>0</td>\n",
       "      <td>0</td>\n",
       "      <td>0</td>\n",
       "      <td>630838</td>\n",
       "      <td>63084</td>\n",
       "      <td>630838</td>\n",
       "      <td>0</td>\n",
       "      <td>2</td>\n",
       "      <td>0</td>\n",
       "      <td>0</td>\n",
       "      <td>16.0</td>\n",
       "    </tr>\n",
       "    <tr>\n",
       "      <th>220</th>\n",
       "      <td>fa63e305-e10f-4b5d-a400-2edd6dcab0f4</td>\n",
       "      <td>229</td>\n",
       "      <td>MS Zaandam</td>\n",
       "      <td></td>\n",
       "      <td>us</td>\n",
       "      <td>usa</td>\n",
       "      <td>0.00</td>\n",
       "      <td>22.22</td>\n",
       "      <td>0.00</td>\n",
       "      <td>77.78</td>\n",
       "      <td>9</td>\n",
       "      <td>0</td>\n",
       "      <td>2</td>\n",
       "      <td>0</td>\n",
       "      <td>7</td>\n",
       "      <td>0</td>\n",
       "      <td>0</td>\n",
       "      <td>0</td>\n",
       "      <td>0</td>\n",
       "      <td>0</td>\n",
       "      <td>0</td>\n",
       "      <td>0</td>\n",
       "      <td>0</td>\n",
       "      <td>0</td>\n",
       "      <td>0</td>\n",
       "      <td>0.0</td>\n",
       "    </tr>\n",
       "    <tr>\n",
       "      <th>221</th>\n",
       "      <td>eb9b3fbc-6738-4a35-a943-42a0e05ea149</td>\n",
       "      <td>230</td>\n",
       "      <td>China</td>\n",
       "      <td>Asia</td>\n",
       "      <td>cn</td>\n",
       "      <td>chn</td>\n",
       "      <td>0.02</td>\n",
       "      <td>2.05</td>\n",
       "      <td>11.12</td>\n",
       "      <td>96.17</td>\n",
       "      <td>255529</td>\n",
       "      <td>361</td>\n",
       "      <td>5226</td>\n",
       "      <td>0</td>\n",
       "      <td>245740</td>\n",
       "      <td>254</td>\n",
       "      <td>4563</td>\n",
       "      <td>160000000</td>\n",
       "      <td>1439323776</td>\n",
       "      <td>5633</td>\n",
       "      <td>275416</td>\n",
       "      <td>9</td>\n",
       "      <td>4</td>\n",
       "      <td>17</td>\n",
       "      <td>111163</td>\n",
       "      <td>178.0</td>\n",
       "    </tr>\n",
       "  </tbody>\n",
       "</table>\n",
       "<p>222 rows × 26 columns</p>\n",
       "</div>"
      ],
      "text/plain": [
       "                                       id  rank           Country  \\\n",
       "0    40f44943-8413-4a31-a4df-deee8111f85f     0             World   \n",
       "1    63492a0f-56d7-4c00-9ac1-d64fd5414029     0            Total:   \n",
       "2    be02608d-a52f-4586-ae9b-220dee7daaf1     1               USA   \n",
       "3    f6ecf8d7-5867-42dc-9290-24fda4cb14f0     2             India   \n",
       "4    911f9162-c39d-4e1c-9768-4d147cce2604     3            France   \n",
       "..                                    ...   ...               ...   \n",
       "217  b230d5ca-c30a-4d22-814e-53ceccfb8364   224  Diamond Princess   \n",
       "218  f4fd07f5-e786-4153-bafe-7b35194a7eef   226      Vatican City   \n",
       "219  98a06a3a-311a-445f-9caf-3b967e1ffef5   228    Western Sahara   \n",
       "220  fa63e305-e10f-4b5d-a400-2edd6dcab0f4   229        MS Zaandam   \n",
       "221  eb9b3fbc-6738-4a35-a943-42a0e05ea149   230             China   \n",
       "\n",
       "         Continent TwoLetterSymbol ThreeLetterSymbol  Infection_Risk  \\\n",
       "0              All            None              None            0.00   \n",
       "1              All            None              None            0.00   \n",
       "2    North America              us               usa           29.48   \n",
       "3             Asia              in               ind            3.16   \n",
       "4           Europe              fr               fra           55.12   \n",
       "..             ...             ...               ...             ...   \n",
       "217                             us               usa            0.00   \n",
       "218         Europe              va               vat            3.60   \n",
       "219         Africa              eh               esh            0.00   \n",
       "220                             us               usa            0.00   \n",
       "221           Asia              cn               chn            0.02   \n",
       "\n",
       "     Case_Fatality_Rate  Test_Percentage  Recovery_Proporation  TotalCases  \\\n",
       "0                  1.04             0.00                 96.66   629605718   \n",
       "1                  1.04             0.00                 96.66   629605718   \n",
       "2                  1.10           335.29                 97.21    98814003   \n",
       "3                  1.19            63.64                 98.76    44626427   \n",
       "4                  0.43           413.84                 96.71    36161240   \n",
       "..                  ...              ...                   ...         ...   \n",
       "217                1.83             0.00                 98.17         712   \n",
       "218                0.00             0.00                100.00          29   \n",
       "219               10.00             0.00                 90.00          10   \n",
       "220               22.22             0.00                 77.78           9   \n",
       "221                2.05            11.12                 96.17      255529   \n",
       "\n",
       "     NewCases  TotalDeaths  NewDeaths TotalRecovered  NewRecovered  \\\n",
       "0      199918      6570696        504      608590172        244213   \n",
       "1      199918      6570696        504      608590172        244213   \n",
       "2           0      1090289          0       96055534             0   \n",
       "3           0       528874          0       44070935             0   \n",
       "4           0       155816          0       34969865             0   \n",
       "..        ...          ...        ...            ...           ...   \n",
       "217         0           13          0            699             0   \n",
       "218         0            0          0             29             0   \n",
       "219         0            1          0              9             0   \n",
       "220         0            2          0              7             0   \n",
       "221       361         5226          0         245740           254   \n",
       "\n",
       "     ActiveCases  TotalTests  Population  one_Caseevery_X_ppl  \\\n",
       "0       14444850           0           0                    0   \n",
       "1       14444850           0           0                    0   \n",
       "2        1668180  1123688091   335140742                    3   \n",
       "3          26618   897877536  1410940200                   32   \n",
       "4        1035559   271490188    65602707                    2   \n",
       "..           ...         ...         ...                  ...   \n",
       "217            0           0           0                    0   \n",
       "218            0           0         806                   28   \n",
       "219            0           0      630838                63084   \n",
       "220            0           0           0                    0   \n",
       "221         4563   160000000  1439323776                 5633   \n",
       "\n",
       "     one_Deathevery_X_ppl  one_Testevery_X_ppl  Deaths_1M_pop  \\\n",
       "0                       0                    0            843   \n",
       "1                       0                    0            843   \n",
       "2                     307                    0           3253   \n",
       "3                    2668                    2            375   \n",
       "4                     421                    0           2375   \n",
       "..                    ...                  ...            ...   \n",
       "217                     0                    0              0   \n",
       "218                     0                    0              0   \n",
       "219                630838                    0              2   \n",
       "220                     0                    0              0   \n",
       "221                275416                    9              4   \n",
       "\n",
       "     Serious_Critical  Tests_1M_Pop  TotCases_1M_Pop  \n",
       "0               41686             0          80773.0  \n",
       "1               41686             0          80772.5  \n",
       "2                2689       3352884         294843.0  \n",
       "3                 698        636368          31629.0  \n",
       "4                 869       4138399         551216.0  \n",
       "..                ...           ...              ...  \n",
       "217                 0             0              0.0  \n",
       "218                 0             0          35980.0  \n",
       "219                 0             0             16.0  \n",
       "220                 0             0              0.0  \n",
       "221                17        111163            178.0  \n",
       "\n",
       "[222 rows x 26 columns]"
      ]
     },
     "metadata": {},
     "output_type": "display_data"
    }
   ],
   "source": [
    "json = response.json()\n",
    "covid_df = pd.DataFrame(json)\n",
    "display(covid_df)"
   ]
  },
  {
   "cell_type": "code",
   "execution_count": 6,
   "metadata": {},
   "outputs": [
    {
     "data": {
      "text/html": [
       "<div>\n",
       "<style scoped>\n",
       "    .dataframe tbody tr th:only-of-type {\n",
       "        vertical-align: middle;\n",
       "    }\n",
       "\n",
       "    .dataframe tbody tr th {\n",
       "        vertical-align: top;\n",
       "    }\n",
       "\n",
       "    .dataframe thead th {\n",
       "        text-align: right;\n",
       "    }\n",
       "</style>\n",
       "<table border=\"1\" class=\"dataframe\">\n",
       "  <thead>\n",
       "    <tr style=\"text-align: right;\">\n",
       "      <th></th>\n",
       "      <th>rank</th>\n",
       "      <th>Infection_Risk</th>\n",
       "      <th>Case_Fatality_Rate</th>\n",
       "      <th>Test_Percentage</th>\n",
       "      <th>Recovery_Proporation</th>\n",
       "      <th>TotalCases</th>\n",
       "      <th>NewCases</th>\n",
       "      <th>TotalDeaths</th>\n",
       "      <th>NewDeaths</th>\n",
       "      <th>NewRecovered</th>\n",
       "      <th>ActiveCases</th>\n",
       "      <th>one_Caseevery_X_ppl</th>\n",
       "      <th>one_Deathevery_X_ppl</th>\n",
       "      <th>one_Testevery_X_ppl</th>\n",
       "      <th>Deaths_1M_pop</th>\n",
       "      <th>Serious_Critical</th>\n",
       "      <th>Tests_1M_Pop</th>\n",
       "      <th>TotCases_1M_Pop</th>\n",
       "    </tr>\n",
       "  </thead>\n",
       "  <tbody>\n",
       "    <tr>\n",
       "      <th>count</th>\n",
       "      <td>222.000000</td>\n",
       "      <td>222.000000</td>\n",
       "      <td>222.000000</td>\n",
       "      <td>222.000000</td>\n",
       "      <td>222.000000</td>\n",
       "      <td>2.220000e+02</td>\n",
       "      <td>222.000000</td>\n",
       "      <td>2.220000e+02</td>\n",
       "      <td>222.000000</td>\n",
       "      <td>222.000000</td>\n",
       "      <td>2.220000e+02</td>\n",
       "      <td>222.000000</td>\n",
       "      <td>222.000000</td>\n",
       "      <td>222.000000</td>\n",
       "      <td>222.000000</td>\n",
       "      <td>222.000000</td>\n",
       "      <td>2.220000e+02</td>\n",
       "      <td>222.000000</td>\n",
       "    </tr>\n",
       "    <tr>\n",
       "      <th>mean</th>\n",
       "      <td>110.932432</td>\n",
       "      <td>17.753829</td>\n",
       "      <td>1.472342</td>\n",
       "      <td>193.075811</td>\n",
       "      <td>86.685811</td>\n",
       "      <td>8.486470e+06</td>\n",
       "      <td>2701.594595</td>\n",
       "      <td>8.879256e+04</td>\n",
       "      <td>6.810811</td>\n",
       "      <td>3300.612613</td>\n",
       "      <td>1.894414e+05</td>\n",
       "      <td>435.175676</td>\n",
       "      <td>13372.743243</td>\n",
       "      <td>10.977477</td>\n",
       "      <td>1207.959459</td>\n",
       "      <td>563.301802</td>\n",
       "      <td>1.930758e+06</td>\n",
       "      <td>178264.222973</td>\n",
       "    </tr>\n",
       "    <tr>\n",
       "      <th>std</th>\n",
       "      <td>65.309704</td>\n",
       "      <td>18.574033</td>\n",
       "      <td>2.192323</td>\n",
       "      <td>346.502211</td>\n",
       "      <td>27.589705</td>\n",
       "      <td>6.003510e+07</td>\n",
       "      <td>19487.560935</td>\n",
       "      <td>6.279592e+05</td>\n",
       "      <td>48.836603</td>\n",
       "      <td>23538.208484</td>\n",
       "      <td>1.379500e+06</td>\n",
       "      <td>4254.621460</td>\n",
       "      <td>53439.668883</td>\n",
       "      <td>27.731982</td>\n",
       "      <td>1248.146895</td>\n",
       "      <td>4008.082702</td>\n",
       "      <td>3.465025e+06</td>\n",
       "      <td>185199.724716</td>\n",
       "    </tr>\n",
       "    <tr>\n",
       "      <th>min</th>\n",
       "      <td>0.000000</td>\n",
       "      <td>0.000000</td>\n",
       "      <td>0.000000</td>\n",
       "      <td>0.000000</td>\n",
       "      <td>0.000000</td>\n",
       "      <td>9.000000e+00</td>\n",
       "      <td>0.000000</td>\n",
       "      <td>0.000000e+00</td>\n",
       "      <td>0.000000</td>\n",
       "      <td>0.000000</td>\n",
       "      <td>0.000000e+00</td>\n",
       "      <td>0.000000</td>\n",
       "      <td>0.000000</td>\n",
       "      <td>0.000000</td>\n",
       "      <td>0.000000</td>\n",
       "      <td>0.000000</td>\n",
       "      <td>0.000000e+00</td>\n",
       "      <td>0.000000</td>\n",
       "    </tr>\n",
       "    <tr>\n",
       "      <th>25%</th>\n",
       "      <td>55.250000</td>\n",
       "      <td>1.227500</td>\n",
       "      <td>0.487500</td>\n",
       "      <td>9.620000</td>\n",
       "      <td>94.102500</td>\n",
       "      <td>3.394550e+04</td>\n",
       "      <td>0.000000</td>\n",
       "      <td>2.295000e+02</td>\n",
       "      <td>0.000000</td>\n",
       "      <td>0.000000</td>\n",
       "      <td>8.100000e+01</td>\n",
       "      <td>3.000000</td>\n",
       "      <td>484.000000</td>\n",
       "      <td>0.000000</td>\n",
       "      <td>172.000000</td>\n",
       "      <td>0.000000</td>\n",
       "      <td>9.618550e+04</td>\n",
       "      <td>15481.750000</td>\n",
       "    </tr>\n",
       "    <tr>\n",
       "      <th>50%</th>\n",
       "      <td>110.500000</td>\n",
       "      <td>11.355000</td>\n",
       "      <td>0.975000</td>\n",
       "      <td>70.365000</td>\n",
       "      <td>97.575000</td>\n",
       "      <td>2.311015e+05</td>\n",
       "      <td>0.000000</td>\n",
       "      <td>2.623000e+03</td>\n",
       "      <td>0.000000</td>\n",
       "      <td>0.000000</td>\n",
       "      <td>1.076500e+03</td>\n",
       "      <td>8.000000</td>\n",
       "      <td>1105.000000</td>\n",
       "      <td>1.000000</td>\n",
       "      <td>797.500000</td>\n",
       "      <td>4.000000</td>\n",
       "      <td>7.036360e+05</td>\n",
       "      <td>113539.500000</td>\n",
       "    </tr>\n",
       "    <tr>\n",
       "      <th>75%</th>\n",
       "      <td>165.750000</td>\n",
       "      <td>29.347500</td>\n",
       "      <td>1.890000</td>\n",
       "      <td>207.685000</td>\n",
       "      <td>98.775000</td>\n",
       "      <td>1.376543e+06</td>\n",
       "      <td>0.000000</td>\n",
       "      <td>1.598575e+04</td>\n",
       "      <td>0.000000</td>\n",
       "      <td>0.000000</td>\n",
       "      <td>1.766600e+04</td>\n",
       "      <td>59.750000</td>\n",
       "      <td>5583.250000</td>\n",
       "      <td>5.000000</td>\n",
       "      <td>1961.000000</td>\n",
       "      <td>38.500000</td>\n",
       "      <td>2.076884e+06</td>\n",
       "      <td>293510.000000</td>\n",
       "    </tr>\n",
       "    <tr>\n",
       "      <th>max</th>\n",
       "      <td>230.000000</td>\n",
       "      <td>70.320000</td>\n",
       "      <td>22.220000</td>\n",
       "      <td>2201.210000</td>\n",
       "      <td>100.000000</td>\n",
       "      <td>6.296057e+08</td>\n",
       "      <td>199918.000000</td>\n",
       "      <td>6.570696e+06</td>\n",
       "      <td>504.000000</td>\n",
       "      <td>244213.000000</td>\n",
       "      <td>1.444485e+07</td>\n",
       "      <td>63084.000000</td>\n",
       "      <td>630838.000000</td>\n",
       "      <td>198.000000</td>\n",
       "      <td>6374.000000</td>\n",
       "      <td>41686.000000</td>\n",
       "      <td>2.201212e+07</td>\n",
       "      <td>703202.000000</td>\n",
       "    </tr>\n",
       "  </tbody>\n",
       "</table>\n",
       "</div>"
      ],
      "text/plain": [
       "             rank  Infection_Risk  Case_Fatality_Rate  Test_Percentage  \\\n",
       "count  222.000000      222.000000          222.000000       222.000000   \n",
       "mean   110.932432       17.753829            1.472342       193.075811   \n",
       "std     65.309704       18.574033            2.192323       346.502211   \n",
       "min      0.000000        0.000000            0.000000         0.000000   \n",
       "25%     55.250000        1.227500            0.487500         9.620000   \n",
       "50%    110.500000       11.355000            0.975000        70.365000   \n",
       "75%    165.750000       29.347500            1.890000       207.685000   \n",
       "max    230.000000       70.320000           22.220000      2201.210000   \n",
       "\n",
       "       Recovery_Proporation    TotalCases       NewCases   TotalDeaths  \\\n",
       "count            222.000000  2.220000e+02     222.000000  2.220000e+02   \n",
       "mean              86.685811  8.486470e+06    2701.594595  8.879256e+04   \n",
       "std               27.589705  6.003510e+07   19487.560935  6.279592e+05   \n",
       "min                0.000000  9.000000e+00       0.000000  0.000000e+00   \n",
       "25%               94.102500  3.394550e+04       0.000000  2.295000e+02   \n",
       "50%               97.575000  2.311015e+05       0.000000  2.623000e+03   \n",
       "75%               98.775000  1.376543e+06       0.000000  1.598575e+04   \n",
       "max              100.000000  6.296057e+08  199918.000000  6.570696e+06   \n",
       "\n",
       "        NewDeaths   NewRecovered   ActiveCases  one_Caseevery_X_ppl  \\\n",
       "count  222.000000     222.000000  2.220000e+02           222.000000   \n",
       "mean     6.810811    3300.612613  1.894414e+05           435.175676   \n",
       "std     48.836603   23538.208484  1.379500e+06          4254.621460   \n",
       "min      0.000000       0.000000  0.000000e+00             0.000000   \n",
       "25%      0.000000       0.000000  8.100000e+01             3.000000   \n",
       "50%      0.000000       0.000000  1.076500e+03             8.000000   \n",
       "75%      0.000000       0.000000  1.766600e+04            59.750000   \n",
       "max    504.000000  244213.000000  1.444485e+07         63084.000000   \n",
       "\n",
       "       one_Deathevery_X_ppl  one_Testevery_X_ppl  Deaths_1M_pop  \\\n",
       "count            222.000000           222.000000     222.000000   \n",
       "mean           13372.743243            10.977477    1207.959459   \n",
       "std            53439.668883            27.731982    1248.146895   \n",
       "min                0.000000             0.000000       0.000000   \n",
       "25%              484.000000             0.000000     172.000000   \n",
       "50%             1105.000000             1.000000     797.500000   \n",
       "75%             5583.250000             5.000000    1961.000000   \n",
       "max           630838.000000           198.000000    6374.000000   \n",
       "\n",
       "       Serious_Critical  Tests_1M_Pop  TotCases_1M_Pop  \n",
       "count        222.000000  2.220000e+02       222.000000  \n",
       "mean         563.301802  1.930758e+06    178264.222973  \n",
       "std         4008.082702  3.465025e+06    185199.724716  \n",
       "min            0.000000  0.000000e+00         0.000000  \n",
       "25%            0.000000  9.618550e+04     15481.750000  \n",
       "50%            4.000000  7.036360e+05    113539.500000  \n",
       "75%           38.500000  2.076884e+06    293510.000000  \n",
       "max        41686.000000  2.201212e+07    703202.000000  "
      ]
     },
     "metadata": {},
     "output_type": "display_data"
    },
    {
     "name": "stderr",
     "output_type": "stream",
     "text": [
      "C:\\Users\\Kevin Zhu\\AppData\\Local\\Temp\\ipykernel_31704\\340159003.py:2: FutureWarning: The default value of numeric_only in DataFrame.corr is deprecated. In a future version, it will default to False. Select only valid columns or specify the value of numeric_only to silence this warning.\n",
      "  display(covid_df.corr())\n"
     ]
    },
    {
     "data": {
      "text/html": [
       "<div>\n",
       "<style scoped>\n",
       "    .dataframe tbody tr th:only-of-type {\n",
       "        vertical-align: middle;\n",
       "    }\n",
       "\n",
       "    .dataframe tbody tr th {\n",
       "        vertical-align: top;\n",
       "    }\n",
       "\n",
       "    .dataframe thead th {\n",
       "        text-align: right;\n",
       "    }\n",
       "</style>\n",
       "<table border=\"1\" class=\"dataframe\">\n",
       "  <thead>\n",
       "    <tr style=\"text-align: right;\">\n",
       "      <th></th>\n",
       "      <th>rank</th>\n",
       "      <th>Infection_Risk</th>\n",
       "      <th>Case_Fatality_Rate</th>\n",
       "      <th>Test_Percentage</th>\n",
       "      <th>Recovery_Proporation</th>\n",
       "      <th>TotalCases</th>\n",
       "      <th>NewCases</th>\n",
       "      <th>TotalDeaths</th>\n",
       "      <th>NewDeaths</th>\n",
       "      <th>NewRecovered</th>\n",
       "      <th>ActiveCases</th>\n",
       "      <th>one_Caseevery_X_ppl</th>\n",
       "      <th>one_Deathevery_X_ppl</th>\n",
       "      <th>one_Testevery_X_ppl</th>\n",
       "      <th>Deaths_1M_pop</th>\n",
       "      <th>Serious_Critical</th>\n",
       "      <th>Tests_1M_Pop</th>\n",
       "      <th>TotCases_1M_Pop</th>\n",
       "    </tr>\n",
       "  </thead>\n",
       "  <tbody>\n",
       "    <tr>\n",
       "      <th>rank</th>\n",
       "      <td>1.000000</td>\n",
       "      <td>-0.204800</td>\n",
       "      <td>0.157193</td>\n",
       "      <td>-0.105600</td>\n",
       "      <td>-0.235646</td>\n",
       "      <td>-0.228802</td>\n",
       "      <td>-0.224513</td>\n",
       "      <td>-0.226810</td>\n",
       "      <td>-0.225054</td>\n",
       "      <td>-0.226017</td>\n",
       "      <td>-0.220734</td>\n",
       "      <td>0.156274</td>\n",
       "      <td>0.266810</td>\n",
       "      <td>0.258861</td>\n",
       "      <td>-0.408586</td>\n",
       "      <td>-0.221723</td>\n",
       "      <td>-0.105599</td>\n",
       "      <td>-0.212114</td>\n",
       "    </tr>\n",
       "    <tr>\n",
       "      <th>Infection_Risk</th>\n",
       "      <td>-0.204800</td>\n",
       "      <td>1.000000</td>\n",
       "      <td>-0.348604</td>\n",
       "      <td>0.566302</td>\n",
       "      <td>-0.125715</td>\n",
       "      <td>-0.067730</td>\n",
       "      <td>-0.054340</td>\n",
       "      <td>-0.086156</td>\n",
       "      <td>-0.075283</td>\n",
       "      <td>-0.048766</td>\n",
       "      <td>-0.064496</td>\n",
       "      <td>-0.096953</td>\n",
       "      <td>-0.219504</td>\n",
       "      <td>-0.350593</td>\n",
       "      <td>0.479001</td>\n",
       "      <td>-0.098915</td>\n",
       "      <td>0.566302</td>\n",
       "      <td>0.999154</td>\n",
       "    </tr>\n",
       "    <tr>\n",
       "      <th>Case_Fatality_Rate</th>\n",
       "      <td>0.157193</td>\n",
       "      <td>-0.348604</td>\n",
       "      <td>1.000000</td>\n",
       "      <td>-0.220521</td>\n",
       "      <td>-0.002052</td>\n",
       "      <td>-0.027747</td>\n",
       "      <td>-0.038242</td>\n",
       "      <td>-0.013439</td>\n",
       "      <td>-0.027977</td>\n",
       "      <td>-0.035857</td>\n",
       "      <td>-0.029962</td>\n",
       "      <td>0.292583</td>\n",
       "      <td>0.204302</td>\n",
       "      <td>0.253443</td>\n",
       "      <td>-0.045606</td>\n",
       "      <td>-0.005536</td>\n",
       "      <td>-0.220520</td>\n",
       "      <td>-0.350402</td>\n",
       "    </tr>\n",
       "    <tr>\n",
       "      <th>Test_Percentage</th>\n",
       "      <td>-0.105600</td>\n",
       "      <td>0.566302</td>\n",
       "      <td>-0.220521</td>\n",
       "      <td>1.000000</td>\n",
       "      <td>-0.035941</td>\n",
       "      <td>-0.042897</td>\n",
       "      <td>-0.035401</td>\n",
       "      <td>-0.051936</td>\n",
       "      <td>-0.052994</td>\n",
       "      <td>-0.031038</td>\n",
       "      <td>-0.047305</td>\n",
       "      <td>-0.056255</td>\n",
       "      <td>-0.124122</td>\n",
       "      <td>-0.213571</td>\n",
       "      <td>0.231499</td>\n",
       "      <td>-0.065059</td>\n",
       "      <td>1.000000</td>\n",
       "      <td>0.565776</td>\n",
       "    </tr>\n",
       "    <tr>\n",
       "      <th>Recovery_Proporation</th>\n",
       "      <td>-0.235646</td>\n",
       "      <td>-0.125715</td>\n",
       "      <td>-0.002052</td>\n",
       "      <td>-0.035941</td>\n",
       "      <td>1.000000</td>\n",
       "      <td>0.050900</td>\n",
       "      <td>0.046092</td>\n",
       "      <td>0.049856</td>\n",
       "      <td>0.046855</td>\n",
       "      <td>0.048329</td>\n",
       "      <td>0.042866</td>\n",
       "      <td>0.001641</td>\n",
       "      <td>0.007994</td>\n",
       "      <td>0.004608</td>\n",
       "      <td>0.046307</td>\n",
       "      <td>0.047216</td>\n",
       "      <td>-0.035942</td>\n",
       "      <td>-0.124678</td>\n",
       "    </tr>\n",
       "    <tr>\n",
       "      <th>TotalCases</th>\n",
       "      <td>-0.228802</td>\n",
       "      <td>-0.067730</td>\n",
       "      <td>-0.027747</td>\n",
       "      <td>-0.042897</td>\n",
       "      <td>0.050900</td>\n",
       "      <td>1.000000</td>\n",
       "      <td>0.965623</td>\n",
       "      <td>0.997161</td>\n",
       "      <td>0.970753</td>\n",
       "      <td>0.976694</td>\n",
       "      <td>0.993863</td>\n",
       "      <td>-0.014384</td>\n",
       "      <td>-0.034458</td>\n",
       "      <td>-0.053776</td>\n",
       "      <td>0.003896</td>\n",
       "      <td>0.983039</td>\n",
       "      <td>-0.042897</td>\n",
       "      <td>-0.027090</td>\n",
       "    </tr>\n",
       "    <tr>\n",
       "      <th>NewCases</th>\n",
       "      <td>-0.224513</td>\n",
       "      <td>-0.054340</td>\n",
       "      <td>-0.038242</td>\n",
       "      <td>-0.035401</td>\n",
       "      <td>0.046092</td>\n",
       "      <td>0.965623</td>\n",
       "      <td>1.000000</td>\n",
       "      <td>0.957814</td>\n",
       "      <td>0.990039</td>\n",
       "      <td>0.989319</td>\n",
       "      <td>0.973802</td>\n",
       "      <td>-0.014084</td>\n",
       "      <td>-0.033117</td>\n",
       "      <td>-0.053284</td>\n",
       "      <td>-0.019583</td>\n",
       "      <td>0.949707</td>\n",
       "      <td>-0.035401</td>\n",
       "      <td>-0.014554</td>\n",
       "    </tr>\n",
       "    <tr>\n",
       "      <th>TotalDeaths</th>\n",
       "      <td>-0.226810</td>\n",
       "      <td>-0.086156</td>\n",
       "      <td>-0.013439</td>\n",
       "      <td>-0.051936</td>\n",
       "      <td>0.049856</td>\n",
       "      <td>0.997161</td>\n",
       "      <td>0.957814</td>\n",
       "      <td>1.000000</td>\n",
       "      <td>0.967480</td>\n",
       "      <td>0.969835</td>\n",
       "      <td>0.987807</td>\n",
       "      <td>-0.014293</td>\n",
       "      <td>-0.034474</td>\n",
       "      <td>-0.052212</td>\n",
       "      <td>0.018675</td>\n",
       "      <td>0.988847</td>\n",
       "      <td>-0.051936</td>\n",
       "      <td>-0.045664</td>\n",
       "    </tr>\n",
       "    <tr>\n",
       "      <th>NewDeaths</th>\n",
       "      <td>-0.225054</td>\n",
       "      <td>-0.075283</td>\n",
       "      <td>-0.027977</td>\n",
       "      <td>-0.052994</td>\n",
       "      <td>0.046855</td>\n",
       "      <td>0.970753</td>\n",
       "      <td>0.990039</td>\n",
       "      <td>0.967480</td>\n",
       "      <td>1.000000</td>\n",
       "      <td>0.986486</td>\n",
       "      <td>0.976542</td>\n",
       "      <td>-0.014237</td>\n",
       "      <td>-0.034009</td>\n",
       "      <td>-0.053229</td>\n",
       "      <td>-0.007350</td>\n",
       "      <td>0.962212</td>\n",
       "      <td>-0.052994</td>\n",
       "      <td>-0.035321</td>\n",
       "    </tr>\n",
       "    <tr>\n",
       "      <th>NewRecovered</th>\n",
       "      <td>-0.226017</td>\n",
       "      <td>-0.048766</td>\n",
       "      <td>-0.035857</td>\n",
       "      <td>-0.031038</td>\n",
       "      <td>0.048329</td>\n",
       "      <td>0.976694</td>\n",
       "      <td>0.989319</td>\n",
       "      <td>0.969835</td>\n",
       "      <td>0.986486</td>\n",
       "      <td>1.000000</td>\n",
       "      <td>0.980737</td>\n",
       "      <td>-0.014296</td>\n",
       "      <td>-0.034012</td>\n",
       "      <td>-0.053920</td>\n",
       "      <td>-0.010289</td>\n",
       "      <td>0.962330</td>\n",
       "      <td>-0.031038</td>\n",
       "      <td>-0.008512</td>\n",
       "    </tr>\n",
       "    <tr>\n",
       "      <th>ActiveCases</th>\n",
       "      <td>-0.220734</td>\n",
       "      <td>-0.064496</td>\n",
       "      <td>-0.029962</td>\n",
       "      <td>-0.047305</td>\n",
       "      <td>0.042866</td>\n",
       "      <td>0.993863</td>\n",
       "      <td>0.973802</td>\n",
       "      <td>0.987807</td>\n",
       "      <td>0.976542</td>\n",
       "      <td>0.980737</td>\n",
       "      <td>1.000000</td>\n",
       "      <td>-0.013972</td>\n",
       "      <td>-0.033394</td>\n",
       "      <td>-0.050321</td>\n",
       "      <td>-0.005175</td>\n",
       "      <td>0.978802</td>\n",
       "      <td>-0.047305</td>\n",
       "      <td>-0.023895</td>\n",
       "    </tr>\n",
       "    <tr>\n",
       "      <th>one_Caseevery_X_ppl</th>\n",
       "      <td>0.156274</td>\n",
       "      <td>-0.096953</td>\n",
       "      <td>0.292583</td>\n",
       "      <td>-0.056255</td>\n",
       "      <td>0.001641</td>\n",
       "      <td>-0.014384</td>\n",
       "      <td>-0.014084</td>\n",
       "      <td>-0.014293</td>\n",
       "      <td>-0.014237</td>\n",
       "      <td>-0.014296</td>\n",
       "      <td>-0.013972</td>\n",
       "      <td>1.000000</td>\n",
       "      <td>0.823902</td>\n",
       "      <td>0.020958</td>\n",
       "      <td>-0.096845</td>\n",
       "      <td>-0.014052</td>\n",
       "      <td>-0.056255</td>\n",
       "      <td>-0.097634</td>\n",
       "    </tr>\n",
       "    <tr>\n",
       "      <th>one_Deathevery_X_ppl</th>\n",
       "      <td>0.266810</td>\n",
       "      <td>-0.219504</td>\n",
       "      <td>0.204302</td>\n",
       "      <td>-0.124122</td>\n",
       "      <td>0.007994</td>\n",
       "      <td>-0.034458</td>\n",
       "      <td>-0.033117</td>\n",
       "      <td>-0.034474</td>\n",
       "      <td>-0.034009</td>\n",
       "      <td>-0.034012</td>\n",
       "      <td>-0.033394</td>\n",
       "      <td>0.823902</td>\n",
       "      <td>1.000000</td>\n",
       "      <td>0.166381</td>\n",
       "      <td>-0.228605</td>\n",
       "      <td>-0.033834</td>\n",
       "      <td>-0.124121</td>\n",
       "      <td>-0.221137</td>\n",
       "    </tr>\n",
       "    <tr>\n",
       "      <th>one_Testevery_X_ppl</th>\n",
       "      <td>0.258861</td>\n",
       "      <td>-0.350593</td>\n",
       "      <td>0.253443</td>\n",
       "      <td>-0.213571</td>\n",
       "      <td>0.004608</td>\n",
       "      <td>-0.053776</td>\n",
       "      <td>-0.053284</td>\n",
       "      <td>-0.052212</td>\n",
       "      <td>-0.053229</td>\n",
       "      <td>-0.053920</td>\n",
       "      <td>-0.050321</td>\n",
       "      <td>0.020958</td>\n",
       "      <td>0.166381</td>\n",
       "      <td>1.000000</td>\n",
       "      <td>-0.326779</td>\n",
       "      <td>-0.048261</td>\n",
       "      <td>-0.213571</td>\n",
       "      <td>-0.353184</td>\n",
       "    </tr>\n",
       "    <tr>\n",
       "      <th>Deaths_1M_pop</th>\n",
       "      <td>-0.408586</td>\n",
       "      <td>0.479001</td>\n",
       "      <td>-0.045606</td>\n",
       "      <td>0.231499</td>\n",
       "      <td>0.046307</td>\n",
       "      <td>0.003896</td>\n",
       "      <td>-0.019583</td>\n",
       "      <td>0.018675</td>\n",
       "      <td>-0.007350</td>\n",
       "      <td>-0.010289</td>\n",
       "      <td>-0.005175</td>\n",
       "      <td>-0.096845</td>\n",
       "      <td>-0.228605</td>\n",
       "      <td>-0.326779</td>\n",
       "      <td>1.000000</td>\n",
       "      <td>0.004204</td>\n",
       "      <td>0.231499</td>\n",
       "      <td>0.479259</td>\n",
       "    </tr>\n",
       "    <tr>\n",
       "      <th>Serious_Critical</th>\n",
       "      <td>-0.221723</td>\n",
       "      <td>-0.098915</td>\n",
       "      <td>-0.005536</td>\n",
       "      <td>-0.065059</td>\n",
       "      <td>0.047216</td>\n",
       "      <td>0.983039</td>\n",
       "      <td>0.949707</td>\n",
       "      <td>0.988847</td>\n",
       "      <td>0.962212</td>\n",
       "      <td>0.962330</td>\n",
       "      <td>0.978802</td>\n",
       "      <td>-0.014052</td>\n",
       "      <td>-0.033834</td>\n",
       "      <td>-0.048261</td>\n",
       "      <td>0.004204</td>\n",
       "      <td>1.000000</td>\n",
       "      <td>-0.065059</td>\n",
       "      <td>-0.058708</td>\n",
       "    </tr>\n",
       "    <tr>\n",
       "      <th>Tests_1M_Pop</th>\n",
       "      <td>-0.105599</td>\n",
       "      <td>0.566302</td>\n",
       "      <td>-0.220520</td>\n",
       "      <td>1.000000</td>\n",
       "      <td>-0.035942</td>\n",
       "      <td>-0.042897</td>\n",
       "      <td>-0.035401</td>\n",
       "      <td>-0.051936</td>\n",
       "      <td>-0.052994</td>\n",
       "      <td>-0.031038</td>\n",
       "      <td>-0.047305</td>\n",
       "      <td>-0.056255</td>\n",
       "      <td>-0.124121</td>\n",
       "      <td>-0.213571</td>\n",
       "      <td>0.231499</td>\n",
       "      <td>-0.065059</td>\n",
       "      <td>1.000000</td>\n",
       "      <td>0.565775</td>\n",
       "    </tr>\n",
       "    <tr>\n",
       "      <th>TotCases_1M_Pop</th>\n",
       "      <td>-0.212114</td>\n",
       "      <td>0.999154</td>\n",
       "      <td>-0.350402</td>\n",
       "      <td>0.565776</td>\n",
       "      <td>-0.124678</td>\n",
       "      <td>-0.027090</td>\n",
       "      <td>-0.014554</td>\n",
       "      <td>-0.045664</td>\n",
       "      <td>-0.035321</td>\n",
       "      <td>-0.008512</td>\n",
       "      <td>-0.023895</td>\n",
       "      <td>-0.097634</td>\n",
       "      <td>-0.221137</td>\n",
       "      <td>-0.353184</td>\n",
       "      <td>0.479259</td>\n",
       "      <td>-0.058708</td>\n",
       "      <td>0.565775</td>\n",
       "      <td>1.000000</td>\n",
       "    </tr>\n",
       "  </tbody>\n",
       "</table>\n",
       "</div>"
      ],
      "text/plain": [
       "                          rank  Infection_Risk  Case_Fatality_Rate  \\\n",
       "rank                  1.000000       -0.204800            0.157193   \n",
       "Infection_Risk       -0.204800        1.000000           -0.348604   \n",
       "Case_Fatality_Rate    0.157193       -0.348604            1.000000   \n",
       "Test_Percentage      -0.105600        0.566302           -0.220521   \n",
       "Recovery_Proporation -0.235646       -0.125715           -0.002052   \n",
       "TotalCases           -0.228802       -0.067730           -0.027747   \n",
       "NewCases             -0.224513       -0.054340           -0.038242   \n",
       "TotalDeaths          -0.226810       -0.086156           -0.013439   \n",
       "NewDeaths            -0.225054       -0.075283           -0.027977   \n",
       "NewRecovered         -0.226017       -0.048766           -0.035857   \n",
       "ActiveCases          -0.220734       -0.064496           -0.029962   \n",
       "one_Caseevery_X_ppl   0.156274       -0.096953            0.292583   \n",
       "one_Deathevery_X_ppl  0.266810       -0.219504            0.204302   \n",
       "one_Testevery_X_ppl   0.258861       -0.350593            0.253443   \n",
       "Deaths_1M_pop        -0.408586        0.479001           -0.045606   \n",
       "Serious_Critical     -0.221723       -0.098915           -0.005536   \n",
       "Tests_1M_Pop         -0.105599        0.566302           -0.220520   \n",
       "TotCases_1M_Pop      -0.212114        0.999154           -0.350402   \n",
       "\n",
       "                      Test_Percentage  Recovery_Proporation  TotalCases  \\\n",
       "rank                        -0.105600             -0.235646   -0.228802   \n",
       "Infection_Risk               0.566302             -0.125715   -0.067730   \n",
       "Case_Fatality_Rate          -0.220521             -0.002052   -0.027747   \n",
       "Test_Percentage              1.000000             -0.035941   -0.042897   \n",
       "Recovery_Proporation        -0.035941              1.000000    0.050900   \n",
       "TotalCases                  -0.042897              0.050900    1.000000   \n",
       "NewCases                    -0.035401              0.046092    0.965623   \n",
       "TotalDeaths                 -0.051936              0.049856    0.997161   \n",
       "NewDeaths                   -0.052994              0.046855    0.970753   \n",
       "NewRecovered                -0.031038              0.048329    0.976694   \n",
       "ActiveCases                 -0.047305              0.042866    0.993863   \n",
       "one_Caseevery_X_ppl         -0.056255              0.001641   -0.014384   \n",
       "one_Deathevery_X_ppl        -0.124122              0.007994   -0.034458   \n",
       "one_Testevery_X_ppl         -0.213571              0.004608   -0.053776   \n",
       "Deaths_1M_pop                0.231499              0.046307    0.003896   \n",
       "Serious_Critical            -0.065059              0.047216    0.983039   \n",
       "Tests_1M_Pop                 1.000000             -0.035942   -0.042897   \n",
       "TotCases_1M_Pop              0.565776             -0.124678   -0.027090   \n",
       "\n",
       "                      NewCases  TotalDeaths  NewDeaths  NewRecovered  \\\n",
       "rank                 -0.224513    -0.226810  -0.225054     -0.226017   \n",
       "Infection_Risk       -0.054340    -0.086156  -0.075283     -0.048766   \n",
       "Case_Fatality_Rate   -0.038242    -0.013439  -0.027977     -0.035857   \n",
       "Test_Percentage      -0.035401    -0.051936  -0.052994     -0.031038   \n",
       "Recovery_Proporation  0.046092     0.049856   0.046855      0.048329   \n",
       "TotalCases            0.965623     0.997161   0.970753      0.976694   \n",
       "NewCases              1.000000     0.957814   0.990039      0.989319   \n",
       "TotalDeaths           0.957814     1.000000   0.967480      0.969835   \n",
       "NewDeaths             0.990039     0.967480   1.000000      0.986486   \n",
       "NewRecovered          0.989319     0.969835   0.986486      1.000000   \n",
       "ActiveCases           0.973802     0.987807   0.976542      0.980737   \n",
       "one_Caseevery_X_ppl  -0.014084    -0.014293  -0.014237     -0.014296   \n",
       "one_Deathevery_X_ppl -0.033117    -0.034474  -0.034009     -0.034012   \n",
       "one_Testevery_X_ppl  -0.053284    -0.052212  -0.053229     -0.053920   \n",
       "Deaths_1M_pop        -0.019583     0.018675  -0.007350     -0.010289   \n",
       "Serious_Critical      0.949707     0.988847   0.962212      0.962330   \n",
       "Tests_1M_Pop         -0.035401    -0.051936  -0.052994     -0.031038   \n",
       "TotCases_1M_Pop      -0.014554    -0.045664  -0.035321     -0.008512   \n",
       "\n",
       "                      ActiveCases  one_Caseevery_X_ppl  one_Deathevery_X_ppl  \\\n",
       "rank                    -0.220734             0.156274              0.266810   \n",
       "Infection_Risk          -0.064496            -0.096953             -0.219504   \n",
       "Case_Fatality_Rate      -0.029962             0.292583              0.204302   \n",
       "Test_Percentage         -0.047305            -0.056255             -0.124122   \n",
       "Recovery_Proporation     0.042866             0.001641              0.007994   \n",
       "TotalCases               0.993863            -0.014384             -0.034458   \n",
       "NewCases                 0.973802            -0.014084             -0.033117   \n",
       "TotalDeaths              0.987807            -0.014293             -0.034474   \n",
       "NewDeaths                0.976542            -0.014237             -0.034009   \n",
       "NewRecovered             0.980737            -0.014296             -0.034012   \n",
       "ActiveCases              1.000000            -0.013972             -0.033394   \n",
       "one_Caseevery_X_ppl     -0.013972             1.000000              0.823902   \n",
       "one_Deathevery_X_ppl    -0.033394             0.823902              1.000000   \n",
       "one_Testevery_X_ppl     -0.050321             0.020958              0.166381   \n",
       "Deaths_1M_pop           -0.005175            -0.096845             -0.228605   \n",
       "Serious_Critical         0.978802            -0.014052             -0.033834   \n",
       "Tests_1M_Pop            -0.047305            -0.056255             -0.124121   \n",
       "TotCases_1M_Pop         -0.023895            -0.097634             -0.221137   \n",
       "\n",
       "                      one_Testevery_X_ppl  Deaths_1M_pop  Serious_Critical  \\\n",
       "rank                             0.258861      -0.408586         -0.221723   \n",
       "Infection_Risk                  -0.350593       0.479001         -0.098915   \n",
       "Case_Fatality_Rate               0.253443      -0.045606         -0.005536   \n",
       "Test_Percentage                 -0.213571       0.231499         -0.065059   \n",
       "Recovery_Proporation             0.004608       0.046307          0.047216   \n",
       "TotalCases                      -0.053776       0.003896          0.983039   \n",
       "NewCases                        -0.053284      -0.019583          0.949707   \n",
       "TotalDeaths                     -0.052212       0.018675          0.988847   \n",
       "NewDeaths                       -0.053229      -0.007350          0.962212   \n",
       "NewRecovered                    -0.053920      -0.010289          0.962330   \n",
       "ActiveCases                     -0.050321      -0.005175          0.978802   \n",
       "one_Caseevery_X_ppl              0.020958      -0.096845         -0.014052   \n",
       "one_Deathevery_X_ppl             0.166381      -0.228605         -0.033834   \n",
       "one_Testevery_X_ppl              1.000000      -0.326779         -0.048261   \n",
       "Deaths_1M_pop                   -0.326779       1.000000          0.004204   \n",
       "Serious_Critical                -0.048261       0.004204          1.000000   \n",
       "Tests_1M_Pop                    -0.213571       0.231499         -0.065059   \n",
       "TotCases_1M_Pop                 -0.353184       0.479259         -0.058708   \n",
       "\n",
       "                      Tests_1M_Pop  TotCases_1M_Pop  \n",
       "rank                     -0.105599        -0.212114  \n",
       "Infection_Risk            0.566302         0.999154  \n",
       "Case_Fatality_Rate       -0.220520        -0.350402  \n",
       "Test_Percentage           1.000000         0.565776  \n",
       "Recovery_Proporation     -0.035942        -0.124678  \n",
       "TotalCases               -0.042897        -0.027090  \n",
       "NewCases                 -0.035401        -0.014554  \n",
       "TotalDeaths              -0.051936        -0.045664  \n",
       "NewDeaths                -0.052994        -0.035321  \n",
       "NewRecovered             -0.031038        -0.008512  \n",
       "ActiveCases              -0.047305        -0.023895  \n",
       "one_Caseevery_X_ppl      -0.056255        -0.097634  \n",
       "one_Deathevery_X_ppl     -0.124121        -0.221137  \n",
       "one_Testevery_X_ppl      -0.213571        -0.353184  \n",
       "Deaths_1M_pop             0.231499         0.479259  \n",
       "Serious_Critical         -0.065059        -0.058708  \n",
       "Tests_1M_Pop              1.000000         0.565775  \n",
       "TotCases_1M_Pop           0.565775         1.000000  "
      ]
     },
     "metadata": {},
     "output_type": "display_data"
    },
    {
     "name": "stdout",
     "output_type": "stream",
     "text": [
      "<class 'pandas.core.frame.DataFrame'>\n",
      "RangeIndex: 222 entries, 0 to 221\n",
      "Data columns (total 26 columns):\n",
      " #   Column                Non-Null Count  Dtype  \n",
      "---  ------                --------------  -----  \n",
      " 0   id                    222 non-null    object \n",
      " 1   rank                  222 non-null    int64  \n",
      " 2   Country               222 non-null    object \n",
      " 3   Continent             222 non-null    object \n",
      " 4   TwoLetterSymbol       220 non-null    object \n",
      " 5   ThreeLetterSymbol     220 non-null    object \n",
      " 6   Infection_Risk        222 non-null    float64\n",
      " 7   Case_Fatality_Rate    222 non-null    float64\n",
      " 8   Test_Percentage       222 non-null    float64\n",
      " 9   Recovery_Proporation  222 non-null    float64\n",
      " 10  TotalCases            222 non-null    int64  \n",
      " 11  NewCases              222 non-null    int64  \n",
      " 12  TotalDeaths           222 non-null    int64  \n",
      " 13  NewDeaths             222 non-null    int64  \n",
      " 14  TotalRecovered        222 non-null    object \n",
      " 15  NewRecovered          222 non-null    int64  \n",
      " 16  ActiveCases           222 non-null    int64  \n",
      " 17  TotalTests            222 non-null    object \n",
      " 18  Population            222 non-null    object \n",
      " 19  one_Caseevery_X_ppl   222 non-null    int64  \n",
      " 20  one_Deathevery_X_ppl  222 non-null    int64  \n",
      " 21  one_Testevery_X_ppl   222 non-null    int64  \n",
      " 22  Deaths_1M_pop         222 non-null    int64  \n",
      " 23  Serious_Critical      222 non-null    int64  \n",
      " 24  Tests_1M_Pop          222 non-null    int64  \n",
      " 25  TotCases_1M_Pop       222 non-null    float64\n",
      "dtypes: float64(5), int64(13), object(8)\n",
      "memory usage: 45.2+ KB\n"
     ]
    },
    {
     "data": {
      "text/plain": [
       "None"
      ]
     },
     "metadata": {},
     "output_type": "display_data"
    },
    {
     "data": {
      "text/plain": [
       "id                      0\n",
       "rank                    0\n",
       "Country                 0\n",
       "Continent               0\n",
       "TwoLetterSymbol         2\n",
       "ThreeLetterSymbol       2\n",
       "Infection_Risk          0\n",
       "Case_Fatality_Rate      0\n",
       "Test_Percentage         0\n",
       "Recovery_Proporation    0\n",
       "TotalCases              0\n",
       "NewCases                0\n",
       "TotalDeaths             0\n",
       "NewDeaths               0\n",
       "TotalRecovered          0\n",
       "NewRecovered            0\n",
       "ActiveCases             0\n",
       "TotalTests              0\n",
       "Population              0\n",
       "one_Caseevery_X_ppl     0\n",
       "one_Deathevery_X_ppl    0\n",
       "one_Testevery_X_ppl     0\n",
       "Deaths_1M_pop           0\n",
       "Serious_Critical        0\n",
       "Tests_1M_Pop            0\n",
       "TotCases_1M_Pop         0\n",
       "dtype: int64"
      ]
     },
     "metadata": {},
     "output_type": "display_data"
    }
   ],
   "source": [
    "display(covid_df.describe())\n",
    "display(covid_df.corr())\n",
    "display(covid_df.info())\n",
    "display(covid_df.isnull().sum())"
   ]
  },
  {
   "cell_type": "markdown",
   "metadata": {},
   "source": [
    "Showing descriptive statistics, correlation, and information about the dataset that holds the current cases, deaths, and testing data on COVID-19 in each country. It also includes the first 2 rows that both show total amount of cases, deaths, and testing globally. Only TwoLetterSymbol and TwoLetterSymbol have missing data that is also found on those same rows after analyzing it. Those are not needed so it should be removed. Besides that, no duplicated date found in this dataset. I noticed that some test percentage values are above 100%. From what I could tell, people tend to get tested more than once for specific reasons that include going to events or travel to places."
   ]
  },
  {
   "cell_type": "code",
   "execution_count": 7,
   "metadata": {},
   "outputs": [
    {
     "data": {
      "text/plain": [
       "id                      0\n",
       "rank                    0\n",
       "Country                 0\n",
       "Continent               0\n",
       "TwoLetterSymbol         0\n",
       "ThreeLetterSymbol       0\n",
       "Infection_Risk          0\n",
       "Case_Fatality_Rate      0\n",
       "Test_Percentage         0\n",
       "Recovery_Proporation    0\n",
       "TotalCases              0\n",
       "NewCases                0\n",
       "TotalDeaths             0\n",
       "NewDeaths               0\n",
       "TotalRecovered          0\n",
       "NewRecovered            0\n",
       "ActiveCases             0\n",
       "TotalTests              0\n",
       "Population              0\n",
       "one_Caseevery_X_ppl     0\n",
       "one_Deathevery_X_ppl    0\n",
       "one_Testevery_X_ppl     0\n",
       "Deaths_1M_pop           0\n",
       "Serious_Critical        0\n",
       "Tests_1M_Pop            0\n",
       "TotCases_1M_Pop         0\n",
       "dtype: int64"
      ]
     },
     "metadata": {},
     "output_type": "display_data"
    }
   ],
   "source": [
    "covid_df.dropna(inplace=True)\n",
    "display(covid_df.isnull().sum())"
   ]
  },
  {
   "cell_type": "markdown",
   "metadata": {},
   "source": [
    "Removed rows that have missing data."
   ]
  },
  {
   "cell_type": "code",
   "execution_count": 8,
   "metadata": {},
   "outputs": [
    {
     "data": {
      "application/vnd.plotly.v1+json": {
       "config": {
        "plotlyServerURL": "https://plot.ly"
       },
       "data": [
        {
         "alignmentgroup": "True",
         "hovertemplate": "Country=%{x}<br>Infection Risk (%)=%{y}<extra></extra>",
         "legendgroup": "",
         "marker": {
          "color": "#636efa",
          "pattern": {
           "shape": ""
          }
         },
         "name": "",
         "offsetgroup": "",
         "orientation": "v",
         "showlegend": false,
         "textposition": "auto",
         "type": "bar",
         "x": [
          "Austria",
          "Venezuela",
          "Suriname",
          "Netherlands",
          "Guadeloupe",
          "Eritrea",
          "Jordan",
          "St. Vincent Grenadines",
          "Saint Martin",
          "Nepal",
          "Latvia",
          "Saint Kitts and Nevis",
          "Antigua and Barbuda",
          "Serbia",
          "Hong Kong",
          "Zimbabwe",
          "Trinidad and Tobago",
          "Estonia",
          "Turkey",
          "Tajikistan"
         ],
         "xaxis": "x",
         "y": [
          58.43,
          1.93,
          13.55,
          49.22,
          48.86,
          0.28,
          16.74,
          6.36,
          29.85,
          3.3,
          51.28,
          12.1,
          9.13,
          27.58,
          24,
          1.68,
          13.04,
          45.49,
          19.58,
          0.18
         ],
         "yaxis": "y"
        }
       ],
       "layout": {
        "barmode": "relative",
        "legend": {
         "tracegroupgap": 0
        },
        "template": {
         "data": {
          "bar": [
           {
            "error_x": {
             "color": "#2a3f5f"
            },
            "error_y": {
             "color": "#2a3f5f"
            },
            "marker": {
             "line": {
              "color": "#E5ECF6",
              "width": 0.5
             },
             "pattern": {
              "fillmode": "overlay",
              "size": 10,
              "solidity": 0.2
             }
            },
            "type": "bar"
           }
          ],
          "barpolar": [
           {
            "marker": {
             "line": {
              "color": "#E5ECF6",
              "width": 0.5
             },
             "pattern": {
              "fillmode": "overlay",
              "size": 10,
              "solidity": 0.2
             }
            },
            "type": "barpolar"
           }
          ],
          "carpet": [
           {
            "aaxis": {
             "endlinecolor": "#2a3f5f",
             "gridcolor": "white",
             "linecolor": "white",
             "minorgridcolor": "white",
             "startlinecolor": "#2a3f5f"
            },
            "baxis": {
             "endlinecolor": "#2a3f5f",
             "gridcolor": "white",
             "linecolor": "white",
             "minorgridcolor": "white",
             "startlinecolor": "#2a3f5f"
            },
            "type": "carpet"
           }
          ],
          "choropleth": [
           {
            "colorbar": {
             "outlinewidth": 0,
             "ticks": ""
            },
            "type": "choropleth"
           }
          ],
          "contour": [
           {
            "colorbar": {
             "outlinewidth": 0,
             "ticks": ""
            },
            "colorscale": [
             [
              0,
              "#0d0887"
             ],
             [
              0.1111111111111111,
              "#46039f"
             ],
             [
              0.2222222222222222,
              "#7201a8"
             ],
             [
              0.3333333333333333,
              "#9c179e"
             ],
             [
              0.4444444444444444,
              "#bd3786"
             ],
             [
              0.5555555555555556,
              "#d8576b"
             ],
             [
              0.6666666666666666,
              "#ed7953"
             ],
             [
              0.7777777777777778,
              "#fb9f3a"
             ],
             [
              0.8888888888888888,
              "#fdca26"
             ],
             [
              1,
              "#f0f921"
             ]
            ],
            "type": "contour"
           }
          ],
          "contourcarpet": [
           {
            "colorbar": {
             "outlinewidth": 0,
             "ticks": ""
            },
            "type": "contourcarpet"
           }
          ],
          "heatmap": [
           {
            "colorbar": {
             "outlinewidth": 0,
             "ticks": ""
            },
            "colorscale": [
             [
              0,
              "#0d0887"
             ],
             [
              0.1111111111111111,
              "#46039f"
             ],
             [
              0.2222222222222222,
              "#7201a8"
             ],
             [
              0.3333333333333333,
              "#9c179e"
             ],
             [
              0.4444444444444444,
              "#bd3786"
             ],
             [
              0.5555555555555556,
              "#d8576b"
             ],
             [
              0.6666666666666666,
              "#ed7953"
             ],
             [
              0.7777777777777778,
              "#fb9f3a"
             ],
             [
              0.8888888888888888,
              "#fdca26"
             ],
             [
              1,
              "#f0f921"
             ]
            ],
            "type": "heatmap"
           }
          ],
          "heatmapgl": [
           {
            "colorbar": {
             "outlinewidth": 0,
             "ticks": ""
            },
            "colorscale": [
             [
              0,
              "#0d0887"
             ],
             [
              0.1111111111111111,
              "#46039f"
             ],
             [
              0.2222222222222222,
              "#7201a8"
             ],
             [
              0.3333333333333333,
              "#9c179e"
             ],
             [
              0.4444444444444444,
              "#bd3786"
             ],
             [
              0.5555555555555556,
              "#d8576b"
             ],
             [
              0.6666666666666666,
              "#ed7953"
             ],
             [
              0.7777777777777778,
              "#fb9f3a"
             ],
             [
              0.8888888888888888,
              "#fdca26"
             ],
             [
              1,
              "#f0f921"
             ]
            ],
            "type": "heatmapgl"
           }
          ],
          "histogram": [
           {
            "marker": {
             "pattern": {
              "fillmode": "overlay",
              "size": 10,
              "solidity": 0.2
             }
            },
            "type": "histogram"
           }
          ],
          "histogram2d": [
           {
            "colorbar": {
             "outlinewidth": 0,
             "ticks": ""
            },
            "colorscale": [
             [
              0,
              "#0d0887"
             ],
             [
              0.1111111111111111,
              "#46039f"
             ],
             [
              0.2222222222222222,
              "#7201a8"
             ],
             [
              0.3333333333333333,
              "#9c179e"
             ],
             [
              0.4444444444444444,
              "#bd3786"
             ],
             [
              0.5555555555555556,
              "#d8576b"
             ],
             [
              0.6666666666666666,
              "#ed7953"
             ],
             [
              0.7777777777777778,
              "#fb9f3a"
             ],
             [
              0.8888888888888888,
              "#fdca26"
             ],
             [
              1,
              "#f0f921"
             ]
            ],
            "type": "histogram2d"
           }
          ],
          "histogram2dcontour": [
           {
            "colorbar": {
             "outlinewidth": 0,
             "ticks": ""
            },
            "colorscale": [
             [
              0,
              "#0d0887"
             ],
             [
              0.1111111111111111,
              "#46039f"
             ],
             [
              0.2222222222222222,
              "#7201a8"
             ],
             [
              0.3333333333333333,
              "#9c179e"
             ],
             [
              0.4444444444444444,
              "#bd3786"
             ],
             [
              0.5555555555555556,
              "#d8576b"
             ],
             [
              0.6666666666666666,
              "#ed7953"
             ],
             [
              0.7777777777777778,
              "#fb9f3a"
             ],
             [
              0.8888888888888888,
              "#fdca26"
             ],
             [
              1,
              "#f0f921"
             ]
            ],
            "type": "histogram2dcontour"
           }
          ],
          "mesh3d": [
           {
            "colorbar": {
             "outlinewidth": 0,
             "ticks": ""
            },
            "type": "mesh3d"
           }
          ],
          "parcoords": [
           {
            "line": {
             "colorbar": {
              "outlinewidth": 0,
              "ticks": ""
             }
            },
            "type": "parcoords"
           }
          ],
          "pie": [
           {
            "automargin": true,
            "type": "pie"
           }
          ],
          "scatter": [
           {
            "fillpattern": {
             "fillmode": "overlay",
             "size": 10,
             "solidity": 0.2
            },
            "type": "scatter"
           }
          ],
          "scatter3d": [
           {
            "line": {
             "colorbar": {
              "outlinewidth": 0,
              "ticks": ""
             }
            },
            "marker": {
             "colorbar": {
              "outlinewidth": 0,
              "ticks": ""
             }
            },
            "type": "scatter3d"
           }
          ],
          "scattercarpet": [
           {
            "marker": {
             "colorbar": {
              "outlinewidth": 0,
              "ticks": ""
             }
            },
            "type": "scattercarpet"
           }
          ],
          "scattergeo": [
           {
            "marker": {
             "colorbar": {
              "outlinewidth": 0,
              "ticks": ""
             }
            },
            "type": "scattergeo"
           }
          ],
          "scattergl": [
           {
            "marker": {
             "colorbar": {
              "outlinewidth": 0,
              "ticks": ""
             }
            },
            "type": "scattergl"
           }
          ],
          "scattermapbox": [
           {
            "marker": {
             "colorbar": {
              "outlinewidth": 0,
              "ticks": ""
             }
            },
            "type": "scattermapbox"
           }
          ],
          "scatterpolar": [
           {
            "marker": {
             "colorbar": {
              "outlinewidth": 0,
              "ticks": ""
             }
            },
            "type": "scatterpolar"
           }
          ],
          "scatterpolargl": [
           {
            "marker": {
             "colorbar": {
              "outlinewidth": 0,
              "ticks": ""
             }
            },
            "type": "scatterpolargl"
           }
          ],
          "scatterternary": [
           {
            "marker": {
             "colorbar": {
              "outlinewidth": 0,
              "ticks": ""
             }
            },
            "type": "scatterternary"
           }
          ],
          "surface": [
           {
            "colorbar": {
             "outlinewidth": 0,
             "ticks": ""
            },
            "colorscale": [
             [
              0,
              "#0d0887"
             ],
             [
              0.1111111111111111,
              "#46039f"
             ],
             [
              0.2222222222222222,
              "#7201a8"
             ],
             [
              0.3333333333333333,
              "#9c179e"
             ],
             [
              0.4444444444444444,
              "#bd3786"
             ],
             [
              0.5555555555555556,
              "#d8576b"
             ],
             [
              0.6666666666666666,
              "#ed7953"
             ],
             [
              0.7777777777777778,
              "#fb9f3a"
             ],
             [
              0.8888888888888888,
              "#fdca26"
             ],
             [
              1,
              "#f0f921"
             ]
            ],
            "type": "surface"
           }
          ],
          "table": [
           {
            "cells": {
             "fill": {
              "color": "#EBF0F8"
             },
             "line": {
              "color": "white"
             }
            },
            "header": {
             "fill": {
              "color": "#C8D4E3"
             },
             "line": {
              "color": "white"
             }
            },
            "type": "table"
           }
          ]
         },
         "layout": {
          "annotationdefaults": {
           "arrowcolor": "#2a3f5f",
           "arrowhead": 0,
           "arrowwidth": 1
          },
          "autotypenumbers": "strict",
          "coloraxis": {
           "colorbar": {
            "outlinewidth": 0,
            "ticks": ""
           }
          },
          "colorscale": {
           "diverging": [
            [
             0,
             "#8e0152"
            ],
            [
             0.1,
             "#c51b7d"
            ],
            [
             0.2,
             "#de77ae"
            ],
            [
             0.3,
             "#f1b6da"
            ],
            [
             0.4,
             "#fde0ef"
            ],
            [
             0.5,
             "#f7f7f7"
            ],
            [
             0.6,
             "#e6f5d0"
            ],
            [
             0.7,
             "#b8e186"
            ],
            [
             0.8,
             "#7fbc41"
            ],
            [
             0.9,
             "#4d9221"
            ],
            [
             1,
             "#276419"
            ]
           ],
           "sequential": [
            [
             0,
             "#0d0887"
            ],
            [
             0.1111111111111111,
             "#46039f"
            ],
            [
             0.2222222222222222,
             "#7201a8"
            ],
            [
             0.3333333333333333,
             "#9c179e"
            ],
            [
             0.4444444444444444,
             "#bd3786"
            ],
            [
             0.5555555555555556,
             "#d8576b"
            ],
            [
             0.6666666666666666,
             "#ed7953"
            ],
            [
             0.7777777777777778,
             "#fb9f3a"
            ],
            [
             0.8888888888888888,
             "#fdca26"
            ],
            [
             1,
             "#f0f921"
            ]
           ],
           "sequentialminus": [
            [
             0,
             "#0d0887"
            ],
            [
             0.1111111111111111,
             "#46039f"
            ],
            [
             0.2222222222222222,
             "#7201a8"
            ],
            [
             0.3333333333333333,
             "#9c179e"
            ],
            [
             0.4444444444444444,
             "#bd3786"
            ],
            [
             0.5555555555555556,
             "#d8576b"
            ],
            [
             0.6666666666666666,
             "#ed7953"
            ],
            [
             0.7777777777777778,
             "#fb9f3a"
            ],
            [
             0.8888888888888888,
             "#fdca26"
            ],
            [
             1,
             "#f0f921"
            ]
           ]
          },
          "colorway": [
           "#636efa",
           "#EF553B",
           "#00cc96",
           "#ab63fa",
           "#FFA15A",
           "#19d3f3",
           "#FF6692",
           "#B6E880",
           "#FF97FF",
           "#FECB52"
          ],
          "font": {
           "color": "#2a3f5f"
          },
          "geo": {
           "bgcolor": "white",
           "lakecolor": "white",
           "landcolor": "#E5ECF6",
           "showlakes": true,
           "showland": true,
           "subunitcolor": "white"
          },
          "hoverlabel": {
           "align": "left"
          },
          "hovermode": "closest",
          "mapbox": {
           "style": "light"
          },
          "paper_bgcolor": "white",
          "plot_bgcolor": "#E5ECF6",
          "polar": {
           "angularaxis": {
            "gridcolor": "white",
            "linecolor": "white",
            "ticks": ""
           },
           "bgcolor": "#E5ECF6",
           "radialaxis": {
            "gridcolor": "white",
            "linecolor": "white",
            "ticks": ""
           }
          },
          "scene": {
           "xaxis": {
            "backgroundcolor": "#E5ECF6",
            "gridcolor": "white",
            "gridwidth": 2,
            "linecolor": "white",
            "showbackground": true,
            "ticks": "",
            "zerolinecolor": "white"
           },
           "yaxis": {
            "backgroundcolor": "#E5ECF6",
            "gridcolor": "white",
            "gridwidth": 2,
            "linecolor": "white",
            "showbackground": true,
            "ticks": "",
            "zerolinecolor": "white"
           },
           "zaxis": {
            "backgroundcolor": "#E5ECF6",
            "gridcolor": "white",
            "gridwidth": 2,
            "linecolor": "white",
            "showbackground": true,
            "ticks": "",
            "zerolinecolor": "white"
           }
          },
          "shapedefaults": {
           "line": {
            "color": "#2a3f5f"
           }
          },
          "ternary": {
           "aaxis": {
            "gridcolor": "white",
            "linecolor": "white",
            "ticks": ""
           },
           "baxis": {
            "gridcolor": "white",
            "linecolor": "white",
            "ticks": ""
           },
           "bgcolor": "#E5ECF6",
           "caxis": {
            "gridcolor": "white",
            "linecolor": "white",
            "ticks": ""
           }
          },
          "title": {
           "x": 0.05
          },
          "xaxis": {
           "automargin": true,
           "gridcolor": "white",
           "linecolor": "white",
           "ticks": "",
           "title": {
            "standoff": 15
           },
           "zerolinecolor": "white",
           "zerolinewidth": 2
          },
          "yaxis": {
           "automargin": true,
           "gridcolor": "white",
           "linecolor": "white",
           "ticks": "",
           "title": {
            "standoff": 15
           },
           "zerolinecolor": "white",
           "zerolinewidth": 2
          }
         }
        },
        "title": {
         "text": "Infection Risk by Country"
        },
        "xaxis": {
         "anchor": "y",
         "domain": [
          0,
          1
         ],
         "title": {
          "text": "Country"
         }
        },
        "yaxis": {
         "anchor": "x",
         "domain": [
          0,
          1
         ],
         "title": {
          "text": "Infection Risk (%)"
         }
        }
       }
      }
     },
     "metadata": {},
     "output_type": "display_data"
    }
   ],
   "source": [
    "px.bar(covid_df.sample(20), x='Country', y='Infection_Risk', labels={'Infection_Risk':'Infection Risk (%)'}, title='Infection Risk by Country')"
   ]
  },
  {
   "cell_type": "markdown",
   "metadata": {},
   "source": [
    "Presenting a bar chart using plotly.express to show infection risk levels from 20 random countries. These risk levels will show the chances of getting infected at these countries. Some governments take extreme measures like enforcing mandatory quarantine to contain the virus while others are struggling with their main industry like tourism. That in turn can cause decline in economic performance."
   ]
  },
  {
   "cell_type": "code",
   "execution_count": 9,
   "metadata": {},
   "outputs": [
    {
     "data": {
      "text/html": [
       "<div>\n",
       "<style scoped>\n",
       "    .dataframe tbody tr th:only-of-type {\n",
       "        vertical-align: middle;\n",
       "    }\n",
       "\n",
       "    .dataframe tbody tr th {\n",
       "        vertical-align: top;\n",
       "    }\n",
       "\n",
       "    .dataframe thead th {\n",
       "        text-align: right;\n",
       "    }\n",
       "</style>\n",
       "<table border=\"1\" class=\"dataframe\">\n",
       "  <thead>\n",
       "    <tr style=\"text-align: right;\">\n",
       "      <th></th>\n",
       "      <th>PowerCode Code</th>\n",
       "      <th>Value</th>\n",
       "      <th>Flag Codes</th>\n",
       "      <th>Flags</th>\n",
       "    </tr>\n",
       "  </thead>\n",
       "  <tbody>\n",
       "    <tr>\n",
       "      <th>count</th>\n",
       "      <td>600.0</td>\n",
       "      <td>600.000000</td>\n",
       "      <td>0.0</td>\n",
       "      <td>0.0</td>\n",
       "    </tr>\n",
       "    <tr>\n",
       "      <th>mean</th>\n",
       "      <td>0.0</td>\n",
       "      <td>3.540973</td>\n",
       "      <td>NaN</td>\n",
       "      <td>NaN</td>\n",
       "    </tr>\n",
       "    <tr>\n",
       "      <th>std</th>\n",
       "      <td>0.0</td>\n",
       "      <td>5.037589</td>\n",
       "      <td>NaN</td>\n",
       "      <td>NaN</td>\n",
       "    </tr>\n",
       "    <tr>\n",
       "      <th>min</th>\n",
       "      <td>0.0</td>\n",
       "      <td>-18.178624</td>\n",
       "      <td>NaN</td>\n",
       "      <td>NaN</td>\n",
       "    </tr>\n",
       "    <tr>\n",
       "      <th>25%</th>\n",
       "      <td>0.0</td>\n",
       "      <td>1.358089</td>\n",
       "      <td>NaN</td>\n",
       "      <td>NaN</td>\n",
       "    </tr>\n",
       "    <tr>\n",
       "      <th>50%</th>\n",
       "      <td>0.0</td>\n",
       "      <td>2.870283</td>\n",
       "      <td>NaN</td>\n",
       "      <td>NaN</td>\n",
       "    </tr>\n",
       "    <tr>\n",
       "      <th>75%</th>\n",
       "      <td>0.0</td>\n",
       "      <td>5.106996</td>\n",
       "      <td>NaN</td>\n",
       "      <td>NaN</td>\n",
       "    </tr>\n",
       "    <tr>\n",
       "      <th>max</th>\n",
       "      <td>0.0</td>\n",
       "      <td>36.365622</td>\n",
       "      <td>NaN</td>\n",
       "      <td>NaN</td>\n",
       "    </tr>\n",
       "  </tbody>\n",
       "</table>\n",
       "</div>"
      ],
      "text/plain": [
       "       PowerCode Code       Value  Flag Codes  Flags\n",
       "count           600.0  600.000000         0.0    0.0\n",
       "mean              0.0    3.540973         NaN    NaN\n",
       "std               0.0    5.037589         NaN    NaN\n",
       "min               0.0  -18.178624         NaN    NaN\n",
       "25%               0.0    1.358089         NaN    NaN\n",
       "50%               0.0    2.870283         NaN    NaN\n",
       "75%               0.0    5.106996         NaN    NaN\n",
       "max               0.0   36.365622         NaN    NaN"
      ]
     },
     "metadata": {},
     "output_type": "display_data"
    },
    {
     "name": "stderr",
     "output_type": "stream",
     "text": [
      "C:\\Users\\Kevin Zhu\\AppData\\Local\\Temp\\ipykernel_31704\\2607317412.py:2: FutureWarning:\n",
      "\n",
      "The default value of numeric_only in DataFrame.corr is deprecated. In a future version, it will default to False. Select only valid columns or specify the value of numeric_only to silence this warning.\n",
      "\n"
     ]
    },
    {
     "data": {
      "text/html": [
       "<div>\n",
       "<style scoped>\n",
       "    .dataframe tbody tr th:only-of-type {\n",
       "        vertical-align: middle;\n",
       "    }\n",
       "\n",
       "    .dataframe tbody tr th {\n",
       "        vertical-align: top;\n",
       "    }\n",
       "\n",
       "    .dataframe thead th {\n",
       "        text-align: right;\n",
       "    }\n",
       "</style>\n",
       "<table border=\"1\" class=\"dataframe\">\n",
       "  <thead>\n",
       "    <tr style=\"text-align: right;\">\n",
       "      <th></th>\n",
       "      <th>PowerCode Code</th>\n",
       "      <th>Value</th>\n",
       "      <th>Flag Codes</th>\n",
       "      <th>Flags</th>\n",
       "    </tr>\n",
       "  </thead>\n",
       "  <tbody>\n",
       "    <tr>\n",
       "      <th>PowerCode Code</th>\n",
       "      <td>NaN</td>\n",
       "      <td>NaN</td>\n",
       "      <td>NaN</td>\n",
       "      <td>NaN</td>\n",
       "    </tr>\n",
       "    <tr>\n",
       "      <th>Value</th>\n",
       "      <td>NaN</td>\n",
       "      <td>1.0</td>\n",
       "      <td>NaN</td>\n",
       "      <td>NaN</td>\n",
       "    </tr>\n",
       "    <tr>\n",
       "      <th>Flag Codes</th>\n",
       "      <td>NaN</td>\n",
       "      <td>NaN</td>\n",
       "      <td>NaN</td>\n",
       "      <td>NaN</td>\n",
       "    </tr>\n",
       "    <tr>\n",
       "      <th>Flags</th>\n",
       "      <td>NaN</td>\n",
       "      <td>NaN</td>\n",
       "      <td>NaN</td>\n",
       "      <td>NaN</td>\n",
       "    </tr>\n",
       "  </tbody>\n",
       "</table>\n",
       "</div>"
      ],
      "text/plain": [
       "                PowerCode Code  Value  Flag Codes  Flags\n",
       "PowerCode Code             NaN    NaN         NaN    NaN\n",
       "Value                      NaN    1.0         NaN    NaN\n",
       "Flag Codes                 NaN    NaN         NaN    NaN\n",
       "Flags                      NaN    NaN         NaN    NaN"
      ]
     },
     "metadata": {},
     "output_type": "display_data"
    },
    {
     "name": "stdout",
     "output_type": "stream",
     "text": [
      "<class 'pandas.core.frame.DataFrame'>\n",
      "RangeIndex: 600 entries, 0 to 599\n",
      "Data columns (total 17 columns):\n",
      " #   Column                 Non-Null Count  Dtype  \n",
      "---  ------                 --------------  -----  \n",
      " 0   LOCATION               600 non-null    object \n",
      " 1   Country                600 non-null    object \n",
      " 2   VARIABLE               600 non-null    object \n",
      " 3   Variable               600 non-null    object \n",
      " 4   FREQUENCY              600 non-null    object \n",
      " 5   Frequency              600 non-null    object \n",
      " 6   TIME                   600 non-null    object \n",
      " 7   Time                   600 non-null    object \n",
      " 8   Unit Code              600 non-null    object \n",
      " 9   Unit                   600 non-null    object \n",
      " 10  PowerCode Code         600 non-null    int64  \n",
      " 11  PowerCode              600 non-null    object \n",
      " 12  Reference Period Code  600 non-null    object \n",
      " 13  Reference Period       600 non-null    object \n",
      " 14  Value                  600 non-null    float64\n",
      " 15  Flag Codes             0 non-null      float64\n",
      " 16  Flags                  0 non-null      float64\n",
      "dtypes: float64(3), int64(1), object(13)\n",
      "memory usage: 79.8+ KB\n"
     ]
    },
    {
     "data": {
      "text/plain": [
       "None"
      ]
     },
     "metadata": {},
     "output_type": "display_data"
    }
   ],
   "source": [
    "display(gdp_growth_df.describe())\n",
    "display(gdp_growth_df.corr())\n",
    "display(gdp_growth_df.info())"
   ]
  },
  {
   "cell_type": "markdown",
   "metadata": {},
   "source": [
    "Showing descriptive statistics, correlation, and information about the dataset that holds quarterly gdp growth from each country, starting from first quarter of 2019 to the projected GDP growth in 2023. No correlations are found in this dataset due to seeing missing data on all integer columns except the value column itself. I can change either \"Time\" or \"TIME\" column to date/time data type if I'm going to use them for a graph or other visualization. \"Flag Codes\" and \"Flags\" columns are empty so they will be removed."
   ]
  },
  {
   "cell_type": "code",
   "execution_count": 10,
   "metadata": {},
   "outputs": [],
   "source": [
    "gdp_growth_df.drop(columns=['Flag Codes', 'Flags'], inplace=True)\n",
    "gdp_growth_df['TIME'] = pd.to_datetime(gdp_growth_df['TIME'])"
   ]
  },
  {
   "cell_type": "markdown",
   "metadata": {},
   "source": [
    "Removing empty \"Flag Codes\" and \"Flags\" columns and changed \"TIME\" column to datetime data type. The \"TIME\" column will be used to show the time progression of GDP growth in each country and understand its impact from COVID-19 pandemic."
   ]
  },
  {
   "cell_type": "code",
   "execution_count": 11,
   "metadata": {},
   "outputs": [
    {
     "data": {
      "application/vnd.plotly.v1+json": {
       "config": {
        "plotlyServerURL": "https://plot.ly"
       },
       "data": [
        {
         "hovertemplate": "Country=Italy<br>TIME=%{x}<br>GDP Growth (%)=%{y}<extra></extra>",
         "legendgroup": "Italy",
         "line": {
          "color": "#636efa",
          "dash": "solid"
         },
         "marker": {
          "symbol": "circle"
         },
         "mode": "lines",
         "name": "Italy",
         "orientation": "v",
         "showlegend": true,
         "type": "scatter",
         "x": [
          "2019-01-01T00:00:00",
          "2019-04-01T00:00:00",
          "2019-07-01T00:00:00",
          "2019-10-01T00:00:00",
          "2020-01-01T00:00:00",
          "2020-04-01T00:00:00",
          "2020-07-01T00:00:00",
          "2020-10-01T00:00:00",
          "2021-01-01T00:00:00",
          "2021-04-01T00:00:00",
          "2021-07-01T00:00:00",
          "2021-10-01T00:00:00",
          "2022-01-01T00:00:00",
          "2022-04-01T00:00:00",
          "2022-07-01T00:00:00",
          "2022-10-01T00:00:00",
          "2023-01-01T00:00:00",
          "2023-04-01T00:00:00",
          "2023-07-01T00:00:00",
          "2023-10-01T00:00:00"
         ],
         "xaxis": "x",
         "y": [
          1.7151344203,
          0.5073973482,
          1.1963575859,
          2.831506457,
          -0.3879281139,
          5.2707900976,
          -2.4331235807,
          1.9207374891,
          -0.0395515051,
          1.236121768,
          -0.0456118144,
          -1.9636961666,
          5.7599013646,
          5.0547737093,
          4.9343372443,
          3.6976332623,
          2.6875613683,
          2.541586342,
          2.7354772305,
          2.7336174974
         ],
         "yaxis": "y"
        },
        {
         "hovertemplate": "Country=Korea<br>TIME=%{x}<br>GDP Growth (%)=%{y}<extra></extra>",
         "legendgroup": "Korea",
         "line": {
          "color": "#EF553B",
          "dash": "solid"
         },
         "marker": {
          "symbol": "circle"
         },
         "mode": "lines",
         "name": "Korea",
         "orientation": "v",
         "showlegend": true,
         "type": "scatter",
         "x": [
          "2019-01-01T00:00:00",
          "2019-04-01T00:00:00",
          "2019-07-01T00:00:00",
          "2019-10-01T00:00:00",
          "2020-01-01T00:00:00",
          "2020-04-01T00:00:00",
          "2020-07-01T00:00:00",
          "2020-10-01T00:00:00",
          "2021-01-01T00:00:00",
          "2021-04-01T00:00:00",
          "2021-07-01T00:00:00",
          "2021-10-01T00:00:00",
          "2022-01-01T00:00:00",
          "2022-04-01T00:00:00",
          "2022-07-01T00:00:00",
          "2022-10-01T00:00:00",
          "2023-01-01T00:00:00",
          "2023-04-01T00:00:00",
          "2023-07-01T00:00:00",
          "2023-10-01T00:00:00"
         ],
         "xaxis": "x",
         "y": [
          -1.815986405,
          1.4160112932,
          -0.9798869657,
          -2.1754610257,
          -0.2898998262,
          9.2923536737,
          1.4649937101,
          -0.4065695258,
          0.4669589445,
          4.7481158448,
          4.3035084921,
          1.4610027599,
          3.3783485574,
          3.4758439123,
          2.1199300088,
          2.8264593273,
          2.35687143,
          1.7710257438,
          1.386864627,
          2.4421841489
         ],
         "yaxis": "y"
        },
        {
         "hovertemplate": "Country=Germany<br>TIME=%{x}<br>GDP Growth (%)=%{y}<extra></extra>",
         "legendgroup": "Germany",
         "line": {
          "color": "#00cc96",
          "dash": "solid"
         },
         "marker": {
          "symbol": "circle"
         },
         "mode": "lines",
         "name": "Germany",
         "orientation": "v",
         "showlegend": true,
         "type": "scatter",
         "x": [
          "2019-01-01T00:00:00",
          "2019-04-01T00:00:00",
          "2019-07-01T00:00:00",
          "2019-10-01T00:00:00",
          "2020-01-01T00:00:00",
          "2020-04-01T00:00:00",
          "2020-07-01T00:00:00",
          "2020-10-01T00:00:00",
          "2021-01-01T00:00:00",
          "2021-04-01T00:00:00",
          "2021-07-01T00:00:00",
          "2021-10-01T00:00:00",
          "2022-01-01T00:00:00",
          "2022-04-01T00:00:00",
          "2022-07-01T00:00:00",
          "2022-10-01T00:00:00",
          "2023-01-01T00:00:00",
          "2023-04-01T00:00:00",
          "2023-07-01T00:00:00",
          "2023-10-01T00:00:00"
         ],
         "xaxis": "x",
         "y": [
          0.1259690736,
          2.6830960394,
          2.3746062511,
          3.0844552959,
          1.6692470809,
          2.6235037894,
          -3.5208388174,
          1.7248609013,
          6.7406005307,
          -0.6038038087,
          9.6503010062,
          4.2292496367,
          2.493878616,
          13.0841143395,
          7.1853434869,
          4.4883680079,
          3.5986992662,
          3.0193822348,
          2.5526119713,
          2.2892023304
         ],
         "yaxis": "y"
        },
        {
         "hovertemplate": "Country=Spain<br>TIME=%{x}<br>GDP Growth (%)=%{y}<extra></extra>",
         "legendgroup": "Spain",
         "line": {
          "color": "#ab63fa",
          "dash": "solid"
         },
         "marker": {
          "symbol": "circle"
         },
         "mode": "lines",
         "name": "Spain",
         "orientation": "v",
         "showlegend": true,
         "type": "scatter",
         "x": [
          "2019-01-01T00:00:00",
          "2019-04-01T00:00:00",
          "2019-07-01T00:00:00",
          "2019-10-01T00:00:00",
          "2020-01-01T00:00:00",
          "2020-04-01T00:00:00",
          "2020-07-01T00:00:00",
          "2020-10-01T00:00:00",
          "2021-01-01T00:00:00",
          "2021-04-01T00:00:00",
          "2021-07-01T00:00:00",
          "2021-10-01T00:00:00",
          "2022-01-01T00:00:00",
          "2022-04-01T00:00:00",
          "2022-07-01T00:00:00",
          "2022-10-01T00:00:00",
          "2023-01-01T00:00:00",
          "2023-04-01T00:00:00",
          "2023-07-01T00:00:00",
          "2023-10-01T00:00:00"
         ],
         "xaxis": "x",
         "y": [
          0.2092558222,
          1.4495485205,
          0.7597970848,
          2.7682342774,
          -1.8702589842,
          2.6082368329,
          2.836328771,
          0.6742250861,
          -1.1083337184,
          1.6997532008,
          6.645154391,
          10.2991206176,
          -3.430005588,
          5.1757702759,
          6.0829606908,
          4.3165602409,
          5.0087537498,
          4.1092357677,
          3.5285200744,
          3.3514305959
         ],
         "yaxis": "y"
        },
        {
         "hovertemplate": "Country=Netherlands<br>TIME=%{x}<br>GDP Growth (%)=%{y}<extra></extra>",
         "legendgroup": "Netherlands",
         "line": {
          "color": "#FFA15A",
          "dash": "solid"
         },
         "marker": {
          "symbol": "circle"
         },
         "mode": "lines",
         "name": "Netherlands",
         "orientation": "v",
         "showlegend": true,
         "type": "scatter",
         "x": [
          "2019-01-01T00:00:00",
          "2019-04-01T00:00:00",
          "2019-07-01T00:00:00",
          "2019-10-01T00:00:00",
          "2020-01-01T00:00:00",
          "2020-04-01T00:00:00",
          "2020-07-01T00:00:00",
          "2020-10-01T00:00:00",
          "2021-01-01T00:00:00",
          "2021-04-01T00:00:00",
          "2021-07-01T00:00:00",
          "2021-10-01T00:00:00",
          "2022-01-01T00:00:00",
          "2022-04-01T00:00:00",
          "2022-07-01T00:00:00",
          "2022-10-01T00:00:00",
          "2023-01-01T00:00:00",
          "2023-04-01T00:00:00",
          "2023-07-01T00:00:00",
          "2023-10-01T00:00:00"
         ],
         "xaxis": "x",
         "y": [
          4.7657401002,
          1.8182292635,
          2.7700401984,
          2.5668856689,
          2.038818818,
          -0.2140770935,
          4.8556118257,
          4.2369610353,
          0.7039880569,
          -0.8028353542,
          7.5851544336,
          1.2427463779,
          7.7915322947,
          5.9975458947,
          2.0366874909,
          2.133623719,
          4.9289798418,
          4.0537383139,
          3.6441323238,
          3.3829598735
         ],
         "yaxis": "y"
        },
        {
         "hovertemplate": "Country=Portugal<br>TIME=%{x}<br>GDP Growth (%)=%{y}<extra></extra>",
         "legendgroup": "Portugal",
         "line": {
          "color": "#19d3f3",
          "dash": "solid"
         },
         "marker": {
          "symbol": "circle"
         },
         "mode": "lines",
         "name": "Portugal",
         "orientation": "v",
         "showlegend": true,
         "type": "scatter",
         "x": [
          "2019-01-01T00:00:00",
          "2019-04-01T00:00:00",
          "2019-07-01T00:00:00",
          "2019-10-01T00:00:00",
          "2020-01-01T00:00:00",
          "2020-04-01T00:00:00",
          "2020-07-01T00:00:00",
          "2020-10-01T00:00:00",
          "2021-01-01T00:00:00",
          "2021-04-01T00:00:00",
          "2021-07-01T00:00:00",
          "2021-10-01T00:00:00",
          "2022-01-01T00:00:00",
          "2022-04-01T00:00:00",
          "2022-07-01T00:00:00",
          "2022-10-01T00:00:00",
          "2023-01-01T00:00:00",
          "2023-04-01T00:00:00",
          "2023-07-01T00:00:00",
          "2023-10-01T00:00:00"
         ],
         "xaxis": "x",
         "y": [
          4.1465818363,
          -0.4573360804,
          2.9739529664,
          0.0623877755,
          3.7416085657,
          8.27233272,
          -6.2518277129,
          0.3136081986,
          6.4564640752,
          -3.489155485,
          0.5306477316,
          -1.141298874,
          7.4701067231,
          9.8886588589,
          2.5404890404,
          2.2954697324,
          3.6768674089,
          2.2727722146,
          1.2514925106,
          0.58083359
         ],
         "yaxis": "y"
        },
        {
         "hovertemplate": "Country=Canada<br>TIME=%{x}<br>GDP Growth (%)=%{y}<extra></extra>",
         "legendgroup": "Canada",
         "line": {
          "color": "#FF6692",
          "dash": "solid"
         },
         "marker": {
          "symbol": "circle"
         },
         "mode": "lines",
         "name": "Canada",
         "orientation": "v",
         "showlegend": true,
         "type": "scatter",
         "x": [
          "2019-01-01T00:00:00",
          "2019-04-01T00:00:00",
          "2019-07-01T00:00:00",
          "2019-10-01T00:00:00",
          "2020-01-01T00:00:00",
          "2020-04-01T00:00:00",
          "2020-07-01T00:00:00",
          "2020-10-01T00:00:00",
          "2021-01-01T00:00:00",
          "2021-04-01T00:00:00",
          "2021-07-01T00:00:00",
          "2021-10-01T00:00:00",
          "2022-01-01T00:00:00",
          "2022-04-01T00:00:00",
          "2022-07-01T00:00:00",
          "2022-10-01T00:00:00",
          "2023-01-01T00:00:00",
          "2023-04-01T00:00:00",
          "2023-07-01T00:00:00",
          "2023-10-01T00:00:00"
         ],
         "xaxis": "x",
         "y": [
          5.2849087758,
          3.7893796017,
          0.016842126,
          3.6163155666,
          -4.1876635649,
          -2.8820762969,
          9.0990940108,
          5.5088435443,
          12.7029317457,
          9.9158331169,
          5.0027500741,
          8.0948068313,
          12.2272089485,
          9.7760260878,
          4.5770265759,
          2.5656214848,
          8.0654310365,
          1.9143494187,
          1.6520190194,
          1.6235444019
         ],
         "yaxis": "y"
        },
        {
         "hovertemplate": "Country=New Zealand<br>TIME=%{x}<br>GDP Growth (%)=%{y}<extra></extra>",
         "legendgroup": "New Zealand",
         "line": {
          "color": "#B6E880",
          "dash": "solid"
         },
         "marker": {
          "symbol": "circle"
         },
         "mode": "lines",
         "name": "New Zealand",
         "orientation": "v",
         "showlegend": true,
         "type": "scatter",
         "x": [
          "2019-01-01T00:00:00",
          "2019-04-01T00:00:00",
          "2019-07-01T00:00:00",
          "2019-10-01T00:00:00",
          "2020-01-01T00:00:00",
          "2020-04-01T00:00:00",
          "2020-07-01T00:00:00",
          "2020-10-01T00:00:00",
          "2021-01-01T00:00:00",
          "2021-04-01T00:00:00",
          "2021-07-01T00:00:00",
          "2021-10-01T00:00:00",
          "2022-01-01T00:00:00",
          "2022-04-01T00:00:00",
          "2022-07-01T00:00:00",
          "2022-10-01T00:00:00",
          "2023-01-01T00:00:00",
          "2023-04-01T00:00:00",
          "2023-07-01T00:00:00",
          "2023-10-01T00:00:00"
         ],
         "xaxis": "x",
         "y": [
          4.0109615956,
          3.9930813952,
          4.3534859847,
          1.9927621386,
          5.3748458699,
          -1.7861940159,
          1.5642012465,
          -2.0780527211,
          4.0343287806,
          5.9548933734,
          7.3175445015,
          2.5285394716,
          4.7492222751,
          1.1382683417,
          1.792099094,
          2.8868598845,
          3.937550993,
          4.2676368102,
          4.2768901751,
          3.625463807
         ],
         "yaxis": "y"
        },
        {
         "hovertemplate": "Country=Estonia<br>TIME=%{x}<br>GDP Growth (%)=%{y}<extra></extra>",
         "legendgroup": "Estonia",
         "line": {
          "color": "#FF97FF",
          "dash": "solid"
         },
         "marker": {
          "symbol": "circle"
         },
         "mode": "lines",
         "name": "Estonia",
         "orientation": "v",
         "showlegend": true,
         "type": "scatter",
         "x": [
          "2019-01-01T00:00:00",
          "2019-04-01T00:00:00",
          "2019-07-01T00:00:00",
          "2019-10-01T00:00:00",
          "2020-01-01T00:00:00",
          "2020-04-01T00:00:00",
          "2020-07-01T00:00:00",
          "2020-10-01T00:00:00",
          "2021-01-01T00:00:00",
          "2021-04-01T00:00:00",
          "2021-07-01T00:00:00",
          "2021-10-01T00:00:00",
          "2022-01-01T00:00:00",
          "2022-04-01T00:00:00",
          "2022-07-01T00:00:00",
          "2022-10-01T00:00:00",
          "2023-01-01T00:00:00",
          "2023-04-01T00:00:00",
          "2023-07-01T00:00:00",
          "2023-10-01T00:00:00"
         ],
         "xaxis": "x",
         "y": [
          3.3199872874,
          2.8016537627,
          -0.5444008609,
          1.4613770997,
          -3.9454956939,
          -6.7887335283,
          10.651232012,
          1.2144448952,
          2.1950959528,
          3.9632639013,
          16.4845737595,
          15.8212038784,
          2.7676776429,
          2.388701788,
          2.0808857101,
          2.0716216884,
          4.09918589,
          3.0587141099,
          1.9758482431,
          1.9850017768
         ],
         "yaxis": "y"
        },
        {
         "hovertemplate": "Country=Ireland<br>TIME=%{x}<br>GDP Growth (%)=%{y}<extra></extra>",
         "legendgroup": "Ireland",
         "line": {
          "color": "#FECB52",
          "dash": "solid"
         },
         "marker": {
          "symbol": "circle"
         },
         "mode": "lines",
         "name": "Ireland",
         "orientation": "v",
         "showlegend": true,
         "type": "scatter",
         "x": [
          "2019-01-01T00:00:00",
          "2019-04-01T00:00:00",
          "2019-07-01T00:00:00",
          "2019-10-01T00:00:00",
          "2020-01-01T00:00:00",
          "2020-04-01T00:00:00",
          "2020-07-01T00:00:00",
          "2020-10-01T00:00:00",
          "2021-01-01T00:00:00",
          "2021-04-01T00:00:00",
          "2021-07-01T00:00:00",
          "2021-10-01T00:00:00",
          "2022-01-01T00:00:00",
          "2022-04-01T00:00:00",
          "2022-07-01T00:00:00",
          "2022-10-01T00:00:00",
          "2023-01-01T00:00:00",
          "2023-04-01T00:00:00",
          "2023-07-01T00:00:00",
          "2023-10-01T00:00:00"
         ],
         "xaxis": "x",
         "y": [
          13.8371713635,
          1.8669073861,
          3.7772929164,
          3.2135752326,
          -4.308233142,
          -6.1151317653,
          -2.5902627804,
          2.7433275047,
          -7.1459514099,
          2.4100701837,
          7.826259639,
          5.9387508415,
          2.9337834814,
          4.6890206403,
          3.8001409862,
          3.0904374099,
          3.5221282111,
          2.1326468082,
          1.8805036485,
          1.5038671366
         ],
         "yaxis": "y"
        },
        {
         "hovertemplate": "Country=Greece<br>TIME=%{x}<br>GDP Growth (%)=%{y}<extra></extra>",
         "legendgroup": "Greece",
         "line": {
          "color": "#636efa",
          "dash": "solid"
         },
         "marker": {
          "symbol": "circle"
         },
         "mode": "lines",
         "name": "Greece",
         "orientation": "v",
         "showlegend": true,
         "type": "scatter",
         "x": [
          "2019-01-01T00:00:00",
          "2019-04-01T00:00:00",
          "2019-07-01T00:00:00",
          "2019-10-01T00:00:00",
          "2020-01-01T00:00:00",
          "2020-04-01T00:00:00",
          "2020-07-01T00:00:00",
          "2020-10-01T00:00:00",
          "2021-01-01T00:00:00",
          "2021-04-01T00:00:00",
          "2021-07-01T00:00:00",
          "2021-10-01T00:00:00",
          "2022-01-01T00:00:00",
          "2022-04-01T00:00:00",
          "2022-07-01T00:00:00",
          "2022-10-01T00:00:00",
          "2023-01-01T00:00:00",
          "2023-04-01T00:00:00",
          "2023-07-01T00:00:00",
          "2023-10-01T00:00:00"
         ],
         "xaxis": "x",
         "y": [
          2.7169614248,
          -0.2952791671,
          -3.9311706382,
          -0.891373878,
          3.4114100355,
          -5.4075803853,
          3.0814726336,
          -5.4233912371,
          4.0240145284,
          7.5877026519,
          1.3114410025,
          8.9962023983,
          2.8830514642,
          10.5301450324,
          1.3696160743,
          4.287101009,
          4.9612330361,
          2.7274545831,
          2.1894552036,
          2.2000695171
         ],
         "yaxis": "y"
        },
        {
         "hovertemplate": "Country=United Kingdom<br>TIME=%{x}<br>GDP Growth (%)=%{y}<extra></extra>",
         "legendgroup": "United Kingdom",
         "line": {
          "color": "#EF553B",
          "dash": "solid"
         },
         "marker": {
          "symbol": "circle"
         },
         "mode": "lines",
         "name": "United Kingdom",
         "orientation": "v",
         "showlegend": true,
         "type": "scatter",
         "x": [
          "2019-01-01T00:00:00",
          "2019-04-01T00:00:00",
          "2019-07-01T00:00:00",
          "2019-10-01T00:00:00",
          "2020-01-01T00:00:00",
          "2020-04-01T00:00:00",
          "2020-07-01T00:00:00",
          "2020-10-01T00:00:00",
          "2021-01-01T00:00:00",
          "2021-04-01T00:00:00",
          "2021-07-01T00:00:00",
          "2021-10-01T00:00:00",
          "2022-01-01T00:00:00",
          "2022-04-01T00:00:00",
          "2022-07-01T00:00:00",
          "2022-10-01T00:00:00",
          "2023-01-01T00:00:00",
          "2023-04-01T00:00:00",
          "2023-07-01T00:00:00",
          "2023-10-01T00:00:00"
         ],
         "xaxis": "x",
         "y": [
          2.126088768,
          2.5234775032,
          3.1467985599,
          -0.0461903889,
          5.6263004819,
          35.5484314322,
          -18.1786237337,
          0.7914714476,
          5.2549980804,
          -7.3548167115,
          2.4988084954,
          6.820978311,
          7.2336759133,
          10.1432726801,
          3.7776759122,
          7.6064543395,
          2.9821492153,
          7.7961952736,
          1.5507278033,
          0.7675334185
         ],
         "yaxis": "y"
        },
        {
         "hovertemplate": "Country=Finland<br>TIME=%{x}<br>GDP Growth (%)=%{y}<extra></extra>",
         "legendgroup": "Finland",
         "line": {
          "color": "#00cc96",
          "dash": "solid"
         },
         "marker": {
          "symbol": "circle"
         },
         "mode": "lines",
         "name": "Finland",
         "orientation": "v",
         "showlegend": true,
         "type": "scatter",
         "x": [
          "2019-01-01T00:00:00",
          "2019-04-01T00:00:00",
          "2019-07-01T00:00:00",
          "2019-10-01T00:00:00",
          "2020-01-01T00:00:00",
          "2020-04-01T00:00:00",
          "2020-07-01T00:00:00",
          "2020-10-01T00:00:00",
          "2021-01-01T00:00:00",
          "2021-04-01T00:00:00",
          "2021-07-01T00:00:00",
          "2021-10-01T00:00:00",
          "2022-01-01T00:00:00",
          "2022-04-01T00:00:00",
          "2022-07-01T00:00:00",
          "2022-10-01T00:00:00",
          "2023-01-01T00:00:00",
          "2023-04-01T00:00:00",
          "2023-07-01T00:00:00",
          "2023-10-01T00:00:00"
         ],
         "xaxis": "x",
         "y": [
          -0.9274953637,
          1.4911585522,
          1.6176647888,
          2.415244546,
          3.379638725,
          1.8448289645,
          -2.5780249854,
          -0.5101893359,
          4.7580605632,
          4.2994041369,
          5.3602384334,
          5.6433083393,
          4.5297050287,
          10.1884595233,
          4.2785932744,
          3.295551103,
          1.3027965938,
          4.5679242229,
          4.1407839295,
          4.125976481
         ],
         "yaxis": "y"
        },
        {
         "hovertemplate": "Country=Sweden<br>TIME=%{x}<br>GDP Growth (%)=%{y}<extra></extra>",
         "legendgroup": "Sweden",
         "line": {
          "color": "#ab63fa",
          "dash": "solid"
         },
         "marker": {
          "symbol": "circle"
         },
         "mode": "lines",
         "name": "Sweden",
         "orientation": "v",
         "showlegend": true,
         "type": "scatter",
         "x": [
          "2019-01-01T00:00:00",
          "2019-04-01T00:00:00",
          "2019-07-01T00:00:00",
          "2019-10-01T00:00:00",
          "2020-01-01T00:00:00",
          "2020-04-01T00:00:00",
          "2020-07-01T00:00:00",
          "2020-10-01T00:00:00",
          "2021-01-01T00:00:00",
          "2021-04-01T00:00:00",
          "2021-07-01T00:00:00",
          "2021-10-01T00:00:00",
          "2022-01-01T00:00:00",
          "2022-04-01T00:00:00",
          "2022-07-01T00:00:00",
          "2022-10-01T00:00:00",
          "2023-01-01T00:00:00",
          "2023-04-01T00:00:00",
          "2023-07-01T00:00:00",
          "2023-10-01T00:00:00"
         ],
         "xaxis": "x",
         "y": [
          5.2150559913,
          1.3866295766,
          0.2687700914,
          2.3587592439,
          4.4781060692,
          4.210490294,
          -6.1742030108,
          6.4963734949,
          4.4050159561,
          1.702537041,
          3.4800429118,
          8.7176831882,
          2.6359212359,
          14.3866303379,
          1.3235073874,
          6.5287009485,
          -0.270894264,
          11.6566185828,
          -0.7768156004,
          4.5782327022
         ],
         "yaxis": "y"
        },
        {
         "hovertemplate": "Country=Austria<br>TIME=%{x}<br>GDP Growth (%)=%{y}<extra></extra>",
         "legendgroup": "Austria",
         "line": {
          "color": "#FFA15A",
          "dash": "solid"
         },
         "marker": {
          "symbol": "circle"
         },
         "mode": "lines",
         "name": "Austria",
         "orientation": "v",
         "showlegend": true,
         "type": "scatter",
         "x": [
          "2019-01-01T00:00:00",
          "2019-04-01T00:00:00",
          "2019-07-01T00:00:00",
          "2019-10-01T00:00:00",
          "2020-01-01T00:00:00",
          "2020-04-01T00:00:00",
          "2020-07-01T00:00:00",
          "2020-10-01T00:00:00",
          "2021-01-01T00:00:00",
          "2021-04-01T00:00:00",
          "2021-07-01T00:00:00",
          "2021-10-01T00:00:00",
          "2022-01-01T00:00:00",
          "2022-04-01T00:00:00",
          "2022-07-01T00:00:00",
          "2022-10-01T00:00:00",
          "2023-01-01T00:00:00",
          "2023-04-01T00:00:00",
          "2023-07-01T00:00:00",
          "2023-10-01T00:00:00"
         ],
         "xaxis": "x",
         "y": [
          0.8905597799,
          1.549700635,
          2.878386444,
          1.9138977103,
          1.0908870301,
          6.5136876047,
          -0.0111201848,
          0.2707621968,
          1.4955199959,
          2.0263445562,
          3.8895947205,
          0.5028016642,
          0.1603782788,
          10.8410466548,
          4.8389384495,
          2.621190133,
          5.0585342909,
          1.4014489113,
          0.7652816705,
          0.2608192786
         ],
         "yaxis": "y"
        },
        {
         "hovertemplate": "Country=Norway<br>TIME=%{x}<br>GDP Growth (%)=%{y}<extra></extra>",
         "legendgroup": "Norway",
         "line": {
          "color": "#19d3f3",
          "dash": "solid"
         },
         "marker": {
          "symbol": "circle"
         },
         "mode": "lines",
         "name": "Norway",
         "orientation": "v",
         "showlegend": true,
         "type": "scatter",
         "x": [
          "2019-01-01T00:00:00",
          "2019-04-01T00:00:00",
          "2019-07-01T00:00:00",
          "2019-10-01T00:00:00",
          "2020-01-01T00:00:00",
          "2020-04-01T00:00:00",
          "2020-07-01T00:00:00",
          "2020-10-01T00:00:00",
          "2021-01-01T00:00:00",
          "2021-04-01T00:00:00",
          "2021-07-01T00:00:00",
          "2021-10-01T00:00:00",
          "2022-01-01T00:00:00",
          "2022-04-01T00:00:00",
          "2022-07-01T00:00:00",
          "2022-10-01T00:00:00",
          "2023-01-01T00:00:00",
          "2023-04-01T00:00:00",
          "2023-07-01T00:00:00",
          "2023-10-01T00:00:00"
         ],
         "xaxis": "x",
         "y": [
          -6.06643766,
          -0.9531407727,
          -2.4519270014,
          1.877954295,
          -7.1817077869,
          -17.3918012475,
          11.5869884662,
          6.1622601734,
          21.4448587107,
          19.1595191314,
          36.3656220842,
          36.0544333768,
          29.3204782509,
          7.7264446401,
          2.8870214844,
          3.4833120013,
          0.6265526994,
          0.4200066013,
          -0.7880262454,
          -0.8070604296
         ],
         "yaxis": "y"
        },
        {
         "hovertemplate": "Country=Chile<br>TIME=%{x}<br>GDP Growth (%)=%{y}<extra></extra>",
         "legendgroup": "Chile",
         "line": {
          "color": "#FF6692",
          "dash": "solid"
         },
         "marker": {
          "symbol": "circle"
         },
         "mode": "lines",
         "name": "Chile",
         "orientation": "v",
         "showlegend": true,
         "type": "scatter",
         "x": [
          "2019-01-01T00:00:00",
          "2019-04-01T00:00:00",
          "2019-07-01T00:00:00",
          "2019-10-01T00:00:00",
          "2020-01-01T00:00:00",
          "2020-04-01T00:00:00",
          "2020-07-01T00:00:00",
          "2020-10-01T00:00:00",
          "2021-01-01T00:00:00",
          "2021-04-01T00:00:00",
          "2021-07-01T00:00:00",
          "2021-10-01T00:00:00",
          "2022-01-01T00:00:00",
          "2022-04-01T00:00:00",
          "2022-07-01T00:00:00",
          "2022-10-01T00:00:00",
          "2023-01-01T00:00:00",
          "2023-04-01T00:00:00",
          "2023-07-01T00:00:00",
          "2023-10-01T00:00:00"
         ],
         "xaxis": "x",
         "y": [
          2.9334295405,
          -1.0173141246,
          5.4170631311,
          9.0314484633,
          6.1499154966,
          19.7290713485,
          4.7964409158,
          11.5793020314,
          1.8525251276,
          10.0311425105,
          7.8013763036,
          4.8820285249,
          12.7855332621,
          7.6459323843,
          7.778377758,
          4.3427472821,
          4.4814221068,
          3.933304832,
          3.283060359,
          3.5222092565
         ],
         "yaxis": "y"
        },
        {
         "hovertemplate": "Country=Mexico<br>TIME=%{x}<br>GDP Growth (%)=%{y}<extra></extra>",
         "legendgroup": "Mexico",
         "line": {
          "color": "#B6E880",
          "dash": "solid"
         },
         "marker": {
          "symbol": "circle"
         },
         "mode": "lines",
         "name": "Mexico",
         "orientation": "v",
         "showlegend": true,
         "type": "scatter",
         "x": [
          "2019-01-01T00:00:00",
          "2019-04-01T00:00:00",
          "2019-07-01T00:00:00",
          "2019-10-01T00:00:00",
          "2020-01-01T00:00:00",
          "2020-04-01T00:00:00",
          "2020-07-01T00:00:00",
          "2020-10-01T00:00:00",
          "2021-01-01T00:00:00",
          "2021-04-01T00:00:00",
          "2021-07-01T00:00:00",
          "2021-10-01T00:00:00",
          "2022-01-01T00:00:00",
          "2022-04-01T00:00:00",
          "2022-07-01T00:00:00",
          "2022-10-01T00:00:00",
          "2023-01-01T00:00:00",
          "2023-04-01T00:00:00",
          "2023-07-01T00:00:00",
          "2023-10-01T00:00:00"
         ],
         "xaxis": "x",
         "y": [
          3.500414827,
          4.916042477,
          3.7943618631,
          1.2046707314,
          6.6785335182,
          -4.7985118669,
          17.748796181,
          2.0111599915,
          7.966126252,
          7.6854700559,
          9.0453411807,
          6.9197309115,
          6.8405867027,
          7.2357064341,
          5.9579852732,
          4.665187203,
          3.7134607726,
          3.5613063853,
          3.2749133851,
          3.2860399325
         ],
         "yaxis": "y"
        },
        {
         "hovertemplate": "Country=Japan<br>TIME=%{x}<br>GDP Growth (%)=%{y}<extra></extra>",
         "legendgroup": "Japan",
         "line": {
          "color": "#FF97FF",
          "dash": "solid"
         },
         "marker": {
          "symbol": "circle"
         },
         "mode": "lines",
         "name": "Japan",
         "orientation": "v",
         "showlegend": true,
         "type": "scatter",
         "x": [
          "2019-01-01T00:00:00",
          "2019-04-01T00:00:00",
          "2019-07-01T00:00:00",
          "2019-10-01T00:00:00",
          "2020-01-01T00:00:00",
          "2020-04-01T00:00:00",
          "2020-07-01T00:00:00",
          "2020-10-01T00:00:00",
          "2021-01-01T00:00:00",
          "2021-04-01T00:00:00",
          "2021-07-01T00:00:00",
          "2021-10-01T00:00:00",
          "2022-01-01T00:00:00",
          "2022-04-01T00:00:00",
          "2022-07-01T00:00:00",
          "2022-10-01T00:00:00",
          "2023-01-01T00:00:00",
          "2023-04-01T00:00:00",
          "2023-07-01T00:00:00",
          "2023-10-01T00:00:00"
         ],
         "xaxis": "x",
         "y": [
          2.0000604201,
          1.0488930762,
          -0.0985961025,
          2.8635618106,
          0.0539513423,
          2.3627163927,
          -0.2963421426,
          -1.5271580859,
          -1.1840605109,
          -0.7472061095,
          -1.0634026046,
          -2.5594361292,
          1.4250843085,
          2.0897577561,
          1.8865925743,
          1.5769050942,
          1.9579390977,
          1.5960698202,
          1.3800063085,
          1.0414743863
         ],
         "yaxis": "y"
        },
        {
         "hovertemplate": "Country=Iceland<br>TIME=%{x}<br>GDP Growth (%)=%{y}<extra></extra>",
         "legendgroup": "Iceland",
         "line": {
          "color": "#FECB52",
          "dash": "solid"
         },
         "marker": {
          "symbol": "circle"
         },
         "mode": "lines",
         "name": "Iceland",
         "orientation": "v",
         "showlegend": true,
         "type": "scatter",
         "x": [
          "2019-01-01T00:00:00",
          "2019-04-01T00:00:00",
          "2019-07-01T00:00:00",
          "2019-10-01T00:00:00",
          "2020-01-01T00:00:00",
          "2020-04-01T00:00:00",
          "2020-07-01T00:00:00",
          "2020-10-01T00:00:00",
          "2021-01-01T00:00:00",
          "2021-04-01T00:00:00",
          "2021-07-01T00:00:00",
          "2021-10-01T00:00:00",
          "2022-01-01T00:00:00",
          "2022-04-01T00:00:00",
          "2022-07-01T00:00:00",
          "2022-10-01T00:00:00",
          "2023-01-01T00:00:00",
          "2023-04-01T00:00:00",
          "2023-07-01T00:00:00",
          "2023-10-01T00:00:00"
         ],
         "xaxis": "x",
         "y": [
          -2.3326073192,
          19.3488086037,
          3.1732793588,
          -3.1838075704,
          1.4252609772,
          9.0555711744,
          6.867429636,
          -2.8204559779,
          9.3295339189,
          2.3929925979,
          15.1066822657,
          4.8823747703,
          13.8509062362,
          2.3348483863,
          1.9167328137,
          2.3055772819,
          2.8966851502,
          2.8252863091,
          2.8681791319,
          2.5537599464
         ],
         "yaxis": "y"
        },
        {
         "hovertemplate": "Country=Australia<br>TIME=%{x}<br>GDP Growth (%)=%{y}<extra></extra>",
         "legendgroup": "Australia",
         "line": {
          "color": "#636efa",
          "dash": "solid"
         },
         "marker": {
          "symbol": "circle"
         },
         "mode": "lines",
         "name": "Australia",
         "orientation": "v",
         "showlegend": true,
         "type": "scatter",
         "x": [
          "2019-01-01T00:00:00",
          "2019-04-01T00:00:00",
          "2019-07-01T00:00:00",
          "2019-10-01T00:00:00",
          "2020-01-01T00:00:00",
          "2020-04-01T00:00:00",
          "2020-07-01T00:00:00",
          "2020-10-01T00:00:00",
          "2021-01-01T00:00:00",
          "2021-04-01T00:00:00",
          "2021-07-01T00:00:00",
          "2021-10-01T00:00:00",
          "2022-01-01T00:00:00",
          "2022-04-01T00:00:00",
          "2022-07-01T00:00:00",
          "2022-10-01T00:00:00",
          "2023-01-01T00:00:00",
          "2023-04-01T00:00:00",
          "2023-07-01T00:00:00",
          "2023-10-01T00:00:00"
         ],
         "xaxis": "x",
         "y": [
          3.3780917475,
          4.0993780206,
          3.2157988471,
          -2.0499940198,
          2.0230310687,
          -2.9796898543,
          3.7185999197,
          4.2143356202,
          7.7924881445,
          9.798494124,
          4.9868846061,
          -0.3650288135,
          12.2948978172,
          3.7072947587,
          2.9167805552,
          3.2839326867,
          2.5046098445,
          2.5046741307,
          2.1019357509,
          2.1973183908
         ],
         "yaxis": "y"
        },
        {
         "hovertemplate": "Country=United States<br>TIME=%{x}<br>GDP Growth (%)=%{y}<extra></extra>",
         "legendgroup": "United States",
         "line": {
          "color": "#EF553B",
          "dash": "solid"
         },
         "marker": {
          "symbol": "circle"
         },
         "mode": "lines",
         "name": "United States",
         "orientation": "v",
         "showlegend": true,
         "type": "scatter",
         "x": [
          "2019-01-01T00:00:00",
          "2019-04-01T00:00:00",
          "2019-07-01T00:00:00",
          "2019-10-01T00:00:00",
          "2020-01-01T00:00:00",
          "2020-04-01T00:00:00",
          "2020-07-01T00:00:00",
          "2020-10-01T00:00:00",
          "2021-01-01T00:00:00",
          "2021-04-01T00:00:00",
          "2021-07-01T00:00:00",
          "2021-10-01T00:00:00",
          "2022-01-01T00:00:00",
          "2022-04-01T00:00:00",
          "2022-07-01T00:00:00",
          "2022-10-01T00:00:00",
          "2023-01-01T00:00:00",
          "2023-04-01T00:00:00",
          "2023-07-01T00:00:00",
          "2023-10-01T00:00:00"
         ],
         "xaxis": "x",
         "y": [
          1.2253198926,
          2.3090251617,
          1.3090252778,
          1.6497827193,
          1.3087345562,
          -1.7082286331,
          3.6986378792,
          1.9466385147,
          4.3084947172,
          6.2324472331,
          5.9259011331,
          7.1434975496,
          8.1427345803,
          6.585839311,
          4.2524456905,
          3.1891200082,
          4.0782391159,
          3.2808467097,
          2.4770869683,
          2.4245292241
         ],
         "yaxis": "y"
        },
        {
         "hovertemplate": "Country=Luxembourg<br>TIME=%{x}<br>GDP Growth (%)=%{y}<extra></extra>",
         "legendgroup": "Luxembourg",
         "line": {
          "color": "#00cc96",
          "dash": "solid"
         },
         "marker": {
          "symbol": "circle"
         },
         "mode": "lines",
         "name": "Luxembourg",
         "orientation": "v",
         "showlegend": true,
         "type": "scatter",
         "x": [
          "2019-01-01T00:00:00",
          "2019-04-01T00:00:00",
          "2019-07-01T00:00:00",
          "2019-10-01T00:00:00",
          "2020-01-01T00:00:00",
          "2020-04-01T00:00:00",
          "2020-07-01T00:00:00",
          "2020-10-01T00:00:00",
          "2021-01-01T00:00:00",
          "2021-04-01T00:00:00",
          "2021-07-01T00:00:00",
          "2021-10-01T00:00:00",
          "2022-01-01T00:00:00",
          "2022-04-01T00:00:00",
          "2022-07-01T00:00:00",
          "2022-10-01T00:00:00",
          "2023-01-01T00:00:00",
          "2023-04-01T00:00:00",
          "2023-07-01T00:00:00",
          "2023-10-01T00:00:00"
         ],
         "xaxis": "x",
         "y": [
          -7.1244660597,
          8.8855196248,
          3.4378413163,
          2.8081159273,
          6.9604420355,
          5.7587060497,
          -4.5555916274,
          9.3088679095,
          6.6720035441,
          7.9851172803,
          9.8864650694,
          13.727867523,
          6.9643015704,
          -1.237602524,
          0.7623567304,
          0.8373946858,
          3.4204515281,
          3.1230726775,
          1.9014957609,
          1.4162814664
         ],
         "yaxis": "y"
        },
        {
         "hovertemplate": "Country=France<br>TIME=%{x}<br>GDP Growth (%)=%{y}<extra></extra>",
         "legendgroup": "France",
         "line": {
          "color": "#ab63fa",
          "dash": "solid"
         },
         "marker": {
          "symbol": "circle"
         },
         "mode": "lines",
         "name": "France",
         "orientation": "v",
         "showlegend": true,
         "type": "scatter",
         "x": [
          "2019-01-01T00:00:00",
          "2019-04-01T00:00:00",
          "2019-07-01T00:00:00",
          "2019-10-01T00:00:00",
          "2020-01-01T00:00:00",
          "2020-04-01T00:00:00",
          "2020-07-01T00:00:00",
          "2020-10-01T00:00:00",
          "2021-01-01T00:00:00",
          "2021-04-01T00:00:00",
          "2021-07-01T00:00:00",
          "2021-10-01T00:00:00",
          "2022-01-01T00:00:00",
          "2022-04-01T00:00:00",
          "2022-07-01T00:00:00",
          "2022-10-01T00:00:00",
          "2023-01-01T00:00:00",
          "2023-04-01T00:00:00",
          "2023-07-01T00:00:00",
          "2023-10-01T00:00:00"
         ],
         "xaxis": "x",
         "y": [
          1.825820916,
          1.2583467694,
          1.0563419279,
          0.9605251173,
          5.0944031304,
          17.3809409049,
          -15.6180331872,
          5.3869732212,
          3.4120170506,
          2.8177591757,
          -0.4602649082,
          0.9121582288,
          2.2483807357,
          3.5874595822,
          4.1774556485,
          3.3030397245,
          2.7598831702,
          3.6454491306,
          2.5862904188,
          2.4194485228
         ],
         "yaxis": "y"
        },
        {
         "hovertemplate": "Country=Switzerland<br>TIME=%{x}<br>GDP Growth (%)=%{y}<extra></extra>",
         "legendgroup": "Switzerland",
         "line": {
          "color": "#FFA15A",
          "dash": "solid"
         },
         "marker": {
          "symbol": "circle"
         },
         "mode": "lines",
         "name": "Switzerland",
         "orientation": "v",
         "showlegend": true,
         "type": "scatter",
         "x": [
          "2019-01-01T00:00:00",
          "2019-04-01T00:00:00",
          "2019-07-01T00:00:00",
          "2019-10-01T00:00:00",
          "2020-01-01T00:00:00",
          "2020-04-01T00:00:00",
          "2020-07-01T00:00:00",
          "2020-10-01T00:00:00",
          "2021-01-01T00:00:00",
          "2021-04-01T00:00:00",
          "2021-07-01T00:00:00",
          "2021-10-01T00:00:00",
          "2022-01-01T00:00:00",
          "2022-04-01T00:00:00",
          "2022-07-01T00:00:00",
          "2022-10-01T00:00:00",
          "2023-01-01T00:00:00",
          "2023-04-01T00:00:00",
          "2023-07-01T00:00:00",
          "2023-10-01T00:00:00"
         ],
         "xaxis": "x",
         "y": [
          -0.9436020516,
          -1.0981044287,
          -0.8029681637,
          -0.0503360076,
          -1.1470356965,
          -0.9308408175,
          0.2353463181,
          1.1641337261,
          0.2116793752,
          4.2541099359,
          1.6696611951,
          3.0198097112,
          2.1672571244,
          2.6070059596,
          2.3190751614,
          1.6227441557,
          1.0210256913,
          1.0213785615,
          0.8975822207,
          0.9725165909
         ],
         "yaxis": "y"
        },
        {
         "hovertemplate": "Country=Israel<br>TIME=%{x}<br>GDP Growth (%)=%{y}<extra></extra>",
         "legendgroup": "Israel",
         "line": {
          "color": "#19d3f3",
          "dash": "solid"
         },
         "marker": {
          "symbol": "circle"
         },
         "mode": "lines",
         "name": "Israel",
         "orientation": "v",
         "showlegend": true,
         "type": "scatter",
         "x": [
          "2019-01-01T00:00:00",
          "2019-04-01T00:00:00",
          "2019-07-01T00:00:00",
          "2019-10-01T00:00:00",
          "2020-01-01T00:00:00",
          "2020-04-01T00:00:00",
          "2020-07-01T00:00:00",
          "2020-10-01T00:00:00",
          "2021-01-01T00:00:00",
          "2021-04-01T00:00:00",
          "2021-07-01T00:00:00",
          "2021-10-01T00:00:00",
          "2022-01-01T00:00:00",
          "2022-04-01T00:00:00",
          "2022-07-01T00:00:00",
          "2022-10-01T00:00:00",
          "2023-01-01T00:00:00",
          "2023-04-01T00:00:00",
          "2023-07-01T00:00:00",
          "2023-10-01T00:00:00"
         ],
         "xaxis": "x",
         "y": [
          1.708699613,
          0.1404969873,
          1.4354796229,
          0.4911562137,
          1.657152786,
          2.0189659747,
          -1.8546014821,
          1.0989218228,
          7.1690499121,
          0.9387671581,
          7.4567468835,
          0.3382951227,
          8.0634595314,
          -1.6450339293,
          2.0138429559,
          2.5025421912,
          3.062060836,
          2.5120616328,
          1.6842045185,
          1.7493534058
         ],
         "yaxis": "y"
        },
        {
         "hovertemplate": "Country=Slovenia<br>TIME=%{x}<br>GDP Growth (%)=%{y}<extra></extra>",
         "legendgroup": "Slovenia",
         "line": {
          "color": "#FF6692",
          "dash": "solid"
         },
         "marker": {
          "symbol": "circle"
         },
         "mode": "lines",
         "name": "Slovenia",
         "orientation": "v",
         "showlegend": true,
         "type": "scatter",
         "x": [
          "2019-01-01T00:00:00",
          "2019-04-01T00:00:00",
          "2019-07-01T00:00:00",
          "2019-10-01T00:00:00",
          "2020-01-01T00:00:00",
          "2020-04-01T00:00:00",
          "2020-07-01T00:00:00",
          "2020-10-01T00:00:00",
          "2021-01-01T00:00:00",
          "2021-04-01T00:00:00",
          "2021-07-01T00:00:00",
          "2021-10-01T00:00:00",
          "2022-01-01T00:00:00",
          "2022-04-01T00:00:00",
          "2022-07-01T00:00:00",
          "2022-10-01T00:00:00",
          "2023-01-01T00:00:00",
          "2023-04-01T00:00:00",
          "2023-07-01T00:00:00",
          "2023-10-01T00:00:00"
         ],
         "xaxis": "x",
         "y": [
          2.3388005794,
          2.8723867849,
          3.9769948216,
          2.4845421518,
          -0.6536224063,
          1.3894106915,
          -1.3092822667,
          2.8536783679,
          5.5183735382,
          1.610319587,
          1.9291579065,
          2.7869666222,
          3.173450547,
          11.8846577696,
          10.2529157103,
          5.2032608929,
          5.3640132677,
          4.8414875484,
          4.4330634741,
          4.0767436989
         ],
         "yaxis": "y"
        },
        {
         "hovertemplate": "Country=Belgium<br>TIME=%{x}<br>GDP Growth (%)=%{y}<extra></extra>",
         "legendgroup": "Belgium",
         "line": {
          "color": "#B6E880",
          "dash": "solid"
         },
         "marker": {
          "symbol": "circle"
         },
         "mode": "lines",
         "name": "Belgium",
         "orientation": "v",
         "showlegend": true,
         "type": "scatter",
         "x": [
          "2019-01-01T00:00:00",
          "2019-04-01T00:00:00",
          "2019-07-01T00:00:00",
          "2019-10-01T00:00:00",
          "2020-01-01T00:00:00",
          "2020-04-01T00:00:00",
          "2020-07-01T00:00:00",
          "2020-10-01T00:00:00",
          "2021-01-01T00:00:00",
          "2021-04-01T00:00:00",
          "2021-07-01T00:00:00",
          "2021-10-01T00:00:00",
          "2022-01-01T00:00:00",
          "2022-04-01T00:00:00",
          "2022-07-01T00:00:00",
          "2022-10-01T00:00:00",
          "2023-01-01T00:00:00",
          "2023-04-01T00:00:00",
          "2023-07-01T00:00:00",
          "2023-10-01T00:00:00"
         ],
         "xaxis": "x",
         "y": [
          0.2648616796,
          1.4982558667,
          2.901596027,
          1.7714927512,
          1.2744589013,
          -4.1993738113,
          5.8141292199,
          3.5725375591,
          4.7934699361,
          3.0553721652,
          7.2399852689,
          8.577610721,
          12.0544598183,
          4.9455611716,
          3.1701564402,
          4.0888663381,
          3.419302352,
          3.135810914,
          2.8398729849,
          1.6080800026
         ],
         "yaxis": "y"
        },
        {
         "hovertemplate": "Country=Hungary<br>TIME=%{x}<br>GDP Growth (%)=%{y}<extra></extra>",
         "legendgroup": "Hungary",
         "line": {
          "color": "#FF97FF",
          "dash": "solid"
         },
         "marker": {
          "symbol": "circle"
         },
         "mode": "lines",
         "name": "Hungary",
         "orientation": "v",
         "showlegend": true,
         "type": "scatter",
         "x": [
          "2019-01-01T00:00:00",
          "2019-04-01T00:00:00",
          "2019-07-01T00:00:00",
          "2019-10-01T00:00:00",
          "2020-01-01T00:00:00",
          "2020-04-01T00:00:00",
          "2020-07-01T00:00:00",
          "2020-10-01T00:00:00",
          "2021-01-01T00:00:00",
          "2021-04-01T00:00:00",
          "2021-07-01T00:00:00",
          "2021-10-01T00:00:00",
          "2022-01-01T00:00:00",
          "2022-04-01T00:00:00",
          "2022-07-01T00:00:00",
          "2022-10-01T00:00:00",
          "2023-01-01T00:00:00",
          "2023-04-01T00:00:00",
          "2023-07-01T00:00:00",
          "2023-10-01T00:00:00"
         ],
         "xaxis": "x",
         "y": [
          6.1808461619,
          3.7372434657,
          2.2541592662,
          4.7977785688,
          12.2457301032,
          8.4555758138,
          -1.7439016061,
          13.2680771304,
          5.4248180669,
          11.6118865479,
          -0.7910406402,
          11.6914171754,
          8.1298572604,
          8.4235471717,
          9.3226303596,
          5.6744514669,
          7.8298040241,
          6.4493786503,
          5.8085199223,
          4.9988352445
         ],
         "yaxis": "y"
        },
        {
         "hovertemplate": "Country=Colombia<br>TIME=%{x}<br>GDP Growth (%)=%{y}<extra></extra>",
         "legendgroup": "Colombia",
         "line": {
          "color": "#FECB52",
          "dash": "solid"
         },
         "marker": {
          "symbol": "circle"
         },
         "mode": "lines",
         "name": "Colombia",
         "orientation": "v",
         "showlegend": true,
         "type": "scatter",
         "x": [
          "2019-01-01T00:00:00",
          "2019-04-01T00:00:00",
          "2019-07-01T00:00:00",
          "2019-10-01T00:00:00",
          "2020-01-01T00:00:00",
          "2020-04-01T00:00:00",
          "2020-07-01T00:00:00",
          "2020-10-01T00:00:00",
          "2021-01-01T00:00:00",
          "2021-04-01T00:00:00",
          "2021-07-01T00:00:00",
          "2021-10-01T00:00:00",
          "2022-01-01T00:00:00",
          "2022-04-01T00:00:00",
          "2022-07-01T00:00:00",
          "2022-10-01T00:00:00",
          "2023-01-01T00:00:00",
          "2023-04-01T00:00:00",
          "2023-07-01T00:00:00",
          "2023-10-01T00:00:00"
         ],
         "xaxis": "x",
         "y": [
          3.06625766,
          5.1447731011,
          4.1230886154,
          7.2715144452,
          -0.1440118102,
          -11.149633149,
          6.1809798427,
          10.6960038711,
          3.1413929133,
          8.7246018063,
          10.0322503013,
          13.9894346719,
          18.4846313104,
          11.4284936429,
          7.1296646316,
          6.2718829368,
          5.5956220245,
          5.7109854611,
          5.3449128315,
          4.5297311391
         ],
         "yaxis": "y"
        }
       ],
       "layout": {
        "legend": {
         "title": {
          "text": "Country"
         },
         "tracegroupgap": 0
        },
        "template": {
         "data": {
          "bar": [
           {
            "error_x": {
             "color": "#2a3f5f"
            },
            "error_y": {
             "color": "#2a3f5f"
            },
            "marker": {
             "line": {
              "color": "#E5ECF6",
              "width": 0.5
             },
             "pattern": {
              "fillmode": "overlay",
              "size": 10,
              "solidity": 0.2
             }
            },
            "type": "bar"
           }
          ],
          "barpolar": [
           {
            "marker": {
             "line": {
              "color": "#E5ECF6",
              "width": 0.5
             },
             "pattern": {
              "fillmode": "overlay",
              "size": 10,
              "solidity": 0.2
             }
            },
            "type": "barpolar"
           }
          ],
          "carpet": [
           {
            "aaxis": {
             "endlinecolor": "#2a3f5f",
             "gridcolor": "white",
             "linecolor": "white",
             "minorgridcolor": "white",
             "startlinecolor": "#2a3f5f"
            },
            "baxis": {
             "endlinecolor": "#2a3f5f",
             "gridcolor": "white",
             "linecolor": "white",
             "minorgridcolor": "white",
             "startlinecolor": "#2a3f5f"
            },
            "type": "carpet"
           }
          ],
          "choropleth": [
           {
            "colorbar": {
             "outlinewidth": 0,
             "ticks": ""
            },
            "type": "choropleth"
           }
          ],
          "contour": [
           {
            "colorbar": {
             "outlinewidth": 0,
             "ticks": ""
            },
            "colorscale": [
             [
              0,
              "#0d0887"
             ],
             [
              0.1111111111111111,
              "#46039f"
             ],
             [
              0.2222222222222222,
              "#7201a8"
             ],
             [
              0.3333333333333333,
              "#9c179e"
             ],
             [
              0.4444444444444444,
              "#bd3786"
             ],
             [
              0.5555555555555556,
              "#d8576b"
             ],
             [
              0.6666666666666666,
              "#ed7953"
             ],
             [
              0.7777777777777778,
              "#fb9f3a"
             ],
             [
              0.8888888888888888,
              "#fdca26"
             ],
             [
              1,
              "#f0f921"
             ]
            ],
            "type": "contour"
           }
          ],
          "contourcarpet": [
           {
            "colorbar": {
             "outlinewidth": 0,
             "ticks": ""
            },
            "type": "contourcarpet"
           }
          ],
          "heatmap": [
           {
            "colorbar": {
             "outlinewidth": 0,
             "ticks": ""
            },
            "colorscale": [
             [
              0,
              "#0d0887"
             ],
             [
              0.1111111111111111,
              "#46039f"
             ],
             [
              0.2222222222222222,
              "#7201a8"
             ],
             [
              0.3333333333333333,
              "#9c179e"
             ],
             [
              0.4444444444444444,
              "#bd3786"
             ],
             [
              0.5555555555555556,
              "#d8576b"
             ],
             [
              0.6666666666666666,
              "#ed7953"
             ],
             [
              0.7777777777777778,
              "#fb9f3a"
             ],
             [
              0.8888888888888888,
              "#fdca26"
             ],
             [
              1,
              "#f0f921"
             ]
            ],
            "type": "heatmap"
           }
          ],
          "heatmapgl": [
           {
            "colorbar": {
             "outlinewidth": 0,
             "ticks": ""
            },
            "colorscale": [
             [
              0,
              "#0d0887"
             ],
             [
              0.1111111111111111,
              "#46039f"
             ],
             [
              0.2222222222222222,
              "#7201a8"
             ],
             [
              0.3333333333333333,
              "#9c179e"
             ],
             [
              0.4444444444444444,
              "#bd3786"
             ],
             [
              0.5555555555555556,
              "#d8576b"
             ],
             [
              0.6666666666666666,
              "#ed7953"
             ],
             [
              0.7777777777777778,
              "#fb9f3a"
             ],
             [
              0.8888888888888888,
              "#fdca26"
             ],
             [
              1,
              "#f0f921"
             ]
            ],
            "type": "heatmapgl"
           }
          ],
          "histogram": [
           {
            "marker": {
             "pattern": {
              "fillmode": "overlay",
              "size": 10,
              "solidity": 0.2
             }
            },
            "type": "histogram"
           }
          ],
          "histogram2d": [
           {
            "colorbar": {
             "outlinewidth": 0,
             "ticks": ""
            },
            "colorscale": [
             [
              0,
              "#0d0887"
             ],
             [
              0.1111111111111111,
              "#46039f"
             ],
             [
              0.2222222222222222,
              "#7201a8"
             ],
             [
              0.3333333333333333,
              "#9c179e"
             ],
             [
              0.4444444444444444,
              "#bd3786"
             ],
             [
              0.5555555555555556,
              "#d8576b"
             ],
             [
              0.6666666666666666,
              "#ed7953"
             ],
             [
              0.7777777777777778,
              "#fb9f3a"
             ],
             [
              0.8888888888888888,
              "#fdca26"
             ],
             [
              1,
              "#f0f921"
             ]
            ],
            "type": "histogram2d"
           }
          ],
          "histogram2dcontour": [
           {
            "colorbar": {
             "outlinewidth": 0,
             "ticks": ""
            },
            "colorscale": [
             [
              0,
              "#0d0887"
             ],
             [
              0.1111111111111111,
              "#46039f"
             ],
             [
              0.2222222222222222,
              "#7201a8"
             ],
             [
              0.3333333333333333,
              "#9c179e"
             ],
             [
              0.4444444444444444,
              "#bd3786"
             ],
             [
              0.5555555555555556,
              "#d8576b"
             ],
             [
              0.6666666666666666,
              "#ed7953"
             ],
             [
              0.7777777777777778,
              "#fb9f3a"
             ],
             [
              0.8888888888888888,
              "#fdca26"
             ],
             [
              1,
              "#f0f921"
             ]
            ],
            "type": "histogram2dcontour"
           }
          ],
          "mesh3d": [
           {
            "colorbar": {
             "outlinewidth": 0,
             "ticks": ""
            },
            "type": "mesh3d"
           }
          ],
          "parcoords": [
           {
            "line": {
             "colorbar": {
              "outlinewidth": 0,
              "ticks": ""
             }
            },
            "type": "parcoords"
           }
          ],
          "pie": [
           {
            "automargin": true,
            "type": "pie"
           }
          ],
          "scatter": [
           {
            "fillpattern": {
             "fillmode": "overlay",
             "size": 10,
             "solidity": 0.2
            },
            "type": "scatter"
           }
          ],
          "scatter3d": [
           {
            "line": {
             "colorbar": {
              "outlinewidth": 0,
              "ticks": ""
             }
            },
            "marker": {
             "colorbar": {
              "outlinewidth": 0,
              "ticks": ""
             }
            },
            "type": "scatter3d"
           }
          ],
          "scattercarpet": [
           {
            "marker": {
             "colorbar": {
              "outlinewidth": 0,
              "ticks": ""
             }
            },
            "type": "scattercarpet"
           }
          ],
          "scattergeo": [
           {
            "marker": {
             "colorbar": {
              "outlinewidth": 0,
              "ticks": ""
             }
            },
            "type": "scattergeo"
           }
          ],
          "scattergl": [
           {
            "marker": {
             "colorbar": {
              "outlinewidth": 0,
              "ticks": ""
             }
            },
            "type": "scattergl"
           }
          ],
          "scattermapbox": [
           {
            "marker": {
             "colorbar": {
              "outlinewidth": 0,
              "ticks": ""
             }
            },
            "type": "scattermapbox"
           }
          ],
          "scatterpolar": [
           {
            "marker": {
             "colorbar": {
              "outlinewidth": 0,
              "ticks": ""
             }
            },
            "type": "scatterpolar"
           }
          ],
          "scatterpolargl": [
           {
            "marker": {
             "colorbar": {
              "outlinewidth": 0,
              "ticks": ""
             }
            },
            "type": "scatterpolargl"
           }
          ],
          "scatterternary": [
           {
            "marker": {
             "colorbar": {
              "outlinewidth": 0,
              "ticks": ""
             }
            },
            "type": "scatterternary"
           }
          ],
          "surface": [
           {
            "colorbar": {
             "outlinewidth": 0,
             "ticks": ""
            },
            "colorscale": [
             [
              0,
              "#0d0887"
             ],
             [
              0.1111111111111111,
              "#46039f"
             ],
             [
              0.2222222222222222,
              "#7201a8"
             ],
             [
              0.3333333333333333,
              "#9c179e"
             ],
             [
              0.4444444444444444,
              "#bd3786"
             ],
             [
              0.5555555555555556,
              "#d8576b"
             ],
             [
              0.6666666666666666,
              "#ed7953"
             ],
             [
              0.7777777777777778,
              "#fb9f3a"
             ],
             [
              0.8888888888888888,
              "#fdca26"
             ],
             [
              1,
              "#f0f921"
             ]
            ],
            "type": "surface"
           }
          ],
          "table": [
           {
            "cells": {
             "fill": {
              "color": "#EBF0F8"
             },
             "line": {
              "color": "white"
             }
            },
            "header": {
             "fill": {
              "color": "#C8D4E3"
             },
             "line": {
              "color": "white"
             }
            },
            "type": "table"
           }
          ]
         },
         "layout": {
          "annotationdefaults": {
           "arrowcolor": "#2a3f5f",
           "arrowhead": 0,
           "arrowwidth": 1
          },
          "autotypenumbers": "strict",
          "coloraxis": {
           "colorbar": {
            "outlinewidth": 0,
            "ticks": ""
           }
          },
          "colorscale": {
           "diverging": [
            [
             0,
             "#8e0152"
            ],
            [
             0.1,
             "#c51b7d"
            ],
            [
             0.2,
             "#de77ae"
            ],
            [
             0.3,
             "#f1b6da"
            ],
            [
             0.4,
             "#fde0ef"
            ],
            [
             0.5,
             "#f7f7f7"
            ],
            [
             0.6,
             "#e6f5d0"
            ],
            [
             0.7,
             "#b8e186"
            ],
            [
             0.8,
             "#7fbc41"
            ],
            [
             0.9,
             "#4d9221"
            ],
            [
             1,
             "#276419"
            ]
           ],
           "sequential": [
            [
             0,
             "#0d0887"
            ],
            [
             0.1111111111111111,
             "#46039f"
            ],
            [
             0.2222222222222222,
             "#7201a8"
            ],
            [
             0.3333333333333333,
             "#9c179e"
            ],
            [
             0.4444444444444444,
             "#bd3786"
            ],
            [
             0.5555555555555556,
             "#d8576b"
            ],
            [
             0.6666666666666666,
             "#ed7953"
            ],
            [
             0.7777777777777778,
             "#fb9f3a"
            ],
            [
             0.8888888888888888,
             "#fdca26"
            ],
            [
             1,
             "#f0f921"
            ]
           ],
           "sequentialminus": [
            [
             0,
             "#0d0887"
            ],
            [
             0.1111111111111111,
             "#46039f"
            ],
            [
             0.2222222222222222,
             "#7201a8"
            ],
            [
             0.3333333333333333,
             "#9c179e"
            ],
            [
             0.4444444444444444,
             "#bd3786"
            ],
            [
             0.5555555555555556,
             "#d8576b"
            ],
            [
             0.6666666666666666,
             "#ed7953"
            ],
            [
             0.7777777777777778,
             "#fb9f3a"
            ],
            [
             0.8888888888888888,
             "#fdca26"
            ],
            [
             1,
             "#f0f921"
            ]
           ]
          },
          "colorway": [
           "#636efa",
           "#EF553B",
           "#00cc96",
           "#ab63fa",
           "#FFA15A",
           "#19d3f3",
           "#FF6692",
           "#B6E880",
           "#FF97FF",
           "#FECB52"
          ],
          "font": {
           "color": "#2a3f5f"
          },
          "geo": {
           "bgcolor": "white",
           "lakecolor": "white",
           "landcolor": "#E5ECF6",
           "showlakes": true,
           "showland": true,
           "subunitcolor": "white"
          },
          "hoverlabel": {
           "align": "left"
          },
          "hovermode": "closest",
          "mapbox": {
           "style": "light"
          },
          "paper_bgcolor": "white",
          "plot_bgcolor": "#E5ECF6",
          "polar": {
           "angularaxis": {
            "gridcolor": "white",
            "linecolor": "white",
            "ticks": ""
           },
           "bgcolor": "#E5ECF6",
           "radialaxis": {
            "gridcolor": "white",
            "linecolor": "white",
            "ticks": ""
           }
          },
          "scene": {
           "xaxis": {
            "backgroundcolor": "#E5ECF6",
            "gridcolor": "white",
            "gridwidth": 2,
            "linecolor": "white",
            "showbackground": true,
            "ticks": "",
            "zerolinecolor": "white"
           },
           "yaxis": {
            "backgroundcolor": "#E5ECF6",
            "gridcolor": "white",
            "gridwidth": 2,
            "linecolor": "white",
            "showbackground": true,
            "ticks": "",
            "zerolinecolor": "white"
           },
           "zaxis": {
            "backgroundcolor": "#E5ECF6",
            "gridcolor": "white",
            "gridwidth": 2,
            "linecolor": "white",
            "showbackground": true,
            "ticks": "",
            "zerolinecolor": "white"
           }
          },
          "shapedefaults": {
           "line": {
            "color": "#2a3f5f"
           }
          },
          "ternary": {
           "aaxis": {
            "gridcolor": "white",
            "linecolor": "white",
            "ticks": ""
           },
           "baxis": {
            "gridcolor": "white",
            "linecolor": "white",
            "ticks": ""
           },
           "bgcolor": "#E5ECF6",
           "caxis": {
            "gridcolor": "white",
            "linecolor": "white",
            "ticks": ""
           }
          },
          "title": {
           "x": 0.05
          },
          "xaxis": {
           "automargin": true,
           "gridcolor": "white",
           "linecolor": "white",
           "ticks": "",
           "title": {
            "standoff": 15
           },
           "zerolinecolor": "white",
           "zerolinewidth": 2
          },
          "yaxis": {
           "automargin": true,
           "gridcolor": "white",
           "linecolor": "white",
           "ticks": "",
           "title": {
            "standoff": 15
           },
           "zerolinecolor": "white",
           "zerolinewidth": 2
          }
         }
        },
        "title": {
         "text": "GDP Growth Progression"
        },
        "xaxis": {
         "anchor": "y",
         "domain": [
          0,
          1
         ],
         "title": {
          "text": "TIME"
         }
        },
        "yaxis": {
         "anchor": "x",
         "domain": [
          0,
          1
         ],
         "title": {
          "text": "GDP Growth (%)"
         }
        }
       }
      }
     },
     "metadata": {},
     "output_type": "display_data"
    }
   ],
   "source": [
    "px.line(gdp_growth_df, x='TIME', y='Value', color='Country', labels={'Value':'GDP Growth (%)'}, title='GDP Growth Progression')"
   ]
  },
  {
   "cell_type": "markdown",
   "metadata": {},
   "source": [
    "This is a line graph from plotly express. This shows GDP growth of each country over time. As you can see, some countries didn't adapt as quickly as others at the height of the pandemic in 2020 which explains the moderate to sharp drop in GDP growth. "
   ]
  },
  {
   "cell_type": "code",
   "execution_count": 12,
   "metadata": {},
   "outputs": [
    {
     "data": {
      "text/html": [
       "<div>\n",
       "<style scoped>\n",
       "    .dataframe tbody tr th:only-of-type {\n",
       "        vertical-align: middle;\n",
       "    }\n",
       "\n",
       "    .dataframe tbody tr th {\n",
       "        vertical-align: top;\n",
       "    }\n",
       "\n",
       "    .dataframe thead th {\n",
       "        text-align: right;\n",
       "    }\n",
       "</style>\n",
       "<table border=\"1\" class=\"dataframe\">\n",
       "  <thead>\n",
       "    <tr style=\"text-align: right;\">\n",
       "      <th></th>\n",
       "      <th>TOTAL_VACCINATIONS</th>\n",
       "      <th>PERSONS_VACCINATED_1PLUS_DOSE</th>\n",
       "      <th>TOTAL_VACCINATIONS_PER100</th>\n",
       "      <th>PERSONS_VACCINATED_1PLUS_DOSE_PER100</th>\n",
       "      <th>PERSONS_FULLY_VACCINATED</th>\n",
       "      <th>PERSONS_FULLY_VACCINATED_PER100</th>\n",
       "      <th>NUMBER_VACCINES_TYPES_USED</th>\n",
       "      <th>PERSONS_BOOSTER_ADD_DOSE</th>\n",
       "      <th>PERSONS_BOOSTER_ADD_DOSE_PER100</th>\n",
       "    </tr>\n",
       "  </thead>\n",
       "  <tbody>\n",
       "    <tr>\n",
       "      <th>count</th>\n",
       "      <td>2.280000e+02</td>\n",
       "      <td>2.280000e+02</td>\n",
       "      <td>228.000000</td>\n",
       "      <td>228.000000</td>\n",
       "      <td>2.280000e+02</td>\n",
       "      <td>228.000000</td>\n",
       "      <td>225.000000</td>\n",
       "      <td>2.030000e+02</td>\n",
       "      <td>203.000000</td>\n",
       "    </tr>\n",
       "    <tr>\n",
       "      <th>mean</th>\n",
       "      <td>5.606559e+07</td>\n",
       "      <td>2.362337e+07</td>\n",
       "      <td>145.173154</td>\n",
       "      <td>61.168145</td>\n",
       "      <td>2.169572e+07</td>\n",
       "      <td>55.761421</td>\n",
       "      <td>4.706667</td>\n",
       "      <td>1.111831e+07</td>\n",
       "      <td>30.323414</td>\n",
       "    </tr>\n",
       "    <tr>\n",
       "      <th>std</th>\n",
       "      <td>2.787346e+08</td>\n",
       "      <td>1.132779e+08</td>\n",
       "      <td>79.490080</td>\n",
       "      <td>26.102229</td>\n",
       "      <td>1.079075e+08</td>\n",
       "      <td>25.481418</td>\n",
       "      <td>2.737504</td>\n",
       "      <td>5.821399e+07</td>\n",
       "      <td>24.091051</td>\n",
       "    </tr>\n",
       "    <tr>\n",
       "      <th>min</th>\n",
       "      <td>1.380000e+02</td>\n",
       "      <td>0.000000e+00</td>\n",
       "      <td>0.204000</td>\n",
       "      <td>0.000000</td>\n",
       "      <td>0.000000e+00</td>\n",
       "      <td>0.000000</td>\n",
       "      <td>1.000000</td>\n",
       "      <td>0.000000e+00</td>\n",
       "      <td>0.000000</td>\n",
       "    </tr>\n",
       "    <tr>\n",
       "      <th>25%</th>\n",
       "      <td>4.557055e+05</td>\n",
       "      <td>1.914438e+05</td>\n",
       "      <td>73.152000</td>\n",
       "      <td>41.021750</td>\n",
       "      <td>1.839220e+05</td>\n",
       "      <td>34.748250</td>\n",
       "      <td>3.000000</td>\n",
       "      <td>3.910000e+04</td>\n",
       "      <td>6.622500</td>\n",
       "    </tr>\n",
       "    <tr>\n",
       "      <th>50%</th>\n",
       "      <td>3.970340e+06</td>\n",
       "      <td>2.312866e+06</td>\n",
       "      <td>150.840000</td>\n",
       "      <td>66.569500</td>\n",
       "      <td>2.083128e+06</td>\n",
       "      <td>60.629000</td>\n",
       "      <td>4.000000</td>\n",
       "      <td>4.849020e+05</td>\n",
       "      <td>28.375000</td>\n",
       "    </tr>\n",
       "    <tr>\n",
       "      <th>75%</th>\n",
       "      <td>1.983253e+07</td>\n",
       "      <td>9.374796e+06</td>\n",
       "      <td>212.181250</td>\n",
       "      <td>81.456250</td>\n",
       "      <td>8.270625e+06</td>\n",
       "      <td>76.394000</td>\n",
       "      <td>6.000000</td>\n",
       "      <td>3.806655e+06</td>\n",
       "      <td>51.519500</td>\n",
       "    </tr>\n",
       "    <tr>\n",
       "      <th>max</th>\n",
       "      <td>3.457954e+09</td>\n",
       "      <td>1.307474e+09</td>\n",
       "      <td>355.748000</td>\n",
       "      <td>124.882000</td>\n",
       "      <td>1.277278e+09</td>\n",
       "      <td>122.944000</td>\n",
       "      <td>12.000000</td>\n",
       "      <td>7.764255e+08</td>\n",
       "      <td>107.922000</td>\n",
       "    </tr>\n",
       "  </tbody>\n",
       "</table>\n",
       "</div>"
      ],
      "text/plain": [
       "       TOTAL_VACCINATIONS  PERSONS_VACCINATED_1PLUS_DOSE  \\\n",
       "count        2.280000e+02                   2.280000e+02   \n",
       "mean         5.606559e+07                   2.362337e+07   \n",
       "std          2.787346e+08                   1.132779e+08   \n",
       "min          1.380000e+02                   0.000000e+00   \n",
       "25%          4.557055e+05                   1.914438e+05   \n",
       "50%          3.970340e+06                   2.312866e+06   \n",
       "75%          1.983253e+07                   9.374796e+06   \n",
       "max          3.457954e+09                   1.307474e+09   \n",
       "\n",
       "       TOTAL_VACCINATIONS_PER100  PERSONS_VACCINATED_1PLUS_DOSE_PER100  \\\n",
       "count                 228.000000                            228.000000   \n",
       "mean                  145.173154                             61.168145   \n",
       "std                    79.490080                             26.102229   \n",
       "min                     0.204000                              0.000000   \n",
       "25%                    73.152000                             41.021750   \n",
       "50%                   150.840000                             66.569500   \n",
       "75%                   212.181250                             81.456250   \n",
       "max                   355.748000                            124.882000   \n",
       "\n",
       "       PERSONS_FULLY_VACCINATED  PERSONS_FULLY_VACCINATED_PER100  \\\n",
       "count              2.280000e+02                       228.000000   \n",
       "mean               2.169572e+07                        55.761421   \n",
       "std                1.079075e+08                        25.481418   \n",
       "min                0.000000e+00                         0.000000   \n",
       "25%                1.839220e+05                        34.748250   \n",
       "50%                2.083128e+06                        60.629000   \n",
       "75%                8.270625e+06                        76.394000   \n",
       "max                1.277278e+09                       122.944000   \n",
       "\n",
       "       NUMBER_VACCINES_TYPES_USED  PERSONS_BOOSTER_ADD_DOSE  \\\n",
       "count                  225.000000              2.030000e+02   \n",
       "mean                     4.706667              1.111831e+07   \n",
       "std                      2.737504              5.821399e+07   \n",
       "min                      1.000000              0.000000e+00   \n",
       "25%                      3.000000              3.910000e+04   \n",
       "50%                      4.000000              4.849020e+05   \n",
       "75%                      6.000000              3.806655e+06   \n",
       "max                     12.000000              7.764255e+08   \n",
       "\n",
       "       PERSONS_BOOSTER_ADD_DOSE_PER100  \n",
       "count                       203.000000  \n",
       "mean                         30.323414  \n",
       "std                          24.091051  \n",
       "min                           0.000000  \n",
       "25%                           6.622500  \n",
       "50%                          28.375000  \n",
       "75%                          51.519500  \n",
       "max                         107.922000  "
      ]
     },
     "metadata": {},
     "output_type": "display_data"
    },
    {
     "name": "stderr",
     "output_type": "stream",
     "text": [
      "C:\\Users\\Kevin Zhu\\AppData\\Local\\Temp\\ipykernel_31704\\1804452266.py:2: FutureWarning:\n",
      "\n",
      "The default value of numeric_only in DataFrame.median is deprecated. In a future version, it will default to False. In addition, specifying 'numeric_only=None' is deprecated. Select only valid columns or specify the value of numeric_only to silence this warning.\n",
      "\n"
     ]
    },
    {
     "data": {
      "text/plain": [
       "TOTAL_VACCINATIONS                      3.970340e+06\n",
       "PERSONS_VACCINATED_1PLUS_DOSE           2.312866e+06\n",
       "TOTAL_VACCINATIONS_PER100               1.508400e+02\n",
       "PERSONS_VACCINATED_1PLUS_DOSE_PER100    6.656950e+01\n",
       "PERSONS_FULLY_VACCINATED                2.083128e+06\n",
       "PERSONS_FULLY_VACCINATED_PER100         6.062900e+01\n",
       "NUMBER_VACCINES_TYPES_USED              4.000000e+00\n",
       "PERSONS_BOOSTER_ADD_DOSE                4.849020e+05\n",
       "PERSONS_BOOSTER_ADD_DOSE_PER100         2.837500e+01\n",
       "dtype: float64"
      ]
     },
     "metadata": {},
     "output_type": "display_data"
    },
    {
     "name": "stderr",
     "output_type": "stream",
     "text": [
      "C:\\Users\\Kevin Zhu\\AppData\\Local\\Temp\\ipykernel_31704\\1804452266.py:3: FutureWarning:\n",
      "\n",
      "The default value of numeric_only in DataFrame.corr is deprecated. In a future version, it will default to False. Select only valid columns or specify the value of numeric_only to silence this warning.\n",
      "\n"
     ]
    },
    {
     "data": {
      "text/html": [
       "<div>\n",
       "<style scoped>\n",
       "    .dataframe tbody tr th:only-of-type {\n",
       "        vertical-align: middle;\n",
       "    }\n",
       "\n",
       "    .dataframe tbody tr th {\n",
       "        vertical-align: top;\n",
       "    }\n",
       "\n",
       "    .dataframe thead th {\n",
       "        text-align: right;\n",
       "    }\n",
       "</style>\n",
       "<table border=\"1\" class=\"dataframe\">\n",
       "  <thead>\n",
       "    <tr style=\"text-align: right;\">\n",
       "      <th></th>\n",
       "      <th>TOTAL_VACCINATIONS</th>\n",
       "      <th>PERSONS_VACCINATED_1PLUS_DOSE</th>\n",
       "      <th>TOTAL_VACCINATIONS_PER100</th>\n",
       "      <th>PERSONS_VACCINATED_1PLUS_DOSE_PER100</th>\n",
       "      <th>PERSONS_FULLY_VACCINATED</th>\n",
       "      <th>PERSONS_FULLY_VACCINATED_PER100</th>\n",
       "      <th>NUMBER_VACCINES_TYPES_USED</th>\n",
       "      <th>PERSONS_BOOSTER_ADD_DOSE</th>\n",
       "      <th>PERSONS_BOOSTER_ADD_DOSE_PER100</th>\n",
       "    </tr>\n",
       "  </thead>\n",
       "  <tbody>\n",
       "    <tr>\n",
       "      <th>TOTAL_VACCINATIONS</th>\n",
       "      <td>1.000000</td>\n",
       "      <td>0.994349</td>\n",
       "      <td>0.127199</td>\n",
       "      <td>0.134632</td>\n",
       "      <td>0.996806</td>\n",
       "      <td>0.138205</td>\n",
       "      <td>0.159678</td>\n",
       "      <td>0.957216</td>\n",
       "      <td>0.075004</td>\n",
       "    </tr>\n",
       "    <tr>\n",
       "      <th>PERSONS_VACCINATED_1PLUS_DOSE</th>\n",
       "      <td>0.994349</td>\n",
       "      <td>1.000000</td>\n",
       "      <td>0.110509</td>\n",
       "      <td>0.124198</td>\n",
       "      <td>0.999276</td>\n",
       "      <td>0.125153</td>\n",
       "      <td>0.164147</td>\n",
       "      <td>0.922125</td>\n",
       "      <td>0.052436</td>\n",
       "    </tr>\n",
       "    <tr>\n",
       "      <th>TOTAL_VACCINATIONS_PER100</th>\n",
       "      <td>0.127199</td>\n",
       "      <td>0.110509</td>\n",
       "      <td>1.000000</td>\n",
       "      <td>0.947341</td>\n",
       "      <td>0.113540</td>\n",
       "      <td>0.964114</td>\n",
       "      <td>0.012821</td>\n",
       "      <td>0.146561</td>\n",
       "      <td>0.932602</td>\n",
       "    </tr>\n",
       "    <tr>\n",
       "      <th>PERSONS_VACCINATED_1PLUS_DOSE_PER100</th>\n",
       "      <td>0.134632</td>\n",
       "      <td>0.124198</td>\n",
       "      <td>0.947341</td>\n",
       "      <td>1.000000</td>\n",
       "      <td>0.124861</td>\n",
       "      <td>0.978499</td>\n",
       "      <td>0.008148</td>\n",
       "      <td>0.143433</td>\n",
       "      <td>0.816484</td>\n",
       "    </tr>\n",
       "    <tr>\n",
       "      <th>PERSONS_FULLY_VACCINATED</th>\n",
       "      <td>0.996806</td>\n",
       "      <td>0.999276</td>\n",
       "      <td>0.113540</td>\n",
       "      <td>0.124861</td>\n",
       "      <td>1.000000</td>\n",
       "      <td>0.127958</td>\n",
       "      <td>0.161043</td>\n",
       "      <td>0.932236</td>\n",
       "      <td>0.058209</td>\n",
       "    </tr>\n",
       "    <tr>\n",
       "      <th>PERSONS_FULLY_VACCINATED_PER100</th>\n",
       "      <td>0.138205</td>\n",
       "      <td>0.125153</td>\n",
       "      <td>0.964114</td>\n",
       "      <td>0.978499</td>\n",
       "      <td>0.127958</td>\n",
       "      <td>1.000000</td>\n",
       "      <td>0.022570</td>\n",
       "      <td>0.151199</td>\n",
       "      <td>0.863499</td>\n",
       "    </tr>\n",
       "    <tr>\n",
       "      <th>NUMBER_VACCINES_TYPES_USED</th>\n",
       "      <td>0.159678</td>\n",
       "      <td>0.164147</td>\n",
       "      <td>0.012821</td>\n",
       "      <td>0.008148</td>\n",
       "      <td>0.161043</td>\n",
       "      <td>0.022570</td>\n",
       "      <td>1.000000</td>\n",
       "      <td>0.153706</td>\n",
       "      <td>-0.031104</td>\n",
       "    </tr>\n",
       "    <tr>\n",
       "      <th>PERSONS_BOOSTER_ADD_DOSE</th>\n",
       "      <td>0.957216</td>\n",
       "      <td>0.922125</td>\n",
       "      <td>0.146561</td>\n",
       "      <td>0.143433</td>\n",
       "      <td>0.932236</td>\n",
       "      <td>0.151199</td>\n",
       "      <td>0.153706</td>\n",
       "      <td>1.000000</td>\n",
       "      <td>0.121212</td>\n",
       "    </tr>\n",
       "    <tr>\n",
       "      <th>PERSONS_BOOSTER_ADD_DOSE_PER100</th>\n",
       "      <td>0.075004</td>\n",
       "      <td>0.052436</td>\n",
       "      <td>0.932602</td>\n",
       "      <td>0.816484</td>\n",
       "      <td>0.058209</td>\n",
       "      <td>0.863499</td>\n",
       "      <td>-0.031104</td>\n",
       "      <td>0.121212</td>\n",
       "      <td>1.000000</td>\n",
       "    </tr>\n",
       "  </tbody>\n",
       "</table>\n",
       "</div>"
      ],
      "text/plain": [
       "                                      TOTAL_VACCINATIONS  \\\n",
       "TOTAL_VACCINATIONS                              1.000000   \n",
       "PERSONS_VACCINATED_1PLUS_DOSE                   0.994349   \n",
       "TOTAL_VACCINATIONS_PER100                       0.127199   \n",
       "PERSONS_VACCINATED_1PLUS_DOSE_PER100            0.134632   \n",
       "PERSONS_FULLY_VACCINATED                        0.996806   \n",
       "PERSONS_FULLY_VACCINATED_PER100                 0.138205   \n",
       "NUMBER_VACCINES_TYPES_USED                      0.159678   \n",
       "PERSONS_BOOSTER_ADD_DOSE                        0.957216   \n",
       "PERSONS_BOOSTER_ADD_DOSE_PER100                 0.075004   \n",
       "\n",
       "                                      PERSONS_VACCINATED_1PLUS_DOSE  \\\n",
       "TOTAL_VACCINATIONS                                         0.994349   \n",
       "PERSONS_VACCINATED_1PLUS_DOSE                              1.000000   \n",
       "TOTAL_VACCINATIONS_PER100                                  0.110509   \n",
       "PERSONS_VACCINATED_1PLUS_DOSE_PER100                       0.124198   \n",
       "PERSONS_FULLY_VACCINATED                                   0.999276   \n",
       "PERSONS_FULLY_VACCINATED_PER100                            0.125153   \n",
       "NUMBER_VACCINES_TYPES_USED                                 0.164147   \n",
       "PERSONS_BOOSTER_ADD_DOSE                                   0.922125   \n",
       "PERSONS_BOOSTER_ADD_DOSE_PER100                            0.052436   \n",
       "\n",
       "                                      TOTAL_VACCINATIONS_PER100  \\\n",
       "TOTAL_VACCINATIONS                                     0.127199   \n",
       "PERSONS_VACCINATED_1PLUS_DOSE                          0.110509   \n",
       "TOTAL_VACCINATIONS_PER100                              1.000000   \n",
       "PERSONS_VACCINATED_1PLUS_DOSE_PER100                   0.947341   \n",
       "PERSONS_FULLY_VACCINATED                               0.113540   \n",
       "PERSONS_FULLY_VACCINATED_PER100                        0.964114   \n",
       "NUMBER_VACCINES_TYPES_USED                             0.012821   \n",
       "PERSONS_BOOSTER_ADD_DOSE                               0.146561   \n",
       "PERSONS_BOOSTER_ADD_DOSE_PER100                        0.932602   \n",
       "\n",
       "                                      PERSONS_VACCINATED_1PLUS_DOSE_PER100  \\\n",
       "TOTAL_VACCINATIONS                                                0.134632   \n",
       "PERSONS_VACCINATED_1PLUS_DOSE                                     0.124198   \n",
       "TOTAL_VACCINATIONS_PER100                                         0.947341   \n",
       "PERSONS_VACCINATED_1PLUS_DOSE_PER100                              1.000000   \n",
       "PERSONS_FULLY_VACCINATED                                          0.124861   \n",
       "PERSONS_FULLY_VACCINATED_PER100                                   0.978499   \n",
       "NUMBER_VACCINES_TYPES_USED                                        0.008148   \n",
       "PERSONS_BOOSTER_ADD_DOSE                                          0.143433   \n",
       "PERSONS_BOOSTER_ADD_DOSE_PER100                                   0.816484   \n",
       "\n",
       "                                      PERSONS_FULLY_VACCINATED  \\\n",
       "TOTAL_VACCINATIONS                                    0.996806   \n",
       "PERSONS_VACCINATED_1PLUS_DOSE                         0.999276   \n",
       "TOTAL_VACCINATIONS_PER100                             0.113540   \n",
       "PERSONS_VACCINATED_1PLUS_DOSE_PER100                  0.124861   \n",
       "PERSONS_FULLY_VACCINATED                              1.000000   \n",
       "PERSONS_FULLY_VACCINATED_PER100                       0.127958   \n",
       "NUMBER_VACCINES_TYPES_USED                            0.161043   \n",
       "PERSONS_BOOSTER_ADD_DOSE                              0.932236   \n",
       "PERSONS_BOOSTER_ADD_DOSE_PER100                       0.058209   \n",
       "\n",
       "                                      PERSONS_FULLY_VACCINATED_PER100  \\\n",
       "TOTAL_VACCINATIONS                                           0.138205   \n",
       "PERSONS_VACCINATED_1PLUS_DOSE                                0.125153   \n",
       "TOTAL_VACCINATIONS_PER100                                    0.964114   \n",
       "PERSONS_VACCINATED_1PLUS_DOSE_PER100                         0.978499   \n",
       "PERSONS_FULLY_VACCINATED                                     0.127958   \n",
       "PERSONS_FULLY_VACCINATED_PER100                              1.000000   \n",
       "NUMBER_VACCINES_TYPES_USED                                   0.022570   \n",
       "PERSONS_BOOSTER_ADD_DOSE                                     0.151199   \n",
       "PERSONS_BOOSTER_ADD_DOSE_PER100                              0.863499   \n",
       "\n",
       "                                      NUMBER_VACCINES_TYPES_USED  \\\n",
       "TOTAL_VACCINATIONS                                      0.159678   \n",
       "PERSONS_VACCINATED_1PLUS_DOSE                           0.164147   \n",
       "TOTAL_VACCINATIONS_PER100                               0.012821   \n",
       "PERSONS_VACCINATED_1PLUS_DOSE_PER100                    0.008148   \n",
       "PERSONS_FULLY_VACCINATED                                0.161043   \n",
       "PERSONS_FULLY_VACCINATED_PER100                         0.022570   \n",
       "NUMBER_VACCINES_TYPES_USED                              1.000000   \n",
       "PERSONS_BOOSTER_ADD_DOSE                                0.153706   \n",
       "PERSONS_BOOSTER_ADD_DOSE_PER100                        -0.031104   \n",
       "\n",
       "                                      PERSONS_BOOSTER_ADD_DOSE  \\\n",
       "TOTAL_VACCINATIONS                                    0.957216   \n",
       "PERSONS_VACCINATED_1PLUS_DOSE                         0.922125   \n",
       "TOTAL_VACCINATIONS_PER100                             0.146561   \n",
       "PERSONS_VACCINATED_1PLUS_DOSE_PER100                  0.143433   \n",
       "PERSONS_FULLY_VACCINATED                              0.932236   \n",
       "PERSONS_FULLY_VACCINATED_PER100                       0.151199   \n",
       "NUMBER_VACCINES_TYPES_USED                            0.153706   \n",
       "PERSONS_BOOSTER_ADD_DOSE                              1.000000   \n",
       "PERSONS_BOOSTER_ADD_DOSE_PER100                       0.121212   \n",
       "\n",
       "                                      PERSONS_BOOSTER_ADD_DOSE_PER100  \n",
       "TOTAL_VACCINATIONS                                           0.075004  \n",
       "PERSONS_VACCINATED_1PLUS_DOSE                                0.052436  \n",
       "TOTAL_VACCINATIONS_PER100                                    0.932602  \n",
       "PERSONS_VACCINATED_1PLUS_DOSE_PER100                         0.816484  \n",
       "PERSONS_FULLY_VACCINATED                                     0.058209  \n",
       "PERSONS_FULLY_VACCINATED_PER100                              0.863499  \n",
       "NUMBER_VACCINES_TYPES_USED                                  -0.031104  \n",
       "PERSONS_BOOSTER_ADD_DOSE                                     0.121212  \n",
       "PERSONS_BOOSTER_ADD_DOSE_PER100                              1.000000  "
      ]
     },
     "metadata": {},
     "output_type": "display_data"
    },
    {
     "name": "stdout",
     "output_type": "stream",
     "text": [
      "<class 'pandas.core.frame.DataFrame'>\n",
      "RangeIndex: 229 entries, 0 to 228\n",
      "Data columns (total 16 columns):\n",
      " #   Column                                Non-Null Count  Dtype  \n",
      "---  ------                                --------------  -----  \n",
      " 0   COUNTRY                               229 non-null    object \n",
      " 1   ISO3                                  229 non-null    object \n",
      " 2   WHO_REGION                            229 non-null    object \n",
      " 3   DATA_SOURCE                           229 non-null    object \n",
      " 4   DATE_UPDATED                          229 non-null    object \n",
      " 5   TOTAL_VACCINATIONS                    228 non-null    float64\n",
      " 6   PERSONS_VACCINATED_1PLUS_DOSE         228 non-null    float64\n",
      " 7   TOTAL_VACCINATIONS_PER100             228 non-null    float64\n",
      " 8   PERSONS_VACCINATED_1PLUS_DOSE_PER100  228 non-null    float64\n",
      " 9   PERSONS_FULLY_VACCINATED              228 non-null    float64\n",
      " 10  PERSONS_FULLY_VACCINATED_PER100       228 non-null    float64\n",
      " 11  VACCINES_USED                         225 non-null    object \n",
      " 12  FIRST_VACCINE_DATE                    207 non-null    object \n",
      " 13  NUMBER_VACCINES_TYPES_USED            225 non-null    float64\n",
      " 14  PERSONS_BOOSTER_ADD_DOSE              203 non-null    float64\n",
      " 15  PERSONS_BOOSTER_ADD_DOSE_PER100       203 non-null    float64\n",
      "dtypes: float64(9), object(7)\n",
      "memory usage: 28.8+ KB\n"
     ]
    },
    {
     "data": {
      "text/plain": [
       "None"
      ]
     },
     "metadata": {},
     "output_type": "display_data"
    }
   ],
   "source": [
    "display(vaccination_df.describe())\n",
    "display(vaccination_df.median())\n",
    "display(vaccination_df.corr())\n",
    "display(vaccination_df.info())"
   ]
  },
  {
   "cell_type": "markdown",
   "metadata": {},
   "source": [
    "Almost all the columns from the dataset above have positive correlations with each other. I noticed that some columns have missing data including first vaccine date and amount of people who got the booster. The median and the 50th Percentile values on each column are the same in the vaccination dataset."
   ]
  },
  {
   "cell_type": "code",
   "execution_count": 14,
   "metadata": {},
   "outputs": [
    {
     "data": {
      "image/png": "[encoded data removed]",
      "text/plain": [
       "<Figure size 2000x2000 with 9 Axes>"
      ]
     },
     "metadata": {},
     "output_type": "display_data"
    }
   ],
   "source": [
    "vaccination_df.hist(figsize=(20,20))\n",
    "plt.show()"
   ]
  },
  {
   "cell_type": "markdown",
   "metadata": {},
   "source": [
    "Using histogram visualization from plotly to show the frequency of values from each column in the Vaccination dataset."
   ]
  },
  {
   "cell_type": "code",
   "execution_count": 25,
   "metadata": {},
   "outputs": [
    {
     "data": {
      "image/png": "[encoded data removed]",
      "text/plain": [
       "<Figure size 2500x2500 with 1 Axes>"
      ]
     },
     "metadata": {},
     "output_type": "display_data"
    }
   ],
   "source": [
    "sns.barplot(vaccination_df.sample(5), x='COUNTRY', y='PERSONS_FULLY_VACCINATED_PER100')\n",
    "sns.set(rc={\"figure.figsize\":(25,25)})"
   ]
  },
  {
   "cell_type": "code",
   "execution_count": null,
   "metadata": {},
   "outputs": [],
   "source": []
  }
 ],
 "metadata": {
  "kernelspec": {
   "display_name": "Python 3.10.6 64-bit",
   "language": "python",
   "name": "python3"
  },
  "language_info": {
   "codemirror_mode": {
    "name": "ipython",
    "version": 3
   },
   "file_extension": ".py",
   "mimetype": "text/x-python",
   "name": "python",
   "nbconvert_exporter": "python",
   "pygments_lexer": "ipython3",
   "version": "3.10.6"
  },
  "orig_nbformat": 4,
  "vscode": {
   "interpreter": {
    "hash": "778a6c92af810e9a8a1f2e8b0d596da6d6afe33578c9b9fabad2b92787e55813"
   }
  }
 },
 "nbformat": 4,
 "nbformat_minor": 2
}
